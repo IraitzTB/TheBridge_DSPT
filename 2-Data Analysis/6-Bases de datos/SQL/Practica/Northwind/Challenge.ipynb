{
 "cells": [
  {
   "cell_type": "markdown",
   "metadata": {},
   "source": [
    "# NORTHWIND DATABASE"
   ]
  },
  {
   "cell_type": "markdown",
   "metadata": {},
   "source": [
    "El **objetivo** de este ejercicio es generar una serie de consultas SQL que permitan extraer información relevante de la base de datos y luego exportar los resultados para construir dashboards o visualizaciones que proporcionen insights valiosos para la toma de decisiones empresariales.\n",
    "\n",
    "La base de datos Northwind es una base de datos de ejemplo clásica que simula las operaciones de una empresa minorista. Contiene tablas relacionales que representan diferentes aspectos del negocio, como productos, clientes, pedidos y empleados. Utilizando consultas SQL, podrás explorar y analizar estos datos para comprender mejor el desempeño del negocio en diferentes áreas.\n",
    "\n",
    "Una vez que hayas realizado las consultas SQL y obtenido los resultados, podrás utilizarlos para herramientas de visualización de datos como Tableau, Power BI, Streamlit o cualquier otra herramienta de tu elección. "
   ]
  },
  {
   "cell_type": "markdown",
   "metadata": {},
   "source": [
    "![img](./img/northwind-er-diagram.png)"
   ]
  },
  {
   "cell_type": "markdown",
   "metadata": {},
   "source": [
    "Tendrás que elegir uno de los retos a resolver:"
   ]
  },
  {
   "cell_type": "markdown",
   "metadata": {},
   "source": [
    "### **1. Análisis de Ventas por Región**\n",
    "Analiza las ventas de productos por región. El objetivo es identificar las regiones que generan más ingresos y las tendencias de ventas a lo largo del tiempo en esas regiones. \n",
    "Pista: Utiliza gráficos de barras y líneas para mostrar la evolución de las ventas, así como mapas geográficos para visualizar la distribución de ingresos por región."
   ]
  },
  {
   "cell_type": "code",
   "execution_count": 1,
   "metadata": {},
   "outputs": [],
   "source": [
    "from sqlalchemy import create_engine\n",
    "\n",
    "engine = create_engine('sqlite:///data/northwind.db', echo=False)\n",
    "connection = engine.connect()"
   ]
  },
  {
   "cell_type": "code",
   "execution_count": 2,
   "metadata": {},
   "outputs": [
    {
     "data": {
      "text/html": [
       "<div>\n",
       "<style scoped>\n",
       "    .dataframe tbody tr th:only-of-type {\n",
       "        vertical-align: middle;\n",
       "    }\n",
       "\n",
       "    .dataframe tbody tr th {\n",
       "        vertical-align: top;\n",
       "    }\n",
       "\n",
       "    .dataframe thead th {\n",
       "        text-align: right;\n",
       "    }\n",
       "</style>\n",
       "<table border=\"1\" class=\"dataframe\">\n",
       "  <thead>\n",
       "    <tr style=\"text-align: right;\">\n",
       "      <th></th>\n",
       "      <th>OrderDate</th>\n",
       "      <th>ShipRegion</th>\n",
       "      <th>Total</th>\n",
       "      <th>ProductName</th>\n",
       "    </tr>\n",
       "  </thead>\n",
       "  <tbody>\n",
       "    <tr>\n",
       "      <th>0</th>\n",
       "      <td>2016-07-04 00:00:00</td>\n",
       "      <td>Western Europe</td>\n",
       "      <td>168.00</td>\n",
       "      <td>Queso Cabrales</td>\n",
       "    </tr>\n",
       "    <tr>\n",
       "      <th>1</th>\n",
       "      <td>2016-07-04 00:00:00</td>\n",
       "      <td>Western Europe</td>\n",
       "      <td>98.00</td>\n",
       "      <td>Singaporean Hokkien Fried Mee</td>\n",
       "    </tr>\n",
       "    <tr>\n",
       "      <th>2</th>\n",
       "      <td>2016-07-04 00:00:00</td>\n",
       "      <td>Western Europe</td>\n",
       "      <td>174.00</td>\n",
       "      <td>Mozzarella di Giovanni</td>\n",
       "    </tr>\n",
       "    <tr>\n",
       "      <th>3</th>\n",
       "      <td>2016-07-05 00:00:00</td>\n",
       "      <td>Western Europe</td>\n",
       "      <td>167.40</td>\n",
       "      <td>Tofu</td>\n",
       "    </tr>\n",
       "    <tr>\n",
       "      <th>4</th>\n",
       "      <td>2016-07-05 00:00:00</td>\n",
       "      <td>Western Europe</td>\n",
       "      <td>1696.00</td>\n",
       "      <td>Manjimup Dried Apples</td>\n",
       "    </tr>\n",
       "    <tr>\n",
       "      <th>...</th>\n",
       "      <td>...</td>\n",
       "      <td>...</td>\n",
       "      <td>...</td>\n",
       "      <td>...</td>\n",
       "    </tr>\n",
       "    <tr>\n",
       "      <th>609278</th>\n",
       "      <td>2023-01-10 05:40:51</td>\n",
       "      <td>British Isles</td>\n",
       "      <td>806.00</td>\n",
       "      <td>Ikura</td>\n",
       "    </tr>\n",
       "    <tr>\n",
       "      <th>609279</th>\n",
       "      <td>2023-01-10 05:40:51</td>\n",
       "      <td>British Isles</td>\n",
       "      <td>216.00</td>\n",
       "      <td>Spegesild</td>\n",
       "    </tr>\n",
       "    <tr>\n",
       "      <th>609280</th>\n",
       "      <td>2023-01-10 05:40:51</td>\n",
       "      <td>British Isles</td>\n",
       "      <td>93.69</td>\n",
       "      <td>Gumbär Gummibärchen</td>\n",
       "    </tr>\n",
       "    <tr>\n",
       "      <th>609281</th>\n",
       "      <td>2023-01-10 05:40:51</td>\n",
       "      <td>British Isles</td>\n",
       "      <td>1053.60</td>\n",
       "      <td>Schoggi Schokolade</td>\n",
       "    </tr>\n",
       "    <tr>\n",
       "      <th>609282</th>\n",
       "      <td>2023-01-10 05:40:51</td>\n",
       "      <td>British Isles</td>\n",
       "      <td>1014.00</td>\n",
       "      <td>Alice Mutton</td>\n",
       "    </tr>\n",
       "  </tbody>\n",
       "</table>\n",
       "<p>609283 rows × 4 columns</p>\n",
       "</div>"
      ],
      "text/plain": [
       "                  OrderDate      ShipRegion    Total  \\\n",
       "0       2016-07-04 00:00:00  Western Europe   168.00   \n",
       "1       2016-07-04 00:00:00  Western Europe    98.00   \n",
       "2       2016-07-04 00:00:00  Western Europe   174.00   \n",
       "3       2016-07-05 00:00:00  Western Europe   167.40   \n",
       "4       2016-07-05 00:00:00  Western Europe  1696.00   \n",
       "...                     ...             ...      ...   \n",
       "609278  2023-01-10 05:40:51   British Isles   806.00   \n",
       "609279  2023-01-10 05:40:51   British Isles   216.00   \n",
       "609280  2023-01-10 05:40:51   British Isles    93.69   \n",
       "609281  2023-01-10 05:40:51   British Isles  1053.60   \n",
       "609282  2023-01-10 05:40:51   British Isles  1014.00   \n",
       "\n",
       "                          ProductName  \n",
       "0                      Queso Cabrales  \n",
       "1       Singaporean Hokkien Fried Mee  \n",
       "2              Mozzarella di Giovanni  \n",
       "3                                Tofu  \n",
       "4               Manjimup Dried Apples  \n",
       "...                               ...  \n",
       "609278                          Ikura  \n",
       "609279                      Spegesild  \n",
       "609280            Gumbär Gummibärchen  \n",
       "609281             Schoggi Schokolade  \n",
       "609282                   Alice Mutton  \n",
       "\n",
       "[609283 rows x 4 columns]"
      ]
     },
     "execution_count": 2,
     "metadata": {},
     "output_type": "execute_result"
    }
   ],
   "source": [
    "import pandas as pd\n",
    "\n",
    "consulta = \"\"\"\n",
    "SELECT datetime(o.OrderDate) as OrderDate, o.ShipRegion, od.Quantity*od.UnitPrice*(1-od.Discount) AS Total, p.ProductName\n",
    "FROM Orders o\n",
    "INNER JOIN [Order Details] od ON od.OrderID == o.OrderID\n",
    "INNER JOIN Products p ON p.ProductID = od.ProductID\n",
    "\"\"\"\n",
    "\n",
    "data_df = pd.read_sql(consulta, con=connection)\n",
    "data_df"
   ]
  },
  {
   "cell_type": "code",
   "execution_count": 28,
   "metadata": {},
   "outputs": [
    {
     "data": {
      "text/plain": [
       "OrderDate       object\n",
       "ShipRegion      object\n",
       "Total          float64\n",
       "ProductName     object\n",
       "dtype: object"
      ]
     },
     "execution_count": 28,
     "metadata": {},
     "output_type": "execute_result"
    }
   ],
   "source": [
    "data_df.dtypes"
   ]
  },
  {
   "cell_type": "code",
   "execution_count": 29,
   "metadata": {},
   "outputs": [],
   "source": [
    "data_df[\"OrderDate\"] = pd.to_datetime(data_df['OrderDate'])\n",
    "data_df.set_index(\"OrderDate\", inplace=True)"
   ]
  },
  {
   "cell_type": "code",
   "execution_count": 30,
   "metadata": {},
   "outputs": [
    {
     "data": {
      "text/plain": [
       "DatetimeIndex(['2016-07-04 00:00:00', '2016-07-04 00:00:00',\n",
       "               '2016-07-04 00:00:00', '2016-07-05 00:00:00',\n",
       "               '2016-07-05 00:00:00', '2016-07-08 00:00:00',\n",
       "               '2016-07-08 00:00:00', '2016-07-08 00:00:00',\n",
       "               '2016-07-08 00:00:00', '2016-07-08 00:00:00',\n",
       "               ...\n",
       "               '2023-01-10 05:40:51', '2023-01-10 05:40:51',\n",
       "               '2023-01-10 05:40:51', '2023-01-10 05:40:51',\n",
       "               '2023-01-10 05:40:51', '2023-01-10 05:40:51',\n",
       "               '2023-01-10 05:40:51', '2023-01-10 05:40:51',\n",
       "               '2023-01-10 05:40:51', '2023-01-10 05:40:51'],\n",
       "              dtype='datetime64[ns]', name='OrderDate', length=609283, freq=None)"
      ]
     },
     "execution_count": 30,
     "metadata": {},
     "output_type": "execute_result"
    }
   ],
   "source": [
    "data_df.index"
   ]
  },
  {
   "cell_type": "code",
   "execution_count": 31,
   "metadata": {},
   "outputs": [
    {
     "data": {
      "text/html": [
       "<div>\n",
       "<style scoped>\n",
       "    .dataframe tbody tr th:only-of-type {\n",
       "        vertical-align: middle;\n",
       "    }\n",
       "\n",
       "    .dataframe tbody tr th {\n",
       "        vertical-align: top;\n",
       "    }\n",
       "\n",
       "    .dataframe thead th {\n",
       "        text-align: right;\n",
       "    }\n",
       "</style>\n",
       "<table border=\"1\" class=\"dataframe\">\n",
       "  <thead>\n",
       "    <tr style=\"text-align: right;\">\n",
       "      <th></th>\n",
       "      <th>ShipRegion</th>\n",
       "      <th>Total</th>\n",
       "      <th>ProductName</th>\n",
       "    </tr>\n",
       "    <tr>\n",
       "      <th>OrderDate</th>\n",
       "      <th></th>\n",
       "      <th></th>\n",
       "      <th></th>\n",
       "    </tr>\n",
       "  </thead>\n",
       "  <tbody>\n",
       "    <tr>\n",
       "      <th>2016-07-04</th>\n",
       "      <td>Western Europe</td>\n",
       "      <td>168.0</td>\n",
       "      <td>Queso Cabrales</td>\n",
       "    </tr>\n",
       "    <tr>\n",
       "      <th>2016-07-04</th>\n",
       "      <td>Western Europe</td>\n",
       "      <td>98.0</td>\n",
       "      <td>Singaporean Hokkien Fried Mee</td>\n",
       "    </tr>\n",
       "    <tr>\n",
       "      <th>2016-07-04</th>\n",
       "      <td>Western Europe</td>\n",
       "      <td>174.0</td>\n",
       "      <td>Mozzarella di Giovanni</td>\n",
       "    </tr>\n",
       "    <tr>\n",
       "      <th>2016-07-05</th>\n",
       "      <td>Western Europe</td>\n",
       "      <td>167.4</td>\n",
       "      <td>Tofu</td>\n",
       "    </tr>\n",
       "    <tr>\n",
       "      <th>2016-07-05</th>\n",
       "      <td>Western Europe</td>\n",
       "      <td>1696.0</td>\n",
       "      <td>Manjimup Dried Apples</td>\n",
       "    </tr>\n",
       "  </tbody>\n",
       "</table>\n",
       "</div>"
      ],
      "text/plain": [
       "                ShipRegion   Total                    ProductName\n",
       "OrderDate                                                        \n",
       "2016-07-04  Western Europe   168.0                 Queso Cabrales\n",
       "2016-07-04  Western Europe    98.0  Singaporean Hokkien Fried Mee\n",
       "2016-07-04  Western Europe   174.0         Mozzarella di Giovanni\n",
       "2016-07-05  Western Europe   167.4                           Tofu\n",
       "2016-07-05  Western Europe  1696.0          Manjimup Dried Apples"
      ]
     },
     "execution_count": 31,
     "metadata": {},
     "output_type": "execute_result"
    }
   ],
   "source": [
    "data_df.head()"
   ]
  },
  {
   "cell_type": "code",
   "execution_count": 32,
   "metadata": {},
   "outputs": [
    {
     "data": {
      "text/plain": [
       "array(['Western Europe', 'South America', 'Central America',\n",
       "       'North America', 'Northern Europe', 'Scandinavia',\n",
       "       'Southern Europe', 'British Isles', 'Eastern Europe'], dtype=object)"
      ]
     },
     "execution_count": 32,
     "metadata": {},
     "output_type": "execute_result"
    }
   ],
   "source": [
    "data_df[\"ShipRegion\"].unique()"
   ]
  },
  {
   "cell_type": "code",
   "execution_count": 33,
   "metadata": {},
   "outputs": [
    {
     "data": {
      "text/html": [
       "<div>\n",
       "<style scoped>\n",
       "    .dataframe tbody tr th:only-of-type {\n",
       "        vertical-align: middle;\n",
       "    }\n",
       "\n",
       "    .dataframe tbody tr th {\n",
       "        vertical-align: top;\n",
       "    }\n",
       "\n",
       "    .dataframe thead th {\n",
       "        text-align: right;\n",
       "    }\n",
       "</style>\n",
       "<table border=\"1\" class=\"dataframe\">\n",
       "  <thead>\n",
       "    <tr style=\"text-align: right;\">\n",
       "      <th></th>\n",
       "      <th></th>\n",
       "      <th>Total</th>\n",
       "    </tr>\n",
       "    <tr>\n",
       "      <th>ShipRegion</th>\n",
       "      <th>OrderDate</th>\n",
       "      <th></th>\n",
       "    </tr>\n",
       "  </thead>\n",
       "  <tbody>\n",
       "    <tr>\n",
       "      <th rowspan=\"5\" valign=\"top\">British Isles</th>\n",
       "      <th>2012-12-31</th>\n",
       "      <td>1697832.07</td>\n",
       "    </tr>\n",
       "    <tr>\n",
       "      <th>2013-12-31</th>\n",
       "      <td>3128226.90</td>\n",
       "    </tr>\n",
       "    <tr>\n",
       "      <th>2014-12-31</th>\n",
       "      <td>3884546.08</td>\n",
       "    </tr>\n",
       "    <tr>\n",
       "      <th>2015-12-31</th>\n",
       "      <td>3511450.44</td>\n",
       "    </tr>\n",
       "    <tr>\n",
       "      <th>2016-12-30</th>\n",
       "      <td>3574917.46</td>\n",
       "    </tr>\n",
       "    <tr>\n",
       "      <th>...</th>\n",
       "      <th>...</th>\n",
       "      <td>...</td>\n",
       "    </tr>\n",
       "    <tr>\n",
       "      <th rowspan=\"5\" valign=\"top\">Western Europe</th>\n",
       "      <th>2019-12-31</th>\n",
       "      <td>11526084.85</td>\n",
       "    </tr>\n",
       "    <tr>\n",
       "      <th>2020-12-31</th>\n",
       "      <td>12029185.51</td>\n",
       "    </tr>\n",
       "    <tr>\n",
       "      <th>2021-12-31</th>\n",
       "      <td>11217097.30</td>\n",
       "    </tr>\n",
       "    <tr>\n",
       "      <th>2022-12-30</th>\n",
       "      <td>11066267.48</td>\n",
       "    </tr>\n",
       "    <tr>\n",
       "      <th>2023-12-29</th>\n",
       "      <td>9940536.04</td>\n",
       "    </tr>\n",
       "  </tbody>\n",
       "</table>\n",
       "<p>108 rows × 1 columns</p>\n",
       "</div>"
      ],
      "text/plain": [
       "                                 Total\n",
       "ShipRegion     OrderDate              \n",
       "British Isles  2012-12-31   1697832.07\n",
       "               2013-12-31   3128226.90\n",
       "               2014-12-31   3884546.08\n",
       "               2015-12-31   3511450.44\n",
       "               2016-12-30   3574917.46\n",
       "...                                ...\n",
       "Western Europe 2019-12-31  11526084.85\n",
       "               2020-12-31  12029185.51\n",
       "               2021-12-31  11217097.30\n",
       "               2022-12-30  11066267.48\n",
       "               2023-12-29   9940536.04\n",
       "\n",
       "[108 rows x 1 columns]"
      ]
     },
     "execution_count": 33,
     "metadata": {},
     "output_type": "execute_result"
    }
   ],
   "source": [
    "reg_prod_total = data_df.groupby([\"ShipRegion\"]).resample(\"BYE\").sum(\"Total\")\n",
    "reg_prod_total"
   ]
  },
  {
   "cell_type": "code",
   "execution_count": 34,
   "metadata": {},
   "outputs": [
    {
     "data": {
      "text/html": [
       "<div>\n",
       "<style scoped>\n",
       "    .dataframe tbody tr th:only-of-type {\n",
       "        vertical-align: middle;\n",
       "    }\n",
       "\n",
       "    .dataframe tbody tr th {\n",
       "        vertical-align: top;\n",
       "    }\n",
       "\n",
       "    .dataframe thead th {\n",
       "        text-align: right;\n",
       "    }\n",
       "</style>\n",
       "<table border=\"1\" class=\"dataframe\">\n",
       "  <thead>\n",
       "    <tr style=\"text-align: right;\">\n",
       "      <th></th>\n",
       "      <th>ShipRegion</th>\n",
       "      <th>OrderDate</th>\n",
       "      <th>Total</th>\n",
       "    </tr>\n",
       "  </thead>\n",
       "  <tbody>\n",
       "    <tr>\n",
       "      <th>0</th>\n",
       "      <td>British Isles</td>\n",
       "      <td>2012-12-31</td>\n",
       "      <td>1697832.07</td>\n",
       "    </tr>\n",
       "    <tr>\n",
       "      <th>1</th>\n",
       "      <td>British Isles</td>\n",
       "      <td>2013-12-31</td>\n",
       "      <td>3128226.90</td>\n",
       "    </tr>\n",
       "    <tr>\n",
       "      <th>2</th>\n",
       "      <td>British Isles</td>\n",
       "      <td>2014-12-31</td>\n",
       "      <td>3884546.08</td>\n",
       "    </tr>\n",
       "    <tr>\n",
       "      <th>3</th>\n",
       "      <td>British Isles</td>\n",
       "      <td>2015-12-31</td>\n",
       "      <td>3511450.44</td>\n",
       "    </tr>\n",
       "    <tr>\n",
       "      <th>4</th>\n",
       "      <td>British Isles</td>\n",
       "      <td>2016-12-30</td>\n",
       "      <td>3574917.46</td>\n",
       "    </tr>\n",
       "    <tr>\n",
       "      <th>...</th>\n",
       "      <td>...</td>\n",
       "      <td>...</td>\n",
       "      <td>...</td>\n",
       "    </tr>\n",
       "    <tr>\n",
       "      <th>103</th>\n",
       "      <td>Western Europe</td>\n",
       "      <td>2019-12-31</td>\n",
       "      <td>11526084.85</td>\n",
       "    </tr>\n",
       "    <tr>\n",
       "      <th>104</th>\n",
       "      <td>Western Europe</td>\n",
       "      <td>2020-12-31</td>\n",
       "      <td>12029185.51</td>\n",
       "    </tr>\n",
       "    <tr>\n",
       "      <th>105</th>\n",
       "      <td>Western Europe</td>\n",
       "      <td>2021-12-31</td>\n",
       "      <td>11217097.30</td>\n",
       "    </tr>\n",
       "    <tr>\n",
       "      <th>106</th>\n",
       "      <td>Western Europe</td>\n",
       "      <td>2022-12-30</td>\n",
       "      <td>11066267.48</td>\n",
       "    </tr>\n",
       "    <tr>\n",
       "      <th>107</th>\n",
       "      <td>Western Europe</td>\n",
       "      <td>2023-12-29</td>\n",
       "      <td>9940536.04</td>\n",
       "    </tr>\n",
       "  </tbody>\n",
       "</table>\n",
       "<p>108 rows × 3 columns</p>\n",
       "</div>"
      ],
      "text/plain": [
       "         ShipRegion  OrderDate        Total\n",
       "0     British Isles 2012-12-31   1697832.07\n",
       "1     British Isles 2013-12-31   3128226.90\n",
       "2     British Isles 2014-12-31   3884546.08\n",
       "3     British Isles 2015-12-31   3511450.44\n",
       "4     British Isles 2016-12-30   3574917.46\n",
       "..              ...        ...          ...\n",
       "103  Western Europe 2019-12-31  11526084.85\n",
       "104  Western Europe 2020-12-31  12029185.51\n",
       "105  Western Europe 2021-12-31  11217097.30\n",
       "106  Western Europe 2022-12-30  11066267.48\n",
       "107  Western Europe 2023-12-29   9940536.04\n",
       "\n",
       "[108 rows x 3 columns]"
      ]
     },
     "execution_count": 34,
     "metadata": {},
     "output_type": "execute_result"
    }
   ],
   "source": [
    "reg_prod_total.reset_index(inplace=True)\n",
    "reg_prod_total"
   ]
  },
  {
   "cell_type": "code",
   "execution_count": 35,
   "metadata": {},
   "outputs": [
    {
     "data": {
      "text/html": [
       "<div>\n",
       "<style scoped>\n",
       "    .dataframe tbody tr th:only-of-type {\n",
       "        vertical-align: middle;\n",
       "    }\n",
       "\n",
       "    .dataframe tbody tr th {\n",
       "        vertical-align: top;\n",
       "    }\n",
       "\n",
       "    .dataframe thead th {\n",
       "        text-align: right;\n",
       "    }\n",
       "</style>\n",
       "<table border=\"1\" class=\"dataframe\">\n",
       "  <thead>\n",
       "    <tr style=\"text-align: right;\">\n",
       "      <th></th>\n",
       "      <th>ShipRegion</th>\n",
       "      <th>OrderDate</th>\n",
       "      <th>Total</th>\n",
       "      <th>Year</th>\n",
       "    </tr>\n",
       "  </thead>\n",
       "  <tbody>\n",
       "    <tr>\n",
       "      <th>0</th>\n",
       "      <td>British Isles</td>\n",
       "      <td>2012-12-31</td>\n",
       "      <td>1697832.07</td>\n",
       "      <td>2012</td>\n",
       "    </tr>\n",
       "    <tr>\n",
       "      <th>1</th>\n",
       "      <td>British Isles</td>\n",
       "      <td>2013-12-31</td>\n",
       "      <td>3128226.90</td>\n",
       "      <td>2013</td>\n",
       "    </tr>\n",
       "    <tr>\n",
       "      <th>2</th>\n",
       "      <td>British Isles</td>\n",
       "      <td>2014-12-31</td>\n",
       "      <td>3884546.08</td>\n",
       "      <td>2014</td>\n",
       "    </tr>\n",
       "    <tr>\n",
       "      <th>3</th>\n",
       "      <td>British Isles</td>\n",
       "      <td>2015-12-31</td>\n",
       "      <td>3511450.44</td>\n",
       "      <td>2015</td>\n",
       "    </tr>\n",
       "    <tr>\n",
       "      <th>4</th>\n",
       "      <td>British Isles</td>\n",
       "      <td>2016-12-30</td>\n",
       "      <td>3574917.46</td>\n",
       "      <td>2016</td>\n",
       "    </tr>\n",
       "    <tr>\n",
       "      <th>...</th>\n",
       "      <td>...</td>\n",
       "      <td>...</td>\n",
       "      <td>...</td>\n",
       "      <td>...</td>\n",
       "    </tr>\n",
       "    <tr>\n",
       "      <th>103</th>\n",
       "      <td>Western Europe</td>\n",
       "      <td>2019-12-31</td>\n",
       "      <td>11526084.85</td>\n",
       "      <td>2019</td>\n",
       "    </tr>\n",
       "    <tr>\n",
       "      <th>104</th>\n",
       "      <td>Western Europe</td>\n",
       "      <td>2020-12-31</td>\n",
       "      <td>12029185.51</td>\n",
       "      <td>2020</td>\n",
       "    </tr>\n",
       "    <tr>\n",
       "      <th>105</th>\n",
       "      <td>Western Europe</td>\n",
       "      <td>2021-12-31</td>\n",
       "      <td>11217097.30</td>\n",
       "      <td>2021</td>\n",
       "    </tr>\n",
       "    <tr>\n",
       "      <th>106</th>\n",
       "      <td>Western Europe</td>\n",
       "      <td>2022-12-30</td>\n",
       "      <td>11066267.48</td>\n",
       "      <td>2022</td>\n",
       "    </tr>\n",
       "    <tr>\n",
       "      <th>107</th>\n",
       "      <td>Western Europe</td>\n",
       "      <td>2023-12-29</td>\n",
       "      <td>9940536.04</td>\n",
       "      <td>2023</td>\n",
       "    </tr>\n",
       "  </tbody>\n",
       "</table>\n",
       "<p>108 rows × 4 columns</p>\n",
       "</div>"
      ],
      "text/plain": [
       "         ShipRegion  OrderDate        Total  Year\n",
       "0     British Isles 2012-12-31   1697832.07  2012\n",
       "1     British Isles 2013-12-31   3128226.90  2013\n",
       "2     British Isles 2014-12-31   3884546.08  2014\n",
       "3     British Isles 2015-12-31   3511450.44  2015\n",
       "4     British Isles 2016-12-30   3574917.46  2016\n",
       "..              ...        ...          ...   ...\n",
       "103  Western Europe 2019-12-31  11526084.85  2019\n",
       "104  Western Europe 2020-12-31  12029185.51  2020\n",
       "105  Western Europe 2021-12-31  11217097.30  2021\n",
       "106  Western Europe 2022-12-30  11066267.48  2022\n",
       "107  Western Europe 2023-12-29   9940536.04  2023\n",
       "\n",
       "[108 rows x 4 columns]"
      ]
     },
     "execution_count": 35,
     "metadata": {},
     "output_type": "execute_result"
    }
   ],
   "source": [
    "reg_prod_total[\"Year\"] = reg_prod_total[\"OrderDate\"].dt.year\n",
    "reg_prod_total"
   ]
  },
  {
   "cell_type": "code",
   "execution_count": 37,
   "metadata": {},
   "outputs": [
    {
     "data": {
      "application/vnd.plotly.v1+json": {
       "config": {
        "plotlyServerURL": "https://plot.ly"
       },
       "data": [
        {
         "hovertemplate": "ShipRegion=British Isles<br>Year=%{x}<br>Total=%{y}<extra></extra>",
         "legendgroup": "British Isles",
         "line": {
          "color": "#636efa",
          "dash": "solid"
         },
         "marker": {
          "symbol": "circle"
         },
         "mode": "lines",
         "name": "British Isles",
         "orientation": "v",
         "showlegend": true,
         "type": "scatter",
         "x": [
          2012,
          2013,
          2014,
          2015,
          2016,
          2017,
          2018,
          2019,
          2020,
          2021,
          2022,
          2023
         ],
         "xaxis": "x",
         "y": [
          1697832.07,
          3128226.9,
          3884546.08,
          3511450.44,
          3574917.46,
          3497816.42,
          3935189.475,
          3753641.66,
          3128567.07,
          4116389.46,
          3260399.73,
          3282923.93
         ],
         "yaxis": "y"
        },
        {
         "hovertemplate": "ShipRegion=Central America<br>Year=%{x}<br>Total=%{y}<extra></extra>",
         "legendgroup": "Central America",
         "line": {
          "color": "#EF553B",
          "dash": "solid"
         },
         "marker": {
          "symbol": "circle"
         },
         "mode": "lines",
         "name": "Central America",
         "orientation": "v",
         "showlegend": true,
         "type": "scatter",
         "x": [
          2012,
          2013,
          2014,
          2015,
          2016,
          2017,
          2018,
          2019,
          2020,
          2021,
          2022,
          2023
         ],
         "xaxis": "x",
         "y": [
          1204790.07,
          2583421.7,
          2370370.14,
          2074745.05,
          1966539.51,
          2603166.6475,
          1885290.94,
          2348924.13,
          1806854.7,
          2836588.32,
          2174732.56,
          1582689.75
         ],
         "yaxis": "y"
        },
        {
         "hovertemplate": "ShipRegion=Eastern Europe<br>Year=%{x}<br>Total=%{y}<extra></extra>",
         "legendgroup": "Eastern Europe",
         "line": {
          "color": "#00cc96",
          "dash": "solid"
         },
         "marker": {
          "symbol": "circle"
         },
         "mode": "lines",
         "name": "Eastern Europe",
         "orientation": "v",
         "showlegend": true,
         "type": "scatter",
         "x": [
          2012,
          2013,
          2014,
          2015,
          2016,
          2017,
          2018,
          2019,
          2020,
          2021,
          2022,
          2023
         ],
         "xaxis": "x",
         "y": [
          214231.87,
          594148.24,
          517857.47000000003,
          817392.52,
          301984.83,
          456789.54,
          450040.59,
          518189.62,
          433575.7,
          606804.82,
          680749.64,
          364418.09
         ],
         "yaxis": "y"
        },
        {
         "hovertemplate": "ShipRegion=North America<br>Year=%{x}<br>Total=%{y}<extra></extra>",
         "legendgroup": "North America",
         "line": {
          "color": "#ab63fa",
          "dash": "solid"
         },
         "marker": {
          "symbol": "circle"
         },
         "mode": "lines",
         "name": "North America",
         "orientation": "v",
         "showlegend": true,
         "type": "scatter",
         "x": [
          2012,
          2013,
          2014,
          2015,
          2016,
          2017,
          2018,
          2019,
          2020,
          2021,
          2022,
          2023
         ],
         "xaxis": "x",
         "y": [
          3707158.14,
          6449562.81,
          6122757.87,
          7478344.96,
          7024769.775,
          6737198.8425,
          6067726.413,
          6356047.86,
          7582363.2,
          7828103.81,
          7357319.11,
          5781613.35
         ],
         "yaxis": "y"
        },
        {
         "hovertemplate": "ShipRegion=Northern Europe<br>Year=%{x}<br>Total=%{y}<extra></extra>",
         "legendgroup": "Northern Europe",
         "line": {
          "color": "#FFA15A",
          "dash": "solid"
         },
         "marker": {
          "symbol": "circle"
         },
         "mode": "lines",
         "name": "Northern Europe",
         "orientation": "v",
         "showlegend": true,
         "type": "scatter",
         "x": [
          2012,
          2013,
          2014,
          2015,
          2016,
          2017,
          2018,
          2019,
          2020,
          2021,
          2022,
          2023
         ],
         "xaxis": "x",
         "y": [
          776357.56,
          2002563.67,
          1492496.2,
          1909463.62,
          1813239.025,
          1702063.1125,
          1918868.405,
          2004575.49,
          1423880.71,
          2073295.29,
          1949199.58,
          1504672.02
         ],
         "yaxis": "y"
        },
        {
         "hovertemplate": "ShipRegion=Scandinavia<br>Year=%{x}<br>Total=%{y}<extra></extra>",
         "legendgroup": "Scandinavia",
         "line": {
          "color": "#19d3f3",
          "dash": "solid"
         },
         "marker": {
          "symbol": "circle"
         },
         "mode": "lines",
         "name": "Scandinavia",
         "orientation": "v",
         "showlegend": true,
         "type": "scatter",
         "x": [
          2012,
          2013,
          2014,
          2015,
          2016,
          2017,
          2018,
          2019,
          2020,
          2021,
          2022,
          2023
         ],
         "xaxis": "x",
         "y": [
          626395.09,
          1219529.95,
          1280367.75,
          1305845.72,
          1270131.6,
          1445973.7325,
          1170824.84,
          1091036.87,
          905060.12,
          1546954.09,
          1340621.25,
          1213543.04
         ],
         "yaxis": "y"
        },
        {
         "hovertemplate": "ShipRegion=South America<br>Year=%{x}<br>Total=%{y}<extra></extra>",
         "legendgroup": "South America",
         "line": {
          "color": "#FF6692",
          "dash": "solid"
         },
         "marker": {
          "symbol": "circle"
         },
         "mode": "lines",
         "name": "South America",
         "orientation": "v",
         "showlegend": true,
         "type": "scatter",
         "x": [
          2012,
          2013,
          2014,
          2015,
          2016,
          2017,
          2018,
          2019,
          2020,
          2021,
          2022,
          2023
         ],
         "xaxis": "x",
         "y": [
          3120159.44,
          7404952.9,
          6709497.45,
          6939098.04,
          6763663.8,
          6950852.8565,
          6575140.269,
          7478831.51,
          8144122.06,
          7440263.73,
          7326917.71,
          6259756.26
         ],
         "yaxis": "y"
        },
        {
         "hovertemplate": "ShipRegion=Southern Europe<br>Year=%{x}<br>Total=%{y}<extra></extra>",
         "legendgroup": "Southern Europe",
         "line": {
          "color": "#B6E880",
          "dash": "solid"
         },
         "marker": {
          "symbol": "circle"
         },
         "mode": "lines",
         "name": "Southern Europe",
         "orientation": "v",
         "showlegend": true,
         "type": "scatter",
         "x": [
          2012,
          2013,
          2014,
          2015,
          2016,
          2017,
          2018,
          2019,
          2020,
          2021,
          2022,
          2023
         ],
         "xaxis": "x",
         "y": [
          2012197.99,
          3230816.53,
          3709424.92,
          4230915.31,
          4357272.7,
          3788126.4775,
          4121798.37,
          3439631.87,
          3408827.72,
          3690052.92,
          4578670.62,
          3131526.02
         ],
         "yaxis": "y"
        },
        {
         "hovertemplate": "ShipRegion=Western Europe<br>Year=%{x}<br>Total=%{y}<extra></extra>",
         "legendgroup": "Western Europe",
         "line": {
          "color": "#FF97FF",
          "dash": "solid"
         },
         "marker": {
          "symbol": "circle"
         },
         "mode": "lines",
         "name": "Western Europe",
         "orientation": "v",
         "showlegend": true,
         "type": "scatter",
         "x": [
          2012,
          2013,
          2014,
          2015,
          2016,
          2017,
          2018,
          2019,
          2020,
          2021,
          2022,
          2023
         ],
         "xaxis": "x",
         "y": [
          5464079.49,
          12019897.31,
          12782830.25,
          13156201.06,
          13350819.83,
          13032029.1745,
          12342965.384,
          11526084.85,
          12029185.51,
          11217097.3,
          11066267.48,
          9940536.04
         ],
         "yaxis": "y"
        }
       ],
       "layout": {
        "legend": {
         "title": {
          "text": "ShipRegion"
         },
         "tracegroupgap": 0
        },
        "margin": {
         "t": 60
        },
        "template": {
         "data": {
          "bar": [
           {
            "error_x": {
             "color": "#2a3f5f"
            },
            "error_y": {
             "color": "#2a3f5f"
            },
            "marker": {
             "line": {
              "color": "#E5ECF6",
              "width": 0.5
             },
             "pattern": {
              "fillmode": "overlay",
              "size": 10,
              "solidity": 0.2
             }
            },
            "type": "bar"
           }
          ],
          "barpolar": [
           {
            "marker": {
             "line": {
              "color": "#E5ECF6",
              "width": 0.5
             },
             "pattern": {
              "fillmode": "overlay",
              "size": 10,
              "solidity": 0.2
             }
            },
            "type": "barpolar"
           }
          ],
          "carpet": [
           {
            "aaxis": {
             "endlinecolor": "#2a3f5f",
             "gridcolor": "white",
             "linecolor": "white",
             "minorgridcolor": "white",
             "startlinecolor": "#2a3f5f"
            },
            "baxis": {
             "endlinecolor": "#2a3f5f",
             "gridcolor": "white",
             "linecolor": "white",
             "minorgridcolor": "white",
             "startlinecolor": "#2a3f5f"
            },
            "type": "carpet"
           }
          ],
          "choropleth": [
           {
            "colorbar": {
             "outlinewidth": 0,
             "ticks": ""
            },
            "type": "choropleth"
           }
          ],
          "contour": [
           {
            "colorbar": {
             "outlinewidth": 0,
             "ticks": ""
            },
            "colorscale": [
             [
              0,
              "#0d0887"
             ],
             [
              0.1111111111111111,
              "#46039f"
             ],
             [
              0.2222222222222222,
              "#7201a8"
             ],
             [
              0.3333333333333333,
              "#9c179e"
             ],
             [
              0.4444444444444444,
              "#bd3786"
             ],
             [
              0.5555555555555556,
              "#d8576b"
             ],
             [
              0.6666666666666666,
              "#ed7953"
             ],
             [
              0.7777777777777778,
              "#fb9f3a"
             ],
             [
              0.8888888888888888,
              "#fdca26"
             ],
             [
              1,
              "#f0f921"
             ]
            ],
            "type": "contour"
           }
          ],
          "contourcarpet": [
           {
            "colorbar": {
             "outlinewidth": 0,
             "ticks": ""
            },
            "type": "contourcarpet"
           }
          ],
          "heatmap": [
           {
            "colorbar": {
             "outlinewidth": 0,
             "ticks": ""
            },
            "colorscale": [
             [
              0,
              "#0d0887"
             ],
             [
              0.1111111111111111,
              "#46039f"
             ],
             [
              0.2222222222222222,
              "#7201a8"
             ],
             [
              0.3333333333333333,
              "#9c179e"
             ],
             [
              0.4444444444444444,
              "#bd3786"
             ],
             [
              0.5555555555555556,
              "#d8576b"
             ],
             [
              0.6666666666666666,
              "#ed7953"
             ],
             [
              0.7777777777777778,
              "#fb9f3a"
             ],
             [
              0.8888888888888888,
              "#fdca26"
             ],
             [
              1,
              "#f0f921"
             ]
            ],
            "type": "heatmap"
           }
          ],
          "heatmapgl": [
           {
            "colorbar": {
             "outlinewidth": 0,
             "ticks": ""
            },
            "colorscale": [
             [
              0,
              "#0d0887"
             ],
             [
              0.1111111111111111,
              "#46039f"
             ],
             [
              0.2222222222222222,
              "#7201a8"
             ],
             [
              0.3333333333333333,
              "#9c179e"
             ],
             [
              0.4444444444444444,
              "#bd3786"
             ],
             [
              0.5555555555555556,
              "#d8576b"
             ],
             [
              0.6666666666666666,
              "#ed7953"
             ],
             [
              0.7777777777777778,
              "#fb9f3a"
             ],
             [
              0.8888888888888888,
              "#fdca26"
             ],
             [
              1,
              "#f0f921"
             ]
            ],
            "type": "heatmapgl"
           }
          ],
          "histogram": [
           {
            "marker": {
             "pattern": {
              "fillmode": "overlay",
              "size": 10,
              "solidity": 0.2
             }
            },
            "type": "histogram"
           }
          ],
          "histogram2d": [
           {
            "colorbar": {
             "outlinewidth": 0,
             "ticks": ""
            },
            "colorscale": [
             [
              0,
              "#0d0887"
             ],
             [
              0.1111111111111111,
              "#46039f"
             ],
             [
              0.2222222222222222,
              "#7201a8"
             ],
             [
              0.3333333333333333,
              "#9c179e"
             ],
             [
              0.4444444444444444,
              "#bd3786"
             ],
             [
              0.5555555555555556,
              "#d8576b"
             ],
             [
              0.6666666666666666,
              "#ed7953"
             ],
             [
              0.7777777777777778,
              "#fb9f3a"
             ],
             [
              0.8888888888888888,
              "#fdca26"
             ],
             [
              1,
              "#f0f921"
             ]
            ],
            "type": "histogram2d"
           }
          ],
          "histogram2dcontour": [
           {
            "colorbar": {
             "outlinewidth": 0,
             "ticks": ""
            },
            "colorscale": [
             [
              0,
              "#0d0887"
             ],
             [
              0.1111111111111111,
              "#46039f"
             ],
             [
              0.2222222222222222,
              "#7201a8"
             ],
             [
              0.3333333333333333,
              "#9c179e"
             ],
             [
              0.4444444444444444,
              "#bd3786"
             ],
             [
              0.5555555555555556,
              "#d8576b"
             ],
             [
              0.6666666666666666,
              "#ed7953"
             ],
             [
              0.7777777777777778,
              "#fb9f3a"
             ],
             [
              0.8888888888888888,
              "#fdca26"
             ],
             [
              1,
              "#f0f921"
             ]
            ],
            "type": "histogram2dcontour"
           }
          ],
          "mesh3d": [
           {
            "colorbar": {
             "outlinewidth": 0,
             "ticks": ""
            },
            "type": "mesh3d"
           }
          ],
          "parcoords": [
           {
            "line": {
             "colorbar": {
              "outlinewidth": 0,
              "ticks": ""
             }
            },
            "type": "parcoords"
           }
          ],
          "pie": [
           {
            "automargin": true,
            "type": "pie"
           }
          ],
          "scatter": [
           {
            "fillpattern": {
             "fillmode": "overlay",
             "size": 10,
             "solidity": 0.2
            },
            "type": "scatter"
           }
          ],
          "scatter3d": [
           {
            "line": {
             "colorbar": {
              "outlinewidth": 0,
              "ticks": ""
             }
            },
            "marker": {
             "colorbar": {
              "outlinewidth": 0,
              "ticks": ""
             }
            },
            "type": "scatter3d"
           }
          ],
          "scattercarpet": [
           {
            "marker": {
             "colorbar": {
              "outlinewidth": 0,
              "ticks": ""
             }
            },
            "type": "scattercarpet"
           }
          ],
          "scattergeo": [
           {
            "marker": {
             "colorbar": {
              "outlinewidth": 0,
              "ticks": ""
             }
            },
            "type": "scattergeo"
           }
          ],
          "scattergl": [
           {
            "marker": {
             "colorbar": {
              "outlinewidth": 0,
              "ticks": ""
             }
            },
            "type": "scattergl"
           }
          ],
          "scattermapbox": [
           {
            "marker": {
             "colorbar": {
              "outlinewidth": 0,
              "ticks": ""
             }
            },
            "type": "scattermapbox"
           }
          ],
          "scatterpolar": [
           {
            "marker": {
             "colorbar": {
              "outlinewidth": 0,
              "ticks": ""
             }
            },
            "type": "scatterpolar"
           }
          ],
          "scatterpolargl": [
           {
            "marker": {
             "colorbar": {
              "outlinewidth": 0,
              "ticks": ""
             }
            },
            "type": "scatterpolargl"
           }
          ],
          "scatterternary": [
           {
            "marker": {
             "colorbar": {
              "outlinewidth": 0,
              "ticks": ""
             }
            },
            "type": "scatterternary"
           }
          ],
          "surface": [
           {
            "colorbar": {
             "outlinewidth": 0,
             "ticks": ""
            },
            "colorscale": [
             [
              0,
              "#0d0887"
             ],
             [
              0.1111111111111111,
              "#46039f"
             ],
             [
              0.2222222222222222,
              "#7201a8"
             ],
             [
              0.3333333333333333,
              "#9c179e"
             ],
             [
              0.4444444444444444,
              "#bd3786"
             ],
             [
              0.5555555555555556,
              "#d8576b"
             ],
             [
              0.6666666666666666,
              "#ed7953"
             ],
             [
              0.7777777777777778,
              "#fb9f3a"
             ],
             [
              0.8888888888888888,
              "#fdca26"
             ],
             [
              1,
              "#f0f921"
             ]
            ],
            "type": "surface"
           }
          ],
          "table": [
           {
            "cells": {
             "fill": {
              "color": "#EBF0F8"
             },
             "line": {
              "color": "white"
             }
            },
            "header": {
             "fill": {
              "color": "#C8D4E3"
             },
             "line": {
              "color": "white"
             }
            },
            "type": "table"
           }
          ]
         },
         "layout": {
          "annotationdefaults": {
           "arrowcolor": "#2a3f5f",
           "arrowhead": 0,
           "arrowwidth": 1
          },
          "autotypenumbers": "strict",
          "coloraxis": {
           "colorbar": {
            "outlinewidth": 0,
            "ticks": ""
           }
          },
          "colorscale": {
           "diverging": [
            [
             0,
             "#8e0152"
            ],
            [
             0.1,
             "#c51b7d"
            ],
            [
             0.2,
             "#de77ae"
            ],
            [
             0.3,
             "#f1b6da"
            ],
            [
             0.4,
             "#fde0ef"
            ],
            [
             0.5,
             "#f7f7f7"
            ],
            [
             0.6,
             "#e6f5d0"
            ],
            [
             0.7,
             "#b8e186"
            ],
            [
             0.8,
             "#7fbc41"
            ],
            [
             0.9,
             "#4d9221"
            ],
            [
             1,
             "#276419"
            ]
           ],
           "sequential": [
            [
             0,
             "#0d0887"
            ],
            [
             0.1111111111111111,
             "#46039f"
            ],
            [
             0.2222222222222222,
             "#7201a8"
            ],
            [
             0.3333333333333333,
             "#9c179e"
            ],
            [
             0.4444444444444444,
             "#bd3786"
            ],
            [
             0.5555555555555556,
             "#d8576b"
            ],
            [
             0.6666666666666666,
             "#ed7953"
            ],
            [
             0.7777777777777778,
             "#fb9f3a"
            ],
            [
             0.8888888888888888,
             "#fdca26"
            ],
            [
             1,
             "#f0f921"
            ]
           ],
           "sequentialminus": [
            [
             0,
             "#0d0887"
            ],
            [
             0.1111111111111111,
             "#46039f"
            ],
            [
             0.2222222222222222,
             "#7201a8"
            ],
            [
             0.3333333333333333,
             "#9c179e"
            ],
            [
             0.4444444444444444,
             "#bd3786"
            ],
            [
             0.5555555555555556,
             "#d8576b"
            ],
            [
             0.6666666666666666,
             "#ed7953"
            ],
            [
             0.7777777777777778,
             "#fb9f3a"
            ],
            [
             0.8888888888888888,
             "#fdca26"
            ],
            [
             1,
             "#f0f921"
            ]
           ]
          },
          "colorway": [
           "#636efa",
           "#EF553B",
           "#00cc96",
           "#ab63fa",
           "#FFA15A",
           "#19d3f3",
           "#FF6692",
           "#B6E880",
           "#FF97FF",
           "#FECB52"
          ],
          "font": {
           "color": "#2a3f5f"
          },
          "geo": {
           "bgcolor": "white",
           "lakecolor": "white",
           "landcolor": "#E5ECF6",
           "showlakes": true,
           "showland": true,
           "subunitcolor": "white"
          },
          "hoverlabel": {
           "align": "left"
          },
          "hovermode": "closest",
          "mapbox": {
           "style": "light"
          },
          "paper_bgcolor": "white",
          "plot_bgcolor": "#E5ECF6",
          "polar": {
           "angularaxis": {
            "gridcolor": "white",
            "linecolor": "white",
            "ticks": ""
           },
           "bgcolor": "#E5ECF6",
           "radialaxis": {
            "gridcolor": "white",
            "linecolor": "white",
            "ticks": ""
           }
          },
          "scene": {
           "xaxis": {
            "backgroundcolor": "#E5ECF6",
            "gridcolor": "white",
            "gridwidth": 2,
            "linecolor": "white",
            "showbackground": true,
            "ticks": "",
            "zerolinecolor": "white"
           },
           "yaxis": {
            "backgroundcolor": "#E5ECF6",
            "gridcolor": "white",
            "gridwidth": 2,
            "linecolor": "white",
            "showbackground": true,
            "ticks": "",
            "zerolinecolor": "white"
           },
           "zaxis": {
            "backgroundcolor": "#E5ECF6",
            "gridcolor": "white",
            "gridwidth": 2,
            "linecolor": "white",
            "showbackground": true,
            "ticks": "",
            "zerolinecolor": "white"
           }
          },
          "shapedefaults": {
           "line": {
            "color": "#2a3f5f"
           }
          },
          "ternary": {
           "aaxis": {
            "gridcolor": "white",
            "linecolor": "white",
            "ticks": ""
           },
           "baxis": {
            "gridcolor": "white",
            "linecolor": "white",
            "ticks": ""
           },
           "bgcolor": "#E5ECF6",
           "caxis": {
            "gridcolor": "white",
            "linecolor": "white",
            "ticks": ""
           }
          },
          "title": {
           "x": 0.05
          },
          "xaxis": {
           "automargin": true,
           "gridcolor": "white",
           "linecolor": "white",
           "ticks": "",
           "title": {
            "standoff": 15
           },
           "zerolinecolor": "white",
           "zerolinewidth": 2
          },
          "yaxis": {
           "automargin": true,
           "gridcolor": "white",
           "linecolor": "white",
           "ticks": "",
           "title": {
            "standoff": 15
           },
           "zerolinecolor": "white",
           "zerolinewidth": 2
          }
         }
        },
        "xaxis": {
         "anchor": "y",
         "domain": [
          0,
          1
         ],
         "title": {
          "text": "Year"
         }
        },
        "yaxis": {
         "anchor": "x",
         "domain": [
          0,
          1
         ],
         "title": {
          "text": "Total"
         }
        }
       }
      }
     },
     "metadata": {},
     "output_type": "display_data"
    }
   ],
   "source": [
    "import plotly.express as px\n",
    "\n",
    "fig = px.line(reg_prod_total, x=\"Year\", y='Total', color=\"ShipRegion\")\n",
    "fig.show()"
   ]
  },
  {
   "cell_type": "code",
   "execution_count": 113,
   "metadata": {},
   "outputs": [
    {
     "data": {
      "text/html": [
       "<div>\n",
       "<style scoped>\n",
       "    .dataframe tbody tr th:only-of-type {\n",
       "        vertical-align: middle;\n",
       "    }\n",
       "\n",
       "    .dataframe tbody tr th {\n",
       "        vertical-align: top;\n",
       "    }\n",
       "\n",
       "    .dataframe thead th {\n",
       "        text-align: right;\n",
       "    }\n",
       "</style>\n",
       "<table border=\"1\" class=\"dataframe\">\n",
       "  <thead>\n",
       "    <tr style=\"text-align: right;\">\n",
       "      <th></th>\n",
       "      <th>Year</th>\n",
       "      <th>Month</th>\n",
       "      <th>Region</th>\n",
       "      <th>Product</th>\n",
       "      <th>Total</th>\n",
       "    </tr>\n",
       "  </thead>\n",
       "  <tbody>\n",
       "    <tr>\n",
       "      <th>0</th>\n",
       "      <td>2014</td>\n",
       "      <td>12</td>\n",
       "      <td>Western Europe</td>\n",
       "      <td>Côte de Blaye</td>\n",
       "      <td>222130.5</td>\n",
       "    </tr>\n",
       "    <tr>\n",
       "      <th>1</th>\n",
       "      <td>2015</td>\n",
       "      <td>08</td>\n",
       "      <td>Western Europe</td>\n",
       "      <td>Côte de Blaye</td>\n",
       "      <td>220022.5</td>\n",
       "    </tr>\n",
       "    <tr>\n",
       "      <th>2</th>\n",
       "      <td>2016</td>\n",
       "      <td>12</td>\n",
       "      <td>Western Europe</td>\n",
       "      <td>Côte de Blaye</td>\n",
       "      <td>209746.0</td>\n",
       "    </tr>\n",
       "    <tr>\n",
       "      <th>3</th>\n",
       "      <td>2013</td>\n",
       "      <td>07</td>\n",
       "      <td>Western Europe</td>\n",
       "      <td>Côte de Blaye</td>\n",
       "      <td>209482.5</td>\n",
       "    </tr>\n",
       "    <tr>\n",
       "      <th>4</th>\n",
       "      <td>2018</td>\n",
       "      <td>08</td>\n",
       "      <td>Western Europe</td>\n",
       "      <td>Côte de Blaye</td>\n",
       "      <td>192882.0</td>\n",
       "    </tr>\n",
       "    <tr>\n",
       "      <th>...</th>\n",
       "      <td>...</td>\n",
       "      <td>...</td>\n",
       "      <td>...</td>\n",
       "      <td>...</td>\n",
       "      <td>...</td>\n",
       "    </tr>\n",
       "    <tr>\n",
       "      <th>86605</th>\n",
       "      <td>2018</td>\n",
       "      <td>09</td>\n",
       "      <td>Scandinavia</td>\n",
       "      <td>Guaraná Fantástica</td>\n",
       "      <td>4.5</td>\n",
       "    </tr>\n",
       "    <tr>\n",
       "      <th>86606</th>\n",
       "      <td>2018</td>\n",
       "      <td>10</td>\n",
       "      <td>Northern Europe</td>\n",
       "      <td>Guaraná Fantástica</td>\n",
       "      <td>4.5</td>\n",
       "    </tr>\n",
       "    <tr>\n",
       "      <th>86607</th>\n",
       "      <td>2021</td>\n",
       "      <td>05</td>\n",
       "      <td>Eastern Europe</td>\n",
       "      <td>Guaraná Fantástica</td>\n",
       "      <td>4.5</td>\n",
       "    </tr>\n",
       "    <tr>\n",
       "      <th>86608</th>\n",
       "      <td>2023</td>\n",
       "      <td>08</td>\n",
       "      <td>Scandinavia</td>\n",
       "      <td>Guaraná Fantástica</td>\n",
       "      <td>4.5</td>\n",
       "    </tr>\n",
       "    <tr>\n",
       "      <th>86609</th>\n",
       "      <td>2012</td>\n",
       "      <td>09</td>\n",
       "      <td>Northern Europe</td>\n",
       "      <td>Geitost</td>\n",
       "      <td>2.5</td>\n",
       "    </tr>\n",
       "  </tbody>\n",
       "</table>\n",
       "<p>86610 rows × 5 columns</p>\n",
       "</div>"
      ],
      "text/plain": [
       "       Year Month           Region             Product     Total\n",
       "0      2014    12   Western Europe       Côte de Blaye  222130.5\n",
       "1      2015    08   Western Europe       Côte de Blaye  220022.5\n",
       "2      2016    12   Western Europe       Côte de Blaye  209746.0\n",
       "3      2013    07   Western Europe       Côte de Blaye  209482.5\n",
       "4      2018    08   Western Europe       Côte de Blaye  192882.0\n",
       "...     ...   ...              ...                 ...       ...\n",
       "86605  2018    09      Scandinavia  Guaraná Fantástica       4.5\n",
       "86606  2018    10  Northern Europe  Guaraná Fantástica       4.5\n",
       "86607  2021    05   Eastern Europe  Guaraná Fantástica       4.5\n",
       "86608  2023    08      Scandinavia  Guaraná Fantástica       4.5\n",
       "86609  2012    09  Northern Europe             Geitost       2.5\n",
       "\n",
       "[86610 rows x 5 columns]"
      ]
     },
     "execution_count": 113,
     "metadata": {},
     "output_type": "execute_result"
    }
   ],
   "source": [
    "consulta = \"\"\"\n",
    "SELECT strftime('%Y', OrderDate) AS Year, \n",
    "       strftime('%m', OrderDate) AS Month,\n",
    "       ShipRegion AS Region, \n",
    "       ProductName AS Product, \n",
    "       SUM(Precio_total) As Total\n",
    "FROM (\n",
    "       SELECT datetime(o.OrderDate) as OrderDate, o.ShipRegion, od.Quantity*od.UnitPrice*(1-od.Discount) AS Precio_total, p.ProductName\n",
    "       FROM Orders o\n",
    "       INNER JOIN [Order Details] od ON od.OrderID == o.OrderID\n",
    "       INNER JOIN Products p ON p.ProductID = od.ProductID\n",
    ")\n",
    "GROUP BY Year, Month, Region, Product\n",
    "ORDER BY 5 DESC\n",
    "\"\"\"\n",
    "\n",
    "data_df = pd.read_sql(consulta, con=connection)\n",
    "data_df"
   ]
  },
  {
   "cell_type": "code",
   "execution_count": 128,
   "metadata": {},
   "outputs": [
    {
     "data": {
      "text/html": [
       "<div>\n",
       "<style scoped>\n",
       "    .dataframe tbody tr th:only-of-type {\n",
       "        vertical-align: middle;\n",
       "    }\n",
       "\n",
       "    .dataframe tbody tr th {\n",
       "        vertical-align: top;\n",
       "    }\n",
       "\n",
       "    .dataframe thead th {\n",
       "        text-align: right;\n",
       "    }\n",
       "</style>\n",
       "<table border=\"1\" class=\"dataframe\">\n",
       "  <thead>\n",
       "    <tr style=\"text-align: right;\">\n",
       "      <th></th>\n",
       "      <th></th>\n",
       "      <th>meanTotal</th>\n",
       "      <th>stdTotal</th>\n",
       "    </tr>\n",
       "    <tr>\n",
       "      <th>Product</th>\n",
       "      <th>Region</th>\n",
       "      <th></th>\n",
       "      <th></th>\n",
       "    </tr>\n",
       "  </thead>\n",
       "  <tbody>\n",
       "    <tr>\n",
       "      <th rowspan=\"3\" valign=\"top\">Côte de Blaye</th>\n",
       "      <th>Western Europe</th>\n",
       "      <td>120245.512500</td>\n",
       "      <td>35830.588553</td>\n",
       "    </tr>\n",
       "    <tr>\n",
       "      <th>North America</th>\n",
       "      <td>71226.975625</td>\n",
       "      <td>24537.409206</td>\n",
       "    </tr>\n",
       "    <tr>\n",
       "      <th>South America</th>\n",
       "      <td>70392.475000</td>\n",
       "      <td>26489.913360</td>\n",
       "    </tr>\n",
       "    <tr>\n",
       "      <th>Thüringer Rostbratwurst</th>\n",
       "      <th>Western Europe</th>\n",
       "      <td>55366.795390</td>\n",
       "      <td>15763.042641</td>\n",
       "    </tr>\n",
       "    <tr>\n",
       "      <th>Mishi Kobe Niku</th>\n",
       "      <th>Western Europe</th>\n",
       "      <td>44114.744118</td>\n",
       "      <td>12931.501600</td>\n",
       "    </tr>\n",
       "    <tr>\n",
       "      <th>...</th>\n",
       "      <th>...</th>\n",
       "      <td>...</td>\n",
       "      <td>...</td>\n",
       "    </tr>\n",
       "    <tr>\n",
       "      <th rowspan=\"3\" valign=\"top\">Geitost</th>\n",
       "      <th>Central America</th>\n",
       "      <td>223.130769</td>\n",
       "      <td>119.268353</td>\n",
       "    </tr>\n",
       "    <tr>\n",
       "      <th>Northern Europe</th>\n",
       "      <td>180.480315</td>\n",
       "      <td>108.326253</td>\n",
       "    </tr>\n",
       "    <tr>\n",
       "      <th>Scandinavia</th>\n",
       "      <td>153.272727</td>\n",
       "      <td>97.388931</td>\n",
       "    </tr>\n",
       "    <tr>\n",
       "      <th>Guaraná Fantástica</th>\n",
       "      <th>Eastern Europe</th>\n",
       "      <td>148.616883</td>\n",
       "      <td>108.727747</td>\n",
       "    </tr>\n",
       "    <tr>\n",
       "      <th>Geitost</th>\n",
       "      <th>Eastern Europe</th>\n",
       "      <td>94.202899</td>\n",
       "      <td>55.984656</td>\n",
       "    </tr>\n",
       "  </tbody>\n",
       "</table>\n",
       "<p>693 rows × 2 columns</p>\n",
       "</div>"
      ],
      "text/plain": [
       "                                             meanTotal      stdTotal\n",
       "Product                 Region                                      \n",
       "Côte de Blaye           Western Europe   120245.512500  35830.588553\n",
       "                        North America     71226.975625  24537.409206\n",
       "                        South America     70392.475000  26489.913360\n",
       "Thüringer Rostbratwurst Western Europe    55366.795390  15763.042641\n",
       "Mishi Kobe Niku         Western Europe    44114.744118  12931.501600\n",
       "...                                                ...           ...\n",
       "Geitost                 Central America     223.130769    119.268353\n",
       "                        Northern Europe     180.480315    108.326253\n",
       "                        Scandinavia         153.272727     97.388931\n",
       "Guaraná Fantástica      Eastern Europe      148.616883    108.727747\n",
       "Geitost                 Eastern Europe       94.202899     55.984656\n",
       "\n",
       "[693 rows x 2 columns]"
      ]
     },
     "execution_count": 128,
     "metadata": {},
     "output_type": "execute_result"
    }
   ],
   "source": [
    "product_profit = data_df.groupby([\"Product\",\"Region\"]).agg(meanTotal=(\"Total\", \"mean\"), stdTotal=(\"Total\",\"std\")).sort_values(\"meanTotal\", ascending=False)\n",
    "product_profit"
   ]
  },
  {
   "cell_type": "code",
   "execution_count": 129,
   "metadata": {},
   "outputs": [
    {
     "data": {
      "text/html": [
       "<div>\n",
       "<style scoped>\n",
       "    .dataframe tbody tr th:only-of-type {\n",
       "        vertical-align: middle;\n",
       "    }\n",
       "\n",
       "    .dataframe tbody tr th {\n",
       "        vertical-align: top;\n",
       "    }\n",
       "\n",
       "    .dataframe thead th {\n",
       "        text-align: right;\n",
       "    }\n",
       "</style>\n",
       "<table border=\"1\" class=\"dataframe\">\n",
       "  <thead>\n",
       "    <tr style=\"text-align: right;\">\n",
       "      <th></th>\n",
       "      <th>meanTotal</th>\n",
       "      <th>stdTotal</th>\n",
       "    </tr>\n",
       "    <tr>\n",
       "      <th>Product</th>\n",
       "      <th></th>\n",
       "      <th></th>\n",
       "    </tr>\n",
       "  </thead>\n",
       "  <tbody>\n",
       "    <tr>\n",
       "      <th>Côte de Blaye</th>\n",
       "      <td>120245.512500</td>\n",
       "      <td>35830.588553</td>\n",
       "    </tr>\n",
       "    <tr>\n",
       "      <th>Thüringer Rostbratwurst</th>\n",
       "      <td>55366.795390</td>\n",
       "      <td>15763.042641</td>\n",
       "    </tr>\n",
       "    <tr>\n",
       "      <th>Mishi Kobe Niku</th>\n",
       "      <td>44114.744118</td>\n",
       "      <td>12931.501600</td>\n",
       "    </tr>\n",
       "    <tr>\n",
       "      <th>Sir Rodney's Marmalade</th>\n",
       "      <td>37618.663235</td>\n",
       "      <td>10658.487694</td>\n",
       "    </tr>\n",
       "    <tr>\n",
       "      <th>Carnarvon Tigers</th>\n",
       "      <td>28043.060662</td>\n",
       "      <td>8444.746568</td>\n",
       "    </tr>\n",
       "    <tr>\n",
       "      <th>...</th>\n",
       "      <td>...</td>\n",
       "      <td>...</td>\n",
       "    </tr>\n",
       "    <tr>\n",
       "      <th>Rhönbräu Klosterbier</th>\n",
       "      <td>3454.857684</td>\n",
       "      <td>978.098859</td>\n",
       "    </tr>\n",
       "    <tr>\n",
       "      <th>Filo Mix</th>\n",
       "      <td>3281.620588</td>\n",
       "      <td>945.980091</td>\n",
       "    </tr>\n",
       "    <tr>\n",
       "      <th>Konbu</th>\n",
       "      <td>2752.252941</td>\n",
       "      <td>775.857977</td>\n",
       "    </tr>\n",
       "    <tr>\n",
       "      <th>Guaraná Fantástica</th>\n",
       "      <td>2074.420588</td>\n",
       "      <td>639.190915</td>\n",
       "    </tr>\n",
       "    <tr>\n",
       "      <th>Geitost</th>\n",
       "      <td>1128.824449</td>\n",
       "      <td>316.454253</td>\n",
       "    </tr>\n",
       "  </tbody>\n",
       "</table>\n",
       "<p>77 rows × 2 columns</p>\n",
       "</div>"
      ],
      "text/plain": [
       "                             meanTotal      stdTotal\n",
       "Product                                             \n",
       "Côte de Blaye            120245.512500  35830.588553\n",
       "Thüringer Rostbratwurst   55366.795390  15763.042641\n",
       "Mishi Kobe Niku           44114.744118  12931.501600\n",
       "Sir Rodney's Marmalade    37618.663235  10658.487694\n",
       "Carnarvon Tigers          28043.060662   8444.746568\n",
       "...                                ...           ...\n",
       "Rhönbräu Klosterbier       3454.857684    978.098859\n",
       "Filo Mix                   3281.620588    945.980091\n",
       "Konbu                      2752.252941    775.857977\n",
       "Guaraná Fantástica         2074.420588    639.190915\n",
       "Geitost                    1128.824449    316.454253\n",
       "\n",
       "[77 rows x 2 columns]"
      ]
     },
     "execution_count": 129,
     "metadata": {},
     "output_type": "execute_result"
    }
   ],
   "source": [
    "region = \"Western Europe\" # North America\n",
    "\n",
    "region_profit = data_df[data_df[\"Region\"] == region].groupby([\"Product\"]).agg(meanTotal=(\"Total\", \"mean\"), stdTotal=(\"Total\",\"std\")).sort_values(\"meanTotal\", ascending=False)\n",
    "region_profit"
   ]
  },
  {
   "cell_type": "code",
   "execution_count": 130,
   "metadata": {},
   "outputs": [
    {
     "data": {
      "application/vnd.plotly.v1+json": {
       "config": {
        "plotlyServerURL": "https://plot.ly"
       },
       "data": [
        {
         "alignmentgroup": "True",
         "error_y": {
          "array": [
           35830.58855281685,
           15763.042641296259,
           12931.501599535133,
           10658.487693843981,
           8444.746568270202,
           7559.689320392769,
           7866.280856108597,
           7042.538299955066,
           5754.256333011954,
           6486.118336939451,
           5526.715966496403,
           5361.144059493217,
           5483.26858733652,
           4809.100507605568,
           4826.910546681534,
           4956.508898785155,
           4888.397811328369,
           4692.405251177058,
           4600.9383315505875,
           4470.529601403761,
           4598.00319661885,
           4093.762504974128,
           3853.151305449092,
           4154.938366470346,
           3667.4601598140816,
           3513.1023500904116,
           3337.138869481577,
           3263.582074110077,
           3120.488658822635,
           2925.0558615587506,
           3026.1912796724273,
           3106.9938924046974,
           2766.016961923723,
           2650.4463022287064,
           2986.7945349965844,
           2744.6717116224263,
           2842.408721387482,
           2629.1657388685235,
           2296.93718619646,
           2735.046246132195,
           2413.876241167695,
           2559.4581631204073,
           2308.5072479663013,
           2424.4526984503973,
           2512.5898304924594,
           2264.565768270714,
           2419.7912787342307,
           2452.8530060904677,
           2360.066526086827,
           2371.3716644183205,
           2003.1923909795298,
           2024.4777273725322,
           2013.5458714516415,
           1860.6883869132691,
           1874.0772853765318,
           1963.2987637801232,
           1787.3921108827124,
           1803.8209193672524,
           1709.657592929833,
           1502.6633078556215,
           1597.5310117425472,
           1654.1106766013625,
           1612.9636102042537,
           1291.0535312003276,
           1284.2255195973885,
           1269.6943951467215,
           1188.2421139453759,
           1310.3331833385296,
           1270.6395315493053,
           1253.5036670892453,
           1148.4570345877632,
           997.1829892018172,
           978.0988590116884,
           945.9800907087997,
           775.857977452363,
           639.1909148658624,
           316.45425272721167
          ]
         },
         "hovertemplate": "Product=%{x}<br>meanTotal=%{y}<extra></extra>",
         "legendgroup": "",
         "marker": {
          "color": "#636efa",
          "pattern": {
           "shape": ""
          }
         },
         "name": "",
         "offsetgroup": "",
         "orientation": "v",
         "showlegend": false,
         "textposition": "auto",
         "type": "bar",
         "x": [
          "Côte de Blaye",
          "Thüringer Rostbratwurst",
          "Mishi Kobe Niku",
          "Sir Rodney's Marmalade",
          "Carnarvon Tigers",
          "Raclette Courdavault",
          "Manjimup Dried Apples",
          "Tarte au sucre",
          "Rössle Sauerkraut",
          "Ipoh Coffee",
          "Vegie-spread",
          "Schoggi Schokolade",
          "Northwoods Cranberry Sauce",
          "Queso Manchego La Pastora",
          "Alice Mutton",
          "Gnocchi di nonna Alice",
          "Gudbrandsdalsost",
          "Mozzarella di Giovanni",
          "Camembert Pierrot",
          "Wimmers gute Semmelknödel",
          "Perth Pasties",
          "Mascarpone Fabioli",
          "Gumbär Gummibärchen",
          "Ikura",
          "Uncle Bob's Organic Dried Pears",
          "Sirop d'érable",
          "Gravad lax",
          "Grandma's Boysenberry Spread",
          "Nord-Ost Matjeshering",
          "Pâté chinois",
          "Tofu",
          "Chef Anton's Cajun Seasoning",
          "Flotemysost",
          "Chef Anton's Gumbo Mix",
          "Louisiana Fiery Hot Pepper Sauce",
          "Gustaf's Knäckebröd",
          "Queso Cabrales",
          "Maxilaku",
          "Ravioli Angelo",
          "Chang",
          "Gula Malacca",
          "Inlagd Sill",
          "Lakkalikööri",
          "Boston Crab Meat",
          "Steeleye Stout",
          "Chai",
          "Chartreuse verte",
          "Pavlova",
          "Louisiana Hot Spiced Okra",
          "Valkoinen suklaa",
          "Genen Shouyu",
          "Röd Kaviar",
          "Outback Lager",
          "Sasquatch Ale",
          "NuNuCa Nuß-Nougat-Creme",
          "Laughing Lumberjack Lager",
          "Singaporean Hokkien Fried Mee",
          "Original Frankfurter grüne Soße",
          "Escargots de Bourgogne",
          "Gorgonzola Telino",
          "Chocolade",
          "Scottish Longbreads",
          "Spegesild",
          "Sir Rodney's Scones",
          "Aniseed Syrup",
          "Longlife Tofu",
          "Jack's New England Clam Chowder",
          "Rogede sild",
          "Teatime Chocolate Biscuits",
          "Zaanse koeken",
          "Tunnbröd",
          "Tourtière",
          "Rhönbräu Klosterbier",
          "Filo Mix",
          "Konbu",
          "Guaraná Fantástica",
          "Geitost"
         ],
         "xaxis": "x",
         "y": [
          120245.5125,
          55366.79538970588,
          44114.74411764706,
          37618.663235294116,
          28043.060661764706,
          25040.28676470588,
          24524.795220588236,
          22588.737794117646,
          21383.413529411766,
          21234.310294117648,
          20085.53161764706,
          19915.427022058822,
          18138.382352941175,
          17606.53161764706,
          17494.611397058823,
          17254.766176470588,
          16435.485,
          15941.33,
          15439.3875,
          14980.200735294118,
          14869.031176470586,
          14588.727058823528,
          14458.032926470587,
          13893.479705882353,
          13716.763235294118,
          13411.638970588234,
          11954.532352941176,
          11678.216911764706,
          11626.061636029412,
          10937.86411764706,
          10402.836397058823,
          9888.433823529413,
          9831.578492647059,
          9665.723529411765,
          9612.8509375,
          9525.130588235294,
          9402.237352941176,
          9092.54117647059,
          8895.226102941177,
          8726.708382352941,
          8711.230183823529,
          8647.932426470588,
          8281.262647058824,
          8267.89632352941,
          8156.501470588235,
          8151.538235294117,
          8103.286323529412,
          7959.981305147059,
          7940.25,
          7317.85294117647,
          7121.583272058823,
          6906.926470588235,
          6864.104779411765,
          6593.9382352941175,
          6547.511764705882,
          6514.138235294118,
          6307.463235294118,
          6003.911397058823,
          5957.238970588235,
          5823.363970588235,
          5739.318749999999,
          5713.330882352941,
          5413.55294117647,
          4635.345588235294,
          4607.5,
          4588.106617647059,
          4414.0728125,
          4383.177757352942,
          4264.892205882353,
          4252.961397058823,
          4198.301470588235,
          3466.3874448529414,
          3454.8576838235294,
          3281.6205882352942,
          2752.252941176471,
          2074.4205882352944,
          1128.8244485294117
         ],
         "yaxis": "y"
        }
       ],
       "layout": {
        "barmode": "relative",
        "legend": {
         "tracegroupgap": 0
        },
        "margin": {
         "t": 60
        },
        "template": {
         "data": {
          "bar": [
           {
            "error_x": {
             "color": "#2a3f5f"
            },
            "error_y": {
             "color": "#2a3f5f"
            },
            "marker": {
             "line": {
              "color": "#E5ECF6",
              "width": 0.5
             },
             "pattern": {
              "fillmode": "overlay",
              "size": 10,
              "solidity": 0.2
             }
            },
            "type": "bar"
           }
          ],
          "barpolar": [
           {
            "marker": {
             "line": {
              "color": "#E5ECF6",
              "width": 0.5
             },
             "pattern": {
              "fillmode": "overlay",
              "size": 10,
              "solidity": 0.2
             }
            },
            "type": "barpolar"
           }
          ],
          "carpet": [
           {
            "aaxis": {
             "endlinecolor": "#2a3f5f",
             "gridcolor": "white",
             "linecolor": "white",
             "minorgridcolor": "white",
             "startlinecolor": "#2a3f5f"
            },
            "baxis": {
             "endlinecolor": "#2a3f5f",
             "gridcolor": "white",
             "linecolor": "white",
             "minorgridcolor": "white",
             "startlinecolor": "#2a3f5f"
            },
            "type": "carpet"
           }
          ],
          "choropleth": [
           {
            "colorbar": {
             "outlinewidth": 0,
             "ticks": ""
            },
            "type": "choropleth"
           }
          ],
          "contour": [
           {
            "colorbar": {
             "outlinewidth": 0,
             "ticks": ""
            },
            "colorscale": [
             [
              0,
              "#0d0887"
             ],
             [
              0.1111111111111111,
              "#46039f"
             ],
             [
              0.2222222222222222,
              "#7201a8"
             ],
             [
              0.3333333333333333,
              "#9c179e"
             ],
             [
              0.4444444444444444,
              "#bd3786"
             ],
             [
              0.5555555555555556,
              "#d8576b"
             ],
             [
              0.6666666666666666,
              "#ed7953"
             ],
             [
              0.7777777777777778,
              "#fb9f3a"
             ],
             [
              0.8888888888888888,
              "#fdca26"
             ],
             [
              1,
              "#f0f921"
             ]
            ],
            "type": "contour"
           }
          ],
          "contourcarpet": [
           {
            "colorbar": {
             "outlinewidth": 0,
             "ticks": ""
            },
            "type": "contourcarpet"
           }
          ],
          "heatmap": [
           {
            "colorbar": {
             "outlinewidth": 0,
             "ticks": ""
            },
            "colorscale": [
             [
              0,
              "#0d0887"
             ],
             [
              0.1111111111111111,
              "#46039f"
             ],
             [
              0.2222222222222222,
              "#7201a8"
             ],
             [
              0.3333333333333333,
              "#9c179e"
             ],
             [
              0.4444444444444444,
              "#bd3786"
             ],
             [
              0.5555555555555556,
              "#d8576b"
             ],
             [
              0.6666666666666666,
              "#ed7953"
             ],
             [
              0.7777777777777778,
              "#fb9f3a"
             ],
             [
              0.8888888888888888,
              "#fdca26"
             ],
             [
              1,
              "#f0f921"
             ]
            ],
            "type": "heatmap"
           }
          ],
          "heatmapgl": [
           {
            "colorbar": {
             "outlinewidth": 0,
             "ticks": ""
            },
            "colorscale": [
             [
              0,
              "#0d0887"
             ],
             [
              0.1111111111111111,
              "#46039f"
             ],
             [
              0.2222222222222222,
              "#7201a8"
             ],
             [
              0.3333333333333333,
              "#9c179e"
             ],
             [
              0.4444444444444444,
              "#bd3786"
             ],
             [
              0.5555555555555556,
              "#d8576b"
             ],
             [
              0.6666666666666666,
              "#ed7953"
             ],
             [
              0.7777777777777778,
              "#fb9f3a"
             ],
             [
              0.8888888888888888,
              "#fdca26"
             ],
             [
              1,
              "#f0f921"
             ]
            ],
            "type": "heatmapgl"
           }
          ],
          "histogram": [
           {
            "marker": {
             "pattern": {
              "fillmode": "overlay",
              "size": 10,
              "solidity": 0.2
             }
            },
            "type": "histogram"
           }
          ],
          "histogram2d": [
           {
            "colorbar": {
             "outlinewidth": 0,
             "ticks": ""
            },
            "colorscale": [
             [
              0,
              "#0d0887"
             ],
             [
              0.1111111111111111,
              "#46039f"
             ],
             [
              0.2222222222222222,
              "#7201a8"
             ],
             [
              0.3333333333333333,
              "#9c179e"
             ],
             [
              0.4444444444444444,
              "#bd3786"
             ],
             [
              0.5555555555555556,
              "#d8576b"
             ],
             [
              0.6666666666666666,
              "#ed7953"
             ],
             [
              0.7777777777777778,
              "#fb9f3a"
             ],
             [
              0.8888888888888888,
              "#fdca26"
             ],
             [
              1,
              "#f0f921"
             ]
            ],
            "type": "histogram2d"
           }
          ],
          "histogram2dcontour": [
           {
            "colorbar": {
             "outlinewidth": 0,
             "ticks": ""
            },
            "colorscale": [
             [
              0,
              "#0d0887"
             ],
             [
              0.1111111111111111,
              "#46039f"
             ],
             [
              0.2222222222222222,
              "#7201a8"
             ],
             [
              0.3333333333333333,
              "#9c179e"
             ],
             [
              0.4444444444444444,
              "#bd3786"
             ],
             [
              0.5555555555555556,
              "#d8576b"
             ],
             [
              0.6666666666666666,
              "#ed7953"
             ],
             [
              0.7777777777777778,
              "#fb9f3a"
             ],
             [
              0.8888888888888888,
              "#fdca26"
             ],
             [
              1,
              "#f0f921"
             ]
            ],
            "type": "histogram2dcontour"
           }
          ],
          "mesh3d": [
           {
            "colorbar": {
             "outlinewidth": 0,
             "ticks": ""
            },
            "type": "mesh3d"
           }
          ],
          "parcoords": [
           {
            "line": {
             "colorbar": {
              "outlinewidth": 0,
              "ticks": ""
             }
            },
            "type": "parcoords"
           }
          ],
          "pie": [
           {
            "automargin": true,
            "type": "pie"
           }
          ],
          "scatter": [
           {
            "fillpattern": {
             "fillmode": "overlay",
             "size": 10,
             "solidity": 0.2
            },
            "type": "scatter"
           }
          ],
          "scatter3d": [
           {
            "line": {
             "colorbar": {
              "outlinewidth": 0,
              "ticks": ""
             }
            },
            "marker": {
             "colorbar": {
              "outlinewidth": 0,
              "ticks": ""
             }
            },
            "type": "scatter3d"
           }
          ],
          "scattercarpet": [
           {
            "marker": {
             "colorbar": {
              "outlinewidth": 0,
              "ticks": ""
             }
            },
            "type": "scattercarpet"
           }
          ],
          "scattergeo": [
           {
            "marker": {
             "colorbar": {
              "outlinewidth": 0,
              "ticks": ""
             }
            },
            "type": "scattergeo"
           }
          ],
          "scattergl": [
           {
            "marker": {
             "colorbar": {
              "outlinewidth": 0,
              "ticks": ""
             }
            },
            "type": "scattergl"
           }
          ],
          "scattermapbox": [
           {
            "marker": {
             "colorbar": {
              "outlinewidth": 0,
              "ticks": ""
             }
            },
            "type": "scattermapbox"
           }
          ],
          "scatterpolar": [
           {
            "marker": {
             "colorbar": {
              "outlinewidth": 0,
              "ticks": ""
             }
            },
            "type": "scatterpolar"
           }
          ],
          "scatterpolargl": [
           {
            "marker": {
             "colorbar": {
              "outlinewidth": 0,
              "ticks": ""
             }
            },
            "type": "scatterpolargl"
           }
          ],
          "scatterternary": [
           {
            "marker": {
             "colorbar": {
              "outlinewidth": 0,
              "ticks": ""
             }
            },
            "type": "scatterternary"
           }
          ],
          "surface": [
           {
            "colorbar": {
             "outlinewidth": 0,
             "ticks": ""
            },
            "colorscale": [
             [
              0,
              "#0d0887"
             ],
             [
              0.1111111111111111,
              "#46039f"
             ],
             [
              0.2222222222222222,
              "#7201a8"
             ],
             [
              0.3333333333333333,
              "#9c179e"
             ],
             [
              0.4444444444444444,
              "#bd3786"
             ],
             [
              0.5555555555555556,
              "#d8576b"
             ],
             [
              0.6666666666666666,
              "#ed7953"
             ],
             [
              0.7777777777777778,
              "#fb9f3a"
             ],
             [
              0.8888888888888888,
              "#fdca26"
             ],
             [
              1,
              "#f0f921"
             ]
            ],
            "type": "surface"
           }
          ],
          "table": [
           {
            "cells": {
             "fill": {
              "color": "#EBF0F8"
             },
             "line": {
              "color": "white"
             }
            },
            "header": {
             "fill": {
              "color": "#C8D4E3"
             },
             "line": {
              "color": "white"
             }
            },
            "type": "table"
           }
          ]
         },
         "layout": {
          "annotationdefaults": {
           "arrowcolor": "#2a3f5f",
           "arrowhead": 0,
           "arrowwidth": 1
          },
          "autotypenumbers": "strict",
          "coloraxis": {
           "colorbar": {
            "outlinewidth": 0,
            "ticks": ""
           }
          },
          "colorscale": {
           "diverging": [
            [
             0,
             "#8e0152"
            ],
            [
             0.1,
             "#c51b7d"
            ],
            [
             0.2,
             "#de77ae"
            ],
            [
             0.3,
             "#f1b6da"
            ],
            [
             0.4,
             "#fde0ef"
            ],
            [
             0.5,
             "#f7f7f7"
            ],
            [
             0.6,
             "#e6f5d0"
            ],
            [
             0.7,
             "#b8e186"
            ],
            [
             0.8,
             "#7fbc41"
            ],
            [
             0.9,
             "#4d9221"
            ],
            [
             1,
             "#276419"
            ]
           ],
           "sequential": [
            [
             0,
             "#0d0887"
            ],
            [
             0.1111111111111111,
             "#46039f"
            ],
            [
             0.2222222222222222,
             "#7201a8"
            ],
            [
             0.3333333333333333,
             "#9c179e"
            ],
            [
             0.4444444444444444,
             "#bd3786"
            ],
            [
             0.5555555555555556,
             "#d8576b"
            ],
            [
             0.6666666666666666,
             "#ed7953"
            ],
            [
             0.7777777777777778,
             "#fb9f3a"
            ],
            [
             0.8888888888888888,
             "#fdca26"
            ],
            [
             1,
             "#f0f921"
            ]
           ],
           "sequentialminus": [
            [
             0,
             "#0d0887"
            ],
            [
             0.1111111111111111,
             "#46039f"
            ],
            [
             0.2222222222222222,
             "#7201a8"
            ],
            [
             0.3333333333333333,
             "#9c179e"
            ],
            [
             0.4444444444444444,
             "#bd3786"
            ],
            [
             0.5555555555555556,
             "#d8576b"
            ],
            [
             0.6666666666666666,
             "#ed7953"
            ],
            [
             0.7777777777777778,
             "#fb9f3a"
            ],
            [
             0.8888888888888888,
             "#fdca26"
            ],
            [
             1,
             "#f0f921"
            ]
           ]
          },
          "colorway": [
           "#636efa",
           "#EF553B",
           "#00cc96",
           "#ab63fa",
           "#FFA15A",
           "#19d3f3",
           "#FF6692",
           "#B6E880",
           "#FF97FF",
           "#FECB52"
          ],
          "font": {
           "color": "#2a3f5f"
          },
          "geo": {
           "bgcolor": "white",
           "lakecolor": "white",
           "landcolor": "#E5ECF6",
           "showlakes": true,
           "showland": true,
           "subunitcolor": "white"
          },
          "hoverlabel": {
           "align": "left"
          },
          "hovermode": "closest",
          "mapbox": {
           "style": "light"
          },
          "paper_bgcolor": "white",
          "plot_bgcolor": "#E5ECF6",
          "polar": {
           "angularaxis": {
            "gridcolor": "white",
            "linecolor": "white",
            "ticks": ""
           },
           "bgcolor": "#E5ECF6",
           "radialaxis": {
            "gridcolor": "white",
            "linecolor": "white",
            "ticks": ""
           }
          },
          "scene": {
           "xaxis": {
            "backgroundcolor": "#E5ECF6",
            "gridcolor": "white",
            "gridwidth": 2,
            "linecolor": "white",
            "showbackground": true,
            "ticks": "",
            "zerolinecolor": "white"
           },
           "yaxis": {
            "backgroundcolor": "#E5ECF6",
            "gridcolor": "white",
            "gridwidth": 2,
            "linecolor": "white",
            "showbackground": true,
            "ticks": "",
            "zerolinecolor": "white"
           },
           "zaxis": {
            "backgroundcolor": "#E5ECF6",
            "gridcolor": "white",
            "gridwidth": 2,
            "linecolor": "white",
            "showbackground": true,
            "ticks": "",
            "zerolinecolor": "white"
           }
          },
          "shapedefaults": {
           "line": {
            "color": "#2a3f5f"
           }
          },
          "ternary": {
           "aaxis": {
            "gridcolor": "white",
            "linecolor": "white",
            "ticks": ""
           },
           "baxis": {
            "gridcolor": "white",
            "linecolor": "white",
            "ticks": ""
           },
           "bgcolor": "#E5ECF6",
           "caxis": {
            "gridcolor": "white",
            "linecolor": "white",
            "ticks": ""
           }
          },
          "title": {
           "x": 0.05
          },
          "xaxis": {
           "automargin": true,
           "gridcolor": "white",
           "linecolor": "white",
           "ticks": "",
           "title": {
            "standoff": 15
           },
           "zerolinecolor": "white",
           "zerolinewidth": 2
          },
          "yaxis": {
           "automargin": true,
           "gridcolor": "white",
           "linecolor": "white",
           "ticks": "",
           "title": {
            "standoff": 15
           },
           "zerolinecolor": "white",
           "zerolinewidth": 2
          }
         }
        },
        "xaxis": {
         "anchor": "y",
         "domain": [
          0,
          1
         ],
         "title": {
          "text": "Product"
         }
        },
        "yaxis": {
         "anchor": "x",
         "domain": [
          0,
          1
         ],
         "title": {
          "text": "meanTotal"
         }
        }
       }
      }
     },
     "metadata": {},
     "output_type": "display_data"
    }
   ],
   "source": [
    "fig = px.bar(region_profit, y='meanTotal', error_y=\"stdTotal\")\n",
    "fig.show()"
   ]
  },
  {
   "cell_type": "markdown",
   "metadata": {},
   "source": [
    "### **2. Análisis de Desempeño de Productos**\n",
    "Analiza el desempeño de los productos de la empresa. Examina las ventas de productos por categoría, identificando los productos más vendidos y los menos vendidos. \n",
    "\n",
    "Pista: Utiliza gráficos de barras y de tarta para visualizar la participación de mercado de cada categoría y los ingresos generados por los productos individuales."
   ]
  },
  {
   "cell_type": "code",
   "execution_count": 131,
   "metadata": {},
   "outputs": [],
   "source": [
    "# !pip install 'ibis-framework[sqlite]'"
   ]
  },
  {
   "cell_type": "code",
   "execution_count": 4,
   "metadata": {},
   "outputs": [],
   "source": [
    "import ibis\n",
    "\n",
    "# Para ejecución interactiva\n",
    "ibis.options.interactive = True\n",
    "\n",
    "con = ibis.sqlite.connect('data/northwind.db')"
   ]
  },
  {
   "cell_type": "code",
   "execution_count": 7,
   "metadata": {},
   "outputs": [
    {
     "data": {
      "text/html": [
       "<pre style=\"white-space:pre;overflow-x:auto;line-height:normal;font-family:Menlo,'DejaVu Sans Mono',consolas,'Courier New',monospace\">┏━━━━━━━━━━━━┳━━━━━━━━━━━━━━┳━━━━━━━━━━━━━━━━━━━━━━━━━━━━━━━━━━━━━━━━━━━━━━━━━━━━━━━━━━━━┳━━━━━━━━━━━━━━━━━━━━━━━━━━━━━━━━━━━━━━━━━━━━━━━━━━━━━━━━━━━━━━━━━━━━━━━━━━━━━━━━━━━━━━━━━━━━━━━━━━━━━━━━━━━━━━━━━━━━━━━━━━━━━━━━━━━━━━━━━━━━━━━━━━━━━━━━━━━━━━━━━━━━━━━━━━━━━━━━━━━━━━━━━━━━━━━━━━━━━━━━━━━━━━━━━━━━━━━━━━━━━━━━━━━━━━━━━━━━━━━━━━━━━━━━━━━━━━━━━━━━━━━┳━━━━━━━━━━━┳━━━━━━━━━━━━━━━━━━━━━━━━━━━━━━━━━┳━━━━━━━━━━━━┳━━━━━━━━━━━━━━━━━━━━━┳━━━━━━━━━━━┳━━━━━━━━━━━━━━┳━━━━━━━━━━━━━━┳━━━━━━━━━━━━━━┳━━━━━━━━━━━━━━┓\n",
       "┃<span style=\"font-weight: bold\"> CategoryID </span>┃<span style=\"font-weight: bold\"> CategoryName </span>┃<span style=\"font-weight: bold\"> Description                                                </span>┃<span style=\"font-weight: bold\"> Picture                                                                                                                                                                                                                                                               </span>┃<span style=\"font-weight: bold\"> ProductID </span>┃<span style=\"font-weight: bold\"> ProductName                     </span>┃<span style=\"font-weight: bold\"> SupplierID </span>┃<span style=\"font-weight: bold\"> QuantityPerUnit     </span>┃<span style=\"font-weight: bold\"> UnitPrice </span>┃<span style=\"font-weight: bold\"> UnitsInStock </span>┃<span style=\"font-weight: bold\"> UnitsOnOrder </span>┃<span style=\"font-weight: bold\"> ReorderLevel </span>┃<span style=\"font-weight: bold\"> Discontinued </span>┃\n",
       "┡━━━━━━━━━━━━╇━━━━━━━━━━━━━━╇━━━━━━━━━━━━━━━━━━━━━━━━━━━━━━━━━━━━━━━━━━━━━━━━━━━━━━━━━━━━╇━━━━━━━━━━━━━━━━━━━━━━━━━━━━━━━━━━━━━━━━━━━━━━━━━━━━━━━━━━━━━━━━━━━━━━━━━━━━━━━━━━━━━━━━━━━━━━━━━━━━━━━━━━━━━━━━━━━━━━━━━━━━━━━━━━━━━━━━━━━━━━━━━━━━━━━━━━━━━━━━━━━━━━━━━━━━━━━━━━━━━━━━━━━━━━━━━━━━━━━━━━━━━━━━━━━━━━━━━━━━━━━━━━━━━━━━━━━━━━━━━━━━━━━━━━━━━━━━━━━━━━━╇━━━━━━━━━━━╇━━━━━━━━━━━━━━━━━━━━━━━━━━━━━━━━━╇━━━━━━━━━━━━╇━━━━━━━━━━━━━━━━━━━━━╇━━━━━━━━━━━╇━━━━━━━━━━━━━━╇━━━━━━━━━━━━━━╇━━━━━━━━━━━━━━╇━━━━━━━━━━━━━━┩\n",
       "│ <span style=\"color: #7f7f7f; text-decoration-color: #7f7f7f\">int64</span>      │ <span style=\"color: #7f7f7f; text-decoration-color: #7f7f7f\">string</span>       │ <span style=\"color: #7f7f7f; text-decoration-color: #7f7f7f\">string</span>                                                     │ <span style=\"color: #7f7f7f; text-decoration-color: #7f7f7f\">binary</span>                                                                                                                                                                                                                                                                │ <span style=\"color: #7f7f7f; text-decoration-color: #7f7f7f\">int64</span>     │ <span style=\"color: #7f7f7f; text-decoration-color: #7f7f7f\">string</span>                          │ <span style=\"color: #7f7f7f; text-decoration-color: #7f7f7f\">int64</span>      │ <span style=\"color: #7f7f7f; text-decoration-color: #7f7f7f\">string</span>              │ <span style=\"color: #7f7f7f; text-decoration-color: #7f7f7f\">decimal</span>   │ <span style=\"color: #7f7f7f; text-decoration-color: #7f7f7f\">int64</span>        │ <span style=\"color: #7f7f7f; text-decoration-color: #7f7f7f\">int64</span>        │ <span style=\"color: #7f7f7f; text-decoration-color: #7f7f7f\">int64</span>        │ <span style=\"color: #7f7f7f; text-decoration-color: #7f7f7f\">string</span>       │\n",
       "├────────────┼──────────────┼────────────────────────────────────────────────────────────┼───────────────────────────────────────────────────────────────────────────────────────────────────────────────────────────────────────────────────────────────────────────────────────────────────────────────────────────────────────────────────────────────────────┼───────────┼─────────────────────────────────┼────────────┼─────────────────────┼───────────┼──────────────┼──────────────┼──────────────┼──────────────┤\n",
       "│          <span style=\"color: #008080; text-decoration-color: #008080; font-weight: bold\">1</span> │ <span style=\"color: #008000; text-decoration-color: #008000\">Beverages   </span> │ <span style=\"color: #008000; text-decoration-color: #008000\">Soft drinks, coffees, teas, beers, and ales               </span> │ <span style=\"color: #008000; text-decoration-color: #008000\">b\"\\xff\\xd8\\xff\\xe0\\x00\\x10JFIF\\x00\\x01\\x02\\x00\\x00d\\x00d\\x00\\x00\\xff\\xec\\x00\\x11Ducky\\x00\\x01\\x00\\x04\\x00\\x00\\x00P\\x00\\x00\\xff\\xee\\x00&amp;Adobe\\x00d\\xc0\\x00\\x00\\x00\\x01\\x03\\x00\\x15\\x04\\x03\\x06\\n\\r\\x00\\x00\\nc\\x00\\x00\\x10\\xe8\\x00\\x00\\x19\\xf4\\x00\\x00'\\xa4\\xff\"</span>+<span style=\"color: #008080; text-decoration-color: #008080; font-weight: bold\">10071</span>  │         <span style=\"color: #008080; text-decoration-color: #008080; font-weight: bold\">1</span> │ <span style=\"color: #008000; text-decoration-color: #008000\">Chai                           </span> │          <span style=\"color: #008080; text-decoration-color: #008080; font-weight: bold\">1</span> │ <span style=\"color: #008000; text-decoration-color: #008000\">10 boxes x 20 bags </span> │     <span style=\"color: #008080; text-decoration-color: #008080; font-weight: bold\">18.00</span> │           <span style=\"color: #008080; text-decoration-color: #008080; font-weight: bold\">39</span> │            <span style=\"color: #008080; text-decoration-color: #008080; font-weight: bold\">0</span> │           <span style=\"color: #008080; text-decoration-color: #008080; font-weight: bold\">10</span> │ <span style=\"color: #008000; text-decoration-color: #008000\">0           </span> │\n",
       "│          <span style=\"color: #008080; text-decoration-color: #008080; font-weight: bold\">1</span> │ <span style=\"color: #008000; text-decoration-color: #008000\">Beverages   </span> │ <span style=\"color: #008000; text-decoration-color: #008000\">Soft drinks, coffees, teas, beers, and ales               </span> │ <span style=\"color: #008000; text-decoration-color: #008000\">b\"\\xff\\xd8\\xff\\xe0\\x00\\x10JFIF\\x00\\x01\\x02\\x00\\x00d\\x00d\\x00\\x00\\xff\\xec\\x00\\x11Ducky\\x00\\x01\\x00\\x04\\x00\\x00\\x00P\\x00\\x00\\xff\\xee\\x00&amp;Adobe\\x00d\\xc0\\x00\\x00\\x00\\x01\\x03\\x00\\x15\\x04\\x03\\x06\\n\\r\\x00\\x00\\nc\\x00\\x00\\x10\\xe8\\x00\\x00\\x19\\xf4\\x00\\x00'\\xa4\\xff\"</span>+<span style=\"color: #008080; text-decoration-color: #008080; font-weight: bold\">10071</span>  │         <span style=\"color: #008080; text-decoration-color: #008080; font-weight: bold\">2</span> │ <span style=\"color: #008000; text-decoration-color: #008000\">Chang                          </span> │          <span style=\"color: #008080; text-decoration-color: #008080; font-weight: bold\">1</span> │ <span style=\"color: #008000; text-decoration-color: #008000\">24 - 12 oz bottles </span> │     <span style=\"color: #008080; text-decoration-color: #008080; font-weight: bold\">19.00</span> │           <span style=\"color: #008080; text-decoration-color: #008080; font-weight: bold\">17</span> │           <span style=\"color: #008080; text-decoration-color: #008080; font-weight: bold\">40</span> │           <span style=\"color: #008080; text-decoration-color: #008080; font-weight: bold\">25</span> │ <span style=\"color: #008000; text-decoration-color: #008000\">0           </span> │\n",
       "│          <span style=\"color: #008080; text-decoration-color: #008080; font-weight: bold\">2</span> │ <span style=\"color: #008000; text-decoration-color: #008000\">Condiments  </span> │ <span style=\"color: #008000; text-decoration-color: #008000\">Sweet and savory sauces, relishes, spreads, and seasonings</span> │ <span style=\"color: #008000; text-decoration-color: #008000\">b'\\xff\\xd8\\xff\\xe0\\x00\\x10JFIF\\x00\\x01\\x02\\x00\\x00d\\x00d\\x00\\x00\\xff\\xec\\x00\\x11Ducky\\x00\\x01\\x00\\x04\\x00\\x00\\x00L\\x00\\x00\\xff\\xee\\x00&amp;Adobe\\x00d\\xc0\\x00\\x00\\x00\\x01\\x03\\x00\\x15\\x04\\x03\\x06\\n\\r\\x00\\x00\\n\\xda\\x00\\x00\\x14\\xef\\x00\\x00 ,\\x00\\x00/H\\xff'</span>+<span style=\"color: #008080; text-decoration-color: #008080; font-weight: bold\">12027</span>        │         <span style=\"color: #008080; text-decoration-color: #008080; font-weight: bold\">3</span> │ <span style=\"color: #008000; text-decoration-color: #008000\">Aniseed Syrup                  </span> │          <span style=\"color: #008080; text-decoration-color: #008080; font-weight: bold\">1</span> │ <span style=\"color: #008000; text-decoration-color: #008000\">12 - 550 ml bottles</span> │     <span style=\"color: #008080; text-decoration-color: #008080; font-weight: bold\">10.00</span> │           <span style=\"color: #008080; text-decoration-color: #008080; font-weight: bold\">13</span> │           <span style=\"color: #008080; text-decoration-color: #008080; font-weight: bold\">70</span> │           <span style=\"color: #008080; text-decoration-color: #008080; font-weight: bold\">25</span> │ <span style=\"color: #008000; text-decoration-color: #008000\">0           </span> │\n",
       "│          <span style=\"color: #008080; text-decoration-color: #008080; font-weight: bold\">2</span> │ <span style=\"color: #008000; text-decoration-color: #008000\">Condiments  </span> │ <span style=\"color: #008000; text-decoration-color: #008000\">Sweet and savory sauces, relishes, spreads, and seasonings</span> │ <span style=\"color: #008000; text-decoration-color: #008000\">b'\\xff\\xd8\\xff\\xe0\\x00\\x10JFIF\\x00\\x01\\x02\\x00\\x00d\\x00d\\x00\\x00\\xff\\xec\\x00\\x11Ducky\\x00\\x01\\x00\\x04\\x00\\x00\\x00L\\x00\\x00\\xff\\xee\\x00&amp;Adobe\\x00d\\xc0\\x00\\x00\\x00\\x01\\x03\\x00\\x15\\x04\\x03\\x06\\n\\r\\x00\\x00\\n\\xda\\x00\\x00\\x14\\xef\\x00\\x00 ,\\x00\\x00/H\\xff'</span>+<span style=\"color: #008080; text-decoration-color: #008080; font-weight: bold\">12027</span>        │         <span style=\"color: #008080; text-decoration-color: #008080; font-weight: bold\">4</span> │ <span style=\"color: #008000; text-decoration-color: #008000\">Chef Anton's Cajun Seasoning   </span> │          <span style=\"color: #008080; text-decoration-color: #008080; font-weight: bold\">2</span> │ <span style=\"color: #008000; text-decoration-color: #008000\">48 - 6 oz jars     </span> │     <span style=\"color: #008080; text-decoration-color: #008080; font-weight: bold\">22.00</span> │           <span style=\"color: #008080; text-decoration-color: #008080; font-weight: bold\">53</span> │            <span style=\"color: #008080; text-decoration-color: #008080; font-weight: bold\">0</span> │            <span style=\"color: #008080; text-decoration-color: #008080; font-weight: bold\">0</span> │ <span style=\"color: #008000; text-decoration-color: #008000\">0           </span> │\n",
       "│          <span style=\"color: #008080; text-decoration-color: #008080; font-weight: bold\">2</span> │ <span style=\"color: #008000; text-decoration-color: #008000\">Condiments  </span> │ <span style=\"color: #008000; text-decoration-color: #008000\">Sweet and savory sauces, relishes, spreads, and seasonings</span> │ <span style=\"color: #008000; text-decoration-color: #008000\">b'\\xff\\xd8\\xff\\xe0\\x00\\x10JFIF\\x00\\x01\\x02\\x00\\x00d\\x00d\\x00\\x00\\xff\\xec\\x00\\x11Ducky\\x00\\x01\\x00\\x04\\x00\\x00\\x00L\\x00\\x00\\xff\\xee\\x00&amp;Adobe\\x00d\\xc0\\x00\\x00\\x00\\x01\\x03\\x00\\x15\\x04\\x03\\x06\\n\\r\\x00\\x00\\n\\xda\\x00\\x00\\x14\\xef\\x00\\x00 ,\\x00\\x00/H\\xff'</span>+<span style=\"color: #008080; text-decoration-color: #008080; font-weight: bold\">12027</span>        │         <span style=\"color: #008080; text-decoration-color: #008080; font-weight: bold\">5</span> │ <span style=\"color: #008000; text-decoration-color: #008000\">Chef Anton's Gumbo Mix         </span> │          <span style=\"color: #008080; text-decoration-color: #008080; font-weight: bold\">2</span> │ <span style=\"color: #008000; text-decoration-color: #008000\">36 boxes           </span> │     <span style=\"color: #008080; text-decoration-color: #008080; font-weight: bold\">21.35</span> │            <span style=\"color: #008080; text-decoration-color: #008080; font-weight: bold\">0</span> │            <span style=\"color: #008080; text-decoration-color: #008080; font-weight: bold\">0</span> │            <span style=\"color: #008080; text-decoration-color: #008080; font-weight: bold\">0</span> │ <span style=\"color: #008000; text-decoration-color: #008000\">1           </span> │\n",
       "│          <span style=\"color: #008080; text-decoration-color: #008080; font-weight: bold\">2</span> │ <span style=\"color: #008000; text-decoration-color: #008000\">Condiments  </span> │ <span style=\"color: #008000; text-decoration-color: #008000\">Sweet and savory sauces, relishes, spreads, and seasonings</span> │ <span style=\"color: #008000; text-decoration-color: #008000\">b'\\xff\\xd8\\xff\\xe0\\x00\\x10JFIF\\x00\\x01\\x02\\x00\\x00d\\x00d\\x00\\x00\\xff\\xec\\x00\\x11Ducky\\x00\\x01\\x00\\x04\\x00\\x00\\x00L\\x00\\x00\\xff\\xee\\x00&amp;Adobe\\x00d\\xc0\\x00\\x00\\x00\\x01\\x03\\x00\\x15\\x04\\x03\\x06\\n\\r\\x00\\x00\\n\\xda\\x00\\x00\\x14\\xef\\x00\\x00 ,\\x00\\x00/H\\xff'</span>+<span style=\"color: #008080; text-decoration-color: #008080; font-weight: bold\">12027</span>        │         <span style=\"color: #008080; text-decoration-color: #008080; font-weight: bold\">6</span> │ <span style=\"color: #008000; text-decoration-color: #008000\">Grandma's Boysenberry Spread   </span> │          <span style=\"color: #008080; text-decoration-color: #008080; font-weight: bold\">3</span> │ <span style=\"color: #008000; text-decoration-color: #008000\">12 - 8 oz jars     </span> │     <span style=\"color: #008080; text-decoration-color: #008080; font-weight: bold\">25.00</span> │          <span style=\"color: #008080; text-decoration-color: #008080; font-weight: bold\">120</span> │            <span style=\"color: #008080; text-decoration-color: #008080; font-weight: bold\">0</span> │           <span style=\"color: #008080; text-decoration-color: #008080; font-weight: bold\">25</span> │ <span style=\"color: #008000; text-decoration-color: #008000\">0           </span> │\n",
       "│          <span style=\"color: #008080; text-decoration-color: #008080; font-weight: bold\">7</span> │ <span style=\"color: #008000; text-decoration-color: #008000\">Produce     </span> │ <span style=\"color: #008000; text-decoration-color: #008000\">Dried fruit and bean curd                                 </span> │ <span style=\"color: #008000; text-decoration-color: #008000\">b'\\xff\\xd8\\xff\\xe0\\x00\\x10JFIF\\x00\\x01\\x02\\x00\\x00d\\x00d\\x00\\x00\\xff\\xec\\x00\\x11Ducky\\x00\\x01\\x00\\x04\\x00\\x00\\x00F\\x00\\x00\\xff\\xee\\x00&amp;Adobe\\x00d\\xc0\\x00\\x00\\x00\\x01\\x03\\x00\\x15\\x04\\x03\\x06\\n\\r\\x00\\x00\\x0b\\xb5\\x00\\x00\\x146\\x00\\x00\\x1f\\xdb\\x00\\x000/\\xff'</span>+<span style=\"color: #008080; text-decoration-color: #008080; font-weight: bold\">12258</span>   │         <span style=\"color: #008080; text-decoration-color: #008080; font-weight: bold\">7</span> │ <span style=\"color: #008000; text-decoration-color: #008000\">Uncle Bob's Organic Dried Pears</span> │          <span style=\"color: #008080; text-decoration-color: #008080; font-weight: bold\">3</span> │ <span style=\"color: #008000; text-decoration-color: #008000\">12 - 1 lb pkgs.    </span> │     <span style=\"color: #008080; text-decoration-color: #008080; font-weight: bold\">30.00</span> │           <span style=\"color: #008080; text-decoration-color: #008080; font-weight: bold\">15</span> │            <span style=\"color: #008080; text-decoration-color: #008080; font-weight: bold\">0</span> │           <span style=\"color: #008080; text-decoration-color: #008080; font-weight: bold\">10</span> │ <span style=\"color: #008000; text-decoration-color: #008000\">0           </span> │\n",
       "│          <span style=\"color: #008080; text-decoration-color: #008080; font-weight: bold\">2</span> │ <span style=\"color: #008000; text-decoration-color: #008000\">Condiments  </span> │ <span style=\"color: #008000; text-decoration-color: #008000\">Sweet and savory sauces, relishes, spreads, and seasonings</span> │ <span style=\"color: #008000; text-decoration-color: #008000\">b'\\xff\\xd8\\xff\\xe0\\x00\\x10JFIF\\x00\\x01\\x02\\x00\\x00d\\x00d\\x00\\x00\\xff\\xec\\x00\\x11Ducky\\x00\\x01\\x00\\x04\\x00\\x00\\x00L\\x00\\x00\\xff\\xee\\x00&amp;Adobe\\x00d\\xc0\\x00\\x00\\x00\\x01\\x03\\x00\\x15\\x04\\x03\\x06\\n\\r\\x00\\x00\\n\\xda\\x00\\x00\\x14\\xef\\x00\\x00 ,\\x00\\x00/H\\xff'</span>+<span style=\"color: #008080; text-decoration-color: #008080; font-weight: bold\">12027</span>        │         <span style=\"color: #008080; text-decoration-color: #008080; font-weight: bold\">8</span> │ <span style=\"color: #008000; text-decoration-color: #008000\">Northwoods Cranberry Sauce     </span> │          <span style=\"color: #008080; text-decoration-color: #008080; font-weight: bold\">3</span> │ <span style=\"color: #008000; text-decoration-color: #008000\">12 - 12 oz jars    </span> │     <span style=\"color: #008080; text-decoration-color: #008080; font-weight: bold\">40.00</span> │            <span style=\"color: #008080; text-decoration-color: #008080; font-weight: bold\">6</span> │            <span style=\"color: #008080; text-decoration-color: #008080; font-weight: bold\">0</span> │            <span style=\"color: #008080; text-decoration-color: #008080; font-weight: bold\">0</span> │ <span style=\"color: #008000; text-decoration-color: #008000\">0           </span> │\n",
       "│          <span style=\"color: #008080; text-decoration-color: #008080; font-weight: bold\">6</span> │ <span style=\"color: #008000; text-decoration-color: #008000\">Meat/Poultry</span> │ <span style=\"color: #008000; text-decoration-color: #008000\">Prepared meats                                            </span> │ <span style=\"color: #008000; text-decoration-color: #008000\">b'\\xff\\xd8\\xff\\xe0\\x00\\x10JFIF\\x00\\x01\\x02\\x00\\x00d\\x00d\\x00\\x00\\xff\\xec\\x00\\x11Ducky\\x00\\x01\\x00\\x04\\x00\\x00\\x00A\\x00\\x00\\xff\\xee\\x00&amp;Adobe\\x00d\\xc0\\x00\\x00\\x00\\x01\\x03\\x00\\x15\\x04\\x03\\x06\\n\\r\\x00\\x00\\t\\xa6\\x00\\x00\\x0f\\x80\\x00\\x00\\x1a\\xeb\\x00\\x00,\\r\\xff'</span>+<span style=\"color: #008080; text-decoration-color: #008080; font-weight: bold\">11200</span> │         <span style=\"color: #008080; text-decoration-color: #008080; font-weight: bold\">9</span> │ <span style=\"color: #008000; text-decoration-color: #008000\">Mishi Kobe Niku                </span> │          <span style=\"color: #008080; text-decoration-color: #008080; font-weight: bold\">4</span> │ <span style=\"color: #008000; text-decoration-color: #008000\">18 - 500 g pkgs.   </span> │     <span style=\"color: #008080; text-decoration-color: #008080; font-weight: bold\">97.00</span> │           <span style=\"color: #008080; text-decoration-color: #008080; font-weight: bold\">29</span> │            <span style=\"color: #008080; text-decoration-color: #008080; font-weight: bold\">0</span> │            <span style=\"color: #008080; text-decoration-color: #008080; font-weight: bold\">0</span> │ <span style=\"color: #008000; text-decoration-color: #008000\">1           </span> │\n",
       "│          <span style=\"color: #008080; text-decoration-color: #008080; font-weight: bold\">8</span> │ <span style=\"color: #008000; text-decoration-color: #008000\">Seafood     </span> │ <span style=\"color: #008000; text-decoration-color: #008000\">Seaweed and fish                                          </span> │ <span style=\"color: #008000; text-decoration-color: #008000\">b'\\xff\\xd8\\xff\\xe0\\x00\\x10JFIF\\x00\\x01\\x02\\x00\\x00d\\x00d\\x00\\x00\\xff\\xec\\x00\\x11Ducky\\x00\\x01\\x00\\x04\\x00\\x00\\x00K\\x00\\x00\\xff\\xee\\x00&amp;Adobe\\x00d\\xc0\\x00\\x00\\x00\\x01\\x03\\x00\\x15\\x04\\x03\\x06\\n\\r\\x00\\x00\\x0c\\x81\\x00\\x00\\x14)\\x00\\x00\\x1f\\x1a\\x00\\x00/\"\\xff'</span>+<span style=\"color: #008080; text-decoration-color: #008080; font-weight: bold\">11989</span>   │        <span style=\"color: #008080; text-decoration-color: #008080; font-weight: bold\">10</span> │ <span style=\"color: #008000; text-decoration-color: #008000\">Ikura                          </span> │          <span style=\"color: #008080; text-decoration-color: #008080; font-weight: bold\">4</span> │ <span style=\"color: #008000; text-decoration-color: #008000\">12 - 200 ml jars   </span> │     <span style=\"color: #008080; text-decoration-color: #008080; font-weight: bold\">31.00</span> │           <span style=\"color: #008080; text-decoration-color: #008080; font-weight: bold\">31</span> │            <span style=\"color: #008080; text-decoration-color: #008080; font-weight: bold\">0</span> │            <span style=\"color: #008080; text-decoration-color: #008080; font-weight: bold\">0</span> │ <span style=\"color: #008000; text-decoration-color: #008000\">0           </span> │\n",
       "│          <span style=\"color: #7f7f7f; text-decoration-color: #7f7f7f\">…</span> │ <span style=\"color: #7f7f7f; text-decoration-color: #7f7f7f\">…</span>            │ <span style=\"color: #7f7f7f; text-decoration-color: #7f7f7f\">…</span>                                                          │ <span style=\"color: #7f7f7f; text-decoration-color: #7f7f7f\">…</span>                                                                                                                                                                                                                                                                     │         <span style=\"color: #7f7f7f; text-decoration-color: #7f7f7f\">…</span> │ <span style=\"color: #7f7f7f; text-decoration-color: #7f7f7f\">…</span>                               │          <span style=\"color: #7f7f7f; text-decoration-color: #7f7f7f\">…</span> │ <span style=\"color: #7f7f7f; text-decoration-color: #7f7f7f\">…</span>                   │         <span style=\"color: #7f7f7f; text-decoration-color: #7f7f7f\">…</span> │            <span style=\"color: #7f7f7f; text-decoration-color: #7f7f7f\">…</span> │            <span style=\"color: #7f7f7f; text-decoration-color: #7f7f7f\">…</span> │            <span style=\"color: #7f7f7f; text-decoration-color: #7f7f7f\">…</span> │ <span style=\"color: #7f7f7f; text-decoration-color: #7f7f7f\">…</span>            │\n",
       "└────────────┴──────────────┴────────────────────────────────────────────────────────────┴───────────────────────────────────────────────────────────────────────────────────────────────────────────────────────────────────────────────────────────────────────────────────────────────────────────────────────────────────────────────────────────────────────┴───────────┴─────────────────────────────────┴────────────┴─────────────────────┴───────────┴──────────────┴──────────────┴──────────────┴──────────────┘\n",
       "</pre>\n"
      ],
      "text/plain": [
       "┏━━━━━━━━━━━━┳━━━━━━━━━━━━━━┳━━━━━━━━━━━━━━━━━━━━━━━━━━━━━━━━━━━━━━━━━━━━━━━━━━━━━━━━━━━━┳━━━━━━━━━━━━━━━━━━━━━━━━━━━━━━━━━━━━━━━━━━━━━━━━━━━━━━━━━━━━━━━━━━━━━━━━━━━━━━━━━━━━━━━━━━━━━━━━━━━━━━━━━━━━━━━━━━━━━━━━━━━━━━━━━━━━━━━━━━━━━━━━━━━━━━━━━━━━━━━━━━━━━━━━━━━━━━━━━━━━━━━━━━━━━━━━━━━━━━━━━━━━━━━━━━━━━━━━━━━━━━━━━━━━━━━━━━━━━━━━━━━━━━━━━━━━━━━━━━━━━━━┳━━━━━━━━━━━┳━━━━━━━━━━━━━━━━━━━━━━━━━━━━━━━━━┳━━━━━━━━━━━━┳━━━━━━━━━━━━━━━━━━━━━┳━━━━━━━━━━━┳━━━━━━━━━━━━━━┳━━━━━━━━━━━━━━┳━━━━━━━━━━━━━━┳━━━━━━━━━━━━━━┓\n",
       "┃\u001b[1m \u001b[0m\u001b[1mCategoryID\u001b[0m\u001b[1m \u001b[0m┃\u001b[1m \u001b[0m\u001b[1mCategoryName\u001b[0m\u001b[1m \u001b[0m┃\u001b[1m \u001b[0m\u001b[1mDescription\u001b[0m\u001b[1m                                               \u001b[0m\u001b[1m \u001b[0m┃\u001b[1m \u001b[0m\u001b[1mPicture\u001b[0m\u001b[1m                                                                                                                                                                                                                                                              \u001b[0m\u001b[1m \u001b[0m┃\u001b[1m \u001b[0m\u001b[1mProductID\u001b[0m\u001b[1m \u001b[0m┃\u001b[1m \u001b[0m\u001b[1mProductName\u001b[0m\u001b[1m                    \u001b[0m\u001b[1m \u001b[0m┃\u001b[1m \u001b[0m\u001b[1mSupplierID\u001b[0m\u001b[1m \u001b[0m┃\u001b[1m \u001b[0m\u001b[1mQuantityPerUnit\u001b[0m\u001b[1m    \u001b[0m\u001b[1m \u001b[0m┃\u001b[1m \u001b[0m\u001b[1mUnitPrice\u001b[0m\u001b[1m \u001b[0m┃\u001b[1m \u001b[0m\u001b[1mUnitsInStock\u001b[0m\u001b[1m \u001b[0m┃\u001b[1m \u001b[0m\u001b[1mUnitsOnOrder\u001b[0m\u001b[1m \u001b[0m┃\u001b[1m \u001b[0m\u001b[1mReorderLevel\u001b[0m\u001b[1m \u001b[0m┃\u001b[1m \u001b[0m\u001b[1mDiscontinued\u001b[0m\u001b[1m \u001b[0m┃\n",
       "┡━━━━━━━━━━━━╇━━━━━━━━━━━━━━╇━━━━━━━━━━━━━━━━━━━━━━━━━━━━━━━━━━━━━━━━━━━━━━━━━━━━━━━━━━━━╇━━━━━━━━━━━━━━━━━━━━━━━━━━━━━━━━━━━━━━━━━━━━━━━━━━━━━━━━━━━━━━━━━━━━━━━━━━━━━━━━━━━━━━━━━━━━━━━━━━━━━━━━━━━━━━━━━━━━━━━━━━━━━━━━━━━━━━━━━━━━━━━━━━━━━━━━━━━━━━━━━━━━━━━━━━━━━━━━━━━━━━━━━━━━━━━━━━━━━━━━━━━━━━━━━━━━━━━━━━━━━━━━━━━━━━━━━━━━━━━━━━━━━━━━━━━━━━━━━━━━━━━╇━━━━━━━━━━━╇━━━━━━━━━━━━━━━━━━━━━━━━━━━━━━━━━╇━━━━━━━━━━━━╇━━━━━━━━━━━━━━━━━━━━━╇━━━━━━━━━━━╇━━━━━━━━━━━━━━╇━━━━━━━━━━━━━━╇━━━━━━━━━━━━━━╇━━━━━━━━━━━━━━┩\n",
       "│ \u001b[2mint64\u001b[0m      │ \u001b[2mstring\u001b[0m       │ \u001b[2mstring\u001b[0m                                                     │ \u001b[2mbinary\u001b[0m                                                                                                                                                                                                                                                                │ \u001b[2mint64\u001b[0m     │ \u001b[2mstring\u001b[0m                          │ \u001b[2mint64\u001b[0m      │ \u001b[2mstring\u001b[0m              │ \u001b[2mdecimal\u001b[0m   │ \u001b[2mint64\u001b[0m        │ \u001b[2mint64\u001b[0m        │ \u001b[2mint64\u001b[0m        │ \u001b[2mstring\u001b[0m       │\n",
       "├────────────┼──────────────┼────────────────────────────────────────────────────────────┼───────────────────────────────────────────────────────────────────────────────────────────────────────────────────────────────────────────────────────────────────────────────────────────────────────────────────────────────────────────────────────────────────────┼───────────┼─────────────────────────────────┼────────────┼─────────────────────┼───────────┼──────────────┼──────────────┼──────────────┼──────────────┤\n",
       "│          \u001b[1;36m1\u001b[0m │ \u001b[32mBeverages   \u001b[0m │ \u001b[32mSoft drinks, coffees, teas, beers, and ales               \u001b[0m │ \u001b[32mb\"\\xff\\xd8\\xff\\xe0\\x00\\x10JFIF\\x00\\x01\\x02\\x00\\x00d\\x00d\\x00\\x00\\xff\\xec\\x00\\x11Ducky\\x00\\x01\\x00\\x04\\x00\\x00\\x00P\\x00\\x00\\xff\\xee\\x00&Adobe\\x00d\\xc0\\x00\\x00\\x00\\x01\\x03\\x00\\x15\\x04\\x03\\x06\\n\\r\\x00\\x00\\nc\\x00\\x00\\x10\\xe8\\x00\\x00\\x19\\xf4\\x00\\x00'\\xa4\\xff\"\u001b[0m+\u001b[1;36m10071\u001b[0m  │         \u001b[1;36m1\u001b[0m │ \u001b[32mChai                           \u001b[0m │          \u001b[1;36m1\u001b[0m │ \u001b[32m10 boxes x 20 bags \u001b[0m │     \u001b[1;36m18.00\u001b[0m │           \u001b[1;36m39\u001b[0m │            \u001b[1;36m0\u001b[0m │           \u001b[1;36m10\u001b[0m │ \u001b[32m0           \u001b[0m │\n",
       "│          \u001b[1;36m1\u001b[0m │ \u001b[32mBeverages   \u001b[0m │ \u001b[32mSoft drinks, coffees, teas, beers, and ales               \u001b[0m │ \u001b[32mb\"\\xff\\xd8\\xff\\xe0\\x00\\x10JFIF\\x00\\x01\\x02\\x00\\x00d\\x00d\\x00\\x00\\xff\\xec\\x00\\x11Ducky\\x00\\x01\\x00\\x04\\x00\\x00\\x00P\\x00\\x00\\xff\\xee\\x00&Adobe\\x00d\\xc0\\x00\\x00\\x00\\x01\\x03\\x00\\x15\\x04\\x03\\x06\\n\\r\\x00\\x00\\nc\\x00\\x00\\x10\\xe8\\x00\\x00\\x19\\xf4\\x00\\x00'\\xa4\\xff\"\u001b[0m+\u001b[1;36m10071\u001b[0m  │         \u001b[1;36m2\u001b[0m │ \u001b[32mChang                          \u001b[0m │          \u001b[1;36m1\u001b[0m │ \u001b[32m24 - 12 oz bottles \u001b[0m │     \u001b[1;36m19.00\u001b[0m │           \u001b[1;36m17\u001b[0m │           \u001b[1;36m40\u001b[0m │           \u001b[1;36m25\u001b[0m │ \u001b[32m0           \u001b[0m │\n",
       "│          \u001b[1;36m2\u001b[0m │ \u001b[32mCondiments  \u001b[0m │ \u001b[32mSweet and savory sauces, relishes, spreads, and seasonings\u001b[0m │ \u001b[32mb'\\xff\\xd8\\xff\\xe0\\x00\\x10JFIF\\x00\\x01\\x02\\x00\\x00d\\x00d\\x00\\x00\\xff\\xec\\x00\\x11Ducky\\x00\\x01\\x00\\x04\\x00\\x00\\x00L\\x00\\x00\\xff\\xee\\x00&Adobe\\x00d\\xc0\\x00\\x00\\x00\\x01\\x03\\x00\\x15\\x04\\x03\\x06\\n\\r\\x00\\x00\\n\\xda\\x00\\x00\\x14\\xef\\x00\\x00 ,\\x00\\x00/H\\xff'\u001b[0m+\u001b[1;36m12027\u001b[0m        │         \u001b[1;36m3\u001b[0m │ \u001b[32mAniseed Syrup                  \u001b[0m │          \u001b[1;36m1\u001b[0m │ \u001b[32m12 - 550 ml bottles\u001b[0m │     \u001b[1;36m10.00\u001b[0m │           \u001b[1;36m13\u001b[0m │           \u001b[1;36m70\u001b[0m │           \u001b[1;36m25\u001b[0m │ \u001b[32m0           \u001b[0m │\n",
       "│          \u001b[1;36m2\u001b[0m │ \u001b[32mCondiments  \u001b[0m │ \u001b[32mSweet and savory sauces, relishes, spreads, and seasonings\u001b[0m │ \u001b[32mb'\\xff\\xd8\\xff\\xe0\\x00\\x10JFIF\\x00\\x01\\x02\\x00\\x00d\\x00d\\x00\\x00\\xff\\xec\\x00\\x11Ducky\\x00\\x01\\x00\\x04\\x00\\x00\\x00L\\x00\\x00\\xff\\xee\\x00&Adobe\\x00d\\xc0\\x00\\x00\\x00\\x01\\x03\\x00\\x15\\x04\\x03\\x06\\n\\r\\x00\\x00\\n\\xda\\x00\\x00\\x14\\xef\\x00\\x00 ,\\x00\\x00/H\\xff'\u001b[0m+\u001b[1;36m12027\u001b[0m        │         \u001b[1;36m4\u001b[0m │ \u001b[32mChef Anton's Cajun Seasoning   \u001b[0m │          \u001b[1;36m2\u001b[0m │ \u001b[32m48 - 6 oz jars     \u001b[0m │     \u001b[1;36m22.00\u001b[0m │           \u001b[1;36m53\u001b[0m │            \u001b[1;36m0\u001b[0m │            \u001b[1;36m0\u001b[0m │ \u001b[32m0           \u001b[0m │\n",
       "│          \u001b[1;36m2\u001b[0m │ \u001b[32mCondiments  \u001b[0m │ \u001b[32mSweet and savory sauces, relishes, spreads, and seasonings\u001b[0m │ \u001b[32mb'\\xff\\xd8\\xff\\xe0\\x00\\x10JFIF\\x00\\x01\\x02\\x00\\x00d\\x00d\\x00\\x00\\xff\\xec\\x00\\x11Ducky\\x00\\x01\\x00\\x04\\x00\\x00\\x00L\\x00\\x00\\xff\\xee\\x00&Adobe\\x00d\\xc0\\x00\\x00\\x00\\x01\\x03\\x00\\x15\\x04\\x03\\x06\\n\\r\\x00\\x00\\n\\xda\\x00\\x00\\x14\\xef\\x00\\x00 ,\\x00\\x00/H\\xff'\u001b[0m+\u001b[1;36m12027\u001b[0m        │         \u001b[1;36m5\u001b[0m │ \u001b[32mChef Anton's Gumbo Mix         \u001b[0m │          \u001b[1;36m2\u001b[0m │ \u001b[32m36 boxes           \u001b[0m │     \u001b[1;36m21.35\u001b[0m │            \u001b[1;36m0\u001b[0m │            \u001b[1;36m0\u001b[0m │            \u001b[1;36m0\u001b[0m │ \u001b[32m1           \u001b[0m │\n",
       "│          \u001b[1;36m2\u001b[0m │ \u001b[32mCondiments  \u001b[0m │ \u001b[32mSweet and savory sauces, relishes, spreads, and seasonings\u001b[0m │ \u001b[32mb'\\xff\\xd8\\xff\\xe0\\x00\\x10JFIF\\x00\\x01\\x02\\x00\\x00d\\x00d\\x00\\x00\\xff\\xec\\x00\\x11Ducky\\x00\\x01\\x00\\x04\\x00\\x00\\x00L\\x00\\x00\\xff\\xee\\x00&Adobe\\x00d\\xc0\\x00\\x00\\x00\\x01\\x03\\x00\\x15\\x04\\x03\\x06\\n\\r\\x00\\x00\\n\\xda\\x00\\x00\\x14\\xef\\x00\\x00 ,\\x00\\x00/H\\xff'\u001b[0m+\u001b[1;36m12027\u001b[0m        │         \u001b[1;36m6\u001b[0m │ \u001b[32mGrandma's Boysenberry Spread   \u001b[0m │          \u001b[1;36m3\u001b[0m │ \u001b[32m12 - 8 oz jars     \u001b[0m │     \u001b[1;36m25.00\u001b[0m │          \u001b[1;36m120\u001b[0m │            \u001b[1;36m0\u001b[0m │           \u001b[1;36m25\u001b[0m │ \u001b[32m0           \u001b[0m │\n",
       "│          \u001b[1;36m7\u001b[0m │ \u001b[32mProduce     \u001b[0m │ \u001b[32mDried fruit and bean curd                                 \u001b[0m │ \u001b[32mb'\\xff\\xd8\\xff\\xe0\\x00\\x10JFIF\\x00\\x01\\x02\\x00\\x00d\\x00d\\x00\\x00\\xff\\xec\\x00\\x11Ducky\\x00\\x01\\x00\\x04\\x00\\x00\\x00F\\x00\\x00\\xff\\xee\\x00&Adobe\\x00d\\xc0\\x00\\x00\\x00\\x01\\x03\\x00\\x15\\x04\\x03\\x06\\n\\r\\x00\\x00\\x0b\\xb5\\x00\\x00\\x146\\x00\\x00\\x1f\\xdb\\x00\\x000/\\xff'\u001b[0m+\u001b[1;36m12258\u001b[0m   │         \u001b[1;36m7\u001b[0m │ \u001b[32mUncle Bob's Organic Dried Pears\u001b[0m │          \u001b[1;36m3\u001b[0m │ \u001b[32m12 - 1 lb pkgs.    \u001b[0m │     \u001b[1;36m30.00\u001b[0m │           \u001b[1;36m15\u001b[0m │            \u001b[1;36m0\u001b[0m │           \u001b[1;36m10\u001b[0m │ \u001b[32m0           \u001b[0m │\n",
       "│          \u001b[1;36m2\u001b[0m │ \u001b[32mCondiments  \u001b[0m │ \u001b[32mSweet and savory sauces, relishes, spreads, and seasonings\u001b[0m │ \u001b[32mb'\\xff\\xd8\\xff\\xe0\\x00\\x10JFIF\\x00\\x01\\x02\\x00\\x00d\\x00d\\x00\\x00\\xff\\xec\\x00\\x11Ducky\\x00\\x01\\x00\\x04\\x00\\x00\\x00L\\x00\\x00\\xff\\xee\\x00&Adobe\\x00d\\xc0\\x00\\x00\\x00\\x01\\x03\\x00\\x15\\x04\\x03\\x06\\n\\r\\x00\\x00\\n\\xda\\x00\\x00\\x14\\xef\\x00\\x00 ,\\x00\\x00/H\\xff'\u001b[0m+\u001b[1;36m12027\u001b[0m        │         \u001b[1;36m8\u001b[0m │ \u001b[32mNorthwoods Cranberry Sauce     \u001b[0m │          \u001b[1;36m3\u001b[0m │ \u001b[32m12 - 12 oz jars    \u001b[0m │     \u001b[1;36m40.00\u001b[0m │            \u001b[1;36m6\u001b[0m │            \u001b[1;36m0\u001b[0m │            \u001b[1;36m0\u001b[0m │ \u001b[32m0           \u001b[0m │\n",
       "│          \u001b[1;36m6\u001b[0m │ \u001b[32mMeat/Poultry\u001b[0m │ \u001b[32mPrepared meats                                            \u001b[0m │ \u001b[32mb'\\xff\\xd8\\xff\\xe0\\x00\\x10JFIF\\x00\\x01\\x02\\x00\\x00d\\x00d\\x00\\x00\\xff\\xec\\x00\\x11Ducky\\x00\\x01\\x00\\x04\\x00\\x00\\x00A\\x00\\x00\\xff\\xee\\x00&Adobe\\x00d\\xc0\\x00\\x00\\x00\\x01\\x03\\x00\\x15\\x04\\x03\\x06\\n\\r\\x00\\x00\\t\\xa6\\x00\\x00\\x0f\\x80\\x00\\x00\\x1a\\xeb\\x00\\x00,\\r\\xff'\u001b[0m+\u001b[1;36m11200\u001b[0m │         \u001b[1;36m9\u001b[0m │ \u001b[32mMishi Kobe Niku                \u001b[0m │          \u001b[1;36m4\u001b[0m │ \u001b[32m18 - 500 g pkgs.   \u001b[0m │     \u001b[1;36m97.00\u001b[0m │           \u001b[1;36m29\u001b[0m │            \u001b[1;36m0\u001b[0m │            \u001b[1;36m0\u001b[0m │ \u001b[32m1           \u001b[0m │\n",
       "│          \u001b[1;36m8\u001b[0m │ \u001b[32mSeafood     \u001b[0m │ \u001b[32mSeaweed and fish                                          \u001b[0m │ \u001b[32mb'\\xff\\xd8\\xff\\xe0\\x00\\x10JFIF\\x00\\x01\\x02\\x00\\x00d\\x00d\\x00\\x00\\xff\\xec\\x00\\x11Ducky\\x00\\x01\\x00\\x04\\x00\\x00\\x00K\\x00\\x00\\xff\\xee\\x00&Adobe\\x00d\\xc0\\x00\\x00\\x00\\x01\\x03\\x00\\x15\\x04\\x03\\x06\\n\\r\\x00\\x00\\x0c\\x81\\x00\\x00\\x14\u001b[0m\u001b[32m)\u001b[0m\u001b[32m\\x00\\x00\\x1f\\x1a\\x00\\x00/\"\\xff'\u001b[0m+\u001b[1;36m11989\u001b[0m   │        \u001b[1;36m10\u001b[0m │ \u001b[32mIkura                          \u001b[0m │          \u001b[1;36m4\u001b[0m │ \u001b[32m12 - 200 ml jars   \u001b[0m │     \u001b[1;36m31.00\u001b[0m │           \u001b[1;36m31\u001b[0m │            \u001b[1;36m0\u001b[0m │            \u001b[1;36m0\u001b[0m │ \u001b[32m0           \u001b[0m │\n",
       "│          \u001b[2m…\u001b[0m │ \u001b[2m…\u001b[0m            │ \u001b[2m…\u001b[0m                                                          │ \u001b[2m…\u001b[0m                                                                                                                                                                                                                                                                     │         \u001b[2m…\u001b[0m │ \u001b[2m…\u001b[0m                               │          \u001b[2m…\u001b[0m │ \u001b[2m…\u001b[0m                   │         \u001b[2m…\u001b[0m │            \u001b[2m…\u001b[0m │            \u001b[2m…\u001b[0m │            \u001b[2m…\u001b[0m │ \u001b[2m…\u001b[0m            │\n",
       "└────────────┴──────────────┴────────────────────────────────────────────────────────────┴───────────────────────────────────────────────────────────────────────────────────────────────────────────────────────────────────────────────────────────────────────────────────────────────────────────────────────────────────────────────────────────────────────┴───────────┴─────────────────────────────────┴────────────┴─────────────────────┴───────────┴──────────────┴──────────────┴──────────────┴──────────────┘"
      ]
     },
     "execution_count": 7,
     "metadata": {},
     "output_type": "execute_result"
    }
   ],
   "source": [
    "categories = con.table(\"Categories\")\n",
    "products = con.table(\"Products\")\n",
    "\n",
    "joined_products = categories.join(products, \"CategoryID\")\n",
    "joined_products"
   ]
  },
  {
   "cell_type": "code",
   "execution_count": 134,
   "metadata": {},
   "outputs": [
    {
     "data": {
      "text/plain": [
       "ibis.Schema {\n",
       "  ProductID        !int64\n",
       "  ProductName      !string\n",
       "  SupplierID       int64\n",
       "  CategoryID       int64\n",
       "  QuantityPerUnit  string\n",
       "  UnitPrice        decimal\n",
       "  UnitsInStock     int64\n",
       "  UnitsOnOrder     int64\n",
       "  ReorderLevel     int64\n",
       "  Discontinued     !string\n",
       "}"
      ]
     },
     "execution_count": 134,
     "metadata": {},
     "output_type": "execute_result"
    }
   ],
   "source": [
    "products.schema()"
   ]
  },
  {
   "cell_type": "code",
   "execution_count": 135,
   "metadata": {},
   "outputs": [
    {
     "data": {
      "text/html": [
       "<pre style=\"white-space:pre;overflow-x:auto;line-height:normal;font-family:Menlo,'DejaVu Sans Mono',consolas,'Courier New',monospace\">┏━━━━━━━━━━━┳━━━━━━━━━━━━━━━━━━━━━━━━━━━━━━┓\n",
       "┃<span style=\"font-weight: bold\"> ProductID </span>┃<span style=\"font-weight: bold\"> ProductName                  </span>┃\n",
       "┡━━━━━━━━━━━╇━━━━━━━━━━━━━━━━━━━━━━━━━━━━━━┩\n",
       "│ <span style=\"color: #7f7f7f; text-decoration-color: #7f7f7f\">!int64</span>    │ <span style=\"color: #7f7f7f; text-decoration-color: #7f7f7f\">!string</span>                      │\n",
       "├───────────┼──────────────────────────────┤\n",
       "│         <span style=\"color: #008080; text-decoration-color: #008080; font-weight: bold\">1</span> │ <span style=\"color: #008000; text-decoration-color: #008000\">Chai                        </span> │\n",
       "│         <span style=\"color: #008080; text-decoration-color: #008080; font-weight: bold\">2</span> │ <span style=\"color: #008000; text-decoration-color: #008000\">Chang                       </span> │\n",
       "│         <span style=\"color: #008080; text-decoration-color: #008080; font-weight: bold\">3</span> │ <span style=\"color: #008000; text-decoration-color: #008000\">Aniseed Syrup               </span> │\n",
       "│         <span style=\"color: #008080; text-decoration-color: #008080; font-weight: bold\">4</span> │ <span style=\"color: #008000; text-decoration-color: #008000\">Chef Anton's Cajun Seasoning</span> │\n",
       "│         <span style=\"color: #008080; text-decoration-color: #008080; font-weight: bold\">5</span> │ <span style=\"color: #008000; text-decoration-color: #008000\">Chef Anton's Gumbo Mix      </span> │\n",
       "└───────────┴──────────────────────────────┘\n",
       "</pre>\n"
      ],
      "text/plain": [
       "┏━━━━━━━━━━━┳━━━━━━━━━━━━━━━━━━━━━━━━━━━━━━┓\n",
       "┃\u001b[1m \u001b[0m\u001b[1mProductID\u001b[0m\u001b[1m \u001b[0m┃\u001b[1m \u001b[0m\u001b[1mProductName\u001b[0m\u001b[1m                 \u001b[0m\u001b[1m \u001b[0m┃\n",
       "┡━━━━━━━━━━━╇━━━━━━━━━━━━━━━━━━━━━━━━━━━━━━┩\n",
       "│ \u001b[2m!int64\u001b[0m    │ \u001b[2m!string\u001b[0m                      │\n",
       "├───────────┼──────────────────────────────┤\n",
       "│         \u001b[1;36m1\u001b[0m │ \u001b[32mChai                        \u001b[0m │\n",
       "│         \u001b[1;36m2\u001b[0m │ \u001b[32mChang                       \u001b[0m │\n",
       "│         \u001b[1;36m3\u001b[0m │ \u001b[32mAniseed Syrup               \u001b[0m │\n",
       "│         \u001b[1;36m4\u001b[0m │ \u001b[32mChef Anton's Cajun Seasoning\u001b[0m │\n",
       "│         \u001b[1;36m5\u001b[0m │ \u001b[32mChef Anton's Gumbo Mix      \u001b[0m │\n",
       "└───────────┴──────────────────────────────┘"
      ]
     },
     "execution_count": 135,
     "metadata": {},
     "output_type": "execute_result"
    }
   ],
   "source": [
    "products[[\"ProductID\",\"ProductName\"]].head(5)"
   ]
  },
  {
   "cell_type": "code",
   "execution_count": 9,
   "metadata": {},
   "outputs": [
    {
     "data": {
      "text/html": [
       "<pre style=\"white-space:pre;overflow-x:auto;line-height:normal;font-family:Menlo,'DejaVu Sans Mono',consolas,'Courier New',monospace\">r0 := DatabaseTable: Products\n",
       "  ProductID       !int64\n",
       "  ProductName     !string\n",
       "  SupplierID      int64\n",
       "  CategoryID      int64\n",
       "  QuantityPerUnit string\n",
       "  UnitPrice       decimal\n",
       "  UnitsInStock    int64\n",
       "  UnitsOnOrder    int64\n",
       "  ReorderLevel    int64\n",
       "  Discontinued    !string\n",
       "\n",
       "r1 := Project[r0]\n",
       "  ProductID:   r0.ProductID\n",
       "  ProductName: r0.ProductName\n",
       "\n",
       "Limit[r1, n=5]\n",
       "</pre>\n"
      ],
      "text/plain": [
       "r0 := DatabaseTable: Products\n",
       "  ProductID       !int64\n",
       "  ProductName     !string\n",
       "  SupplierID      int64\n",
       "  CategoryID      int64\n",
       "  QuantityPerUnit string\n",
       "  UnitPrice       decimal\n",
       "  UnitsInStock    int64\n",
       "  UnitsOnOrder    int64\n",
       "  ReorderLevel    int64\n",
       "  Discontinued    !string\n",
       "\n",
       "r1 := Project[r0]\n",
       "  ProductID:   r0.ProductID\n",
       "  ProductName: r0.ProductName\n",
       "\n",
       "Limit[r1, n=5]"
      ]
     },
     "execution_count": 9,
     "metadata": {},
     "output_type": "execute_result"
    }
   ],
   "source": [
    "ibis.options.interactive = False\n",
    "\n",
    "products[[\"ProductID\",\"ProductName\"]].head(5)"
   ]
  },
  {
   "cell_type": "code",
   "execution_count": 137,
   "metadata": {},
   "outputs": [
    {
     "data": {
      "text/markdown": [
       "```sql\n",
       "SELECT\n",
       "  \"t0\".\"ProductID\",\n",
       "  \"t0\".\"ProductName\"\n",
       "FROM \"Products\" AS \"t0\"\n",
       "LIMIT 5\n",
       "```"
      ],
      "text/plain": [
       "\u001b[34mSELECT\u001b[39;49;00m\u001b[37m\u001b[39;49;00m\n",
       "\u001b[37m  \u001b[39;49;00m\u001b[33m\"t0\"\u001b[39;49;00m.\u001b[33m\"ProductID\"\u001b[39;49;00m,\u001b[37m\u001b[39;49;00m\n",
       "\u001b[37m  \u001b[39;49;00m\u001b[33m\"t0\"\u001b[39;49;00m.\u001b[33m\"ProductName\"\u001b[39;49;00m\u001b[37m\u001b[39;49;00m\n",
       "\u001b[34mFROM\u001b[39;49;00m\u001b[37m \u001b[39;49;00m\u001b[33m\"Products\"\u001b[39;49;00m\u001b[37m \u001b[39;49;00m\u001b[34mAS\u001b[39;49;00m\u001b[37m \u001b[39;49;00m\u001b[33m\"t0\"\u001b[39;49;00m\u001b[37m\u001b[39;49;00m\n",
       "\u001b[34mLIMIT\u001b[39;49;00m\u001b[37m \u001b[39;49;00m\u001b[34m5\u001b[39;49;00m\u001b[37m\u001b[39;49;00m"
      ]
     },
     "execution_count": 137,
     "metadata": {},
     "output_type": "execute_result"
    }
   ],
   "source": [
    "ibis.to_sql(products[[\"ProductID\",\"ProductName\"]].head(5))"
   ]
  },
  {
   "cell_type": "markdown",
   "metadata": {},
   "source": [
    "Pasamos a Pandas (en nuestra máquina)"
   ]
  },
  {
   "cell_type": "code",
   "execution_count": 138,
   "metadata": {},
   "outputs": [],
   "source": [
    "category_df = joined_products.select([\"CategoryName\", \"ProductName\"]).to_pandas()\n",
    "category_df.rename(columns={\"ProductName\": \"Product\"}, inplace=True)\n",
    "category_df.set_index(\"Product\", inplace=True)"
   ]
  },
  {
   "cell_type": "code",
   "execution_count": 139,
   "metadata": {},
   "outputs": [],
   "source": [
    "product_profit.reset_index(inplace=True)\n",
    "product_profit.set_index(\"Product\", inplace=True)"
   ]
  },
  {
   "cell_type": "code",
   "execution_count": 140,
   "metadata": {},
   "outputs": [
    {
     "data": {
      "text/html": [
       "<div>\n",
       "<style scoped>\n",
       "    .dataframe tbody tr th:only-of-type {\n",
       "        vertical-align: middle;\n",
       "    }\n",
       "\n",
       "    .dataframe tbody tr th {\n",
       "        vertical-align: top;\n",
       "    }\n",
       "\n",
       "    .dataframe thead th {\n",
       "        text-align: right;\n",
       "    }\n",
       "</style>\n",
       "<table border=\"1\" class=\"dataframe\">\n",
       "  <thead>\n",
       "    <tr style=\"text-align: right;\">\n",
       "      <th></th>\n",
       "      <th>Region</th>\n",
       "      <th>meanTotal</th>\n",
       "      <th>stdTotal</th>\n",
       "    </tr>\n",
       "    <tr>\n",
       "      <th>Product</th>\n",
       "      <th></th>\n",
       "      <th></th>\n",
       "      <th></th>\n",
       "    </tr>\n",
       "  </thead>\n",
       "  <tbody>\n",
       "    <tr>\n",
       "      <th>Côte de Blaye</th>\n",
       "      <td>Western Europe</td>\n",
       "      <td>120245.512500</td>\n",
       "      <td>35830.588553</td>\n",
       "    </tr>\n",
       "    <tr>\n",
       "      <th>Côte de Blaye</th>\n",
       "      <td>North America</td>\n",
       "      <td>71226.975625</td>\n",
       "      <td>24537.409206</td>\n",
       "    </tr>\n",
       "    <tr>\n",
       "      <th>Côte de Blaye</th>\n",
       "      <td>South America</td>\n",
       "      <td>70392.475000</td>\n",
       "      <td>26489.913360</td>\n",
       "    </tr>\n",
       "    <tr>\n",
       "      <th>Thüringer Rostbratwurst</th>\n",
       "      <td>Western Europe</td>\n",
       "      <td>55366.795390</td>\n",
       "      <td>15763.042641</td>\n",
       "    </tr>\n",
       "    <tr>\n",
       "      <th>Mishi Kobe Niku</th>\n",
       "      <td>Western Europe</td>\n",
       "      <td>44114.744118</td>\n",
       "      <td>12931.501600</td>\n",
       "    </tr>\n",
       "    <tr>\n",
       "      <th>...</th>\n",
       "      <td>...</td>\n",
       "      <td>...</td>\n",
       "      <td>...</td>\n",
       "    </tr>\n",
       "    <tr>\n",
       "      <th>Geitost</th>\n",
       "      <td>Central America</td>\n",
       "      <td>223.130769</td>\n",
       "      <td>119.268353</td>\n",
       "    </tr>\n",
       "    <tr>\n",
       "      <th>Geitost</th>\n",
       "      <td>Northern Europe</td>\n",
       "      <td>180.480315</td>\n",
       "      <td>108.326253</td>\n",
       "    </tr>\n",
       "    <tr>\n",
       "      <th>Geitost</th>\n",
       "      <td>Scandinavia</td>\n",
       "      <td>153.272727</td>\n",
       "      <td>97.388931</td>\n",
       "    </tr>\n",
       "    <tr>\n",
       "      <th>Guaraná Fantástica</th>\n",
       "      <td>Eastern Europe</td>\n",
       "      <td>148.616883</td>\n",
       "      <td>108.727747</td>\n",
       "    </tr>\n",
       "    <tr>\n",
       "      <th>Geitost</th>\n",
       "      <td>Eastern Europe</td>\n",
       "      <td>94.202899</td>\n",
       "      <td>55.984656</td>\n",
       "    </tr>\n",
       "  </tbody>\n",
       "</table>\n",
       "<p>693 rows × 3 columns</p>\n",
       "</div>"
      ],
      "text/plain": [
       "                                  Region      meanTotal      stdTotal\n",
       "Product                                                              \n",
       "Côte de Blaye             Western Europe  120245.512500  35830.588553\n",
       "Côte de Blaye              North America   71226.975625  24537.409206\n",
       "Côte de Blaye              South America   70392.475000  26489.913360\n",
       "Thüringer Rostbratwurst   Western Europe   55366.795390  15763.042641\n",
       "Mishi Kobe Niku           Western Europe   44114.744118  12931.501600\n",
       "...                                  ...            ...           ...\n",
       "Geitost                  Central America     223.130769    119.268353\n",
       "Geitost                  Northern Europe     180.480315    108.326253\n",
       "Geitost                      Scandinavia     153.272727     97.388931\n",
       "Guaraná Fantástica        Eastern Europe     148.616883    108.727747\n",
       "Geitost                   Eastern Europe      94.202899     55.984656\n",
       "\n",
       "[693 rows x 3 columns]"
      ]
     },
     "execution_count": 140,
     "metadata": {},
     "output_type": "execute_result"
    }
   ],
   "source": [
    "product_profit"
   ]
  },
  {
   "cell_type": "markdown",
   "metadata": {},
   "source": [
    "Le añadimos el dato de categoría"
   ]
  },
  {
   "cell_type": "code",
   "execution_count": 141,
   "metadata": {},
   "outputs": [
    {
     "data": {
      "text/html": [
       "<div>\n",
       "<style scoped>\n",
       "    .dataframe tbody tr th:only-of-type {\n",
       "        vertical-align: middle;\n",
       "    }\n",
       "\n",
       "    .dataframe tbody tr th {\n",
       "        vertical-align: top;\n",
       "    }\n",
       "\n",
       "    .dataframe thead th {\n",
       "        text-align: right;\n",
       "    }\n",
       "</style>\n",
       "<table border=\"1\" class=\"dataframe\">\n",
       "  <thead>\n",
       "    <tr style=\"text-align: right;\">\n",
       "      <th></th>\n",
       "      <th>CategoryName</th>\n",
       "      <th>Region</th>\n",
       "      <th>meanTotal</th>\n",
       "      <th>stdTotal</th>\n",
       "    </tr>\n",
       "    <tr>\n",
       "      <th>Product</th>\n",
       "      <th></th>\n",
       "      <th></th>\n",
       "      <th></th>\n",
       "      <th></th>\n",
       "    </tr>\n",
       "  </thead>\n",
       "  <tbody>\n",
       "    <tr>\n",
       "      <th>Côte de Blaye</th>\n",
       "      <td>Beverages</td>\n",
       "      <td>Western Europe</td>\n",
       "      <td>120245.512500</td>\n",
       "      <td>35830.588553</td>\n",
       "    </tr>\n",
       "    <tr>\n",
       "      <th>Côte de Blaye</th>\n",
       "      <td>Beverages</td>\n",
       "      <td>North America</td>\n",
       "      <td>71226.975625</td>\n",
       "      <td>24537.409206</td>\n",
       "    </tr>\n",
       "    <tr>\n",
       "      <th>Côte de Blaye</th>\n",
       "      <td>Beverages</td>\n",
       "      <td>South America</td>\n",
       "      <td>70392.475000</td>\n",
       "      <td>26489.913360</td>\n",
       "    </tr>\n",
       "    <tr>\n",
       "      <th>Thüringer Rostbratwurst</th>\n",
       "      <td>Meat/Poultry</td>\n",
       "      <td>Western Europe</td>\n",
       "      <td>55366.795390</td>\n",
       "      <td>15763.042641</td>\n",
       "    </tr>\n",
       "    <tr>\n",
       "      <th>Mishi Kobe Niku</th>\n",
       "      <td>Meat/Poultry</td>\n",
       "      <td>Western Europe</td>\n",
       "      <td>44114.744118</td>\n",
       "      <td>12931.501600</td>\n",
       "    </tr>\n",
       "    <tr>\n",
       "      <th>Côte de Blaye</th>\n",
       "      <td>Beverages</td>\n",
       "      <td>Southern Europe</td>\n",
       "      <td>37932.201493</td>\n",
       "      <td>16579.994957</td>\n",
       "    </tr>\n",
       "    <tr>\n",
       "      <th>Sir Rodney's Marmalade</th>\n",
       "      <td>Confections</td>\n",
       "      <td>Western Europe</td>\n",
       "      <td>37618.663235</td>\n",
       "      <td>10658.487694</td>\n",
       "    </tr>\n",
       "    <tr>\n",
       "      <th>Côte de Blaye</th>\n",
       "      <td>Beverages</td>\n",
       "      <td>British Isles</td>\n",
       "      <td>36764.149254</td>\n",
       "      <td>18923.969776</td>\n",
       "    </tr>\n",
       "    <tr>\n",
       "      <th>Thüringer Rostbratwurst</th>\n",
       "      <td>Meat/Poultry</td>\n",
       "      <td>South America</td>\n",
       "      <td>33102.532382</td>\n",
       "      <td>12150.048244</td>\n",
       "    </tr>\n",
       "    <tr>\n",
       "      <th>Thüringer Rostbratwurst</th>\n",
       "      <td>Meat/Poultry</td>\n",
       "      <td>North America</td>\n",
       "      <td>30920.014743</td>\n",
       "      <td>11221.340795</td>\n",
       "    </tr>\n",
       "  </tbody>\n",
       "</table>\n",
       "</div>"
      ],
      "text/plain": [
       "                         CategoryName           Region      meanTotal  \\\n",
       "Product                                                                 \n",
       "Côte de Blaye               Beverages   Western Europe  120245.512500   \n",
       "Côte de Blaye               Beverages    North America   71226.975625   \n",
       "Côte de Blaye               Beverages    South America   70392.475000   \n",
       "Thüringer Rostbratwurst  Meat/Poultry   Western Europe   55366.795390   \n",
       "Mishi Kobe Niku          Meat/Poultry   Western Europe   44114.744118   \n",
       "Côte de Blaye               Beverages  Southern Europe   37932.201493   \n",
       "Sir Rodney's Marmalade    Confections   Western Europe   37618.663235   \n",
       "Côte de Blaye               Beverages    British Isles   36764.149254   \n",
       "Thüringer Rostbratwurst  Meat/Poultry    South America   33102.532382   \n",
       "Thüringer Rostbratwurst  Meat/Poultry    North America   30920.014743   \n",
       "\n",
       "                             stdTotal  \n",
       "Product                                \n",
       "Côte de Blaye            35830.588553  \n",
       "Côte de Blaye            24537.409206  \n",
       "Côte de Blaye            26489.913360  \n",
       "Thüringer Rostbratwurst  15763.042641  \n",
       "Mishi Kobe Niku          12931.501600  \n",
       "Côte de Blaye            16579.994957  \n",
       "Sir Rodney's Marmalade   10658.487694  \n",
       "Côte de Blaye            18923.969776  \n",
       "Thüringer Rostbratwurst  12150.048244  \n",
       "Thüringer Rostbratwurst  11221.340795  "
      ]
     },
     "execution_count": 141,
     "metadata": {},
     "output_type": "execute_result"
    }
   ],
   "source": [
    "category_df.join(product_profit).sort_values(\"meanTotal\", ascending=False).head(10)"
   ]
  },
  {
   "cell_type": "markdown",
   "metadata": {},
   "source": [
    "Fijaros en que no son objetos del mismo tipo"
   ]
  },
  {
   "cell_type": "code",
   "execution_count": 142,
   "metadata": {},
   "outputs": [
    {
     "data": {
      "text/plain": [
       "pandas.core.frame.DataFrame"
      ]
     },
     "execution_count": 142,
     "metadata": {},
     "output_type": "execute_result"
    }
   ],
   "source": [
    "type(category_df)"
   ]
  },
  {
   "cell_type": "code",
   "execution_count": 143,
   "metadata": {},
   "outputs": [
    {
     "data": {
      "text/plain": [
       "ibis.expr.types.joins.Join"
      ]
     },
     "execution_count": 143,
     "metadata": {},
     "output_type": "execute_result"
    }
   ],
   "source": [
    "type(joined_products)"
   ]
  },
  {
   "cell_type": "code",
   "execution_count": 144,
   "metadata": {},
   "outputs": [
    {
     "data": {
      "text/markdown": [
       "```sql\n",
       "SELECT\n",
       "  \"t2\".\"CategoryID\",\n",
       "  \"t2\".\"CategoryName\",\n",
       "  \"t2\".\"Description\",\n",
       "  \"t2\".\"Picture\",\n",
       "  \"t3\".\"ProductID\",\n",
       "  \"t3\".\"ProductName\",\n",
       "  \"t3\".\"SupplierID\",\n",
       "  \"t3\".\"QuantityPerUnit\",\n",
       "  \"t3\".\"UnitPrice\",\n",
       "  \"t3\".\"UnitsInStock\",\n",
       "  \"t3\".\"UnitsOnOrder\",\n",
       "  \"t3\".\"ReorderLevel\",\n",
       "  \"t3\".\"Discontinued\"\n",
       "FROM \"Categories\" AS \"t2\"\n",
       "INNER JOIN \"Products\" AS \"t3\"\n",
       "  ON \"t2\".\"CategoryID\" = \"t3\".\"CategoryID\"\n",
       "```"
      ],
      "text/plain": [
       "\u001b[34mSELECT\u001b[39;49;00m\u001b[37m\u001b[39;49;00m\n",
       "\u001b[37m  \u001b[39;49;00m\u001b[33m\"t2\"\u001b[39;49;00m.\u001b[33m\"CategoryID\"\u001b[39;49;00m,\u001b[37m\u001b[39;49;00m\n",
       "\u001b[37m  \u001b[39;49;00m\u001b[33m\"t2\"\u001b[39;49;00m.\u001b[33m\"CategoryName\"\u001b[39;49;00m,\u001b[37m\u001b[39;49;00m\n",
       "\u001b[37m  \u001b[39;49;00m\u001b[33m\"t2\"\u001b[39;49;00m.\u001b[33m\"Description\"\u001b[39;49;00m,\u001b[37m\u001b[39;49;00m\n",
       "\u001b[37m  \u001b[39;49;00m\u001b[33m\"t2\"\u001b[39;49;00m.\u001b[33m\"Picture\"\u001b[39;49;00m,\u001b[37m\u001b[39;49;00m\n",
       "\u001b[37m  \u001b[39;49;00m\u001b[33m\"t3\"\u001b[39;49;00m.\u001b[33m\"ProductID\"\u001b[39;49;00m,\u001b[37m\u001b[39;49;00m\n",
       "\u001b[37m  \u001b[39;49;00m\u001b[33m\"t3\"\u001b[39;49;00m.\u001b[33m\"ProductName\"\u001b[39;49;00m,\u001b[37m\u001b[39;49;00m\n",
       "\u001b[37m  \u001b[39;49;00m\u001b[33m\"t3\"\u001b[39;49;00m.\u001b[33m\"SupplierID\"\u001b[39;49;00m,\u001b[37m\u001b[39;49;00m\n",
       "\u001b[37m  \u001b[39;49;00m\u001b[33m\"t3\"\u001b[39;49;00m.\u001b[33m\"QuantityPerUnit\"\u001b[39;49;00m,\u001b[37m\u001b[39;49;00m\n",
       "\u001b[37m  \u001b[39;49;00m\u001b[33m\"t3\"\u001b[39;49;00m.\u001b[33m\"UnitPrice\"\u001b[39;49;00m,\u001b[37m\u001b[39;49;00m\n",
       "\u001b[37m  \u001b[39;49;00m\u001b[33m\"t3\"\u001b[39;49;00m.\u001b[33m\"UnitsInStock\"\u001b[39;49;00m,\u001b[37m\u001b[39;49;00m\n",
       "\u001b[37m  \u001b[39;49;00m\u001b[33m\"t3\"\u001b[39;49;00m.\u001b[33m\"UnitsOnOrder\"\u001b[39;49;00m,\u001b[37m\u001b[39;49;00m\n",
       "\u001b[37m  \u001b[39;49;00m\u001b[33m\"t3\"\u001b[39;49;00m.\u001b[33m\"ReorderLevel\"\u001b[39;49;00m,\u001b[37m\u001b[39;49;00m\n",
       "\u001b[37m  \u001b[39;49;00m\u001b[33m\"t3\"\u001b[39;49;00m.\u001b[33m\"Discontinued\"\u001b[39;49;00m\u001b[37m\u001b[39;49;00m\n",
       "\u001b[34mFROM\u001b[39;49;00m\u001b[37m \u001b[39;49;00m\u001b[33m\"Categories\"\u001b[39;49;00m\u001b[37m \u001b[39;49;00m\u001b[34mAS\u001b[39;49;00m\u001b[37m \u001b[39;49;00m\u001b[33m\"t2\"\u001b[39;49;00m\u001b[37m\u001b[39;49;00m\n",
       "\u001b[34mINNER\u001b[39;49;00m\u001b[37m \u001b[39;49;00m\u001b[34mJOIN\u001b[39;49;00m\u001b[37m \u001b[39;49;00m\u001b[33m\"Products\"\u001b[39;49;00m\u001b[37m \u001b[39;49;00m\u001b[34mAS\u001b[39;49;00m\u001b[37m \u001b[39;49;00m\u001b[33m\"t3\"\u001b[39;49;00m\u001b[37m\u001b[39;49;00m\n",
       "\u001b[37m  \u001b[39;49;00m\u001b[34mON\u001b[39;49;00m\u001b[37m \u001b[39;49;00m\u001b[33m\"t2\"\u001b[39;49;00m.\u001b[33m\"CategoryID\"\u001b[39;49;00m\u001b[37m \u001b[39;49;00m=\u001b[37m \u001b[39;49;00m\u001b[33m\"t3\"\u001b[39;49;00m.\u001b[33m\"CategoryID\"\u001b[39;49;00m\u001b[37m\u001b[39;49;00m"
      ]
     },
     "execution_count": 144,
     "metadata": {},
     "output_type": "execute_result"
    }
   ],
   "source": [
    "ibis.to_sql(joined_products)"
   ]
  },
  {
   "cell_type": "markdown",
   "metadata": {},
   "source": [
    "Vemos que algunos datos tienen problemas a la hora de mappear los datos a tipos válidos (mala creación de datos)"
   ]
  },
  {
   "cell_type": "code",
   "execution_count": 145,
   "metadata": {},
   "outputs": [
    {
     "ename": "KeyError",
     "evalue": "<Type.DATETIME: 'DATETIME'>",
     "output_type": "error",
     "traceback": [
      "\u001b[0;31m---------------------------------------------------------------------------\u001b[0m",
      "\u001b[0;31mKeyError\u001b[0m                                  Traceback (most recent call last)",
      "File \u001b[0;32m~/TheBridge/FEB24 -BIL  DS PT/TheBridge_DSPT/.venv/lib/python3.11/site-packages/ibis/backends/sqlite/__init__.py:168\u001b[0m, in \u001b[0;36mBackend._parse_type\u001b[0;34m(self, typ, nullable)\u001b[0m\n\u001b[1;32m    167\u001b[0m \u001b[38;5;28;01mtry\u001b[39;00m:\n\u001b[0;32m--> 168\u001b[0m     out \u001b[38;5;241m=\u001b[39m \u001b[38;5;28;43mself\u001b[39;49m\u001b[38;5;241;43m.\u001b[39;49m\u001b[43m_type_map\u001b[49m\u001b[43m[\u001b[49m\u001b[43mtyp\u001b[49m\u001b[43m]\u001b[49m\n\u001b[1;32m    169\u001b[0m \u001b[38;5;28;01mexcept\u001b[39;00m \u001b[38;5;167;01mKeyError\u001b[39;00m:\n",
      "\u001b[0;31mKeyError\u001b[0m: 'datetime'",
      "\nDuring handling of the above exception, another exception occurred:\n",
      "\u001b[0;31mKeyError\u001b[0m                                  Traceback (most recent call last)",
      "Cell \u001b[0;32mIn[145], line 1\u001b[0m\n\u001b[0;32m----> 1\u001b[0m \u001b[43mcon\u001b[49m\u001b[38;5;241;43m.\u001b[39;49m\u001b[43mtable\u001b[49m\u001b[43m(\u001b[49m\u001b[38;5;124;43m\"\u001b[39;49m\u001b[38;5;124;43mOrders\u001b[39;49m\u001b[38;5;124;43m\"\u001b[39;49m\u001b[43m)\u001b[49m\n",
      "File \u001b[0;32m~/TheBridge/FEB24 -BIL  DS PT/TheBridge_DSPT/.venv/lib/python3.11/site-packages/ibis/backends/sql/__init__.py:137\u001b[0m, in \u001b[0;36mSQLBackend.table\u001b[0;34m(self, name, schema, database)\u001b[0m\n\u001b[1;32m    134\u001b[0m     catalog \u001b[38;5;241m=\u001b[39m table_loc\u001b[38;5;241m.\u001b[39mcatalog \u001b[38;5;129;01mor\u001b[39;00m \u001b[38;5;28;01mNone\u001b[39;00m\n\u001b[1;32m    135\u001b[0m     database \u001b[38;5;241m=\u001b[39m table_loc\u001b[38;5;241m.\u001b[39mdb \u001b[38;5;129;01mor\u001b[39;00m \u001b[38;5;28;01mNone\u001b[39;00m\n\u001b[0;32m--> 137\u001b[0m table_schema \u001b[38;5;241m=\u001b[39m \u001b[38;5;28;43mself\u001b[39;49m\u001b[38;5;241;43m.\u001b[39;49m\u001b[43mget_schema\u001b[49m\u001b[43m(\u001b[49m\u001b[43mname\u001b[49m\u001b[43m,\u001b[49m\u001b[43m \u001b[49m\u001b[43mcatalog\u001b[49m\u001b[38;5;241;43m=\u001b[39;49m\u001b[43mcatalog\u001b[49m\u001b[43m,\u001b[49m\u001b[43m \u001b[49m\u001b[43mdatabase\u001b[49m\u001b[38;5;241;43m=\u001b[39;49m\u001b[43mdatabase\u001b[49m\u001b[43m)\u001b[49m\n\u001b[1;32m    138\u001b[0m \u001b[38;5;28;01mreturn\u001b[39;00m ops\u001b[38;5;241m.\u001b[39mDatabaseTable(\n\u001b[1;32m    139\u001b[0m     name,\n\u001b[1;32m    140\u001b[0m     schema\u001b[38;5;241m=\u001b[39mtable_schema,\n\u001b[1;32m    141\u001b[0m     source\u001b[38;5;241m=\u001b[39m\u001b[38;5;28mself\u001b[39m,\n\u001b[1;32m    142\u001b[0m     namespace\u001b[38;5;241m=\u001b[39mops\u001b[38;5;241m.\u001b[39mNamespace(catalog\u001b[38;5;241m=\u001b[39mcatalog, database\u001b[38;5;241m=\u001b[39mdatabase),\n\u001b[1;32m    143\u001b[0m )\u001b[38;5;241m.\u001b[39mto_expr()\n",
      "File \u001b[0;32m~/TheBridge/FEB24 -BIL  DS PT/TheBridge_DSPT/.venv/lib/python3.11/site-packages/ibis/backends/sqlite/__init__.py:240\u001b[0m, in \u001b[0;36mBackend.get_schema\u001b[0;34m(self, table_name, catalog, database)\u001b[0m\n\u001b[1;32m    238\u001b[0m     \u001b[38;5;28;01mraise\u001b[39;00m \u001b[38;5;167;01mTypeError\u001b[39;00m(\u001b[38;5;124m\"\u001b[39m\u001b[38;5;124msqlite doesn\u001b[39m\u001b[38;5;124m'\u001b[39m\u001b[38;5;124mt support `catalog`, use `database` instead\u001b[39m\u001b[38;5;124m\"\u001b[39m)\n\u001b[1;32m    239\u001b[0m \u001b[38;5;28;01mwith\u001b[39;00m \u001b[38;5;28mself\u001b[39m\u001b[38;5;241m.\u001b[39mbegin() \u001b[38;5;28;01mas\u001b[39;00m cur:\n\u001b[0;32m--> 240\u001b[0m     \u001b[38;5;28;01mreturn\u001b[39;00m \u001b[38;5;28;43mself\u001b[39;49m\u001b[38;5;241;43m.\u001b[39;49m\u001b[43m_inspect_schema\u001b[49m\u001b[43m(\u001b[49m\u001b[43mcur\u001b[49m\u001b[43m,\u001b[49m\u001b[43m \u001b[49m\u001b[43mtable_name\u001b[49m\u001b[43m,\u001b[49m\u001b[43m \u001b[49m\u001b[43mdatabase\u001b[49m\u001b[43m)\u001b[49m\n",
      "File \u001b[0;32m~/TheBridge/FEB24 -BIL  DS PT/TheBridge_DSPT/.venv/lib/python3.11/site-packages/ibis/backends/sqlite/__init__.py:206\u001b[0m, in \u001b[0;36mBackend._inspect_schema\u001b[0;34m(self, cur, table_name, database)\u001b[0m\n\u001b[1;32m    202\u001b[0m     \u001b[38;5;28;01melse\u001b[39;00m:\n\u001b[1;32m    203\u001b[0m         \u001b[38;5;28;01mraise\u001b[39;00m com\u001b[38;5;241m.\u001b[39mIbisError(\u001b[38;5;124mf\u001b[39m\u001b[38;5;124m\"\u001b[39m\u001b[38;5;124mFailed to infer types for columns \u001b[39m\u001b[38;5;132;01m{\u001b[39;00munknown\u001b[38;5;132;01m}\u001b[39;00m\u001b[38;5;124m\"\u001b[39m)\n\u001b[1;32m    205\u001b[0m \u001b[38;5;28;01mreturn\u001b[39;00m sch\u001b[38;5;241m.\u001b[39mSchema(\n\u001b[0;32m--> 206\u001b[0m     \u001b[43m{\u001b[49m\n\u001b[1;32m    207\u001b[0m \u001b[43m        \u001b[49m\u001b[43mname\u001b[49m\u001b[43m:\u001b[49m\u001b[43m \u001b[49m\u001b[38;5;28;43mself\u001b[39;49m\u001b[38;5;241;43m.\u001b[39;49m\u001b[43m_parse_type\u001b[49m\u001b[43m(\u001b[49m\u001b[43mtyp\u001b[49m\u001b[43m,\u001b[49m\u001b[43m \u001b[49m\u001b[43mnullable\u001b[49m\u001b[43m)\u001b[49m\n\u001b[1;32m    208\u001b[0m \u001b[43m        \u001b[49m\u001b[38;5;28;43;01mfor\u001b[39;49;00m\u001b[43m \u001b[49m\u001b[43mname\u001b[49m\u001b[43m,\u001b[49m\u001b[43m \u001b[49m\u001b[43m(\u001b[49m\u001b[43mtyp\u001b[49m\u001b[43m,\u001b[49m\u001b[43m \u001b[49m\u001b[43mnullable\u001b[49m\u001b[43m)\u001b[49m\u001b[43m \u001b[49m\u001b[38;5;129;43;01min\u001b[39;49;00m\u001b[43m \u001b[49m\u001b[43mtable_info\u001b[49m\u001b[38;5;241;43m.\u001b[39;49m\u001b[43mitems\u001b[49m\u001b[43m(\u001b[49m\u001b[43m)\u001b[49m\n\u001b[1;32m    209\u001b[0m \u001b[43m    \u001b[49m\u001b[43m}\u001b[49m\n\u001b[1;32m    210\u001b[0m )\n",
      "File \u001b[0;32m~/TheBridge/FEB24 -BIL  DS PT/TheBridge_DSPT/.venv/lib/python3.11/site-packages/ibis/backends/sqlite/__init__.py:207\u001b[0m, in \u001b[0;36m<dictcomp>\u001b[0;34m(.0)\u001b[0m\n\u001b[1;32m    202\u001b[0m     \u001b[38;5;28;01melse\u001b[39;00m:\n\u001b[1;32m    203\u001b[0m         \u001b[38;5;28;01mraise\u001b[39;00m com\u001b[38;5;241m.\u001b[39mIbisError(\u001b[38;5;124mf\u001b[39m\u001b[38;5;124m\"\u001b[39m\u001b[38;5;124mFailed to infer types for columns \u001b[39m\u001b[38;5;132;01m{\u001b[39;00munknown\u001b[38;5;132;01m}\u001b[39;00m\u001b[38;5;124m\"\u001b[39m)\n\u001b[1;32m    205\u001b[0m \u001b[38;5;28;01mreturn\u001b[39;00m sch\u001b[38;5;241m.\u001b[39mSchema(\n\u001b[1;32m    206\u001b[0m     {\n\u001b[0;32m--> 207\u001b[0m         name: \u001b[38;5;28;43mself\u001b[39;49m\u001b[38;5;241;43m.\u001b[39;49m\u001b[43m_parse_type\u001b[49m\u001b[43m(\u001b[49m\u001b[43mtyp\u001b[49m\u001b[43m,\u001b[49m\u001b[43m \u001b[49m\u001b[43mnullable\u001b[49m\u001b[43m)\u001b[49m\n\u001b[1;32m    208\u001b[0m         \u001b[38;5;28;01mfor\u001b[39;00m name, (typ, nullable) \u001b[38;5;129;01min\u001b[39;00m table_info\u001b[38;5;241m.\u001b[39mitems()\n\u001b[1;32m    209\u001b[0m     }\n\u001b[1;32m    210\u001b[0m )\n",
      "File \u001b[0;32m~/TheBridge/FEB24 -BIL  DS PT/TheBridge_DSPT/.venv/lib/python3.11/site-packages/ibis/backends/sqlite/__init__.py:170\u001b[0m, in \u001b[0;36mBackend._parse_type\u001b[0;34m(self, typ, nullable)\u001b[0m\n\u001b[1;32m    168\u001b[0m     out \u001b[38;5;241m=\u001b[39m \u001b[38;5;28mself\u001b[39m\u001b[38;5;241m.\u001b[39m_type_map[typ]\n\u001b[1;32m    169\u001b[0m \u001b[38;5;28;01mexcept\u001b[39;00m \u001b[38;5;167;01mKeyError\u001b[39;00m:\n\u001b[0;32m--> 170\u001b[0m     \u001b[38;5;28;01mreturn\u001b[39;00m \u001b[38;5;28;43mself\u001b[39;49m\u001b[38;5;241;43m.\u001b[39;49m\u001b[43mcompiler\u001b[49m\u001b[38;5;241;43m.\u001b[39;49m\u001b[43mtype_mapper\u001b[49m\u001b[38;5;241;43m.\u001b[39;49m\u001b[43mfrom_string\u001b[49m\u001b[43m(\u001b[49m\u001b[43mtyp\u001b[49m\u001b[43m,\u001b[49m\u001b[43m \u001b[49m\u001b[43mnullable\u001b[49m\u001b[38;5;241;43m=\u001b[39;49m\u001b[43mnullable\u001b[49m\u001b[43m)\u001b[49m\n\u001b[1;32m    171\u001b[0m \u001b[38;5;28;01melse\u001b[39;00m:\n\u001b[1;32m    172\u001b[0m     \u001b[38;5;28;01mreturn\u001b[39;00m out\u001b[38;5;241m.\u001b[39mcopy(nullable\u001b[38;5;241m=\u001b[39mnullable)\n",
      "File \u001b[0;32m~/TheBridge/FEB24 -BIL  DS PT/TheBridge_DSPT/.venv/lib/python3.11/site-packages/ibis/backends/sql/datatypes.py:196\u001b[0m, in \u001b[0;36mSqlglotType.from_string\u001b[0;34m(cls, text, nullable)\u001b[0m\n\u001b[1;32m    193\u001b[0m     \u001b[38;5;28;01mreturn\u001b[39;00m dtype\n\u001b[1;32m    195\u001b[0m sgtype \u001b[38;5;241m=\u001b[39m sg\u001b[38;5;241m.\u001b[39mparse_one(text, into\u001b[38;5;241m=\u001b[39msge\u001b[38;5;241m.\u001b[39mDataType, read\u001b[38;5;241m=\u001b[39m\u001b[38;5;28mcls\u001b[39m\u001b[38;5;241m.\u001b[39mdialect)\n\u001b[0;32m--> 196\u001b[0m \u001b[38;5;28;01mreturn\u001b[39;00m \u001b[38;5;28;43mcls\u001b[39;49m\u001b[38;5;241;43m.\u001b[39;49m\u001b[43mto_ibis\u001b[49m\u001b[43m(\u001b[49m\u001b[43msgtype\u001b[49m\u001b[43m,\u001b[49m\u001b[43m \u001b[49m\u001b[43mnullable\u001b[49m\u001b[38;5;241;43m=\u001b[39;49m\u001b[43mnullable\u001b[49m\u001b[43m)\u001b[49m\n",
      "File \u001b[0;32m~/TheBridge/FEB24 -BIL  DS PT/TheBridge_DSPT/.venv/lib/python3.11/site-packages/ibis/backends/sql/datatypes.py:174\u001b[0m, in \u001b[0;36mSqlglotType.to_ibis\u001b[0;34m(cls, typ, nullable)\u001b[0m\n\u001b[1;32m    172\u001b[0m     dtype \u001b[38;5;241m=\u001b[39m method(\u001b[38;5;241m*\u001b[39mtyp\u001b[38;5;241m.\u001b[39mexpressions)\n\u001b[1;32m    173\u001b[0m \u001b[38;5;28;01melse\u001b[39;00m:\n\u001b[0;32m--> 174\u001b[0m     dtype \u001b[38;5;241m=\u001b[39m \u001b[43m_from_sqlglot_types\u001b[49m\u001b[43m[\u001b[49m\u001b[43mtypecode\u001b[49m\u001b[43m]\u001b[49m(nullable\u001b[38;5;241m=\u001b[39m\u001b[38;5;28mcls\u001b[39m\u001b[38;5;241m.\u001b[39mdefault_nullable)\n\u001b[1;32m    176\u001b[0m \u001b[38;5;28;01mif\u001b[39;00m nullable \u001b[38;5;129;01mis\u001b[39;00m \u001b[38;5;129;01mnot\u001b[39;00m \u001b[38;5;28;01mNone\u001b[39;00m:\n\u001b[1;32m    177\u001b[0m     \u001b[38;5;28;01mreturn\u001b[39;00m dtype\u001b[38;5;241m.\u001b[39mcopy(nullable\u001b[38;5;241m=\u001b[39mnullable)\n",
      "\u001b[0;31mKeyError\u001b[0m: <Type.DATETIME: 'DATETIME'>"
     ]
    }
   ],
   "source": [
    "con.table(\"Orders\")"
   ]
  },
  {
   "cell_type": "markdown",
   "metadata": {},
   "source": [
    "En este caso estaremos obligados a realizar una `select` explicita para extraer los datos como si fuera texto y procesarlo mediante parsers locales."
   ]
  },
  {
   "cell_type": "code",
   "execution_count": 21,
   "metadata": {},
   "outputs": [
    {
     "data": {
      "text/html": [
       "<pre style=\"white-space:pre;overflow-x:auto;line-height:normal;font-family:Menlo,'DejaVu Sans Mono',consolas,'Courier New',monospace\">SQLQueryResult\n",
       "  query:\n",
       "    SELECT CAST(OrderDate as Text) as OrderDate, OrderID FROM Orders\n",
       "  schema:\n",
       "    OrderDate string\n",
       "    OrderID   int64\n",
       "</pre>\n"
      ],
      "text/plain": [
       "SQLQueryResult\n",
       "  query:\n",
       "    SELECT CAST(OrderDate as Text) as OrderDate, OrderID FROM Orders\n",
       "  schema:\n",
       "    OrderDate string\n",
       "    OrderID   int64"
      ]
     },
     "execution_count": 21,
     "metadata": {},
     "output_type": "execute_result"
    }
   ],
   "source": [
    "orders = con.sql(\"SELECT CAST(OrderDate as Text) as OrderDate, OrderID FROM Orders\")\n",
    "orders"
   ]
  },
  {
   "cell_type": "code",
   "execution_count": 22,
   "metadata": {},
   "outputs": [
    {
     "data": {
      "text/html": [
       "<div>\n",
       "<style scoped>\n",
       "    .dataframe tbody tr th:only-of-type {\n",
       "        vertical-align: middle;\n",
       "    }\n",
       "\n",
       "    .dataframe tbody tr th {\n",
       "        vertical-align: top;\n",
       "    }\n",
       "\n",
       "    .dataframe thead th {\n",
       "        text-align: right;\n",
       "    }\n",
       "</style>\n",
       "<table border=\"1\" class=\"dataframe\">\n",
       "  <thead>\n",
       "    <tr style=\"text-align: right;\">\n",
       "      <th></th>\n",
       "      <th>OrderDate</th>\n",
       "      <th>OrderID</th>\n",
       "    </tr>\n",
       "  </thead>\n",
       "  <tbody>\n",
       "    <tr>\n",
       "      <th>0</th>\n",
       "      <td>2016-07-04</td>\n",
       "      <td>10248</td>\n",
       "    </tr>\n",
       "    <tr>\n",
       "      <th>1</th>\n",
       "      <td>2016-07-05</td>\n",
       "      <td>10249</td>\n",
       "    </tr>\n",
       "    <tr>\n",
       "      <th>2</th>\n",
       "      <td>2016-07-08</td>\n",
       "      <td>10250</td>\n",
       "    </tr>\n",
       "    <tr>\n",
       "      <th>3</th>\n",
       "      <td>2016-07-08</td>\n",
       "      <td>10251</td>\n",
       "    </tr>\n",
       "    <tr>\n",
       "      <th>4</th>\n",
       "      <td>2016-07-09</td>\n",
       "      <td>10252</td>\n",
       "    </tr>\n",
       "    <tr>\n",
       "      <th>...</th>\n",
       "      <td>...</td>\n",
       "      <td>...</td>\n",
       "    </tr>\n",
       "    <tr>\n",
       "      <th>16277</th>\n",
       "      <td>2012-12-26 04:58:22</td>\n",
       "      <td>26525</td>\n",
       "    </tr>\n",
       "    <tr>\n",
       "      <th>16278</th>\n",
       "      <td>2022-08-05 06:33:39</td>\n",
       "      <td>26526</td>\n",
       "    </tr>\n",
       "    <tr>\n",
       "      <th>16279</th>\n",
       "      <td>2022-02-09 08:20:12</td>\n",
       "      <td>26527</td>\n",
       "    </tr>\n",
       "    <tr>\n",
       "      <th>16280</th>\n",
       "      <td>2020-04-27 23:05:30</td>\n",
       "      <td>26528</td>\n",
       "    </tr>\n",
       "    <tr>\n",
       "      <th>16281</th>\n",
       "      <td>2023-01-10 05:40:51</td>\n",
       "      <td>26529</td>\n",
       "    </tr>\n",
       "  </tbody>\n",
       "</table>\n",
       "<p>16282 rows × 2 columns</p>\n",
       "</div>"
      ],
      "text/plain": [
       "                 OrderDate  OrderID\n",
       "0               2016-07-04    10248\n",
       "1               2016-07-05    10249\n",
       "2               2016-07-08    10250\n",
       "3               2016-07-08    10251\n",
       "4               2016-07-09    10252\n",
       "...                    ...      ...\n",
       "16277  2012-12-26 04:58:22    26525\n",
       "16278  2022-08-05 06:33:39    26526\n",
       "16279  2022-02-09 08:20:12    26527\n",
       "16280  2020-04-27 23:05:30    26528\n",
       "16281  2023-01-10 05:40:51    26529\n",
       "\n",
       "[16282 rows x 2 columns]"
      ]
     },
     "execution_count": 22,
     "metadata": {},
     "output_type": "execute_result"
    }
   ],
   "source": [
    "df_orders = orders.to_pandas()\n",
    "df_orders"
   ]
  },
  {
   "cell_type": "code",
   "execution_count": 26,
   "metadata": {},
   "outputs": [
    {
     "data": {
      "text/plain": [
       "0       2016-07-04 00:00:00\n",
       "1       2016-07-05 00:00:00\n",
       "2       2016-07-08 00:00:00\n",
       "3       2016-07-08 00:00:00\n",
       "4       2016-07-09 00:00:00\n",
       "                ...        \n",
       "16277   2012-12-26 04:58:22\n",
       "16278   2022-08-05 06:33:39\n",
       "16279   2022-02-09 08:20:12\n",
       "16280   2020-04-27 23:05:30\n",
       "16281   2023-01-10 05:40:51\n",
       "Name: OrderDate, Length: 16282, dtype: datetime64[ns]"
      ]
     },
     "execution_count": 26,
     "metadata": {},
     "output_type": "execute_result"
    }
   ],
   "source": [
    "pd.to_datetime(df_orders['OrderDate'],format='mixed')"
   ]
  },
  {
   "cell_type": "markdown",
   "metadata": {},
   "source": [
    "Ibis intenta encontrar el mejor encaje entre ambos tipos de datos, el de la base de datos origen y el del objeto pandas."
   ]
  },
  {
   "cell_type": "code",
   "execution_count": 17,
   "metadata": {},
   "outputs": [
    {
     "data": {
      "text/html": [
       "<pre style=\"white-space:pre;overflow-x:auto;line-height:normal;font-family:Menlo,'DejaVu Sans Mono',consolas,'Courier New',monospace\">DatabaseTable: Categories\n",
       "  CategoryID   int64\n",
       "  CategoryName string\n",
       "  Description  string\n",
       "  Picture      binary\n",
       "</pre>\n"
      ],
      "text/plain": [
       "DatabaseTable: Categories\n",
       "  CategoryID   int64\n",
       "  CategoryName string\n",
       "  Description  string\n",
       "  Picture      binary"
      ]
     },
     "execution_count": 17,
     "metadata": {},
     "output_type": "execute_result"
    }
   ],
   "source": [
    "categories"
   ]
  },
  {
   "cell_type": "code",
   "execution_count": 18,
   "metadata": {},
   "outputs": [
    {
     "data": {
      "text/plain": [
       "CategoryID       int64\n",
       "CategoryName    object\n",
       "Description     object\n",
       "Picture         object\n",
       "dtype: object"
      ]
     },
     "execution_count": 18,
     "metadata": {},
     "output_type": "execute_result"
    }
   ],
   "source": [
    "df_categories = categories.to_pandas()\n",
    "df_categories.dtypes"
   ]
  },
  {
   "cell_type": "code",
   "execution_count": 19,
   "metadata": {},
   "outputs": [
    {
     "data": {
      "text/html": [
       "<div>\n",
       "<style scoped>\n",
       "    .dataframe tbody tr th:only-of-type {\n",
       "        vertical-align: middle;\n",
       "    }\n",
       "\n",
       "    .dataframe tbody tr th {\n",
       "        vertical-align: top;\n",
       "    }\n",
       "\n",
       "    .dataframe thead th {\n",
       "        text-align: right;\n",
       "    }\n",
       "</style>\n",
       "<table border=\"1\" class=\"dataframe\">\n",
       "  <thead>\n",
       "    <tr style=\"text-align: right;\">\n",
       "      <th></th>\n",
       "      <th>CategoryID</th>\n",
       "      <th>CategoryName</th>\n",
       "      <th>Description</th>\n",
       "      <th>Picture</th>\n",
       "    </tr>\n",
       "  </thead>\n",
       "  <tbody>\n",
       "    <tr>\n",
       "      <th>0</th>\n",
       "      <td>1</td>\n",
       "      <td>Beverages</td>\n",
       "      <td>Soft drinks, coffees, teas, beers, and ales</td>\n",
       "      <td>b'\\xff\\xd8\\xff\\xe0\\x00\\x10JFIF\\x00\\x01\\x02\\x00...</td>\n",
       "    </tr>\n",
       "    <tr>\n",
       "      <th>1</th>\n",
       "      <td>2</td>\n",
       "      <td>Condiments</td>\n",
       "      <td>Sweet and savory sauces, relishes, spreads, an...</td>\n",
       "      <td>b'\\xff\\xd8\\xff\\xe0\\x00\\x10JFIF\\x00\\x01\\x02\\x00...</td>\n",
       "    </tr>\n",
       "    <tr>\n",
       "      <th>2</th>\n",
       "      <td>3</td>\n",
       "      <td>Confections</td>\n",
       "      <td>Desserts, candies, and sweet breads</td>\n",
       "      <td>b'\\xff\\xd8\\xff\\xe0\\x00\\x10JFIF\\x00\\x01\\x02\\x00...</td>\n",
       "    </tr>\n",
       "    <tr>\n",
       "      <th>3</th>\n",
       "      <td>4</td>\n",
       "      <td>Dairy Products</td>\n",
       "      <td>Cheeses</td>\n",
       "      <td>b'\\xff\\xd8\\xff\\xe0\\x00\\x10JFIF\\x00\\x01\\x02\\x00...</td>\n",
       "    </tr>\n",
       "    <tr>\n",
       "      <th>4</th>\n",
       "      <td>5</td>\n",
       "      <td>Grains/Cereals</td>\n",
       "      <td>Breads, crackers, pasta, and cereal</td>\n",
       "      <td>b'\\xff\\xd8\\xff\\xe0\\x00\\x10JFIF\\x00\\x01\\x02\\x00...</td>\n",
       "    </tr>\n",
       "    <tr>\n",
       "      <th>5</th>\n",
       "      <td>6</td>\n",
       "      <td>Meat/Poultry</td>\n",
       "      <td>Prepared meats</td>\n",
       "      <td>b'\\xff\\xd8\\xff\\xe0\\x00\\x10JFIF\\x00\\x01\\x02\\x00...</td>\n",
       "    </tr>\n",
       "    <tr>\n",
       "      <th>6</th>\n",
       "      <td>7</td>\n",
       "      <td>Produce</td>\n",
       "      <td>Dried fruit and bean curd</td>\n",
       "      <td>b'\\xff\\xd8\\xff\\xe0\\x00\\x10JFIF\\x00\\x01\\x02\\x00...</td>\n",
       "    </tr>\n",
       "    <tr>\n",
       "      <th>7</th>\n",
       "      <td>8</td>\n",
       "      <td>Seafood</td>\n",
       "      <td>Seaweed and fish</td>\n",
       "      <td>b'\\xff\\xd8\\xff\\xe0\\x00\\x10JFIF\\x00\\x01\\x02\\x00...</td>\n",
       "    </tr>\n",
       "  </tbody>\n",
       "</table>\n",
       "</div>"
      ],
      "text/plain": [
       "   CategoryID    CategoryName  \\\n",
       "0           1       Beverages   \n",
       "1           2      Condiments   \n",
       "2           3     Confections   \n",
       "3           4  Dairy Products   \n",
       "4           5  Grains/Cereals   \n",
       "5           6    Meat/Poultry   \n",
       "6           7         Produce   \n",
       "7           8         Seafood   \n",
       "\n",
       "                                         Description  \\\n",
       "0        Soft drinks, coffees, teas, beers, and ales   \n",
       "1  Sweet and savory sauces, relishes, spreads, an...   \n",
       "2                Desserts, candies, and sweet breads   \n",
       "3                                            Cheeses   \n",
       "4                Breads, crackers, pasta, and cereal   \n",
       "5                                     Prepared meats   \n",
       "6                          Dried fruit and bean curd   \n",
       "7                                   Seaweed and fish   \n",
       "\n",
       "                                             Picture  \n",
       "0  b'\\xff\\xd8\\xff\\xe0\\x00\\x10JFIF\\x00\\x01\\x02\\x00...  \n",
       "1  b'\\xff\\xd8\\xff\\xe0\\x00\\x10JFIF\\x00\\x01\\x02\\x00...  \n",
       "2  b'\\xff\\xd8\\xff\\xe0\\x00\\x10JFIF\\x00\\x01\\x02\\x00...  \n",
       "3  b'\\xff\\xd8\\xff\\xe0\\x00\\x10JFIF\\x00\\x01\\x02\\x00...  \n",
       "4  b'\\xff\\xd8\\xff\\xe0\\x00\\x10JFIF\\x00\\x01\\x02\\x00...  \n",
       "5  b'\\xff\\xd8\\xff\\xe0\\x00\\x10JFIF\\x00\\x01\\x02\\x00...  \n",
       "6  b'\\xff\\xd8\\xff\\xe0\\x00\\x10JFIF\\x00\\x01\\x02\\x00...  \n",
       "7  b'\\xff\\xd8\\xff\\xe0\\x00\\x10JFIF\\x00\\x01\\x02\\x00...  "
      ]
     },
     "execution_count": 19,
     "metadata": {},
     "output_type": "execute_result"
    }
   ],
   "source": [
    "df_categories"
   ]
  },
  {
   "cell_type": "code",
   "execution_count": 12,
   "metadata": {},
   "outputs": [
    {
     "data": {
      "text/html": [
       "<div>\n",
       "<style scoped>\n",
       "    .dataframe tbody tr th:only-of-type {\n",
       "        vertical-align: middle;\n",
       "    }\n",
       "\n",
       "    .dataframe tbody tr th {\n",
       "        vertical-align: top;\n",
       "    }\n",
       "\n",
       "    .dataframe thead th {\n",
       "        text-align: right;\n",
       "    }\n",
       "</style>\n",
       "<table border=\"1\" class=\"dataframe\">\n",
       "  <thead>\n",
       "    <tr style=\"text-align: right;\">\n",
       "      <th></th>\n",
       "      <th>CAST(OrderDate as Text)</th>\n",
       "      <th>OrderID</th>\n",
       "    </tr>\n",
       "  </thead>\n",
       "  <tbody>\n",
       "    <tr>\n",
       "      <th>0</th>\n",
       "      <td>2016-07-04</td>\n",
       "      <td>10248</td>\n",
       "    </tr>\n",
       "    <tr>\n",
       "      <th>1</th>\n",
       "      <td>2016-07-05</td>\n",
       "      <td>10249</td>\n",
       "    </tr>\n",
       "    <tr>\n",
       "      <th>2</th>\n",
       "      <td>2016-07-08</td>\n",
       "      <td>10250</td>\n",
       "    </tr>\n",
       "    <tr>\n",
       "      <th>3</th>\n",
       "      <td>2016-07-08</td>\n",
       "      <td>10251</td>\n",
       "    </tr>\n",
       "  </tbody>\n",
       "</table>\n",
       "</div>"
      ],
      "text/plain": [
       "  CAST(OrderDate as Text)  OrderID\n",
       "0              2016-07-04    10248\n",
       "1              2016-07-05    10249\n",
       "2              2016-07-08    10250\n",
       "3              2016-07-08    10251"
      ]
     },
     "execution_count": 12,
     "metadata": {},
     "output_type": "execute_result"
    }
   ],
   "source": [
    "# Si no está en modo interactivo, será necesario el `.to_pandas()`\n",
    "\n",
    "orders.head(4).to_pandas()"
   ]
  },
  {
   "cell_type": "code",
   "execution_count": 13,
   "metadata": {},
   "outputs": [
    {
     "data": {
      "text/html": [
       "<pre style=\"white-space:pre;overflow-x:auto;line-height:normal;font-family:Menlo,'DejaVu Sans Mono',consolas,'Courier New',monospace\">DatabaseTable: Order Details\n",
       "  OrderID   !int64\n",
       "  ProductID !int64\n",
       "  UnitPrice !decimal\n",
       "  Quantity  !int64\n",
       "  Discount  !float64\n",
       "</pre>\n"
      ],
      "text/plain": [
       "DatabaseTable: Order Details\n",
       "  OrderID   !int64\n",
       "  ProductID !int64\n",
       "  UnitPrice !decimal\n",
       "  Quantity  !int64\n",
       "  Discount  !float64"
      ]
     },
     "execution_count": 13,
     "metadata": {},
     "output_type": "execute_result"
    }
   ],
   "source": [
    "order_details = con.table(\"Order Details\")\n",
    "order_details"
   ]
  },
  {
   "cell_type": "code",
   "execution_count": 14,
   "metadata": {},
   "outputs": [
    {
     "data": {
      "text/markdown": [
       "```sql\n",
       "SELECT\n",
       "  \"t4\".\"CAST(OrderDate as Text)\",\n",
       "  \"t4\".\"OrderID\",\n",
       "  \"t5\".\"ProductID\",\n",
       "  \"t5\".\"UnitPrice\",\n",
       "  \"t5\".\"Quantity\",\n",
       "  \"t5\".\"Discount\",\n",
       "  \"t6\".\"ProductName\",\n",
       "  \"t6\".\"SupplierID\",\n",
       "  \"t6\".\"CategoryID\",\n",
       "  \"t6\".\"QuantityPerUnit\",\n",
       "  \"t6\".\"UnitPrice\" AS \"UnitPrice_right\",\n",
       "  \"t6\".\"UnitsInStock\",\n",
       "  \"t6\".\"UnitsOnOrder\",\n",
       "  \"t6\".\"ReorderLevel\",\n",
       "  \"t6\".\"Discontinued\",\n",
       "  \"t7\".\"CategoryName\",\n",
       "  \"t7\".\"Description\",\n",
       "  \"t7\".\"Picture\"\n",
       "FROM (\n",
       "  SELECT\n",
       "    CAST(OrderDate AS TEXT),\n",
       "    OrderID\n",
       "  FROM Orders\n",
       ") AS \"t4\"\n",
       "INNER JOIN \"Order Details\" AS \"t5\"\n",
       "  ON \"t4\".\"OrderID\" = \"t5\".\"OrderID\"\n",
       "INNER JOIN \"Products\" AS \"t6\"\n",
       "  ON \"t5\".\"ProductID\" = \"t6\".\"ProductID\"\n",
       "INNER JOIN \"Categories\" AS \"t7\"\n",
       "  ON \"t6\".\"CategoryID\" = \"t7\".\"CategoryID\"\n",
       "```"
      ],
      "text/plain": [
       "\u001b[34mSELECT\u001b[39;49;00m\u001b[37m\u001b[39;49;00m\n",
       "\u001b[37m  \u001b[39;49;00m\u001b[33m\"t4\"\u001b[39;49;00m.\u001b[33m\"CAST(OrderDate as Text)\"\u001b[39;49;00m,\u001b[37m\u001b[39;49;00m\n",
       "\u001b[37m  \u001b[39;49;00m\u001b[33m\"t4\"\u001b[39;49;00m.\u001b[33m\"OrderID\"\u001b[39;49;00m,\u001b[37m\u001b[39;49;00m\n",
       "\u001b[37m  \u001b[39;49;00m\u001b[33m\"t5\"\u001b[39;49;00m.\u001b[33m\"ProductID\"\u001b[39;49;00m,\u001b[37m\u001b[39;49;00m\n",
       "\u001b[37m  \u001b[39;49;00m\u001b[33m\"t5\"\u001b[39;49;00m.\u001b[33m\"UnitPrice\"\u001b[39;49;00m,\u001b[37m\u001b[39;49;00m\n",
       "\u001b[37m  \u001b[39;49;00m\u001b[33m\"t5\"\u001b[39;49;00m.\u001b[33m\"Quantity\"\u001b[39;49;00m,\u001b[37m\u001b[39;49;00m\n",
       "\u001b[37m  \u001b[39;49;00m\u001b[33m\"t5\"\u001b[39;49;00m.\u001b[33m\"Discount\"\u001b[39;49;00m,\u001b[37m\u001b[39;49;00m\n",
       "\u001b[37m  \u001b[39;49;00m\u001b[33m\"t6\"\u001b[39;49;00m.\u001b[33m\"ProductName\"\u001b[39;49;00m,\u001b[37m\u001b[39;49;00m\n",
       "\u001b[37m  \u001b[39;49;00m\u001b[33m\"t6\"\u001b[39;49;00m.\u001b[33m\"SupplierID\"\u001b[39;49;00m,\u001b[37m\u001b[39;49;00m\n",
       "\u001b[37m  \u001b[39;49;00m\u001b[33m\"t6\"\u001b[39;49;00m.\u001b[33m\"CategoryID\"\u001b[39;49;00m,\u001b[37m\u001b[39;49;00m\n",
       "\u001b[37m  \u001b[39;49;00m\u001b[33m\"t6\"\u001b[39;49;00m.\u001b[33m\"QuantityPerUnit\"\u001b[39;49;00m,\u001b[37m\u001b[39;49;00m\n",
       "\u001b[37m  \u001b[39;49;00m\u001b[33m\"t6\"\u001b[39;49;00m.\u001b[33m\"UnitPrice\"\u001b[39;49;00m\u001b[37m \u001b[39;49;00m\u001b[34mAS\u001b[39;49;00m\u001b[37m \u001b[39;49;00m\u001b[33m\"UnitPrice_right\"\u001b[39;49;00m,\u001b[37m\u001b[39;49;00m\n",
       "\u001b[37m  \u001b[39;49;00m\u001b[33m\"t6\"\u001b[39;49;00m.\u001b[33m\"UnitsInStock\"\u001b[39;49;00m,\u001b[37m\u001b[39;49;00m\n",
       "\u001b[37m  \u001b[39;49;00m\u001b[33m\"t6\"\u001b[39;49;00m.\u001b[33m\"UnitsOnOrder\"\u001b[39;49;00m,\u001b[37m\u001b[39;49;00m\n",
       "\u001b[37m  \u001b[39;49;00m\u001b[33m\"t6\"\u001b[39;49;00m.\u001b[33m\"ReorderLevel\"\u001b[39;49;00m,\u001b[37m\u001b[39;49;00m\n",
       "\u001b[37m  \u001b[39;49;00m\u001b[33m\"t6\"\u001b[39;49;00m.\u001b[33m\"Discontinued\"\u001b[39;49;00m,\u001b[37m\u001b[39;49;00m\n",
       "\u001b[37m  \u001b[39;49;00m\u001b[33m\"t7\"\u001b[39;49;00m.\u001b[33m\"CategoryName\"\u001b[39;49;00m,\u001b[37m\u001b[39;49;00m\n",
       "\u001b[37m  \u001b[39;49;00m\u001b[33m\"t7\"\u001b[39;49;00m.\u001b[33m\"Description\"\u001b[39;49;00m,\u001b[37m\u001b[39;49;00m\n",
       "\u001b[37m  \u001b[39;49;00m\u001b[33m\"t7\"\u001b[39;49;00m.\u001b[33m\"Picture\"\u001b[39;49;00m\u001b[37m\u001b[39;49;00m\n",
       "\u001b[34mFROM\u001b[39;49;00m\u001b[37m \u001b[39;49;00m(\u001b[37m\u001b[39;49;00m\n",
       "\u001b[37m  \u001b[39;49;00m\u001b[34mSELECT\u001b[39;49;00m\u001b[37m\u001b[39;49;00m\n",
       "\u001b[37m    \u001b[39;49;00m\u001b[34mCAST\u001b[39;49;00m(OrderDate\u001b[37m \u001b[39;49;00m\u001b[34mAS\u001b[39;49;00m\u001b[37m \u001b[39;49;00m\u001b[36mTEXT\u001b[39;49;00m),\u001b[37m\u001b[39;49;00m\n",
       "\u001b[37m    \u001b[39;49;00mOrderID\u001b[37m\u001b[39;49;00m\n",
       "\u001b[37m  \u001b[39;49;00m\u001b[34mFROM\u001b[39;49;00m\u001b[37m \u001b[39;49;00mOrders\u001b[37m\u001b[39;49;00m\n",
       ")\u001b[37m \u001b[39;49;00m\u001b[34mAS\u001b[39;49;00m\u001b[37m \u001b[39;49;00m\u001b[33m\"t4\"\u001b[39;49;00m\u001b[37m\u001b[39;49;00m\n",
       "\u001b[34mINNER\u001b[39;49;00m\u001b[37m \u001b[39;49;00m\u001b[34mJOIN\u001b[39;49;00m\u001b[37m \u001b[39;49;00m\u001b[33m\"Order Details\"\u001b[39;49;00m\u001b[37m \u001b[39;49;00m\u001b[34mAS\u001b[39;49;00m\u001b[37m \u001b[39;49;00m\u001b[33m\"t5\"\u001b[39;49;00m\u001b[37m\u001b[39;49;00m\n",
       "\u001b[37m  \u001b[39;49;00m\u001b[34mON\u001b[39;49;00m\u001b[37m \u001b[39;49;00m\u001b[33m\"t4\"\u001b[39;49;00m.\u001b[33m\"OrderID\"\u001b[39;49;00m\u001b[37m \u001b[39;49;00m=\u001b[37m \u001b[39;49;00m\u001b[33m\"t5\"\u001b[39;49;00m.\u001b[33m\"OrderID\"\u001b[39;49;00m\u001b[37m\u001b[39;49;00m\n",
       "\u001b[34mINNER\u001b[39;49;00m\u001b[37m \u001b[39;49;00m\u001b[34mJOIN\u001b[39;49;00m\u001b[37m \u001b[39;49;00m\u001b[33m\"Products\"\u001b[39;49;00m\u001b[37m \u001b[39;49;00m\u001b[34mAS\u001b[39;49;00m\u001b[37m \u001b[39;49;00m\u001b[33m\"t6\"\u001b[39;49;00m\u001b[37m\u001b[39;49;00m\n",
       "\u001b[37m  \u001b[39;49;00m\u001b[34mON\u001b[39;49;00m\u001b[37m \u001b[39;49;00m\u001b[33m\"t5\"\u001b[39;49;00m.\u001b[33m\"ProductID\"\u001b[39;49;00m\u001b[37m \u001b[39;49;00m=\u001b[37m \u001b[39;49;00m\u001b[33m\"t6\"\u001b[39;49;00m.\u001b[33m\"ProductID\"\u001b[39;49;00m\u001b[37m\u001b[39;49;00m\n",
       "\u001b[34mINNER\u001b[39;49;00m\u001b[37m \u001b[39;49;00m\u001b[34mJOIN\u001b[39;49;00m\u001b[37m \u001b[39;49;00m\u001b[33m\"Categories\"\u001b[39;49;00m\u001b[37m \u001b[39;49;00m\u001b[34mAS\u001b[39;49;00m\u001b[37m \u001b[39;49;00m\u001b[33m\"t7\"\u001b[39;49;00m\u001b[37m\u001b[39;49;00m\n",
       "\u001b[37m  \u001b[39;49;00m\u001b[34mON\u001b[39;49;00m\u001b[37m \u001b[39;49;00m\u001b[33m\"t6\"\u001b[39;49;00m.\u001b[33m\"CategoryID\"\u001b[39;49;00m\u001b[37m \u001b[39;49;00m=\u001b[37m \u001b[39;49;00m\u001b[33m\"t7\"\u001b[39;49;00m.\u001b[33m\"CategoryID\"\u001b[39;49;00m\u001b[37m\u001b[39;49;00m"
      ]
     },
     "execution_count": 14,
     "metadata": {},
     "output_type": "execute_result"
    }
   ],
   "source": [
    "p_o_details = orders.join(order_details, [\"OrderID\"], how=\"inner\").join(products, [\"ProductID\"]).join(categories, [\"CategoryID\"])\n",
    "ibis.to_sql(p_o_details)"
   ]
  },
  {
   "cell_type": "code",
   "execution_count": 15,
   "metadata": {},
   "outputs": [
    {
     "data": {
      "text/html": [
       "<pre style=\"white-space:pre;overflow-x:auto;line-height:normal;font-family:Menlo,'DejaVu Sans Mono',consolas,'Courier New',monospace\">r0 := SQLQueryResult\n",
       "  query:\n",
       "    SELECT CAST(OrderDate as Text), OrderID FROM Orders\n",
       "  schema:\n",
       "    CAST(OrderDate as Text) string\n",
       "    OrderID                 int64\n",
       "\n",
       "r1 := DatabaseTable: Order Details\n",
       "  OrderID   !int64\n",
       "  ProductID !int64\n",
       "  UnitPrice !decimal\n",
       "  Quantity  !int64\n",
       "  Discount  !float64\n",
       "\n",
       "r2 := DatabaseTable: Products\n",
       "  ProductID       !int64\n",
       "  ProductName     !string\n",
       "  SupplierID      int64\n",
       "  CategoryID      int64\n",
       "  QuantityPerUnit string\n",
       "  UnitPrice       decimal\n",
       "  UnitsInStock    int64\n",
       "  UnitsOnOrder    int64\n",
       "  ReorderLevel    int64\n",
       "  Discontinued    !string\n",
       "\n",
       "r3 := DatabaseTable: Categories\n",
       "  CategoryID   int64\n",
       "  CategoryName string\n",
       "  Description  string\n",
       "  Picture      binary\n",
       "\n",
       "r4 := JoinChain[r0]\n",
       "  JoinLink[inner, r1]\n",
       "    r0.OrderID == r1.OrderID\n",
       "  JoinLink[inner, r2]\n",
       "    r1.ProductID == r2.ProductID\n",
       "  JoinLink[inner, r3]\n",
       "    r2.CategoryID == r3.CategoryID\n",
       "  values:\n",
       "    CAST(OrderDate as Text): r0['CAST(OrderDate as Text)']\n",
       "    OrderID:                 r0.OrderID\n",
       "    ProductID:               r1.ProductID\n",
       "    UnitPrice:               r1.UnitPrice\n",
       "    Quantity:                r1.Quantity\n",
       "    Discount:                r1.Discount\n",
       "    ProductName:             r2.ProductName\n",
       "    SupplierID:              r2.SupplierID\n",
       "    CategoryID:              r2.CategoryID\n",
       "    QuantityPerUnit:         r2.QuantityPerUnit\n",
       "    UnitPrice_right:         r2.UnitPrice\n",
       "    UnitsInStock:            r2.UnitsInStock\n",
       "    UnitsOnOrder:            r2.UnitsOnOrder\n",
       "    ReorderLevel:            r2.ReorderLevel\n",
       "    Discontinued:            r2.Discontinued\n",
       "    CategoryName:            r3.CategoryName\n",
       "    Description:             r3.Description\n",
       "    Picture:                 r3.Picture\n",
       "\n",
       "r5 := Aggregate[r4]\n",
       "  groups:\n",
       "    CategoryName: r4.CategoryName\n",
       "    ProductName:  r4.ProductName\n",
       "  metrics:\n",
       "    num_orders: Count(r4.OrderID)\n",
       "    total:      Sum(r4.Quantity * r4.UnitPrice * 1 - r4.Discount)\n",
       "\n",
       "Sort[r5]\n",
       "  desc r5.num_orders\n",
       "  desc r5.total\n",
       "</pre>\n"
      ],
      "text/plain": [
       "r0 := SQLQueryResult\n",
       "  query:\n",
       "    SELECT CAST(OrderDate as Text), OrderID FROM Orders\n",
       "  schema:\n",
       "    CAST(OrderDate as Text) string\n",
       "    OrderID                 int64\n",
       "\n",
       "r1 := DatabaseTable: Order Details\n",
       "  OrderID   !int64\n",
       "  ProductID !int64\n",
       "  UnitPrice !decimal\n",
       "  Quantity  !int64\n",
       "  Discount  !float64\n",
       "\n",
       "r2 := DatabaseTable: Products\n",
       "  ProductID       !int64\n",
       "  ProductName     !string\n",
       "  SupplierID      int64\n",
       "  CategoryID      int64\n",
       "  QuantityPerUnit string\n",
       "  UnitPrice       decimal\n",
       "  UnitsInStock    int64\n",
       "  UnitsOnOrder    int64\n",
       "  ReorderLevel    int64\n",
       "  Discontinued    !string\n",
       "\n",
       "r3 := DatabaseTable: Categories\n",
       "  CategoryID   int64\n",
       "  CategoryName string\n",
       "  Description  string\n",
       "  Picture      binary\n",
       "\n",
       "r4 := JoinChain[r0]\n",
       "  JoinLink[inner, r1]\n",
       "    r0.OrderID == r1.OrderID\n",
       "  JoinLink[inner, r2]\n",
       "    r1.ProductID == r2.ProductID\n",
       "  JoinLink[inner, r3]\n",
       "    r2.CategoryID == r3.CategoryID\n",
       "  values:\n",
       "    CAST(OrderDate as Text): r0['CAST(OrderDate as Text)']\n",
       "    OrderID:                 r0.OrderID\n",
       "    ProductID:               r1.ProductID\n",
       "    UnitPrice:               r1.UnitPrice\n",
       "    Quantity:                r1.Quantity\n",
       "    Discount:                r1.Discount\n",
       "    ProductName:             r2.ProductName\n",
       "    SupplierID:              r2.SupplierID\n",
       "    CategoryID:              r2.CategoryID\n",
       "    QuantityPerUnit:         r2.QuantityPerUnit\n",
       "    UnitPrice_right:         r2.UnitPrice\n",
       "    UnitsInStock:            r2.UnitsInStock\n",
       "    UnitsOnOrder:            r2.UnitsOnOrder\n",
       "    ReorderLevel:            r2.ReorderLevel\n",
       "    Discontinued:            r2.Discontinued\n",
       "    CategoryName:            r3.CategoryName\n",
       "    Description:             r3.Description\n",
       "    Picture:                 r3.Picture\n",
       "\n",
       "r5 := Aggregate[r4]\n",
       "  groups:\n",
       "    CategoryName: r4.CategoryName\n",
       "    ProductName:  r4.ProductName\n",
       "  metrics:\n",
       "    num_orders: Count(r4.OrderID)\n",
       "    total:      Sum(r4.Quantity * r4.UnitPrice * 1 - r4.Discount)\n",
       "\n",
       "Sort[r5]\n",
       "  desc r5.num_orders\n",
       "  desc r5.total"
      ]
     },
     "execution_count": 15,
     "metadata": {},
     "output_type": "execute_result"
    }
   ],
   "source": [
    "p_o_details_agg = p_o_details.group_by([\"CategoryName\",\"ProductName\"]).aggregate(\n",
    "    num_orders=p_o_details[\"OrderID\"].count(), \n",
    "    total=(p_o_details[\"Quantity\"]*p_o_details[\"UnitPrice\"]*(1-p_o_details[\"Discount\"])).sum())\n",
    "p_o_details_agg = p_o_details_agg.order_by(p_o_details_agg[\"num_orders\"].desc(), p_o_details_agg[\"total\"].desc())\n",
    "p_o_details_agg"
   ]
  },
  {
   "cell_type": "code",
   "execution_count": 16,
   "metadata": {},
   "outputs": [
    {
     "data": {
      "text/markdown": [
       "```sql\n",
       "SELECT\n",
       "  *\n",
       "FROM (\n",
       "  SELECT\n",
       "    \"t8\".\"CategoryName\",\n",
       "    \"t8\".\"ProductName\",\n",
       "    COUNT(\"t8\".\"OrderID\") AS \"num_orders\",\n",
       "    SUM((\n",
       "      \"t8\".\"Quantity\" * \"t8\".\"UnitPrice\"\n",
       "    ) * (\n",
       "      1 - \"t8\".\"Discount\"\n",
       "    )) AS \"total\"\n",
       "  FROM (\n",
       "    SELECT\n",
       "      \"t4\".\"CAST(OrderDate as Text)\",\n",
       "      \"t4\".\"OrderID\",\n",
       "      \"t5\".\"ProductID\",\n",
       "      \"t5\".\"UnitPrice\",\n",
       "      \"t5\".\"Quantity\",\n",
       "      \"t5\".\"Discount\",\n",
       "      \"t6\".\"ProductName\",\n",
       "      \"t6\".\"SupplierID\",\n",
       "      \"t6\".\"CategoryID\",\n",
       "      \"t6\".\"QuantityPerUnit\",\n",
       "      \"t6\".\"UnitPrice\" AS \"UnitPrice_right\",\n",
       "      \"t6\".\"UnitsInStock\",\n",
       "      \"t6\".\"UnitsOnOrder\",\n",
       "      \"t6\".\"ReorderLevel\",\n",
       "      \"t6\".\"Discontinued\",\n",
       "      \"t7\".\"CategoryName\",\n",
       "      \"t7\".\"Description\",\n",
       "      \"t7\".\"Picture\"\n",
       "    FROM (\n",
       "      SELECT\n",
       "        CAST(OrderDate AS TEXT),\n",
       "        OrderID\n",
       "      FROM Orders\n",
       "    ) AS \"t4\"\n",
       "    INNER JOIN \"Order Details\" AS \"t5\"\n",
       "      ON \"t4\".\"OrderID\" = \"t5\".\"OrderID\"\n",
       "    INNER JOIN \"Products\" AS \"t6\"\n",
       "      ON \"t5\".\"ProductID\" = \"t6\".\"ProductID\"\n",
       "    INNER JOIN \"Categories\" AS \"t7\"\n",
       "      ON \"t6\".\"CategoryID\" = \"t7\".\"CategoryID\"\n",
       "  ) AS \"t8\"\n",
       "  GROUP BY\n",
       "    1,\n",
       "    2\n",
       ") AS \"t9\"\n",
       "ORDER BY\n",
       "  \"t9\".\"num_orders\" DESC,\n",
       "  \"t9\".\"total\" DESC\n",
       "```"
      ],
      "text/plain": [
       "\u001b[34mSELECT\u001b[39;49;00m\u001b[37m\u001b[39;49;00m\n",
       "\u001b[37m  \u001b[39;49;00m*\u001b[37m\u001b[39;49;00m\n",
       "\u001b[34mFROM\u001b[39;49;00m\u001b[37m \u001b[39;49;00m(\u001b[37m\u001b[39;49;00m\n",
       "\u001b[37m  \u001b[39;49;00m\u001b[34mSELECT\u001b[39;49;00m\u001b[37m\u001b[39;49;00m\n",
       "\u001b[37m    \u001b[39;49;00m\u001b[33m\"t8\"\u001b[39;49;00m.\u001b[33m\"CategoryName\"\u001b[39;49;00m,\u001b[37m\u001b[39;49;00m\n",
       "\u001b[37m    \u001b[39;49;00m\u001b[33m\"t8\"\u001b[39;49;00m.\u001b[33m\"ProductName\"\u001b[39;49;00m,\u001b[37m\u001b[39;49;00m\n",
       "\u001b[37m    \u001b[39;49;00m\u001b[34mCOUNT\u001b[39;49;00m(\u001b[33m\"t8\"\u001b[39;49;00m.\u001b[33m\"OrderID\"\u001b[39;49;00m)\u001b[37m \u001b[39;49;00m\u001b[34mAS\u001b[39;49;00m\u001b[37m \u001b[39;49;00m\u001b[33m\"num_orders\"\u001b[39;49;00m,\u001b[37m\u001b[39;49;00m\n",
       "\u001b[37m    \u001b[39;49;00m\u001b[34mSUM\u001b[39;49;00m((\u001b[37m\u001b[39;49;00m\n",
       "\u001b[37m      \u001b[39;49;00m\u001b[33m\"t8\"\u001b[39;49;00m.\u001b[33m\"Quantity\"\u001b[39;49;00m\u001b[37m \u001b[39;49;00m*\u001b[37m \u001b[39;49;00m\u001b[33m\"t8\"\u001b[39;49;00m.\u001b[33m\"UnitPrice\"\u001b[39;49;00m\u001b[37m\u001b[39;49;00m\n",
       "\u001b[37m    \u001b[39;49;00m)\u001b[37m \u001b[39;49;00m*\u001b[37m \u001b[39;49;00m(\u001b[37m\u001b[39;49;00m\n",
       "\u001b[37m      \u001b[39;49;00m\u001b[34m1\u001b[39;49;00m\u001b[37m \u001b[39;49;00m-\u001b[37m \u001b[39;49;00m\u001b[33m\"t8\"\u001b[39;49;00m.\u001b[33m\"Discount\"\u001b[39;49;00m\u001b[37m\u001b[39;49;00m\n",
       "\u001b[37m    \u001b[39;49;00m))\u001b[37m \u001b[39;49;00m\u001b[34mAS\u001b[39;49;00m\u001b[37m \u001b[39;49;00m\u001b[33m\"total\"\u001b[39;49;00m\u001b[37m\u001b[39;49;00m\n",
       "\u001b[37m  \u001b[39;49;00m\u001b[34mFROM\u001b[39;49;00m\u001b[37m \u001b[39;49;00m(\u001b[37m\u001b[39;49;00m\n",
       "\u001b[37m    \u001b[39;49;00m\u001b[34mSELECT\u001b[39;49;00m\u001b[37m\u001b[39;49;00m\n",
       "\u001b[37m      \u001b[39;49;00m\u001b[33m\"t4\"\u001b[39;49;00m.\u001b[33m\"CAST(OrderDate as Text)\"\u001b[39;49;00m,\u001b[37m\u001b[39;49;00m\n",
       "\u001b[37m      \u001b[39;49;00m\u001b[33m\"t4\"\u001b[39;49;00m.\u001b[33m\"OrderID\"\u001b[39;49;00m,\u001b[37m\u001b[39;49;00m\n",
       "\u001b[37m      \u001b[39;49;00m\u001b[33m\"t5\"\u001b[39;49;00m.\u001b[33m\"ProductID\"\u001b[39;49;00m,\u001b[37m\u001b[39;49;00m\n",
       "\u001b[37m      \u001b[39;49;00m\u001b[33m\"t5\"\u001b[39;49;00m.\u001b[33m\"UnitPrice\"\u001b[39;49;00m,\u001b[37m\u001b[39;49;00m\n",
       "\u001b[37m      \u001b[39;49;00m\u001b[33m\"t5\"\u001b[39;49;00m.\u001b[33m\"Quantity\"\u001b[39;49;00m,\u001b[37m\u001b[39;49;00m\n",
       "\u001b[37m      \u001b[39;49;00m\u001b[33m\"t5\"\u001b[39;49;00m.\u001b[33m\"Discount\"\u001b[39;49;00m,\u001b[37m\u001b[39;49;00m\n",
       "\u001b[37m      \u001b[39;49;00m\u001b[33m\"t6\"\u001b[39;49;00m.\u001b[33m\"ProductName\"\u001b[39;49;00m,\u001b[37m\u001b[39;49;00m\n",
       "\u001b[37m      \u001b[39;49;00m\u001b[33m\"t6\"\u001b[39;49;00m.\u001b[33m\"SupplierID\"\u001b[39;49;00m,\u001b[37m\u001b[39;49;00m\n",
       "\u001b[37m      \u001b[39;49;00m\u001b[33m\"t6\"\u001b[39;49;00m.\u001b[33m\"CategoryID\"\u001b[39;49;00m,\u001b[37m\u001b[39;49;00m\n",
       "\u001b[37m      \u001b[39;49;00m\u001b[33m\"t6\"\u001b[39;49;00m.\u001b[33m\"QuantityPerUnit\"\u001b[39;49;00m,\u001b[37m\u001b[39;49;00m\n",
       "\u001b[37m      \u001b[39;49;00m\u001b[33m\"t6\"\u001b[39;49;00m.\u001b[33m\"UnitPrice\"\u001b[39;49;00m\u001b[37m \u001b[39;49;00m\u001b[34mAS\u001b[39;49;00m\u001b[37m \u001b[39;49;00m\u001b[33m\"UnitPrice_right\"\u001b[39;49;00m,\u001b[37m\u001b[39;49;00m\n",
       "\u001b[37m      \u001b[39;49;00m\u001b[33m\"t6\"\u001b[39;49;00m.\u001b[33m\"UnitsInStock\"\u001b[39;49;00m,\u001b[37m\u001b[39;49;00m\n",
       "\u001b[37m      \u001b[39;49;00m\u001b[33m\"t6\"\u001b[39;49;00m.\u001b[33m\"UnitsOnOrder\"\u001b[39;49;00m,\u001b[37m\u001b[39;49;00m\n",
       "\u001b[37m      \u001b[39;49;00m\u001b[33m\"t6\"\u001b[39;49;00m.\u001b[33m\"ReorderLevel\"\u001b[39;49;00m,\u001b[37m\u001b[39;49;00m\n",
       "\u001b[37m      \u001b[39;49;00m\u001b[33m\"t6\"\u001b[39;49;00m.\u001b[33m\"Discontinued\"\u001b[39;49;00m,\u001b[37m\u001b[39;49;00m\n",
       "\u001b[37m      \u001b[39;49;00m\u001b[33m\"t7\"\u001b[39;49;00m.\u001b[33m\"CategoryName\"\u001b[39;49;00m,\u001b[37m\u001b[39;49;00m\n",
       "\u001b[37m      \u001b[39;49;00m\u001b[33m\"t7\"\u001b[39;49;00m.\u001b[33m\"Description\"\u001b[39;49;00m,\u001b[37m\u001b[39;49;00m\n",
       "\u001b[37m      \u001b[39;49;00m\u001b[33m\"t7\"\u001b[39;49;00m.\u001b[33m\"Picture\"\u001b[39;49;00m\u001b[37m\u001b[39;49;00m\n",
       "\u001b[37m    \u001b[39;49;00m\u001b[34mFROM\u001b[39;49;00m\u001b[37m \u001b[39;49;00m(\u001b[37m\u001b[39;49;00m\n",
       "\u001b[37m      \u001b[39;49;00m\u001b[34mSELECT\u001b[39;49;00m\u001b[37m\u001b[39;49;00m\n",
       "\u001b[37m        \u001b[39;49;00m\u001b[34mCAST\u001b[39;49;00m(OrderDate\u001b[37m \u001b[39;49;00m\u001b[34mAS\u001b[39;49;00m\u001b[37m \u001b[39;49;00m\u001b[36mTEXT\u001b[39;49;00m),\u001b[37m\u001b[39;49;00m\n",
       "\u001b[37m        \u001b[39;49;00mOrderID\u001b[37m\u001b[39;49;00m\n",
       "\u001b[37m      \u001b[39;49;00m\u001b[34mFROM\u001b[39;49;00m\u001b[37m \u001b[39;49;00mOrders\u001b[37m\u001b[39;49;00m\n",
       "\u001b[37m    \u001b[39;49;00m)\u001b[37m \u001b[39;49;00m\u001b[34mAS\u001b[39;49;00m\u001b[37m \u001b[39;49;00m\u001b[33m\"t4\"\u001b[39;49;00m\u001b[37m\u001b[39;49;00m\n",
       "\u001b[37m    \u001b[39;49;00m\u001b[34mINNER\u001b[39;49;00m\u001b[37m \u001b[39;49;00m\u001b[34mJOIN\u001b[39;49;00m\u001b[37m \u001b[39;49;00m\u001b[33m\"Order Details\"\u001b[39;49;00m\u001b[37m \u001b[39;49;00m\u001b[34mAS\u001b[39;49;00m\u001b[37m \u001b[39;49;00m\u001b[33m\"t5\"\u001b[39;49;00m\u001b[37m\u001b[39;49;00m\n",
       "\u001b[37m      \u001b[39;49;00m\u001b[34mON\u001b[39;49;00m\u001b[37m \u001b[39;49;00m\u001b[33m\"t4\"\u001b[39;49;00m.\u001b[33m\"OrderID\"\u001b[39;49;00m\u001b[37m \u001b[39;49;00m=\u001b[37m \u001b[39;49;00m\u001b[33m\"t5\"\u001b[39;49;00m.\u001b[33m\"OrderID\"\u001b[39;49;00m\u001b[37m\u001b[39;49;00m\n",
       "\u001b[37m    \u001b[39;49;00m\u001b[34mINNER\u001b[39;49;00m\u001b[37m \u001b[39;49;00m\u001b[34mJOIN\u001b[39;49;00m\u001b[37m \u001b[39;49;00m\u001b[33m\"Products\"\u001b[39;49;00m\u001b[37m \u001b[39;49;00m\u001b[34mAS\u001b[39;49;00m\u001b[37m \u001b[39;49;00m\u001b[33m\"t6\"\u001b[39;49;00m\u001b[37m\u001b[39;49;00m\n",
       "\u001b[37m      \u001b[39;49;00m\u001b[34mON\u001b[39;49;00m\u001b[37m \u001b[39;49;00m\u001b[33m\"t5\"\u001b[39;49;00m.\u001b[33m\"ProductID\"\u001b[39;49;00m\u001b[37m \u001b[39;49;00m=\u001b[37m \u001b[39;49;00m\u001b[33m\"t6\"\u001b[39;49;00m.\u001b[33m\"ProductID\"\u001b[39;49;00m\u001b[37m\u001b[39;49;00m\n",
       "\u001b[37m    \u001b[39;49;00m\u001b[34mINNER\u001b[39;49;00m\u001b[37m \u001b[39;49;00m\u001b[34mJOIN\u001b[39;49;00m\u001b[37m \u001b[39;49;00m\u001b[33m\"Categories\"\u001b[39;49;00m\u001b[37m \u001b[39;49;00m\u001b[34mAS\u001b[39;49;00m\u001b[37m \u001b[39;49;00m\u001b[33m\"t7\"\u001b[39;49;00m\u001b[37m\u001b[39;49;00m\n",
       "\u001b[37m      \u001b[39;49;00m\u001b[34mON\u001b[39;49;00m\u001b[37m \u001b[39;49;00m\u001b[33m\"t6\"\u001b[39;49;00m.\u001b[33m\"CategoryID\"\u001b[39;49;00m\u001b[37m \u001b[39;49;00m=\u001b[37m \u001b[39;49;00m\u001b[33m\"t7\"\u001b[39;49;00m.\u001b[33m\"CategoryID\"\u001b[39;49;00m\u001b[37m\u001b[39;49;00m\n",
       "\u001b[37m  \u001b[39;49;00m)\u001b[37m \u001b[39;49;00m\u001b[34mAS\u001b[39;49;00m\u001b[37m \u001b[39;49;00m\u001b[33m\"t8\"\u001b[39;49;00m\u001b[37m\u001b[39;49;00m\n",
       "\u001b[37m  \u001b[39;49;00m\u001b[34mGROUP\u001b[39;49;00m\u001b[37m \u001b[39;49;00m\u001b[34mBY\u001b[39;49;00m\u001b[37m\u001b[39;49;00m\n",
       "\u001b[37m    \u001b[39;49;00m\u001b[34m1\u001b[39;49;00m,\u001b[37m\u001b[39;49;00m\n",
       "\u001b[37m    \u001b[39;49;00m\u001b[34m2\u001b[39;49;00m\u001b[37m\u001b[39;49;00m\n",
       ")\u001b[37m \u001b[39;49;00m\u001b[34mAS\u001b[39;49;00m\u001b[37m \u001b[39;49;00m\u001b[33m\"t9\"\u001b[39;49;00m\u001b[37m\u001b[39;49;00m\n",
       "\u001b[34mORDER\u001b[39;49;00m\u001b[37m \u001b[39;49;00m\u001b[34mBY\u001b[39;49;00m\u001b[37m\u001b[39;49;00m\n",
       "\u001b[37m  \u001b[39;49;00m\u001b[33m\"t9\"\u001b[39;49;00m.\u001b[33m\"num_orders\"\u001b[39;49;00m\u001b[37m \u001b[39;49;00m\u001b[34mDESC\u001b[39;49;00m,\u001b[37m\u001b[39;49;00m\n",
       "\u001b[37m  \u001b[39;49;00m\u001b[33m\"t9\"\u001b[39;49;00m.\u001b[33m\"total\"\u001b[39;49;00m\u001b[37m \u001b[39;49;00m\u001b[34mDESC\u001b[39;49;00m\u001b[37m\u001b[39;49;00m"
      ]
     },
     "execution_count": 16,
     "metadata": {},
     "output_type": "execute_result"
    }
   ],
   "source": [
    "ibis.to_sql(p_o_details_agg)"
   ]
  },
  {
   "cell_type": "code",
   "execution_count": 151,
   "metadata": {},
   "outputs": [
    {
     "data": {
      "text/html": [
       "<div>\n",
       "<style scoped>\n",
       "    .dataframe tbody tr th:only-of-type {\n",
       "        vertical-align: middle;\n",
       "    }\n",
       "\n",
       "    .dataframe tbody tr th {\n",
       "        vertical-align: top;\n",
       "    }\n",
       "\n",
       "    .dataframe thead th {\n",
       "        text-align: right;\n",
       "    }\n",
       "</style>\n",
       "<table border=\"1\" class=\"dataframe\">\n",
       "  <thead>\n",
       "    <tr style=\"text-align: right;\">\n",
       "      <th></th>\n",
       "      <th>CategoryName</th>\n",
       "      <th>ProductName</th>\n",
       "      <th>num_orders</th>\n",
       "      <th>total</th>\n",
       "    </tr>\n",
       "  </thead>\n",
       "  <tbody>\n",
       "    <tr>\n",
       "      <th>0</th>\n",
       "      <td>Condiments</td>\n",
       "      <td>Louisiana Hot Spiced Okra</td>\n",
       "      <td>8040</td>\n",
       "      <td>3504941</td>\n",
       "    </tr>\n",
       "    <tr>\n",
       "      <th>1</th>\n",
       "      <td>Confections</td>\n",
       "      <td>Teatime Chocolate Biscuits</td>\n",
       "      <td>8024</td>\n",
       "      <td>1889691.4200000037</td>\n",
       "    </tr>\n",
       "    <tr>\n",
       "      <th>2</th>\n",
       "      <td>Beverages</td>\n",
       "      <td>Outback Lager</td>\n",
       "      <td>8020</td>\n",
       "      <td>3064462.65</td>\n",
       "    </tr>\n",
       "    <tr>\n",
       "      <th>3</th>\n",
       "      <td>Confections</td>\n",
       "      <td>Sir Rodney's Marmalade</td>\n",
       "      <td>7999</td>\n",
       "      <td>16653807.36</td>\n",
       "    </tr>\n",
       "    <tr>\n",
       "      <th>4</th>\n",
       "      <td>Confections</td>\n",
       "      <td>Gumbär Gummibärchen</td>\n",
       "      <td>7999</td>\n",
       "      <td>6391018.984499998</td>\n",
       "    </tr>\n",
       "    <tr>\n",
       "      <th>...</th>\n",
       "      <td>...</td>\n",
       "      <td>...</td>\n",
       "      <td>...</td>\n",
       "      <td>...</td>\n",
       "    </tr>\n",
       "    <tr>\n",
       "      <th>72</th>\n",
       "      <td>Produce</td>\n",
       "      <td>Tofu</td>\n",
       "      <td>7834</td>\n",
       "      <td>4644738.99</td>\n",
       "    </tr>\n",
       "    <tr>\n",
       "      <th>73</th>\n",
       "      <td>Confections</td>\n",
       "      <td>Scottish Longbreads</td>\n",
       "      <td>7818</td>\n",
       "      <td>2528089</td>\n",
       "    </tr>\n",
       "    <tr>\n",
       "      <th>74</th>\n",
       "      <td>Meat/Poultry</td>\n",
       "      <td>Perth Pasties</td>\n",
       "      <td>7817</td>\n",
       "      <td>6561681.369999989</td>\n",
       "    </tr>\n",
       "    <tr>\n",
       "      <th>75</th>\n",
       "      <td>Dairy Products</td>\n",
       "      <td>Mascarpone Fabioli</td>\n",
       "      <td>7817</td>\n",
       "      <td>6381012.16</td>\n",
       "    </tr>\n",
       "    <tr>\n",
       "      <th>76</th>\n",
       "      <td>Confections</td>\n",
       "      <td>Zaanse koeken</td>\n",
       "      <td>7785</td>\n",
       "      <td>1879296.08</td>\n",
       "    </tr>\n",
       "  </tbody>\n",
       "</table>\n",
       "<p>77 rows × 4 columns</p>\n",
       "</div>"
      ],
      "text/plain": [
       "      CategoryName                 ProductName  num_orders               total\n",
       "0       Condiments   Louisiana Hot Spiced Okra        8040             3504941\n",
       "1      Confections  Teatime Chocolate Biscuits        8024  1889691.4200000037\n",
       "2        Beverages               Outback Lager        8020          3064462.65\n",
       "3      Confections      Sir Rodney's Marmalade        7999         16653807.36\n",
       "4      Confections         Gumbär Gummibärchen        7999   6391018.984499998\n",
       "..             ...                         ...         ...                 ...\n",
       "72         Produce                        Tofu        7834          4644738.99\n",
       "73     Confections         Scottish Longbreads        7818             2528089\n",
       "74    Meat/Poultry               Perth Pasties        7817   6561681.369999989\n",
       "75  Dairy Products          Mascarpone Fabioli        7817          6381012.16\n",
       "76     Confections               Zaanse koeken        7785          1879296.08\n",
       "\n",
       "[77 rows x 4 columns]"
      ]
     },
     "execution_count": 151,
     "metadata": {},
     "output_type": "execute_result"
    }
   ],
   "source": [
    "p_o_details_agg.to_pandas()"
   ]
  },
  {
   "cell_type": "code",
   "execution_count": 153,
   "metadata": {},
   "outputs": [
    {
     "data": {
      "text/html": [
       "<div>\n",
       "<style scoped>\n",
       "    .dataframe tbody tr th:only-of-type {\n",
       "        vertical-align: middle;\n",
       "    }\n",
       "\n",
       "    .dataframe tbody tr th {\n",
       "        vertical-align: top;\n",
       "    }\n",
       "\n",
       "    .dataframe thead th {\n",
       "        text-align: right;\n",
       "    }\n",
       "</style>\n",
       "<table border=\"1\" class=\"dataframe\">\n",
       "  <thead>\n",
       "    <tr style=\"text-align: right;\">\n",
       "      <th></th>\n",
       "      <th>CategoryName</th>\n",
       "      <th>category_total</th>\n",
       "    </tr>\n",
       "  </thead>\n",
       "  <tbody>\n",
       "    <tr>\n",
       "      <th>0</th>\n",
       "      <td>Beverages</td>\n",
       "      <td>92163184.17999999</td>\n",
       "    </tr>\n",
       "    <tr>\n",
       "      <th>1</th>\n",
       "      <td>Confections</td>\n",
       "      <td>66337803.06499998</td>\n",
       "    </tr>\n",
       "    <tr>\n",
       "      <th>2</th>\n",
       "      <td>Meat/Poultry</td>\n",
       "      <td>64881147.969499916</td>\n",
       "    </tr>\n",
       "    <tr>\n",
       "      <th>3</th>\n",
       "      <td>Dairy Products</td>\n",
       "      <td>58018116.78500001</td>\n",
       "    </tr>\n",
       "    <tr>\n",
       "      <th>4</th>\n",
       "      <td>Condiments</td>\n",
       "      <td>55795126.78499997</td>\n",
       "    </tr>\n",
       "    <tr>\n",
       "      <th>5</th>\n",
       "      <td>Seafood</td>\n",
       "      <td>49921604.16749999</td>\n",
       "    </tr>\n",
       "    <tr>\n",
       "      <th>6</th>\n",
       "      <td>Produce</td>\n",
       "      <td>32701119.88000001</td>\n",
       "    </tr>\n",
       "    <tr>\n",
       "      <th>7</th>\n",
       "      <td>Grains/Cereals</td>\n",
       "      <td>28568530.3375</td>\n",
       "    </tr>\n",
       "  </tbody>\n",
       "</table>\n",
       "</div>"
      ],
      "text/plain": [
       "     CategoryName      category_total\n",
       "0       Beverages   92163184.17999999\n",
       "1     Confections   66337803.06499998\n",
       "2    Meat/Poultry  64881147.969499916\n",
       "3  Dairy Products   58018116.78500001\n",
       "4      Condiments   55795126.78499997\n",
       "5         Seafood   49921604.16749999\n",
       "6         Produce   32701119.88000001\n",
       "7  Grains/Cereals       28568530.3375"
      ]
     },
     "execution_count": 153,
     "metadata": {},
     "output_type": "execute_result"
    }
   ],
   "source": [
    "consulta= p_o_details_agg.group_by(\"CategoryName\").aggregate(category_total=p_o_details_agg[\"total\"].sum()).order_by(ibis.desc(\"category_total\"))\n",
    "consulta.to_pandas()"
   ]
  },
  {
   "cell_type": "code",
   "execution_count": 154,
   "metadata": {},
   "outputs": [
    {
     "data": {
      "text/markdown": [
       "```sql\n",
       "SELECT\n",
       "  *\n",
       "FROM (\n",
       "  SELECT\n",
       "    \"t10\".\"CategoryName\",\n",
       "    SUM(\"t10\".\"total\") AS \"category_total\"\n",
       "  FROM (\n",
       "    SELECT\n",
       "      *\n",
       "    FROM (\n",
       "      SELECT\n",
       "        \"t8\".\"CategoryName\",\n",
       "        \"t8\".\"ProductName\",\n",
       "        COUNT(\"t8\".\"OrderID\") AS \"num_orders\",\n",
       "        SUM((\n",
       "          \"t8\".\"Quantity\" * \"t8\".\"UnitPrice\"\n",
       "        ) * (\n",
       "          1 - \"t8\".\"Discount\"\n",
       "        )) AS \"total\"\n",
       "      FROM (\n",
       "        SELECT\n",
       "          \"t4\".\"CAST(OrderDate as Text)\",\n",
       "          \"t4\".\"OrderID\",\n",
       "          \"t5\".\"ProductID\",\n",
       "          \"t5\".\"UnitPrice\",\n",
       "          \"t5\".\"Quantity\",\n",
       "          \"t5\".\"Discount\",\n",
       "          \"t6\".\"ProductName\",\n",
       "          \"t6\".\"SupplierID\",\n",
       "          \"t6\".\"CategoryID\",\n",
       "          \"t6\".\"QuantityPerUnit\",\n",
       "          \"t6\".\"UnitPrice\" AS \"UnitPrice_right\",\n",
       "          \"t6\".\"UnitsInStock\",\n",
       "          \"t6\".\"UnitsOnOrder\",\n",
       "          \"t6\".\"ReorderLevel\",\n",
       "          \"t6\".\"Discontinued\",\n",
       "          \"t7\".\"CategoryName\",\n",
       "          \"t7\".\"Description\",\n",
       "          \"t7\".\"Picture\"\n",
       "        FROM (\n",
       "          SELECT\n",
       "            CAST(OrderDate AS TEXT),\n",
       "            OrderID\n",
       "          FROM Orders\n",
       "        ) AS \"t4\"\n",
       "        INNER JOIN \"Order Details\" AS \"t5\"\n",
       "          ON \"t4\".\"OrderID\" = \"t5\".\"OrderID\"\n",
       "        INNER JOIN \"Products\" AS \"t6\"\n",
       "          ON \"t5\".\"ProductID\" = \"t6\".\"ProductID\"\n",
       "        INNER JOIN \"Categories\" AS \"t7\"\n",
       "          ON \"t6\".\"CategoryID\" = \"t7\".\"CategoryID\"\n",
       "      ) AS \"t8\"\n",
       "      GROUP BY\n",
       "        1,\n",
       "        2\n",
       "    ) AS \"t9\"\n",
       "    ORDER BY\n",
       "      \"t9\".\"num_orders\" DESC,\n",
       "      \"t9\".\"total\" DESC\n",
       "  ) AS \"t10\"\n",
       "  GROUP BY\n",
       "    1\n",
       ") AS \"t11\"\n",
       "ORDER BY\n",
       "  \"t11\".\"category_total\" DESC\n",
       "```"
      ],
      "text/plain": [
       "\u001b[34mSELECT\u001b[39;49;00m\u001b[37m\u001b[39;49;00m\n",
       "\u001b[37m  \u001b[39;49;00m*\u001b[37m\u001b[39;49;00m\n",
       "\u001b[34mFROM\u001b[39;49;00m\u001b[37m \u001b[39;49;00m(\u001b[37m\u001b[39;49;00m\n",
       "\u001b[37m  \u001b[39;49;00m\u001b[34mSELECT\u001b[39;49;00m\u001b[37m\u001b[39;49;00m\n",
       "\u001b[37m    \u001b[39;49;00m\u001b[33m\"t10\"\u001b[39;49;00m.\u001b[33m\"CategoryName\"\u001b[39;49;00m,\u001b[37m\u001b[39;49;00m\n",
       "\u001b[37m    \u001b[39;49;00m\u001b[34mSUM\u001b[39;49;00m(\u001b[33m\"t10\"\u001b[39;49;00m.\u001b[33m\"total\"\u001b[39;49;00m)\u001b[37m \u001b[39;49;00m\u001b[34mAS\u001b[39;49;00m\u001b[37m \u001b[39;49;00m\u001b[33m\"category_total\"\u001b[39;49;00m\u001b[37m\u001b[39;49;00m\n",
       "\u001b[37m  \u001b[39;49;00m\u001b[34mFROM\u001b[39;49;00m\u001b[37m \u001b[39;49;00m(\u001b[37m\u001b[39;49;00m\n",
       "\u001b[37m    \u001b[39;49;00m\u001b[34mSELECT\u001b[39;49;00m\u001b[37m\u001b[39;49;00m\n",
       "\u001b[37m      \u001b[39;49;00m*\u001b[37m\u001b[39;49;00m\n",
       "\u001b[37m    \u001b[39;49;00m\u001b[34mFROM\u001b[39;49;00m\u001b[37m \u001b[39;49;00m(\u001b[37m\u001b[39;49;00m\n",
       "\u001b[37m      \u001b[39;49;00m\u001b[34mSELECT\u001b[39;49;00m\u001b[37m\u001b[39;49;00m\n",
       "\u001b[37m        \u001b[39;49;00m\u001b[33m\"t8\"\u001b[39;49;00m.\u001b[33m\"CategoryName\"\u001b[39;49;00m,\u001b[37m\u001b[39;49;00m\n",
       "\u001b[37m        \u001b[39;49;00m\u001b[33m\"t8\"\u001b[39;49;00m.\u001b[33m\"ProductName\"\u001b[39;49;00m,\u001b[37m\u001b[39;49;00m\n",
       "\u001b[37m        \u001b[39;49;00m\u001b[34mCOUNT\u001b[39;49;00m(\u001b[33m\"t8\"\u001b[39;49;00m.\u001b[33m\"OrderID\"\u001b[39;49;00m)\u001b[37m \u001b[39;49;00m\u001b[34mAS\u001b[39;49;00m\u001b[37m \u001b[39;49;00m\u001b[33m\"num_orders\"\u001b[39;49;00m,\u001b[37m\u001b[39;49;00m\n",
       "\u001b[37m        \u001b[39;49;00m\u001b[34mSUM\u001b[39;49;00m((\u001b[37m\u001b[39;49;00m\n",
       "\u001b[37m          \u001b[39;49;00m\u001b[33m\"t8\"\u001b[39;49;00m.\u001b[33m\"Quantity\"\u001b[39;49;00m\u001b[37m \u001b[39;49;00m*\u001b[37m \u001b[39;49;00m\u001b[33m\"t8\"\u001b[39;49;00m.\u001b[33m\"UnitPrice\"\u001b[39;49;00m\u001b[37m\u001b[39;49;00m\n",
       "\u001b[37m        \u001b[39;49;00m)\u001b[37m \u001b[39;49;00m*\u001b[37m \u001b[39;49;00m(\u001b[37m\u001b[39;49;00m\n",
       "\u001b[37m          \u001b[39;49;00m\u001b[34m1\u001b[39;49;00m\u001b[37m \u001b[39;49;00m-\u001b[37m \u001b[39;49;00m\u001b[33m\"t8\"\u001b[39;49;00m.\u001b[33m\"Discount\"\u001b[39;49;00m\u001b[37m\u001b[39;49;00m\n",
       "\u001b[37m        \u001b[39;49;00m))\u001b[37m \u001b[39;49;00m\u001b[34mAS\u001b[39;49;00m\u001b[37m \u001b[39;49;00m\u001b[33m\"total\"\u001b[39;49;00m\u001b[37m\u001b[39;49;00m\n",
       "\u001b[37m      \u001b[39;49;00m\u001b[34mFROM\u001b[39;49;00m\u001b[37m \u001b[39;49;00m(\u001b[37m\u001b[39;49;00m\n",
       "\u001b[37m        \u001b[39;49;00m\u001b[34mSELECT\u001b[39;49;00m\u001b[37m\u001b[39;49;00m\n",
       "\u001b[37m          \u001b[39;49;00m\u001b[33m\"t4\"\u001b[39;49;00m.\u001b[33m\"CAST(OrderDate as Text)\"\u001b[39;49;00m,\u001b[37m\u001b[39;49;00m\n",
       "\u001b[37m          \u001b[39;49;00m\u001b[33m\"t4\"\u001b[39;49;00m.\u001b[33m\"OrderID\"\u001b[39;49;00m,\u001b[37m\u001b[39;49;00m\n",
       "\u001b[37m          \u001b[39;49;00m\u001b[33m\"t5\"\u001b[39;49;00m.\u001b[33m\"ProductID\"\u001b[39;49;00m,\u001b[37m\u001b[39;49;00m\n",
       "\u001b[37m          \u001b[39;49;00m\u001b[33m\"t5\"\u001b[39;49;00m.\u001b[33m\"UnitPrice\"\u001b[39;49;00m,\u001b[37m\u001b[39;49;00m\n",
       "\u001b[37m          \u001b[39;49;00m\u001b[33m\"t5\"\u001b[39;49;00m.\u001b[33m\"Quantity\"\u001b[39;49;00m,\u001b[37m\u001b[39;49;00m\n",
       "\u001b[37m          \u001b[39;49;00m\u001b[33m\"t5\"\u001b[39;49;00m.\u001b[33m\"Discount\"\u001b[39;49;00m,\u001b[37m\u001b[39;49;00m\n",
       "\u001b[37m          \u001b[39;49;00m\u001b[33m\"t6\"\u001b[39;49;00m.\u001b[33m\"ProductName\"\u001b[39;49;00m,\u001b[37m\u001b[39;49;00m\n",
       "\u001b[37m          \u001b[39;49;00m\u001b[33m\"t6\"\u001b[39;49;00m.\u001b[33m\"SupplierID\"\u001b[39;49;00m,\u001b[37m\u001b[39;49;00m\n",
       "\u001b[37m          \u001b[39;49;00m\u001b[33m\"t6\"\u001b[39;49;00m.\u001b[33m\"CategoryID\"\u001b[39;49;00m,\u001b[37m\u001b[39;49;00m\n",
       "\u001b[37m          \u001b[39;49;00m\u001b[33m\"t6\"\u001b[39;49;00m.\u001b[33m\"QuantityPerUnit\"\u001b[39;49;00m,\u001b[37m\u001b[39;49;00m\n",
       "\u001b[37m          \u001b[39;49;00m\u001b[33m\"t6\"\u001b[39;49;00m.\u001b[33m\"UnitPrice\"\u001b[39;49;00m\u001b[37m \u001b[39;49;00m\u001b[34mAS\u001b[39;49;00m\u001b[37m \u001b[39;49;00m\u001b[33m\"UnitPrice_right\"\u001b[39;49;00m,\u001b[37m\u001b[39;49;00m\n",
       "\u001b[37m          \u001b[39;49;00m\u001b[33m\"t6\"\u001b[39;49;00m.\u001b[33m\"UnitsInStock\"\u001b[39;49;00m,\u001b[37m\u001b[39;49;00m\n",
       "\u001b[37m          \u001b[39;49;00m\u001b[33m\"t6\"\u001b[39;49;00m.\u001b[33m\"UnitsOnOrder\"\u001b[39;49;00m,\u001b[37m\u001b[39;49;00m\n",
       "\u001b[37m          \u001b[39;49;00m\u001b[33m\"t6\"\u001b[39;49;00m.\u001b[33m\"ReorderLevel\"\u001b[39;49;00m,\u001b[37m\u001b[39;49;00m\n",
       "\u001b[37m          \u001b[39;49;00m\u001b[33m\"t6\"\u001b[39;49;00m.\u001b[33m\"Discontinued\"\u001b[39;49;00m,\u001b[37m\u001b[39;49;00m\n",
       "\u001b[37m          \u001b[39;49;00m\u001b[33m\"t7\"\u001b[39;49;00m.\u001b[33m\"CategoryName\"\u001b[39;49;00m,\u001b[37m\u001b[39;49;00m\n",
       "\u001b[37m          \u001b[39;49;00m\u001b[33m\"t7\"\u001b[39;49;00m.\u001b[33m\"Description\"\u001b[39;49;00m,\u001b[37m\u001b[39;49;00m\n",
       "\u001b[37m          \u001b[39;49;00m\u001b[33m\"t7\"\u001b[39;49;00m.\u001b[33m\"Picture\"\u001b[39;49;00m\u001b[37m\u001b[39;49;00m\n",
       "\u001b[37m        \u001b[39;49;00m\u001b[34mFROM\u001b[39;49;00m\u001b[37m \u001b[39;49;00m(\u001b[37m\u001b[39;49;00m\n",
       "\u001b[37m          \u001b[39;49;00m\u001b[34mSELECT\u001b[39;49;00m\u001b[37m\u001b[39;49;00m\n",
       "\u001b[37m            \u001b[39;49;00m\u001b[34mCAST\u001b[39;49;00m(OrderDate\u001b[37m \u001b[39;49;00m\u001b[34mAS\u001b[39;49;00m\u001b[37m \u001b[39;49;00m\u001b[36mTEXT\u001b[39;49;00m),\u001b[37m\u001b[39;49;00m\n",
       "\u001b[37m            \u001b[39;49;00mOrderID\u001b[37m\u001b[39;49;00m\n",
       "\u001b[37m          \u001b[39;49;00m\u001b[34mFROM\u001b[39;49;00m\u001b[37m \u001b[39;49;00mOrders\u001b[37m\u001b[39;49;00m\n",
       "\u001b[37m        \u001b[39;49;00m)\u001b[37m \u001b[39;49;00m\u001b[34mAS\u001b[39;49;00m\u001b[37m \u001b[39;49;00m\u001b[33m\"t4\"\u001b[39;49;00m\u001b[37m\u001b[39;49;00m\n",
       "\u001b[37m        \u001b[39;49;00m\u001b[34mINNER\u001b[39;49;00m\u001b[37m \u001b[39;49;00m\u001b[34mJOIN\u001b[39;49;00m\u001b[37m \u001b[39;49;00m\u001b[33m\"Order Details\"\u001b[39;49;00m\u001b[37m \u001b[39;49;00m\u001b[34mAS\u001b[39;49;00m\u001b[37m \u001b[39;49;00m\u001b[33m\"t5\"\u001b[39;49;00m\u001b[37m\u001b[39;49;00m\n",
       "\u001b[37m          \u001b[39;49;00m\u001b[34mON\u001b[39;49;00m\u001b[37m \u001b[39;49;00m\u001b[33m\"t4\"\u001b[39;49;00m.\u001b[33m\"OrderID\"\u001b[39;49;00m\u001b[37m \u001b[39;49;00m=\u001b[37m \u001b[39;49;00m\u001b[33m\"t5\"\u001b[39;49;00m.\u001b[33m\"OrderID\"\u001b[39;49;00m\u001b[37m\u001b[39;49;00m\n",
       "\u001b[37m        \u001b[39;49;00m\u001b[34mINNER\u001b[39;49;00m\u001b[37m \u001b[39;49;00m\u001b[34mJOIN\u001b[39;49;00m\u001b[37m \u001b[39;49;00m\u001b[33m\"Products\"\u001b[39;49;00m\u001b[37m \u001b[39;49;00m\u001b[34mAS\u001b[39;49;00m\u001b[37m \u001b[39;49;00m\u001b[33m\"t6\"\u001b[39;49;00m\u001b[37m\u001b[39;49;00m\n",
       "\u001b[37m          \u001b[39;49;00m\u001b[34mON\u001b[39;49;00m\u001b[37m \u001b[39;49;00m\u001b[33m\"t5\"\u001b[39;49;00m.\u001b[33m\"ProductID\"\u001b[39;49;00m\u001b[37m \u001b[39;49;00m=\u001b[37m \u001b[39;49;00m\u001b[33m\"t6\"\u001b[39;49;00m.\u001b[33m\"ProductID\"\u001b[39;49;00m\u001b[37m\u001b[39;49;00m\n",
       "\u001b[37m        \u001b[39;49;00m\u001b[34mINNER\u001b[39;49;00m\u001b[37m \u001b[39;49;00m\u001b[34mJOIN\u001b[39;49;00m\u001b[37m \u001b[39;49;00m\u001b[33m\"Categories\"\u001b[39;49;00m\u001b[37m \u001b[39;49;00m\u001b[34mAS\u001b[39;49;00m\u001b[37m \u001b[39;49;00m\u001b[33m\"t7\"\u001b[39;49;00m\u001b[37m\u001b[39;49;00m\n",
       "\u001b[37m          \u001b[39;49;00m\u001b[34mON\u001b[39;49;00m\u001b[37m \u001b[39;49;00m\u001b[33m\"t6\"\u001b[39;49;00m.\u001b[33m\"CategoryID\"\u001b[39;49;00m\u001b[37m \u001b[39;49;00m=\u001b[37m \u001b[39;49;00m\u001b[33m\"t7\"\u001b[39;49;00m.\u001b[33m\"CategoryID\"\u001b[39;49;00m\u001b[37m\u001b[39;49;00m\n",
       "\u001b[37m      \u001b[39;49;00m)\u001b[37m \u001b[39;49;00m\u001b[34mAS\u001b[39;49;00m\u001b[37m \u001b[39;49;00m\u001b[33m\"t8\"\u001b[39;49;00m\u001b[37m\u001b[39;49;00m\n",
       "\u001b[37m      \u001b[39;49;00m\u001b[34mGROUP\u001b[39;49;00m\u001b[37m \u001b[39;49;00m\u001b[34mBY\u001b[39;49;00m\u001b[37m\u001b[39;49;00m\n",
       "\u001b[37m        \u001b[39;49;00m\u001b[34m1\u001b[39;49;00m,\u001b[37m\u001b[39;49;00m\n",
       "\u001b[37m        \u001b[39;49;00m\u001b[34m2\u001b[39;49;00m\u001b[37m\u001b[39;49;00m\n",
       "\u001b[37m    \u001b[39;49;00m)\u001b[37m \u001b[39;49;00m\u001b[34mAS\u001b[39;49;00m\u001b[37m \u001b[39;49;00m\u001b[33m\"t9\"\u001b[39;49;00m\u001b[37m\u001b[39;49;00m\n",
       "\u001b[37m    \u001b[39;49;00m\u001b[34mORDER\u001b[39;49;00m\u001b[37m \u001b[39;49;00m\u001b[34mBY\u001b[39;49;00m\u001b[37m\u001b[39;49;00m\n",
       "\u001b[37m      \u001b[39;49;00m\u001b[33m\"t9\"\u001b[39;49;00m.\u001b[33m\"num_orders\"\u001b[39;49;00m\u001b[37m \u001b[39;49;00m\u001b[34mDESC\u001b[39;49;00m,\u001b[37m\u001b[39;49;00m\n",
       "\u001b[37m      \u001b[39;49;00m\u001b[33m\"t9\"\u001b[39;49;00m.\u001b[33m\"total\"\u001b[39;49;00m\u001b[37m \u001b[39;49;00m\u001b[34mDESC\u001b[39;49;00m\u001b[37m\u001b[39;49;00m\n",
       "\u001b[37m  \u001b[39;49;00m)\u001b[37m \u001b[39;49;00m\u001b[34mAS\u001b[39;49;00m\u001b[37m \u001b[39;49;00m\u001b[33m\"t10\"\u001b[39;49;00m\u001b[37m\u001b[39;49;00m\n",
       "\u001b[37m  \u001b[39;49;00m\u001b[34mGROUP\u001b[39;49;00m\u001b[37m \u001b[39;49;00m\u001b[34mBY\u001b[39;49;00m\u001b[37m\u001b[39;49;00m\n",
       "\u001b[37m    \u001b[39;49;00m\u001b[34m1\u001b[39;49;00m\u001b[37m\u001b[39;49;00m\n",
       ")\u001b[37m \u001b[39;49;00m\u001b[34mAS\u001b[39;49;00m\u001b[37m \u001b[39;49;00m\u001b[33m\"t11\"\u001b[39;49;00m\u001b[37m\u001b[39;49;00m\n",
       "\u001b[34mORDER\u001b[39;49;00m\u001b[37m \u001b[39;49;00m\u001b[34mBY\u001b[39;49;00m\u001b[37m\u001b[39;49;00m\n",
       "\u001b[37m  \u001b[39;49;00m\u001b[33m\"t11\"\u001b[39;49;00m.\u001b[33m\"category_total\"\u001b[39;49;00m\u001b[37m \u001b[39;49;00m\u001b[34mDESC\u001b[39;49;00m\u001b[37m\u001b[39;49;00m"
      ]
     },
     "execution_count": 154,
     "metadata": {},
     "output_type": "execute_result"
    }
   ],
   "source": [
    "ibis.to_sql(consulta)"
   ]
  },
  {
   "cell_type": "markdown",
   "metadata": {},
   "source": [
    "Una vez sabemos cómo obtener el dato, solo debemos representarlo gráficamente."
   ]
  },
  {
   "cell_type": "code",
   "execution_count": 155,
   "metadata": {},
   "outputs": [
    {
     "data": {
      "application/vnd.plotly.v1+json": {
       "config": {
        "plotlyServerURL": "https://plot.ly"
       },
       "data": [
        {
         "alignmentgroup": "True",
         "hovertemplate": "CategoryName=%{x}<br>category_total=%{y}<extra></extra>",
         "legendgroup": "",
         "marker": {
          "color": "#636efa",
          "pattern": {
           "shape": ""
          }
         },
         "name": "",
         "offsetgroup": "",
         "orientation": "v",
         "showlegend": false,
         "textposition": "auto",
         "type": "bar",
         "x": [
          "Beverages",
          "Confections",
          "Meat/Poultry",
          "Dairy Products",
          "Condiments",
          "Seafood",
          "Produce",
          "Grains/Cereals"
         ],
         "xaxis": "x",
         "y": [
          92163184.17999999,
          66337803.06499998,
          64881147.969499916,
          58018116.78500001,
          55795126.78499997,
          49921604.16749999,
          32701119.88000001,
          28568530.3375
         ],
         "yaxis": "y"
        }
       ],
       "layout": {
        "barmode": "relative",
        "legend": {
         "tracegroupgap": 0
        },
        "margin": {
         "t": 60
        },
        "template": {
         "data": {
          "bar": [
           {
            "error_x": {
             "color": "#2a3f5f"
            },
            "error_y": {
             "color": "#2a3f5f"
            },
            "marker": {
             "line": {
              "color": "#E5ECF6",
              "width": 0.5
             },
             "pattern": {
              "fillmode": "overlay",
              "size": 10,
              "solidity": 0.2
             }
            },
            "type": "bar"
           }
          ],
          "barpolar": [
           {
            "marker": {
             "line": {
              "color": "#E5ECF6",
              "width": 0.5
             },
             "pattern": {
              "fillmode": "overlay",
              "size": 10,
              "solidity": 0.2
             }
            },
            "type": "barpolar"
           }
          ],
          "carpet": [
           {
            "aaxis": {
             "endlinecolor": "#2a3f5f",
             "gridcolor": "white",
             "linecolor": "white",
             "minorgridcolor": "white",
             "startlinecolor": "#2a3f5f"
            },
            "baxis": {
             "endlinecolor": "#2a3f5f",
             "gridcolor": "white",
             "linecolor": "white",
             "minorgridcolor": "white",
             "startlinecolor": "#2a3f5f"
            },
            "type": "carpet"
           }
          ],
          "choropleth": [
           {
            "colorbar": {
             "outlinewidth": 0,
             "ticks": ""
            },
            "type": "choropleth"
           }
          ],
          "contour": [
           {
            "colorbar": {
             "outlinewidth": 0,
             "ticks": ""
            },
            "colorscale": [
             [
              0,
              "#0d0887"
             ],
             [
              0.1111111111111111,
              "#46039f"
             ],
             [
              0.2222222222222222,
              "#7201a8"
             ],
             [
              0.3333333333333333,
              "#9c179e"
             ],
             [
              0.4444444444444444,
              "#bd3786"
             ],
             [
              0.5555555555555556,
              "#d8576b"
             ],
             [
              0.6666666666666666,
              "#ed7953"
             ],
             [
              0.7777777777777778,
              "#fb9f3a"
             ],
             [
              0.8888888888888888,
              "#fdca26"
             ],
             [
              1,
              "#f0f921"
             ]
            ],
            "type": "contour"
           }
          ],
          "contourcarpet": [
           {
            "colorbar": {
             "outlinewidth": 0,
             "ticks": ""
            },
            "type": "contourcarpet"
           }
          ],
          "heatmap": [
           {
            "colorbar": {
             "outlinewidth": 0,
             "ticks": ""
            },
            "colorscale": [
             [
              0,
              "#0d0887"
             ],
             [
              0.1111111111111111,
              "#46039f"
             ],
             [
              0.2222222222222222,
              "#7201a8"
             ],
             [
              0.3333333333333333,
              "#9c179e"
             ],
             [
              0.4444444444444444,
              "#bd3786"
             ],
             [
              0.5555555555555556,
              "#d8576b"
             ],
             [
              0.6666666666666666,
              "#ed7953"
             ],
             [
              0.7777777777777778,
              "#fb9f3a"
             ],
             [
              0.8888888888888888,
              "#fdca26"
             ],
             [
              1,
              "#f0f921"
             ]
            ],
            "type": "heatmap"
           }
          ],
          "heatmapgl": [
           {
            "colorbar": {
             "outlinewidth": 0,
             "ticks": ""
            },
            "colorscale": [
             [
              0,
              "#0d0887"
             ],
             [
              0.1111111111111111,
              "#46039f"
             ],
             [
              0.2222222222222222,
              "#7201a8"
             ],
             [
              0.3333333333333333,
              "#9c179e"
             ],
             [
              0.4444444444444444,
              "#bd3786"
             ],
             [
              0.5555555555555556,
              "#d8576b"
             ],
             [
              0.6666666666666666,
              "#ed7953"
             ],
             [
              0.7777777777777778,
              "#fb9f3a"
             ],
             [
              0.8888888888888888,
              "#fdca26"
             ],
             [
              1,
              "#f0f921"
             ]
            ],
            "type": "heatmapgl"
           }
          ],
          "histogram": [
           {
            "marker": {
             "pattern": {
              "fillmode": "overlay",
              "size": 10,
              "solidity": 0.2
             }
            },
            "type": "histogram"
           }
          ],
          "histogram2d": [
           {
            "colorbar": {
             "outlinewidth": 0,
             "ticks": ""
            },
            "colorscale": [
             [
              0,
              "#0d0887"
             ],
             [
              0.1111111111111111,
              "#46039f"
             ],
             [
              0.2222222222222222,
              "#7201a8"
             ],
             [
              0.3333333333333333,
              "#9c179e"
             ],
             [
              0.4444444444444444,
              "#bd3786"
             ],
             [
              0.5555555555555556,
              "#d8576b"
             ],
             [
              0.6666666666666666,
              "#ed7953"
             ],
             [
              0.7777777777777778,
              "#fb9f3a"
             ],
             [
              0.8888888888888888,
              "#fdca26"
             ],
             [
              1,
              "#f0f921"
             ]
            ],
            "type": "histogram2d"
           }
          ],
          "histogram2dcontour": [
           {
            "colorbar": {
             "outlinewidth": 0,
             "ticks": ""
            },
            "colorscale": [
             [
              0,
              "#0d0887"
             ],
             [
              0.1111111111111111,
              "#46039f"
             ],
             [
              0.2222222222222222,
              "#7201a8"
             ],
             [
              0.3333333333333333,
              "#9c179e"
             ],
             [
              0.4444444444444444,
              "#bd3786"
             ],
             [
              0.5555555555555556,
              "#d8576b"
             ],
             [
              0.6666666666666666,
              "#ed7953"
             ],
             [
              0.7777777777777778,
              "#fb9f3a"
             ],
             [
              0.8888888888888888,
              "#fdca26"
             ],
             [
              1,
              "#f0f921"
             ]
            ],
            "type": "histogram2dcontour"
           }
          ],
          "mesh3d": [
           {
            "colorbar": {
             "outlinewidth": 0,
             "ticks": ""
            },
            "type": "mesh3d"
           }
          ],
          "parcoords": [
           {
            "line": {
             "colorbar": {
              "outlinewidth": 0,
              "ticks": ""
             }
            },
            "type": "parcoords"
           }
          ],
          "pie": [
           {
            "automargin": true,
            "type": "pie"
           }
          ],
          "scatter": [
           {
            "fillpattern": {
             "fillmode": "overlay",
             "size": 10,
             "solidity": 0.2
            },
            "type": "scatter"
           }
          ],
          "scatter3d": [
           {
            "line": {
             "colorbar": {
              "outlinewidth": 0,
              "ticks": ""
             }
            },
            "marker": {
             "colorbar": {
              "outlinewidth": 0,
              "ticks": ""
             }
            },
            "type": "scatter3d"
           }
          ],
          "scattercarpet": [
           {
            "marker": {
             "colorbar": {
              "outlinewidth": 0,
              "ticks": ""
             }
            },
            "type": "scattercarpet"
           }
          ],
          "scattergeo": [
           {
            "marker": {
             "colorbar": {
              "outlinewidth": 0,
              "ticks": ""
             }
            },
            "type": "scattergeo"
           }
          ],
          "scattergl": [
           {
            "marker": {
             "colorbar": {
              "outlinewidth": 0,
              "ticks": ""
             }
            },
            "type": "scattergl"
           }
          ],
          "scattermapbox": [
           {
            "marker": {
             "colorbar": {
              "outlinewidth": 0,
              "ticks": ""
             }
            },
            "type": "scattermapbox"
           }
          ],
          "scatterpolar": [
           {
            "marker": {
             "colorbar": {
              "outlinewidth": 0,
              "ticks": ""
             }
            },
            "type": "scatterpolar"
           }
          ],
          "scatterpolargl": [
           {
            "marker": {
             "colorbar": {
              "outlinewidth": 0,
              "ticks": ""
             }
            },
            "type": "scatterpolargl"
           }
          ],
          "scatterternary": [
           {
            "marker": {
             "colorbar": {
              "outlinewidth": 0,
              "ticks": ""
             }
            },
            "type": "scatterternary"
           }
          ],
          "surface": [
           {
            "colorbar": {
             "outlinewidth": 0,
             "ticks": ""
            },
            "colorscale": [
             [
              0,
              "#0d0887"
             ],
             [
              0.1111111111111111,
              "#46039f"
             ],
             [
              0.2222222222222222,
              "#7201a8"
             ],
             [
              0.3333333333333333,
              "#9c179e"
             ],
             [
              0.4444444444444444,
              "#bd3786"
             ],
             [
              0.5555555555555556,
              "#d8576b"
             ],
             [
              0.6666666666666666,
              "#ed7953"
             ],
             [
              0.7777777777777778,
              "#fb9f3a"
             ],
             [
              0.8888888888888888,
              "#fdca26"
             ],
             [
              1,
              "#f0f921"
             ]
            ],
            "type": "surface"
           }
          ],
          "table": [
           {
            "cells": {
             "fill": {
              "color": "#EBF0F8"
             },
             "line": {
              "color": "white"
             }
            },
            "header": {
             "fill": {
              "color": "#C8D4E3"
             },
             "line": {
              "color": "white"
             }
            },
            "type": "table"
           }
          ]
         },
         "layout": {
          "annotationdefaults": {
           "arrowcolor": "#2a3f5f",
           "arrowhead": 0,
           "arrowwidth": 1
          },
          "autotypenumbers": "strict",
          "coloraxis": {
           "colorbar": {
            "outlinewidth": 0,
            "ticks": ""
           }
          },
          "colorscale": {
           "diverging": [
            [
             0,
             "#8e0152"
            ],
            [
             0.1,
             "#c51b7d"
            ],
            [
             0.2,
             "#de77ae"
            ],
            [
             0.3,
             "#f1b6da"
            ],
            [
             0.4,
             "#fde0ef"
            ],
            [
             0.5,
             "#f7f7f7"
            ],
            [
             0.6,
             "#e6f5d0"
            ],
            [
             0.7,
             "#b8e186"
            ],
            [
             0.8,
             "#7fbc41"
            ],
            [
             0.9,
             "#4d9221"
            ],
            [
             1,
             "#276419"
            ]
           ],
           "sequential": [
            [
             0,
             "#0d0887"
            ],
            [
             0.1111111111111111,
             "#46039f"
            ],
            [
             0.2222222222222222,
             "#7201a8"
            ],
            [
             0.3333333333333333,
             "#9c179e"
            ],
            [
             0.4444444444444444,
             "#bd3786"
            ],
            [
             0.5555555555555556,
             "#d8576b"
            ],
            [
             0.6666666666666666,
             "#ed7953"
            ],
            [
             0.7777777777777778,
             "#fb9f3a"
            ],
            [
             0.8888888888888888,
             "#fdca26"
            ],
            [
             1,
             "#f0f921"
            ]
           ],
           "sequentialminus": [
            [
             0,
             "#0d0887"
            ],
            [
             0.1111111111111111,
             "#46039f"
            ],
            [
             0.2222222222222222,
             "#7201a8"
            ],
            [
             0.3333333333333333,
             "#9c179e"
            ],
            [
             0.4444444444444444,
             "#bd3786"
            ],
            [
             0.5555555555555556,
             "#d8576b"
            ],
            [
             0.6666666666666666,
             "#ed7953"
            ],
            [
             0.7777777777777778,
             "#fb9f3a"
            ],
            [
             0.8888888888888888,
             "#fdca26"
            ],
            [
             1,
             "#f0f921"
            ]
           ]
          },
          "colorway": [
           "#636efa",
           "#EF553B",
           "#00cc96",
           "#ab63fa",
           "#FFA15A",
           "#19d3f3",
           "#FF6692",
           "#B6E880",
           "#FF97FF",
           "#FECB52"
          ],
          "font": {
           "color": "#2a3f5f"
          },
          "geo": {
           "bgcolor": "white",
           "lakecolor": "white",
           "landcolor": "#E5ECF6",
           "showlakes": true,
           "showland": true,
           "subunitcolor": "white"
          },
          "hoverlabel": {
           "align": "left"
          },
          "hovermode": "closest",
          "mapbox": {
           "style": "light"
          },
          "paper_bgcolor": "white",
          "plot_bgcolor": "#E5ECF6",
          "polar": {
           "angularaxis": {
            "gridcolor": "white",
            "linecolor": "white",
            "ticks": ""
           },
           "bgcolor": "#E5ECF6",
           "radialaxis": {
            "gridcolor": "white",
            "linecolor": "white",
            "ticks": ""
           }
          },
          "scene": {
           "xaxis": {
            "backgroundcolor": "#E5ECF6",
            "gridcolor": "white",
            "gridwidth": 2,
            "linecolor": "white",
            "showbackground": true,
            "ticks": "",
            "zerolinecolor": "white"
           },
           "yaxis": {
            "backgroundcolor": "#E5ECF6",
            "gridcolor": "white",
            "gridwidth": 2,
            "linecolor": "white",
            "showbackground": true,
            "ticks": "",
            "zerolinecolor": "white"
           },
           "zaxis": {
            "backgroundcolor": "#E5ECF6",
            "gridcolor": "white",
            "gridwidth": 2,
            "linecolor": "white",
            "showbackground": true,
            "ticks": "",
            "zerolinecolor": "white"
           }
          },
          "shapedefaults": {
           "line": {
            "color": "#2a3f5f"
           }
          },
          "ternary": {
           "aaxis": {
            "gridcolor": "white",
            "linecolor": "white",
            "ticks": ""
           },
           "baxis": {
            "gridcolor": "white",
            "linecolor": "white",
            "ticks": ""
           },
           "bgcolor": "#E5ECF6",
           "caxis": {
            "gridcolor": "white",
            "linecolor": "white",
            "ticks": ""
           }
          },
          "title": {
           "x": 0.05
          },
          "xaxis": {
           "automargin": true,
           "gridcolor": "white",
           "linecolor": "white",
           "ticks": "",
           "title": {
            "standoff": 15
           },
           "zerolinecolor": "white",
           "zerolinewidth": 2
          },
          "yaxis": {
           "automargin": true,
           "gridcolor": "white",
           "linecolor": "white",
           "ticks": "",
           "title": {
            "standoff": 15
           },
           "zerolinecolor": "white",
           "zerolinewidth": 2
          }
         }
        },
        "xaxis": {
         "anchor": "y",
         "domain": [
          0,
          1
         ],
         "title": {
          "text": "CategoryName"
         }
        },
        "yaxis": {
         "anchor": "x",
         "domain": [
          0,
          1
         ],
         "title": {
          "text": "category_total"
         }
        }
       }
      }
     },
     "metadata": {},
     "output_type": "display_data"
    }
   ],
   "source": [
    "precio_por_categoría = consulta.to_pandas()\n",
    "\n",
    "fig = px.bar(precio_por_categoría, x='CategoryName', y=\"category_total\")\n",
    "fig.show()"
   ]
  },
  {
   "cell_type": "code",
   "execution_count": 157,
   "metadata": {},
   "outputs": [
    {
     "data": {
      "application/vnd.plotly.v1+json": {
       "config": {
        "plotlyServerURL": "https://plot.ly"
       },
       "data": [
        {
         "alignmentgroup": "True",
         "hovertemplate": "CategoryName=Condiments<br>ProductName=%{x}<br>total=%{y}<extra></extra>",
         "legendgroup": "Condiments",
         "marker": {
          "color": "#636efa",
          "pattern": {
           "shape": ""
          }
         },
         "name": "Condiments",
         "offsetgroup": "Condiments",
         "orientation": "v",
         "showlegend": true,
         "textposition": "auto",
         "type": "bar",
         "x": [
          "Louisiana Hot Spiced Okra",
          "Genen Shouyu",
          "Sirop d'érable",
          "Grandma's Boysenberry Spread",
          "Original Frankfurter grüne Soße",
          "Aniseed Syrup",
          "Louisiana Fiery Hot Pepper Sauce",
          "Northwoods Cranberry Sauce",
          "Chef Anton's Cajun Seasoning",
          "Vegie-spread",
          "Gula Malacca",
          "Chef Anton's Gumbo Mix"
         ],
         "xaxis": "x",
         "y": [
          3504941,
          3126197.325,
          5839809.6,
          5037487,
          2622964.63,
          2021624,
          4245004.089999992,
          8073652,
          4370573.9,
          8810705.194999982,
          3881146.6949999924,
          4261021.349999991
         ],
         "yaxis": "y"
        },
        {
         "alignmentgroup": "True",
         "hovertemplate": "CategoryName=Confections<br>ProductName=%{x}<br>total=%{y}<extra></extra>",
         "legendgroup": "Confections",
         "marker": {
          "color": "#EF553B",
          "pattern": {
           "shape": ""
          }
         },
         "name": "Confections",
         "offsetgroup": "Confections",
         "orientation": "v",
         "showlegend": true,
         "textposition": "auto",
         "type": "bar",
         "x": [
          "Teatime Chocolate Biscuits",
          "Sir Rodney's Marmalade",
          "Gumbär Gummibärchen",
          "Maxilaku",
          "NuNuCa Nuß-Nougat-Creme",
          "Tarte au sucre",
          "Pavlova",
          "Chocolade",
          "Schoggi Schokolade",
          "Valkoinen suklaa",
          "Sir Rodney's Scones",
          "Scottish Longbreads",
          "Zaanse koeken"
         ],
         "xaxis": "x",
         "y": [
          1889691.4200000037,
          16653807.36,
          6391018.984499998,
          4021924.6,
          2812216.4,
          9952936.070000008,
          3521612.0255000037,
          2571692.2125,
          8829078.474999968,
          3259726.4375,
          2026714,
          2528089,
          1879296.08
         ],
         "yaxis": "y"
        },
        {
         "alignmentgroup": "True",
         "hovertemplate": "CategoryName=Beverages<br>ProductName=%{x}<br>total=%{y}<extra></extra>",
         "legendgroup": "Beverages",
         "marker": {
          "color": "#00cc96",
          "pattern": {
           "shape": ""
          }
         },
         "name": "Beverages",
         "offsetgroup": "Beverages",
         "orientation": "v",
         "showlegend": true,
         "textposition": "auto",
         "type": "bar",
         "x": [
          "Outback Lager",
          "Chartreuse verte",
          "Sasquatch Ale",
          "Rhönbräu Klosterbier",
          "Lakkalikööri",
          "Ipoh Coffee",
          "Chang",
          "Chai",
          "Côte de Blaye",
          "Steeleye Stout",
          "Guaraná Fantástica",
          "Laughing Lumberjack Lager"
         ],
         "xaxis": "x",
         "y": [
          3064462.65,
          3634326.54,
          2850604.4,
          1557138.99,
          3624706.44,
          9333374.7,
          3830510.96,
          3632174.1,
          53265895.235,
          3640338,
          908257.365,
          2821394.8
         ],
         "yaxis": "y"
        },
        {
         "alignmentgroup": "True",
         "hovertemplate": "CategoryName=Dairy Products<br>ProductName=%{x}<br>total=%{y}<extra></extra>",
         "legendgroup": "Dairy Products",
         "marker": {
          "color": "#ab63fa",
          "pattern": {
           "shape": ""
          }
         },
         "name": "Dairy Products",
         "offsetgroup": "Dairy Products",
         "orientation": "v",
         "showlegend": true,
         "textposition": "auto",
         "type": "bar",
         "x": [
          "Gudbrandsdalsost",
          "Raclette Courdavault",
          "Gorgonzola Telino",
          "Geitost",
          "Queso Manchego La Pastora",
          "Camembert Pierrot",
          "Mozzarella di Giovanni",
          "Queso Cabrales",
          "Flotemysost",
          "Mascarpone Fabioli"
         ],
         "xaxis": "x",
         "y": [
          7230582.359999999,
          11216410.7,
          2542658.375,
          507120.625,
          7684381.66,
          6900443.48,
          7024050.130000003,
          4234846.77,
          4296610.525,
          6381012.16
         ],
         "yaxis": "y"
        },
        {
         "alignmentgroup": "True",
         "hovertemplate": "CategoryName=Grains/Cereals<br>ProductName=%{x}<br>total=%{y}<extra></extra>",
         "legendgroup": "Grains/Cereals",
         "marker": {
          "color": "#FFA15A",
          "pattern": {
           "shape": ""
          }
         },
         "name": "Grains/Cereals",
         "offsetgroup": "Grains/Cereals",
         "orientation": "v",
         "showlegend": true,
         "textposition": "auto",
         "type": "bar",
         "x": [
          "Ravioli Angelo",
          "Tunnbröd",
          "Gustaf's Knäckebröd",
          "Filo Mix",
          "Wimmers gute Semmelknödel",
          "Gnocchi di nonna Alice",
          "Singaporean Hokkien Fried Mee"
         ],
         "xaxis": "x",
         "y": [
          3982093.05,
          1818605.7,
          4204728.359999999,
          1421369.95,
          6688749.2175,
          7646887.0600000005,
          2806097
         ],
         "yaxis": "y"
        },
        {
         "alignmentgroup": "True",
         "hovertemplate": "CategoryName=Seafood<br>ProductName=%{x}<br>total=%{y}<extra></extra>",
         "legendgroup": "Seafood",
         "marker": {
          "color": "#19d3f3",
          "pattern": {
           "shape": ""
          }
         },
         "name": "Seafood",
         "offsetgroup": "Seafood",
         "orientation": "v",
         "showlegend": true,
         "textposition": "auto",
         "type": "bar",
         "x": [
          "Konbu",
          "Inlagd Sill",
          "Nord-Ost Matjeshering",
          "Ikura",
          "Jack's New England Clam Chowder",
          "Escargots de Bourgogne",
          "Boston Crab Meat",
          "Röd Kaviar",
          "Spegesild",
          "Carnarvon Tigers",
          "Rogede sild",
          "Gravad lax"
         ],
         "xaxis": "x",
         "y": [
          1214608.44,
          3822787.46,
          5261378.97749999,
          6238723.34,
          1930883.1450000068,
          2617973.425,
          3681884.229999998,
          2985232.2,
          2414631,
          12604671.875,
          1903891.675,
          5244938.4
         ],
         "yaxis": "y"
        },
        {
         "alignmentgroup": "True",
         "hovertemplate": "CategoryName=Meat/Poultry<br>ProductName=%{x}<br>total=%{y}<extra></extra>",
         "legendgroup": "Meat/Poultry",
         "marker": {
          "color": "#FF6692",
          "pattern": {
           "shape": ""
          }
         },
         "name": "Meat/Poultry",
         "offsetgroup": "Meat/Poultry",
         "orientation": "v",
         "showlegend": true,
         "textposition": "auto",
         "type": "bar",
         "x": [
          "Pâté chinois",
          "Alice Mutton",
          "Tourtière",
          "Mishi Kobe Niku",
          "Thüringer Rostbratwurst",
          "Perth Pasties"
         ],
         "xaxis": "x",
         "y": [
          4879418.4,
          7884412.38,
          1509129.087499993,
          19423037.5,
          24623469.231999934,
          6561681.369999989
         ],
         "yaxis": "y"
        },
        {
         "alignmentgroup": "True",
         "hovertemplate": "CategoryName=Produce<br>ProductName=%{x}<br>total=%{y}<extra></extra>",
         "legendgroup": "Produce",
         "marker": {
          "color": "#B6E880",
          "pattern": {
           "shape": ""
          }
         },
         "name": "Produce",
         "offsetgroup": "Produce",
         "orientation": "v",
         "showlegend": true,
         "textposition": "auto",
         "type": "bar",
         "x": [
          "Uncle Bob's Organic Dried Pears",
          "Rössle Sauerkraut",
          "Manjimup Dried Apples",
          "Longlife Tofu",
          "Tofu"
         ],
         "xaxis": "x",
         "y": [
          6118254.3,
          9252765.440000005,
          10664768.65,
          2020592.5,
          4644738.99
         ],
         "yaxis": "y"
        }
       ],
       "layout": {
        "barmode": "relative",
        "legend": {
         "title": {
          "text": "CategoryName"
         },
         "tracegroupgap": 0
        },
        "margin": {
         "t": 60
        },
        "template": {
         "data": {
          "bar": [
           {
            "error_x": {
             "color": "#2a3f5f"
            },
            "error_y": {
             "color": "#2a3f5f"
            },
            "marker": {
             "line": {
              "color": "#E5ECF6",
              "width": 0.5
             },
             "pattern": {
              "fillmode": "overlay",
              "size": 10,
              "solidity": 0.2
             }
            },
            "type": "bar"
           }
          ],
          "barpolar": [
           {
            "marker": {
             "line": {
              "color": "#E5ECF6",
              "width": 0.5
             },
             "pattern": {
              "fillmode": "overlay",
              "size": 10,
              "solidity": 0.2
             }
            },
            "type": "barpolar"
           }
          ],
          "carpet": [
           {
            "aaxis": {
             "endlinecolor": "#2a3f5f",
             "gridcolor": "white",
             "linecolor": "white",
             "minorgridcolor": "white",
             "startlinecolor": "#2a3f5f"
            },
            "baxis": {
             "endlinecolor": "#2a3f5f",
             "gridcolor": "white",
             "linecolor": "white",
             "minorgridcolor": "white",
             "startlinecolor": "#2a3f5f"
            },
            "type": "carpet"
           }
          ],
          "choropleth": [
           {
            "colorbar": {
             "outlinewidth": 0,
             "ticks": ""
            },
            "type": "choropleth"
           }
          ],
          "contour": [
           {
            "colorbar": {
             "outlinewidth": 0,
             "ticks": ""
            },
            "colorscale": [
             [
              0,
              "#0d0887"
             ],
             [
              0.1111111111111111,
              "#46039f"
             ],
             [
              0.2222222222222222,
              "#7201a8"
             ],
             [
              0.3333333333333333,
              "#9c179e"
             ],
             [
              0.4444444444444444,
              "#bd3786"
             ],
             [
              0.5555555555555556,
              "#d8576b"
             ],
             [
              0.6666666666666666,
              "#ed7953"
             ],
             [
              0.7777777777777778,
              "#fb9f3a"
             ],
             [
              0.8888888888888888,
              "#fdca26"
             ],
             [
              1,
              "#f0f921"
             ]
            ],
            "type": "contour"
           }
          ],
          "contourcarpet": [
           {
            "colorbar": {
             "outlinewidth": 0,
             "ticks": ""
            },
            "type": "contourcarpet"
           }
          ],
          "heatmap": [
           {
            "colorbar": {
             "outlinewidth": 0,
             "ticks": ""
            },
            "colorscale": [
             [
              0,
              "#0d0887"
             ],
             [
              0.1111111111111111,
              "#46039f"
             ],
             [
              0.2222222222222222,
              "#7201a8"
             ],
             [
              0.3333333333333333,
              "#9c179e"
             ],
             [
              0.4444444444444444,
              "#bd3786"
             ],
             [
              0.5555555555555556,
              "#d8576b"
             ],
             [
              0.6666666666666666,
              "#ed7953"
             ],
             [
              0.7777777777777778,
              "#fb9f3a"
             ],
             [
              0.8888888888888888,
              "#fdca26"
             ],
             [
              1,
              "#f0f921"
             ]
            ],
            "type": "heatmap"
           }
          ],
          "heatmapgl": [
           {
            "colorbar": {
             "outlinewidth": 0,
             "ticks": ""
            },
            "colorscale": [
             [
              0,
              "#0d0887"
             ],
             [
              0.1111111111111111,
              "#46039f"
             ],
             [
              0.2222222222222222,
              "#7201a8"
             ],
             [
              0.3333333333333333,
              "#9c179e"
             ],
             [
              0.4444444444444444,
              "#bd3786"
             ],
             [
              0.5555555555555556,
              "#d8576b"
             ],
             [
              0.6666666666666666,
              "#ed7953"
             ],
             [
              0.7777777777777778,
              "#fb9f3a"
             ],
             [
              0.8888888888888888,
              "#fdca26"
             ],
             [
              1,
              "#f0f921"
             ]
            ],
            "type": "heatmapgl"
           }
          ],
          "histogram": [
           {
            "marker": {
             "pattern": {
              "fillmode": "overlay",
              "size": 10,
              "solidity": 0.2
             }
            },
            "type": "histogram"
           }
          ],
          "histogram2d": [
           {
            "colorbar": {
             "outlinewidth": 0,
             "ticks": ""
            },
            "colorscale": [
             [
              0,
              "#0d0887"
             ],
             [
              0.1111111111111111,
              "#46039f"
             ],
             [
              0.2222222222222222,
              "#7201a8"
             ],
             [
              0.3333333333333333,
              "#9c179e"
             ],
             [
              0.4444444444444444,
              "#bd3786"
             ],
             [
              0.5555555555555556,
              "#d8576b"
             ],
             [
              0.6666666666666666,
              "#ed7953"
             ],
             [
              0.7777777777777778,
              "#fb9f3a"
             ],
             [
              0.8888888888888888,
              "#fdca26"
             ],
             [
              1,
              "#f0f921"
             ]
            ],
            "type": "histogram2d"
           }
          ],
          "histogram2dcontour": [
           {
            "colorbar": {
             "outlinewidth": 0,
             "ticks": ""
            },
            "colorscale": [
             [
              0,
              "#0d0887"
             ],
             [
              0.1111111111111111,
              "#46039f"
             ],
             [
              0.2222222222222222,
              "#7201a8"
             ],
             [
              0.3333333333333333,
              "#9c179e"
             ],
             [
              0.4444444444444444,
              "#bd3786"
             ],
             [
              0.5555555555555556,
              "#d8576b"
             ],
             [
              0.6666666666666666,
              "#ed7953"
             ],
             [
              0.7777777777777778,
              "#fb9f3a"
             ],
             [
              0.8888888888888888,
              "#fdca26"
             ],
             [
              1,
              "#f0f921"
             ]
            ],
            "type": "histogram2dcontour"
           }
          ],
          "mesh3d": [
           {
            "colorbar": {
             "outlinewidth": 0,
             "ticks": ""
            },
            "type": "mesh3d"
           }
          ],
          "parcoords": [
           {
            "line": {
             "colorbar": {
              "outlinewidth": 0,
              "ticks": ""
             }
            },
            "type": "parcoords"
           }
          ],
          "pie": [
           {
            "automargin": true,
            "type": "pie"
           }
          ],
          "scatter": [
           {
            "fillpattern": {
             "fillmode": "overlay",
             "size": 10,
             "solidity": 0.2
            },
            "type": "scatter"
           }
          ],
          "scatter3d": [
           {
            "line": {
             "colorbar": {
              "outlinewidth": 0,
              "ticks": ""
             }
            },
            "marker": {
             "colorbar": {
              "outlinewidth": 0,
              "ticks": ""
             }
            },
            "type": "scatter3d"
           }
          ],
          "scattercarpet": [
           {
            "marker": {
             "colorbar": {
              "outlinewidth": 0,
              "ticks": ""
             }
            },
            "type": "scattercarpet"
           }
          ],
          "scattergeo": [
           {
            "marker": {
             "colorbar": {
              "outlinewidth": 0,
              "ticks": ""
             }
            },
            "type": "scattergeo"
           }
          ],
          "scattergl": [
           {
            "marker": {
             "colorbar": {
              "outlinewidth": 0,
              "ticks": ""
             }
            },
            "type": "scattergl"
           }
          ],
          "scattermapbox": [
           {
            "marker": {
             "colorbar": {
              "outlinewidth": 0,
              "ticks": ""
             }
            },
            "type": "scattermapbox"
           }
          ],
          "scatterpolar": [
           {
            "marker": {
             "colorbar": {
              "outlinewidth": 0,
              "ticks": ""
             }
            },
            "type": "scatterpolar"
           }
          ],
          "scatterpolargl": [
           {
            "marker": {
             "colorbar": {
              "outlinewidth": 0,
              "ticks": ""
             }
            },
            "type": "scatterpolargl"
           }
          ],
          "scatterternary": [
           {
            "marker": {
             "colorbar": {
              "outlinewidth": 0,
              "ticks": ""
             }
            },
            "type": "scatterternary"
           }
          ],
          "surface": [
           {
            "colorbar": {
             "outlinewidth": 0,
             "ticks": ""
            },
            "colorscale": [
             [
              0,
              "#0d0887"
             ],
             [
              0.1111111111111111,
              "#46039f"
             ],
             [
              0.2222222222222222,
              "#7201a8"
             ],
             [
              0.3333333333333333,
              "#9c179e"
             ],
             [
              0.4444444444444444,
              "#bd3786"
             ],
             [
              0.5555555555555556,
              "#d8576b"
             ],
             [
              0.6666666666666666,
              "#ed7953"
             ],
             [
              0.7777777777777778,
              "#fb9f3a"
             ],
             [
              0.8888888888888888,
              "#fdca26"
             ],
             [
              1,
              "#f0f921"
             ]
            ],
            "type": "surface"
           }
          ],
          "table": [
           {
            "cells": {
             "fill": {
              "color": "#EBF0F8"
             },
             "line": {
              "color": "white"
             }
            },
            "header": {
             "fill": {
              "color": "#C8D4E3"
             },
             "line": {
              "color": "white"
             }
            },
            "type": "table"
           }
          ]
         },
         "layout": {
          "annotationdefaults": {
           "arrowcolor": "#2a3f5f",
           "arrowhead": 0,
           "arrowwidth": 1
          },
          "autotypenumbers": "strict",
          "coloraxis": {
           "colorbar": {
            "outlinewidth": 0,
            "ticks": ""
           }
          },
          "colorscale": {
           "diverging": [
            [
             0,
             "#8e0152"
            ],
            [
             0.1,
             "#c51b7d"
            ],
            [
             0.2,
             "#de77ae"
            ],
            [
             0.3,
             "#f1b6da"
            ],
            [
             0.4,
             "#fde0ef"
            ],
            [
             0.5,
             "#f7f7f7"
            ],
            [
             0.6,
             "#e6f5d0"
            ],
            [
             0.7,
             "#b8e186"
            ],
            [
             0.8,
             "#7fbc41"
            ],
            [
             0.9,
             "#4d9221"
            ],
            [
             1,
             "#276419"
            ]
           ],
           "sequential": [
            [
             0,
             "#0d0887"
            ],
            [
             0.1111111111111111,
             "#46039f"
            ],
            [
             0.2222222222222222,
             "#7201a8"
            ],
            [
             0.3333333333333333,
             "#9c179e"
            ],
            [
             0.4444444444444444,
             "#bd3786"
            ],
            [
             0.5555555555555556,
             "#d8576b"
            ],
            [
             0.6666666666666666,
             "#ed7953"
            ],
            [
             0.7777777777777778,
             "#fb9f3a"
            ],
            [
             0.8888888888888888,
             "#fdca26"
            ],
            [
             1,
             "#f0f921"
            ]
           ],
           "sequentialminus": [
            [
             0,
             "#0d0887"
            ],
            [
             0.1111111111111111,
             "#46039f"
            ],
            [
             0.2222222222222222,
             "#7201a8"
            ],
            [
             0.3333333333333333,
             "#9c179e"
            ],
            [
             0.4444444444444444,
             "#bd3786"
            ],
            [
             0.5555555555555556,
             "#d8576b"
            ],
            [
             0.6666666666666666,
             "#ed7953"
            ],
            [
             0.7777777777777778,
             "#fb9f3a"
            ],
            [
             0.8888888888888888,
             "#fdca26"
            ],
            [
             1,
             "#f0f921"
            ]
           ]
          },
          "colorway": [
           "#636efa",
           "#EF553B",
           "#00cc96",
           "#ab63fa",
           "#FFA15A",
           "#19d3f3",
           "#FF6692",
           "#B6E880",
           "#FF97FF",
           "#FECB52"
          ],
          "font": {
           "color": "#2a3f5f"
          },
          "geo": {
           "bgcolor": "white",
           "lakecolor": "white",
           "landcolor": "#E5ECF6",
           "showlakes": true,
           "showland": true,
           "subunitcolor": "white"
          },
          "hoverlabel": {
           "align": "left"
          },
          "hovermode": "closest",
          "mapbox": {
           "style": "light"
          },
          "paper_bgcolor": "white",
          "plot_bgcolor": "#E5ECF6",
          "polar": {
           "angularaxis": {
            "gridcolor": "white",
            "linecolor": "white",
            "ticks": ""
           },
           "bgcolor": "#E5ECF6",
           "radialaxis": {
            "gridcolor": "white",
            "linecolor": "white",
            "ticks": ""
           }
          },
          "scene": {
           "xaxis": {
            "backgroundcolor": "#E5ECF6",
            "gridcolor": "white",
            "gridwidth": 2,
            "linecolor": "white",
            "showbackground": true,
            "ticks": "",
            "zerolinecolor": "white"
           },
           "yaxis": {
            "backgroundcolor": "#E5ECF6",
            "gridcolor": "white",
            "gridwidth": 2,
            "linecolor": "white",
            "showbackground": true,
            "ticks": "",
            "zerolinecolor": "white"
           },
           "zaxis": {
            "backgroundcolor": "#E5ECF6",
            "gridcolor": "white",
            "gridwidth": 2,
            "linecolor": "white",
            "showbackground": true,
            "ticks": "",
            "zerolinecolor": "white"
           }
          },
          "shapedefaults": {
           "line": {
            "color": "#2a3f5f"
           }
          },
          "ternary": {
           "aaxis": {
            "gridcolor": "white",
            "linecolor": "white",
            "ticks": ""
           },
           "baxis": {
            "gridcolor": "white",
            "linecolor": "white",
            "ticks": ""
           },
           "bgcolor": "#E5ECF6",
           "caxis": {
            "gridcolor": "white",
            "linecolor": "white",
            "ticks": ""
           }
          },
          "title": {
           "x": 0.05
          },
          "xaxis": {
           "automargin": true,
           "gridcolor": "white",
           "linecolor": "white",
           "ticks": "",
           "title": {
            "standoff": 15
           },
           "zerolinecolor": "white",
           "zerolinewidth": 2
          },
          "yaxis": {
           "automargin": true,
           "gridcolor": "white",
           "linecolor": "white",
           "ticks": "",
           "title": {
            "standoff": 15
           },
           "zerolinecolor": "white",
           "zerolinewidth": 2
          }
         }
        },
        "xaxis": {
         "anchor": "y",
         "domain": [
          0,
          1
         ],
         "title": {
          "text": "ProductName"
         }
        },
        "yaxis": {
         "anchor": "x",
         "domain": [
          0,
          1
         ],
         "title": {
          "text": "total"
         }
        }
       }
      }
     },
     "metadata": {},
     "output_type": "display_data"
    }
   ],
   "source": [
    "precio_producto= p_o_details_agg.to_pandas()\n",
    "\n",
    "fig = px.bar(precio_producto, x='ProductName', y=\"total\", color=\"CategoryName\")\n",
    "fig.show()"
   ]
  },
  {
   "cell_type": "markdown",
   "metadata": {},
   "source": [
    "### **3. Análisis de Rentabilidad de Clientes**\n",
    "Analiza la rentabilidad de los clientes de la empresa. Examina los ingresos generados por cada cliente, así como los costos asociados con el servicio o producto proporcionado. \n",
    "\n",
    "Pista: Utiliza gráficos de dispersión y tablas dinámicas para identificar los clientes más rentables y aquellos que requieren mayor atención."
   ]
  },
  {
   "cell_type": "code",
   "execution_count": 158,
   "metadata": {},
   "outputs": [
    {
     "data": {
      "text/plain": [
       "ibis.Schema {\n",
       "  ShippedDate   string\n",
       "  OrderID       int64\n",
       "  Subtotal      float64\n",
       "  CustomerID    string\n",
       "  CompanyName   string\n",
       "  ContactName   string\n",
       "  ContactTitle  string\n",
       "  Address       string\n",
       "  City          string\n",
       "  Region        string\n",
       "  PostalCode    string\n",
       "  Country       string\n",
       "  Phone         string\n",
       "  Fax           string\n",
       "}"
      ]
     },
     "execution_count": 158,
     "metadata": {},
     "output_type": "execute_result"
    }
   ],
   "source": [
    "summary_per_quarter = con.sql(\"SELECT CAST(ShippedDate as Text) as ShippedDate, OrderID, Subtotal FROM [Summary of Sales by Quarter]\")\n",
    "orders = con.sql(\"SELECT CustomerID, OrderID FROM Orders\")\n",
    "customers = con.table(\"customers\")\n",
    "\n",
    "joined_data = summary_per_quarter.join(orders, \"OrderID\").join(customers, \"CustomerID\")\n",
    "joined_data.schema()"
   ]
  },
  {
   "cell_type": "code",
   "execution_count": 159,
   "metadata": {},
   "outputs": [
    {
     "data": {
      "text/html": [
       "<div>\n",
       "<style scoped>\n",
       "    .dataframe tbody tr th:only-of-type {\n",
       "        vertical-align: middle;\n",
       "    }\n",
       "\n",
       "    .dataframe tbody tr th {\n",
       "        vertical-align: top;\n",
       "    }\n",
       "\n",
       "    .dataframe thead th {\n",
       "        text-align: right;\n",
       "    }\n",
       "</style>\n",
       "<table border=\"1\" class=\"dataframe\">\n",
       "  <thead>\n",
       "    <tr style=\"text-align: right;\">\n",
       "      <th></th>\n",
       "      <th>CompanyName</th>\n",
       "      <th>total</th>\n",
       "      <th>dev</th>\n",
       "    </tr>\n",
       "  </thead>\n",
       "  <tbody>\n",
       "    <tr>\n",
       "      <th>0</th>\n",
       "      <td>IT</td>\n",
       "      <td>9.745371e+06</td>\n",
       "      <td>17911.792434</td>\n",
       "    </tr>\n",
       "    <tr>\n",
       "      <th>1</th>\n",
       "      <td>B's Beverages</td>\n",
       "      <td>6.154115e+06</td>\n",
       "      <td>17822.000552</td>\n",
       "    </tr>\n",
       "    <tr>\n",
       "      <th>2</th>\n",
       "      <td>Hungry Coyote Import Store</td>\n",
       "      <td>5.698024e+06</td>\n",
       "      <td>17304.451978</td>\n",
       "    </tr>\n",
       "    <tr>\n",
       "      <th>3</th>\n",
       "      <td>Rancho grande</td>\n",
       "      <td>5.559034e+06</td>\n",
       "      <td>17799.147451</td>\n",
       "    </tr>\n",
       "    <tr>\n",
       "      <th>4</th>\n",
       "      <td>Gourmet Lanchonetes</td>\n",
       "      <td>5.552310e+06</td>\n",
       "      <td>17403.553505</td>\n",
       "    </tr>\n",
       "    <tr>\n",
       "      <th>...</th>\n",
       "      <td>...</td>\n",
       "      <td>...</td>\n",
       "      <td>...</td>\n",
       "    </tr>\n",
       "    <tr>\n",
       "      <th>87</th>\n",
       "      <td>Reggiani Caseifici</td>\n",
       "      <td>4.222835e+06</td>\n",
       "      <td>18400.755160</td>\n",
       "    </tr>\n",
       "    <tr>\n",
       "      <th>88</th>\n",
       "      <td>Lehmanns Marktstand</td>\n",
       "      <td>4.182514e+06</td>\n",
       "      <td>18467.964511</td>\n",
       "    </tr>\n",
       "    <tr>\n",
       "      <th>89</th>\n",
       "      <td>Furia Bacalhau e Frutos do Mar</td>\n",
       "      <td>4.098648e+06</td>\n",
       "      <td>17470.622273</td>\n",
       "    </tr>\n",
       "    <tr>\n",
       "      <th>90</th>\n",
       "      <td>Océano Atlántico Ltda.</td>\n",
       "      <td>4.059079e+06</td>\n",
       "      <td>17213.546773</td>\n",
       "    </tr>\n",
       "    <tr>\n",
       "      <th>91</th>\n",
       "      <td>Alfreds Futterkiste</td>\n",
       "      <td>3.965465e+06</td>\n",
       "      <td>16803.770499</td>\n",
       "    </tr>\n",
       "  </tbody>\n",
       "</table>\n",
       "<p>92 rows × 3 columns</p>\n",
       "</div>"
      ],
      "text/plain": [
       "                       CompanyName         total           dev\n",
       "0                               IT  9.745371e+06  17911.792434\n",
       "1                    B's Beverages  6.154115e+06  17822.000552\n",
       "2       Hungry Coyote Import Store  5.698024e+06  17304.451978\n",
       "3                    Rancho grande  5.559034e+06  17799.147451\n",
       "4              Gourmet Lanchonetes  5.552310e+06  17403.553505\n",
       "..                             ...           ...           ...\n",
       "87              Reggiani Caseifici  4.222835e+06  18400.755160\n",
       "88             Lehmanns Marktstand  4.182514e+06  18467.964511\n",
       "89  Furia Bacalhau e Frutos do Mar  4.098648e+06  17470.622273\n",
       "90          Océano Atlántico Ltda.  4.059079e+06  17213.546773\n",
       "91             Alfreds Futterkiste  3.965465e+06  16803.770499\n",
       "\n",
       "[92 rows x 3 columns]"
      ]
     },
     "execution_count": 159,
     "metadata": {},
     "output_type": "execute_result"
    }
   ],
   "source": [
    "per_customer = joined_data.aggregate(\n",
    "        by=\"CompanyName\", \n",
    "        total=joined_data[\"Subtotal\"].sum(), \n",
    "        dev=joined_data[\"Subtotal\"].std()\n",
    "    ).order_by(ibis.desc(\"total\")).to_pandas()\n",
    "\n",
    "per_customer"
   ]
  },
  {
   "cell_type": "code",
   "execution_count": 160,
   "metadata": {},
   "outputs": [
    {
     "data": {
      "application/vnd.plotly.v1+json": {
       "config": {
        "plotlyServerURL": "https://plot.ly"
       },
       "data": [
        {
         "alignmentgroup": "True",
         "error_y": {
          "array": [
           17911.792434376726,
           17822.00055227003,
           17304.45197759058,
           17799.14745056314,
           17403.553505052972,
           17050.555929328395,
           17042.73665219944,
           16676.71330332239,
           17730.850517213763,
           17666.476669552794,
           18490.30636046237,
           17193.67283690701,
           16839.114892530135,
           17724.322260580095,
           17998.27852914955,
           18055.65934901205,
           18784.570454499655,
           18587.827717239776,
           18048.46379752142,
           18021.364105126548,
           17757.805686680837,
           17810.48638508827,
           18508.267164629364,
           17963.407825192535,
           17289.852663082936,
           17134.57849327319,
           17817.040122843653,
           17814.770455933543,
           16735.92736685038,
           18255.912384502586,
           19140.737806781664,
           18466.615231250802,
           17594.355121888202,
           17812.1638787491,
           16502.98497712307,
           18560.759985362794,
           17022.279028263387,
           18051.31924877956,
           17893.172609144618,
           17595.581719043817,
           16868.527031254725,
           19045.7740628209,
           18285.244687542105,
           17629.328794974026,
           16792.038189576437,
           17089.015126799368,
           16803.821587147642,
           16607.85337486539,
           17526.799955409402,
           17718.187493273297,
           17592.2532382909,
           17967.013572044056,
           18262.933585457362,
           18140.620217333777,
           15517.893260401113,
           18861.604220056764,
           18333.80632630824,
           18128.83874129676,
           17147.00396779218,
           17318.14032404993,
           17226.296034395855,
           18378.762517227726,
           16887.33012126305,
           17420.246937985336,
           17945.323426429175,
           18733.01122690746,
           16478.745279936153,
           17578.374498628014,
           17399.894160343,
           18236.1479007837,
           17966.7919943863,
           18090.365704678316,
           18277.88372875483,
           18108.03016598811,
           17659.077631535532,
           17587.6593064157,
           18224.1485098007,
           17838.666880640158,
           17363.557278138578,
           17084.659003743076,
           17502.64197420395,
           18402.314406747162,
           16695.98175089647,
           18070.953970055278,
           16847.71142980014,
           18076.374288561798,
           17422.345987346132,
           18400.755160265744,
           18467.96451114226,
           17470.622272762525,
           17213.546773488906,
           16803.770498502865
          ]
         },
         "hovertemplate": "CompanyName=%{x}<br>total=%{y}<extra></extra>",
         "legendgroup": "",
         "marker": {
          "color": "#636efa",
          "pattern": {
           "shape": ""
          }
         },
         "name": "",
         "offsetgroup": "",
         "orientation": "v",
         "showlegend": false,
         "textposition": "auto",
         "type": "bar",
         "x": [
          "IT",
          "B's Beverages",
          "Hungry Coyote Import Store",
          "Rancho grande",
          "Gourmet Lanchonetes",
          "Ana Trujillo Emparedados y helados",
          "Ricardo Adocicados",
          "Folies gourmandes",
          "Let's Stop N Shop",
          "Princesa Isabel Vinhos",
          "LILA-Supermercado",
          "Bólido Comidas preparadas",
          "Piccolo und mehr",
          "Morgenstern Gesundkost",
          "Wellington Importadora",
          "Spécialités du monde",
          "Tortuga Restaurante",
          "Victuailles en stock",
          "France restauration",
          "Hanari Carnes",
          "Tradição Hipermercados",
          "Pericles Comidas clásicas",
          "Bottom-Dollar Markets",
          "Queen Cozinha",
          "The Cracker Box",
          "Comércio Mineiro",
          "Chop-suey Chinese",
          "Franchi S.p.A.",
          "Lazy K Kountry Store",
          "Vaffeljernet",
          "QUICK-Stop",
          "Consolidated Holdings",
          "Ottilies Käseladen",
          "Great Lakes Food Market",
          "Familia Arquibaldo",
          "Island Trading",
          "Mère Paillarde",
          "Die Wandernde Kuh",
          "HILARION-Abastos",
          "Magazzini Alimentari Riuniti",
          "Richter Supermarkt",
          "Berglunds snabbköp",
          "The Big Cheese",
          "Maison Dewey",
          "Old World Delicatessen",
          "Paris spécialités",
          "Romero y tomillo",
          "Drachenblut Delikatessen",
          "Simons bistro",
          "Seven Seas Imports",
          "Toms Spezialitäten",
          "Wolski  Zajazd",
          "Hungry Owl All-Night Grocers",
          "Bon app'",
          "FISSA Fabrica Inter. Salchichas S.A.",
          "Blondesddsl père et fils",
          "Santé Gourmet",
          "Rattlesnake Canyon Grocery",
          "La maison d'Asie",
          "White Clover Markets",
          "GROSELLA-Restaurante",
          "Wilman Kala",
          "Godos Cocina Típica",
          "Königlich Essen",
          "Cactus Comidas para llevar",
          "Suprêmes délices",
          "Centro comercial Moctezuma",
          "La corne d'abondance",
          "Eastern Connection",
          "Wartian Herkku",
          "Ernst Handel",
          "Save-a-lot Markets",
          "Galería del gastrónomo",
          "Split Rail Beer & Ale",
          "LINO-Delicateses",
          "Folk och fä HB",
          "Frankenversand",
          "Blauer See Delikatessen",
          "North/South",
          "Vins et alcools Chevalier",
          "Antonio Moreno Taquería",
          "Lonesome Pine Restaurant",
          "Trail's Head Gourmet Provisioners",
          "Laughing Bacchus Wine Cellars",
          "Que Delícia",
          "Around the Horn",
          "Du monde entier",
          "Reggiani Caseifici",
          "Lehmanns Marktstand",
          "Furia Bacalhau e Frutos do Mar",
          "Océano Atlántico Ltda.",
          "Alfreds Futterkiste"
         ],
         "xaxis": "x",
         "y": [
          9745371.290000005,
          6154115.34,
          5698023.669999999,
          5559034.079999999,
          5552309.805000001,
          5534356.65,
          5522679.3100000005,
          5505502.8500000015,
          5462198.022499999,
          5436770.55,
          5436764.42,
          5398064.440000001,
          5366426.269999998,
          5349089.590000001,
          5333907.69,
          5298269.650000001,
          5278083.969999999,
          5276686.06,
          5180799.400000002,
          5097941.559999998,
          5087091.414000002,
          5071522.5299999975,
          5062892.839999999,
          5057514.777499998,
          4997732.41,
          4992489.53,
          4989158.99,
          4943582.11,
          4942067.56,
          4940880.785,
          4938975.485,
          4931207.19,
          4911223.399999999,
          4900100.009999999,
          4895780.419999996,
          4885549.179999997,
          4877478.780000003,
          4854775.624999997,
          4841324.414000003,
          4833909.455000003,
          4833731.449000002,
          4833398.527500002,
          4830860.9799999995,
          4815829.325,
          4809258.5125,
          4805987.6499999985,
          4782770.28,
          4779289.010000002,
          4767261.852499997,
          4749839.215000001,
          4745078.1000000015,
          4738465.220000001,
          4732282.284999998,
          4724892.452500002,
          4719540.200000001,
          4705978.1400000015,
          4691250.639999999,
          4686559.289999999,
          4675656.490000004,
          4662707.935000001,
          4649039.289999999,
          4635588.030000001,
          4622798.430000001,
          4621173.903999998,
          4615072.630000001,
          4609931.109999998,
          4606245.250000001,
          4580281.869999998,
          4577978.395000001,
          4574418.762499998,
          4531958.968499999,
          4520065.250000001,
          4500324.899999999,
          4499350.87,
          4494019.925,
          4466300.6225000005,
          4434934.5595,
          4410759.750000001,
          4408743.860000001,
          4332214.280000002,
          4311774.037499998,
          4298854.649999999,
          4291819.959999996,
          4259986.339999998,
          4258199.69,
          4251821.619999999,
          4236208.170000001,
          4222835.2700000005,
          4182514.475000001,
          4098647.792500001,
          4059079.049999999,
          3965464.95
         ],
         "yaxis": "y"
        }
       ],
       "layout": {
        "barmode": "relative",
        "legend": {
         "tracegroupgap": 0
        },
        "margin": {
         "t": 60
        },
        "template": {
         "data": {
          "bar": [
           {
            "error_x": {
             "color": "#2a3f5f"
            },
            "error_y": {
             "color": "#2a3f5f"
            },
            "marker": {
             "line": {
              "color": "#E5ECF6",
              "width": 0.5
             },
             "pattern": {
              "fillmode": "overlay",
              "size": 10,
              "solidity": 0.2
             }
            },
            "type": "bar"
           }
          ],
          "barpolar": [
           {
            "marker": {
             "line": {
              "color": "#E5ECF6",
              "width": 0.5
             },
             "pattern": {
              "fillmode": "overlay",
              "size": 10,
              "solidity": 0.2
             }
            },
            "type": "barpolar"
           }
          ],
          "carpet": [
           {
            "aaxis": {
             "endlinecolor": "#2a3f5f",
             "gridcolor": "white",
             "linecolor": "white",
             "minorgridcolor": "white",
             "startlinecolor": "#2a3f5f"
            },
            "baxis": {
             "endlinecolor": "#2a3f5f",
             "gridcolor": "white",
             "linecolor": "white",
             "minorgridcolor": "white",
             "startlinecolor": "#2a3f5f"
            },
            "type": "carpet"
           }
          ],
          "choropleth": [
           {
            "colorbar": {
             "outlinewidth": 0,
             "ticks": ""
            },
            "type": "choropleth"
           }
          ],
          "contour": [
           {
            "colorbar": {
             "outlinewidth": 0,
             "ticks": ""
            },
            "colorscale": [
             [
              0,
              "#0d0887"
             ],
             [
              0.1111111111111111,
              "#46039f"
             ],
             [
              0.2222222222222222,
              "#7201a8"
             ],
             [
              0.3333333333333333,
              "#9c179e"
             ],
             [
              0.4444444444444444,
              "#bd3786"
             ],
             [
              0.5555555555555556,
              "#d8576b"
             ],
             [
              0.6666666666666666,
              "#ed7953"
             ],
             [
              0.7777777777777778,
              "#fb9f3a"
             ],
             [
              0.8888888888888888,
              "#fdca26"
             ],
             [
              1,
              "#f0f921"
             ]
            ],
            "type": "contour"
           }
          ],
          "contourcarpet": [
           {
            "colorbar": {
             "outlinewidth": 0,
             "ticks": ""
            },
            "type": "contourcarpet"
           }
          ],
          "heatmap": [
           {
            "colorbar": {
             "outlinewidth": 0,
             "ticks": ""
            },
            "colorscale": [
             [
              0,
              "#0d0887"
             ],
             [
              0.1111111111111111,
              "#46039f"
             ],
             [
              0.2222222222222222,
              "#7201a8"
             ],
             [
              0.3333333333333333,
              "#9c179e"
             ],
             [
              0.4444444444444444,
              "#bd3786"
             ],
             [
              0.5555555555555556,
              "#d8576b"
             ],
             [
              0.6666666666666666,
              "#ed7953"
             ],
             [
              0.7777777777777778,
              "#fb9f3a"
             ],
             [
              0.8888888888888888,
              "#fdca26"
             ],
             [
              1,
              "#f0f921"
             ]
            ],
            "type": "heatmap"
           }
          ],
          "heatmapgl": [
           {
            "colorbar": {
             "outlinewidth": 0,
             "ticks": ""
            },
            "colorscale": [
             [
              0,
              "#0d0887"
             ],
             [
              0.1111111111111111,
              "#46039f"
             ],
             [
              0.2222222222222222,
              "#7201a8"
             ],
             [
              0.3333333333333333,
              "#9c179e"
             ],
             [
              0.4444444444444444,
              "#bd3786"
             ],
             [
              0.5555555555555556,
              "#d8576b"
             ],
             [
              0.6666666666666666,
              "#ed7953"
             ],
             [
              0.7777777777777778,
              "#fb9f3a"
             ],
             [
              0.8888888888888888,
              "#fdca26"
             ],
             [
              1,
              "#f0f921"
             ]
            ],
            "type": "heatmapgl"
           }
          ],
          "histogram": [
           {
            "marker": {
             "pattern": {
              "fillmode": "overlay",
              "size": 10,
              "solidity": 0.2
             }
            },
            "type": "histogram"
           }
          ],
          "histogram2d": [
           {
            "colorbar": {
             "outlinewidth": 0,
             "ticks": ""
            },
            "colorscale": [
             [
              0,
              "#0d0887"
             ],
             [
              0.1111111111111111,
              "#46039f"
             ],
             [
              0.2222222222222222,
              "#7201a8"
             ],
             [
              0.3333333333333333,
              "#9c179e"
             ],
             [
              0.4444444444444444,
              "#bd3786"
             ],
             [
              0.5555555555555556,
              "#d8576b"
             ],
             [
              0.6666666666666666,
              "#ed7953"
             ],
             [
              0.7777777777777778,
              "#fb9f3a"
             ],
             [
              0.8888888888888888,
              "#fdca26"
             ],
             [
              1,
              "#f0f921"
             ]
            ],
            "type": "histogram2d"
           }
          ],
          "histogram2dcontour": [
           {
            "colorbar": {
             "outlinewidth": 0,
             "ticks": ""
            },
            "colorscale": [
             [
              0,
              "#0d0887"
             ],
             [
              0.1111111111111111,
              "#46039f"
             ],
             [
              0.2222222222222222,
              "#7201a8"
             ],
             [
              0.3333333333333333,
              "#9c179e"
             ],
             [
              0.4444444444444444,
              "#bd3786"
             ],
             [
              0.5555555555555556,
              "#d8576b"
             ],
             [
              0.6666666666666666,
              "#ed7953"
             ],
             [
              0.7777777777777778,
              "#fb9f3a"
             ],
             [
              0.8888888888888888,
              "#fdca26"
             ],
             [
              1,
              "#f0f921"
             ]
            ],
            "type": "histogram2dcontour"
           }
          ],
          "mesh3d": [
           {
            "colorbar": {
             "outlinewidth": 0,
             "ticks": ""
            },
            "type": "mesh3d"
           }
          ],
          "parcoords": [
           {
            "line": {
             "colorbar": {
              "outlinewidth": 0,
              "ticks": ""
             }
            },
            "type": "parcoords"
           }
          ],
          "pie": [
           {
            "automargin": true,
            "type": "pie"
           }
          ],
          "scatter": [
           {
            "fillpattern": {
             "fillmode": "overlay",
             "size": 10,
             "solidity": 0.2
            },
            "type": "scatter"
           }
          ],
          "scatter3d": [
           {
            "line": {
             "colorbar": {
              "outlinewidth": 0,
              "ticks": ""
             }
            },
            "marker": {
             "colorbar": {
              "outlinewidth": 0,
              "ticks": ""
             }
            },
            "type": "scatter3d"
           }
          ],
          "scattercarpet": [
           {
            "marker": {
             "colorbar": {
              "outlinewidth": 0,
              "ticks": ""
             }
            },
            "type": "scattercarpet"
           }
          ],
          "scattergeo": [
           {
            "marker": {
             "colorbar": {
              "outlinewidth": 0,
              "ticks": ""
             }
            },
            "type": "scattergeo"
           }
          ],
          "scattergl": [
           {
            "marker": {
             "colorbar": {
              "outlinewidth": 0,
              "ticks": ""
             }
            },
            "type": "scattergl"
           }
          ],
          "scattermapbox": [
           {
            "marker": {
             "colorbar": {
              "outlinewidth": 0,
              "ticks": ""
             }
            },
            "type": "scattermapbox"
           }
          ],
          "scatterpolar": [
           {
            "marker": {
             "colorbar": {
              "outlinewidth": 0,
              "ticks": ""
             }
            },
            "type": "scatterpolar"
           }
          ],
          "scatterpolargl": [
           {
            "marker": {
             "colorbar": {
              "outlinewidth": 0,
              "ticks": ""
             }
            },
            "type": "scatterpolargl"
           }
          ],
          "scatterternary": [
           {
            "marker": {
             "colorbar": {
              "outlinewidth": 0,
              "ticks": ""
             }
            },
            "type": "scatterternary"
           }
          ],
          "surface": [
           {
            "colorbar": {
             "outlinewidth": 0,
             "ticks": ""
            },
            "colorscale": [
             [
              0,
              "#0d0887"
             ],
             [
              0.1111111111111111,
              "#46039f"
             ],
             [
              0.2222222222222222,
              "#7201a8"
             ],
             [
              0.3333333333333333,
              "#9c179e"
             ],
             [
              0.4444444444444444,
              "#bd3786"
             ],
             [
              0.5555555555555556,
              "#d8576b"
             ],
             [
              0.6666666666666666,
              "#ed7953"
             ],
             [
              0.7777777777777778,
              "#fb9f3a"
             ],
             [
              0.8888888888888888,
              "#fdca26"
             ],
             [
              1,
              "#f0f921"
             ]
            ],
            "type": "surface"
           }
          ],
          "table": [
           {
            "cells": {
             "fill": {
              "color": "#EBF0F8"
             },
             "line": {
              "color": "white"
             }
            },
            "header": {
             "fill": {
              "color": "#C8D4E3"
             },
             "line": {
              "color": "white"
             }
            },
            "type": "table"
           }
          ]
         },
         "layout": {
          "annotationdefaults": {
           "arrowcolor": "#2a3f5f",
           "arrowhead": 0,
           "arrowwidth": 1
          },
          "autotypenumbers": "strict",
          "coloraxis": {
           "colorbar": {
            "outlinewidth": 0,
            "ticks": ""
           }
          },
          "colorscale": {
           "diverging": [
            [
             0,
             "#8e0152"
            ],
            [
             0.1,
             "#c51b7d"
            ],
            [
             0.2,
             "#de77ae"
            ],
            [
             0.3,
             "#f1b6da"
            ],
            [
             0.4,
             "#fde0ef"
            ],
            [
             0.5,
             "#f7f7f7"
            ],
            [
             0.6,
             "#e6f5d0"
            ],
            [
             0.7,
             "#b8e186"
            ],
            [
             0.8,
             "#7fbc41"
            ],
            [
             0.9,
             "#4d9221"
            ],
            [
             1,
             "#276419"
            ]
           ],
           "sequential": [
            [
             0,
             "#0d0887"
            ],
            [
             0.1111111111111111,
             "#46039f"
            ],
            [
             0.2222222222222222,
             "#7201a8"
            ],
            [
             0.3333333333333333,
             "#9c179e"
            ],
            [
             0.4444444444444444,
             "#bd3786"
            ],
            [
             0.5555555555555556,
             "#d8576b"
            ],
            [
             0.6666666666666666,
             "#ed7953"
            ],
            [
             0.7777777777777778,
             "#fb9f3a"
            ],
            [
             0.8888888888888888,
             "#fdca26"
            ],
            [
             1,
             "#f0f921"
            ]
           ],
           "sequentialminus": [
            [
             0,
             "#0d0887"
            ],
            [
             0.1111111111111111,
             "#46039f"
            ],
            [
             0.2222222222222222,
             "#7201a8"
            ],
            [
             0.3333333333333333,
             "#9c179e"
            ],
            [
             0.4444444444444444,
             "#bd3786"
            ],
            [
             0.5555555555555556,
             "#d8576b"
            ],
            [
             0.6666666666666666,
             "#ed7953"
            ],
            [
             0.7777777777777778,
             "#fb9f3a"
            ],
            [
             0.8888888888888888,
             "#fdca26"
            ],
            [
             1,
             "#f0f921"
            ]
           ]
          },
          "colorway": [
           "#636efa",
           "#EF553B",
           "#00cc96",
           "#ab63fa",
           "#FFA15A",
           "#19d3f3",
           "#FF6692",
           "#B6E880",
           "#FF97FF",
           "#FECB52"
          ],
          "font": {
           "color": "#2a3f5f"
          },
          "geo": {
           "bgcolor": "white",
           "lakecolor": "white",
           "landcolor": "#E5ECF6",
           "showlakes": true,
           "showland": true,
           "subunitcolor": "white"
          },
          "hoverlabel": {
           "align": "left"
          },
          "hovermode": "closest",
          "mapbox": {
           "style": "light"
          },
          "paper_bgcolor": "white",
          "plot_bgcolor": "#E5ECF6",
          "polar": {
           "angularaxis": {
            "gridcolor": "white",
            "linecolor": "white",
            "ticks": ""
           },
           "bgcolor": "#E5ECF6",
           "radialaxis": {
            "gridcolor": "white",
            "linecolor": "white",
            "ticks": ""
           }
          },
          "scene": {
           "xaxis": {
            "backgroundcolor": "#E5ECF6",
            "gridcolor": "white",
            "gridwidth": 2,
            "linecolor": "white",
            "showbackground": true,
            "ticks": "",
            "zerolinecolor": "white"
           },
           "yaxis": {
            "backgroundcolor": "#E5ECF6",
            "gridcolor": "white",
            "gridwidth": 2,
            "linecolor": "white",
            "showbackground": true,
            "ticks": "",
            "zerolinecolor": "white"
           },
           "zaxis": {
            "backgroundcolor": "#E5ECF6",
            "gridcolor": "white",
            "gridwidth": 2,
            "linecolor": "white",
            "showbackground": true,
            "ticks": "",
            "zerolinecolor": "white"
           }
          },
          "shapedefaults": {
           "line": {
            "color": "#2a3f5f"
           }
          },
          "ternary": {
           "aaxis": {
            "gridcolor": "white",
            "linecolor": "white",
            "ticks": ""
           },
           "baxis": {
            "gridcolor": "white",
            "linecolor": "white",
            "ticks": ""
           },
           "bgcolor": "#E5ECF6",
           "caxis": {
            "gridcolor": "white",
            "linecolor": "white",
            "ticks": ""
           }
          },
          "title": {
           "x": 0.05
          },
          "xaxis": {
           "automargin": true,
           "gridcolor": "white",
           "linecolor": "white",
           "ticks": "",
           "title": {
            "standoff": 15
           },
           "zerolinecolor": "white",
           "zerolinewidth": 2
          },
          "yaxis": {
           "automargin": true,
           "gridcolor": "white",
           "linecolor": "white",
           "ticks": "",
           "title": {
            "standoff": 15
           },
           "zerolinecolor": "white",
           "zerolinewidth": 2
          }
         }
        },
        "xaxis": {
         "anchor": "y",
         "domain": [
          0,
          1
         ],
         "title": {
          "text": "CompanyName"
         }
        },
        "yaxis": {
         "anchor": "x",
         "domain": [
          0,
          1
         ],
         "title": {
          "text": "total"
         }
        }
       }
      }
     },
     "metadata": {},
     "output_type": "display_data"
    }
   ],
   "source": [
    "fig = px.bar(per_customer, x='CompanyName', y=\"total\", error_y=\"dev\")\n",
    "fig.show()"
   ]
  },
  {
   "cell_type": "code",
   "execution_count": 161,
   "metadata": {},
   "outputs": [
    {
     "data": {
      "text/markdown": [
       "```sql\n",
       "SELECT\n",
       "  *\n",
       "FROM (\n",
       "  SELECT\n",
       "    \"t3\".\"ShippedDate\",\n",
       "    \"t3\".\"OrderID\",\n",
       "    \"t3\".\"Subtotal\",\n",
       "    \"t4\".\"CustomerID\",\n",
       "    \"t5\".\"CompanyName\",\n",
       "    \"t5\".\"ContactName\",\n",
       "    \"t5\".\"ContactTitle\",\n",
       "    \"t5\".\"Address\",\n",
       "    \"t5\".\"City\",\n",
       "    \"t5\".\"Region\",\n",
       "    \"t5\".\"PostalCode\",\n",
       "    \"t5\".\"Country\",\n",
       "    \"t5\".\"Phone\",\n",
       "    \"t5\".\"Fax\"\n",
       "  FROM (\n",
       "    SELECT\n",
       "      CAST(ShippedDate AS TEXT) AS ShippedDate,\n",
       "      OrderID,\n",
       "      Subtotal\n",
       "    FROM \"Summary of Sales by Quarter\"\n",
       "  ) AS \"t3\"\n",
       "  INNER JOIN (\n",
       "    SELECT\n",
       "      CustomerID,\n",
       "      OrderID\n",
       "    FROM Orders\n",
       "  ) AS \"t4\"\n",
       "    ON \"t3\".\"OrderID\" = \"t4\".\"OrderID\"\n",
       "  INNER JOIN \"customers\" AS \"t5\"\n",
       "    ON \"t4\".\"CustomerID\" = \"t5\".\"CustomerID\"\n",
       ") AS \"t6\"\n",
       "WHERE\n",
       "  \"t6\".\"CompanyName\" = 'IT'\n",
       "```"
      ],
      "text/plain": [
       "\u001b[34mSELECT\u001b[39;49;00m\u001b[37m\u001b[39;49;00m\n",
       "\u001b[37m  \u001b[39;49;00m*\u001b[37m\u001b[39;49;00m\n",
       "\u001b[34mFROM\u001b[39;49;00m\u001b[37m \u001b[39;49;00m(\u001b[37m\u001b[39;49;00m\n",
       "\u001b[37m  \u001b[39;49;00m\u001b[34mSELECT\u001b[39;49;00m\u001b[37m\u001b[39;49;00m\n",
       "\u001b[37m    \u001b[39;49;00m\u001b[33m\"t3\"\u001b[39;49;00m.\u001b[33m\"ShippedDate\"\u001b[39;49;00m,\u001b[37m\u001b[39;49;00m\n",
       "\u001b[37m    \u001b[39;49;00m\u001b[33m\"t3\"\u001b[39;49;00m.\u001b[33m\"OrderID\"\u001b[39;49;00m,\u001b[37m\u001b[39;49;00m\n",
       "\u001b[37m    \u001b[39;49;00m\u001b[33m\"t3\"\u001b[39;49;00m.\u001b[33m\"Subtotal\"\u001b[39;49;00m,\u001b[37m\u001b[39;49;00m\n",
       "\u001b[37m    \u001b[39;49;00m\u001b[33m\"t4\"\u001b[39;49;00m.\u001b[33m\"CustomerID\"\u001b[39;49;00m,\u001b[37m\u001b[39;49;00m\n",
       "\u001b[37m    \u001b[39;49;00m\u001b[33m\"t5\"\u001b[39;49;00m.\u001b[33m\"CompanyName\"\u001b[39;49;00m,\u001b[37m\u001b[39;49;00m\n",
       "\u001b[37m    \u001b[39;49;00m\u001b[33m\"t5\"\u001b[39;49;00m.\u001b[33m\"ContactName\"\u001b[39;49;00m,\u001b[37m\u001b[39;49;00m\n",
       "\u001b[37m    \u001b[39;49;00m\u001b[33m\"t5\"\u001b[39;49;00m.\u001b[33m\"ContactTitle\"\u001b[39;49;00m,\u001b[37m\u001b[39;49;00m\n",
       "\u001b[37m    \u001b[39;49;00m\u001b[33m\"t5\"\u001b[39;49;00m.\u001b[33m\"Address\"\u001b[39;49;00m,\u001b[37m\u001b[39;49;00m\n",
       "\u001b[37m    \u001b[39;49;00m\u001b[33m\"t5\"\u001b[39;49;00m.\u001b[33m\"City\"\u001b[39;49;00m,\u001b[37m\u001b[39;49;00m\n",
       "\u001b[37m    \u001b[39;49;00m\u001b[33m\"t5\"\u001b[39;49;00m.\u001b[33m\"Region\"\u001b[39;49;00m,\u001b[37m\u001b[39;49;00m\n",
       "\u001b[37m    \u001b[39;49;00m\u001b[33m\"t5\"\u001b[39;49;00m.\u001b[33m\"PostalCode\"\u001b[39;49;00m,\u001b[37m\u001b[39;49;00m\n",
       "\u001b[37m    \u001b[39;49;00m\u001b[33m\"t5\"\u001b[39;49;00m.\u001b[33m\"Country\"\u001b[39;49;00m,\u001b[37m\u001b[39;49;00m\n",
       "\u001b[37m    \u001b[39;49;00m\u001b[33m\"t5\"\u001b[39;49;00m.\u001b[33m\"Phone\"\u001b[39;49;00m,\u001b[37m\u001b[39;49;00m\n",
       "\u001b[37m    \u001b[39;49;00m\u001b[33m\"t5\"\u001b[39;49;00m.\u001b[33m\"Fax\"\u001b[39;49;00m\u001b[37m\u001b[39;49;00m\n",
       "\u001b[37m  \u001b[39;49;00m\u001b[34mFROM\u001b[39;49;00m\u001b[37m \u001b[39;49;00m(\u001b[37m\u001b[39;49;00m\n",
       "\u001b[37m    \u001b[39;49;00m\u001b[34mSELECT\u001b[39;49;00m\u001b[37m\u001b[39;49;00m\n",
       "\u001b[37m      \u001b[39;49;00m\u001b[34mCAST\u001b[39;49;00m(ShippedDate\u001b[37m \u001b[39;49;00m\u001b[34mAS\u001b[39;49;00m\u001b[37m \u001b[39;49;00m\u001b[36mTEXT\u001b[39;49;00m)\u001b[37m \u001b[39;49;00m\u001b[34mAS\u001b[39;49;00m\u001b[37m \u001b[39;49;00mShippedDate,\u001b[37m\u001b[39;49;00m\n",
       "\u001b[37m      \u001b[39;49;00mOrderID,\u001b[37m\u001b[39;49;00m\n",
       "\u001b[37m      \u001b[39;49;00mSubtotal\u001b[37m\u001b[39;49;00m\n",
       "\u001b[37m    \u001b[39;49;00m\u001b[34mFROM\u001b[39;49;00m\u001b[37m \u001b[39;49;00m\u001b[33m\"Summary of Sales by Quarter\"\u001b[39;49;00m\u001b[37m\u001b[39;49;00m\n",
       "\u001b[37m  \u001b[39;49;00m)\u001b[37m \u001b[39;49;00m\u001b[34mAS\u001b[39;49;00m\u001b[37m \u001b[39;49;00m\u001b[33m\"t3\"\u001b[39;49;00m\u001b[37m\u001b[39;49;00m\n",
       "\u001b[37m  \u001b[39;49;00m\u001b[34mINNER\u001b[39;49;00m\u001b[37m \u001b[39;49;00m\u001b[34mJOIN\u001b[39;49;00m\u001b[37m \u001b[39;49;00m(\u001b[37m\u001b[39;49;00m\n",
       "\u001b[37m    \u001b[39;49;00m\u001b[34mSELECT\u001b[39;49;00m\u001b[37m\u001b[39;49;00m\n",
       "\u001b[37m      \u001b[39;49;00mCustomerID,\u001b[37m\u001b[39;49;00m\n",
       "\u001b[37m      \u001b[39;49;00mOrderID\u001b[37m\u001b[39;49;00m\n",
       "\u001b[37m    \u001b[39;49;00m\u001b[34mFROM\u001b[39;49;00m\u001b[37m \u001b[39;49;00mOrders\u001b[37m\u001b[39;49;00m\n",
       "\u001b[37m  \u001b[39;49;00m)\u001b[37m \u001b[39;49;00m\u001b[34mAS\u001b[39;49;00m\u001b[37m \u001b[39;49;00m\u001b[33m\"t4\"\u001b[39;49;00m\u001b[37m\u001b[39;49;00m\n",
       "\u001b[37m    \u001b[39;49;00m\u001b[34mON\u001b[39;49;00m\u001b[37m \u001b[39;49;00m\u001b[33m\"t3\"\u001b[39;49;00m.\u001b[33m\"OrderID\"\u001b[39;49;00m\u001b[37m \u001b[39;49;00m=\u001b[37m \u001b[39;49;00m\u001b[33m\"t4\"\u001b[39;49;00m.\u001b[33m\"OrderID\"\u001b[39;49;00m\u001b[37m\u001b[39;49;00m\n",
       "\u001b[37m  \u001b[39;49;00m\u001b[34mINNER\u001b[39;49;00m\u001b[37m \u001b[39;49;00m\u001b[34mJOIN\u001b[39;49;00m\u001b[37m \u001b[39;49;00m\u001b[33m\"customers\"\u001b[39;49;00m\u001b[37m \u001b[39;49;00m\u001b[34mAS\u001b[39;49;00m\u001b[37m \u001b[39;49;00m\u001b[33m\"t5\"\u001b[39;49;00m\u001b[37m\u001b[39;49;00m\n",
       "\u001b[37m    \u001b[39;49;00m\u001b[34mON\u001b[39;49;00m\u001b[37m \u001b[39;49;00m\u001b[33m\"t4\"\u001b[39;49;00m.\u001b[33m\"CustomerID\"\u001b[39;49;00m\u001b[37m \u001b[39;49;00m=\u001b[37m \u001b[39;49;00m\u001b[33m\"t5\"\u001b[39;49;00m.\u001b[33m\"CustomerID\"\u001b[39;49;00m\u001b[37m\u001b[39;49;00m\n",
       ")\u001b[37m \u001b[39;49;00m\u001b[34mAS\u001b[39;49;00m\u001b[37m \u001b[39;49;00m\u001b[33m\"t6\"\u001b[39;49;00m\u001b[37m\u001b[39;49;00m\n",
       "\u001b[34mWHERE\u001b[39;49;00m\u001b[37m\u001b[39;49;00m\n",
       "\u001b[37m  \u001b[39;49;00m\u001b[33m\"t6\"\u001b[39;49;00m.\u001b[33m\"CompanyName\"\u001b[39;49;00m\u001b[37m \u001b[39;49;00m=\u001b[37m \u001b[39;49;00m\u001b[33m'IT'\u001b[39;49;00m\u001b[37m\u001b[39;49;00m"
      ]
     },
     "execution_count": 161,
     "metadata": {},
     "output_type": "execute_result"
    }
   ],
   "source": [
    "IT_condition = joined_data.CompanyName == \"IT\"\n",
    "\n",
    "ibis.to_sql(joined_data[IT_condition])"
   ]
  },
  {
   "cell_type": "code",
   "execution_count": 162,
   "metadata": {},
   "outputs": [],
   "source": [
    "df_IT_data = joined_data[IT_condition].to_pandas()\n",
    "df_IT_data[\"ShippedDate\"] = pd.to_datetime(df_IT_data[\"ShippedDate\"])\n",
    "\n",
    "extract = df_IT_data[[\"ShippedDate\",\"Subtotal\"]].set_index(\"ShippedDate\")\n",
    "\n",
    "extract_subsampled = extract.resample(\"BYE\").mean(\"Subtotal\")"
   ]
  },
  {
   "cell_type": "code",
   "execution_count": 163,
   "metadata": {},
   "outputs": [
    {
     "data": {
      "application/vnd.plotly.v1+json": {
       "config": {
        "plotlyServerURL": "https://plot.ly"
       },
       "data": [
        {
         "fillpattern": {
          "shape": ""
         },
         "hovertemplate": "ShippedDate=%{x}<br>Subtotal=%{y}<extra></extra>",
         "legendgroup": "",
         "line": {
          "color": "#636efa"
         },
         "marker": {
          "symbol": "circle"
         },
         "mode": "lines",
         "name": "",
         "orientation": "v",
         "showlegend": false,
         "stackgroup": "1",
         "type": "scatter",
         "x": [
          "2012-12-31T00:00:00",
          "2013-12-31T00:00:00",
          "2014-12-31T00:00:00",
          "2015-12-31T00:00:00",
          "2016-12-30T00:00:00",
          "2017-12-29T00:00:00",
          "2018-12-31T00:00:00",
          "2019-12-31T00:00:00",
          "2020-12-31T00:00:00",
          "2021-12-31T00:00:00",
          "2022-12-30T00:00:00",
          "2023-12-29T00:00:00"
         ],
         "xaxis": "x",
         "y": [
          23892.533888888887,
          33173.04142857143,
          28822.627857142856,
          26800.482068965517,
          25758.533142857144,
          31776.086799999997,
          27066.957307692308,
          27728.42612903226,
          32459.543214285713,
          26612.24909090909,
          31559.755312499998,
          31475.489999999998
         ],
         "yaxis": "y"
        }
       ],
       "layout": {
        "legend": {
         "tracegroupgap": 0
        },
        "margin": {
         "t": 60
        },
        "template": {
         "data": {
          "bar": [
           {
            "error_x": {
             "color": "#2a3f5f"
            },
            "error_y": {
             "color": "#2a3f5f"
            },
            "marker": {
             "line": {
              "color": "#E5ECF6",
              "width": 0.5
             },
             "pattern": {
              "fillmode": "overlay",
              "size": 10,
              "solidity": 0.2
             }
            },
            "type": "bar"
           }
          ],
          "barpolar": [
           {
            "marker": {
             "line": {
              "color": "#E5ECF6",
              "width": 0.5
             },
             "pattern": {
              "fillmode": "overlay",
              "size": 10,
              "solidity": 0.2
             }
            },
            "type": "barpolar"
           }
          ],
          "carpet": [
           {
            "aaxis": {
             "endlinecolor": "#2a3f5f",
             "gridcolor": "white",
             "linecolor": "white",
             "minorgridcolor": "white",
             "startlinecolor": "#2a3f5f"
            },
            "baxis": {
             "endlinecolor": "#2a3f5f",
             "gridcolor": "white",
             "linecolor": "white",
             "minorgridcolor": "white",
             "startlinecolor": "#2a3f5f"
            },
            "type": "carpet"
           }
          ],
          "choropleth": [
           {
            "colorbar": {
             "outlinewidth": 0,
             "ticks": ""
            },
            "type": "choropleth"
           }
          ],
          "contour": [
           {
            "colorbar": {
             "outlinewidth": 0,
             "ticks": ""
            },
            "colorscale": [
             [
              0,
              "#0d0887"
             ],
             [
              0.1111111111111111,
              "#46039f"
             ],
             [
              0.2222222222222222,
              "#7201a8"
             ],
             [
              0.3333333333333333,
              "#9c179e"
             ],
             [
              0.4444444444444444,
              "#bd3786"
             ],
             [
              0.5555555555555556,
              "#d8576b"
             ],
             [
              0.6666666666666666,
              "#ed7953"
             ],
             [
              0.7777777777777778,
              "#fb9f3a"
             ],
             [
              0.8888888888888888,
              "#fdca26"
             ],
             [
              1,
              "#f0f921"
             ]
            ],
            "type": "contour"
           }
          ],
          "contourcarpet": [
           {
            "colorbar": {
             "outlinewidth": 0,
             "ticks": ""
            },
            "type": "contourcarpet"
           }
          ],
          "heatmap": [
           {
            "colorbar": {
             "outlinewidth": 0,
             "ticks": ""
            },
            "colorscale": [
             [
              0,
              "#0d0887"
             ],
             [
              0.1111111111111111,
              "#46039f"
             ],
             [
              0.2222222222222222,
              "#7201a8"
             ],
             [
              0.3333333333333333,
              "#9c179e"
             ],
             [
              0.4444444444444444,
              "#bd3786"
             ],
             [
              0.5555555555555556,
              "#d8576b"
             ],
             [
              0.6666666666666666,
              "#ed7953"
             ],
             [
              0.7777777777777778,
              "#fb9f3a"
             ],
             [
              0.8888888888888888,
              "#fdca26"
             ],
             [
              1,
              "#f0f921"
             ]
            ],
            "type": "heatmap"
           }
          ],
          "heatmapgl": [
           {
            "colorbar": {
             "outlinewidth": 0,
             "ticks": ""
            },
            "colorscale": [
             [
              0,
              "#0d0887"
             ],
             [
              0.1111111111111111,
              "#46039f"
             ],
             [
              0.2222222222222222,
              "#7201a8"
             ],
             [
              0.3333333333333333,
              "#9c179e"
             ],
             [
              0.4444444444444444,
              "#bd3786"
             ],
             [
              0.5555555555555556,
              "#d8576b"
             ],
             [
              0.6666666666666666,
              "#ed7953"
             ],
             [
              0.7777777777777778,
              "#fb9f3a"
             ],
             [
              0.8888888888888888,
              "#fdca26"
             ],
             [
              1,
              "#f0f921"
             ]
            ],
            "type": "heatmapgl"
           }
          ],
          "histogram": [
           {
            "marker": {
             "pattern": {
              "fillmode": "overlay",
              "size": 10,
              "solidity": 0.2
             }
            },
            "type": "histogram"
           }
          ],
          "histogram2d": [
           {
            "colorbar": {
             "outlinewidth": 0,
             "ticks": ""
            },
            "colorscale": [
             [
              0,
              "#0d0887"
             ],
             [
              0.1111111111111111,
              "#46039f"
             ],
             [
              0.2222222222222222,
              "#7201a8"
             ],
             [
              0.3333333333333333,
              "#9c179e"
             ],
             [
              0.4444444444444444,
              "#bd3786"
             ],
             [
              0.5555555555555556,
              "#d8576b"
             ],
             [
              0.6666666666666666,
              "#ed7953"
             ],
             [
              0.7777777777777778,
              "#fb9f3a"
             ],
             [
              0.8888888888888888,
              "#fdca26"
             ],
             [
              1,
              "#f0f921"
             ]
            ],
            "type": "histogram2d"
           }
          ],
          "histogram2dcontour": [
           {
            "colorbar": {
             "outlinewidth": 0,
             "ticks": ""
            },
            "colorscale": [
             [
              0,
              "#0d0887"
             ],
             [
              0.1111111111111111,
              "#46039f"
             ],
             [
              0.2222222222222222,
              "#7201a8"
             ],
             [
              0.3333333333333333,
              "#9c179e"
             ],
             [
              0.4444444444444444,
              "#bd3786"
             ],
             [
              0.5555555555555556,
              "#d8576b"
             ],
             [
              0.6666666666666666,
              "#ed7953"
             ],
             [
              0.7777777777777778,
              "#fb9f3a"
             ],
             [
              0.8888888888888888,
              "#fdca26"
             ],
             [
              1,
              "#f0f921"
             ]
            ],
            "type": "histogram2dcontour"
           }
          ],
          "mesh3d": [
           {
            "colorbar": {
             "outlinewidth": 0,
             "ticks": ""
            },
            "type": "mesh3d"
           }
          ],
          "parcoords": [
           {
            "line": {
             "colorbar": {
              "outlinewidth": 0,
              "ticks": ""
             }
            },
            "type": "parcoords"
           }
          ],
          "pie": [
           {
            "automargin": true,
            "type": "pie"
           }
          ],
          "scatter": [
           {
            "fillpattern": {
             "fillmode": "overlay",
             "size": 10,
             "solidity": 0.2
            },
            "type": "scatter"
           }
          ],
          "scatter3d": [
           {
            "line": {
             "colorbar": {
              "outlinewidth": 0,
              "ticks": ""
             }
            },
            "marker": {
             "colorbar": {
              "outlinewidth": 0,
              "ticks": ""
             }
            },
            "type": "scatter3d"
           }
          ],
          "scattercarpet": [
           {
            "marker": {
             "colorbar": {
              "outlinewidth": 0,
              "ticks": ""
             }
            },
            "type": "scattercarpet"
           }
          ],
          "scattergeo": [
           {
            "marker": {
             "colorbar": {
              "outlinewidth": 0,
              "ticks": ""
             }
            },
            "type": "scattergeo"
           }
          ],
          "scattergl": [
           {
            "marker": {
             "colorbar": {
              "outlinewidth": 0,
              "ticks": ""
             }
            },
            "type": "scattergl"
           }
          ],
          "scattermapbox": [
           {
            "marker": {
             "colorbar": {
              "outlinewidth": 0,
              "ticks": ""
             }
            },
            "type": "scattermapbox"
           }
          ],
          "scatterpolar": [
           {
            "marker": {
             "colorbar": {
              "outlinewidth": 0,
              "ticks": ""
             }
            },
            "type": "scatterpolar"
           }
          ],
          "scatterpolargl": [
           {
            "marker": {
             "colorbar": {
              "outlinewidth": 0,
              "ticks": ""
             }
            },
            "type": "scatterpolargl"
           }
          ],
          "scatterternary": [
           {
            "marker": {
             "colorbar": {
              "outlinewidth": 0,
              "ticks": ""
             }
            },
            "type": "scatterternary"
           }
          ],
          "surface": [
           {
            "colorbar": {
             "outlinewidth": 0,
             "ticks": ""
            },
            "colorscale": [
             [
              0,
              "#0d0887"
             ],
             [
              0.1111111111111111,
              "#46039f"
             ],
             [
              0.2222222222222222,
              "#7201a8"
             ],
             [
              0.3333333333333333,
              "#9c179e"
             ],
             [
              0.4444444444444444,
              "#bd3786"
             ],
             [
              0.5555555555555556,
              "#d8576b"
             ],
             [
              0.6666666666666666,
              "#ed7953"
             ],
             [
              0.7777777777777778,
              "#fb9f3a"
             ],
             [
              0.8888888888888888,
              "#fdca26"
             ],
             [
              1,
              "#f0f921"
             ]
            ],
            "type": "surface"
           }
          ],
          "table": [
           {
            "cells": {
             "fill": {
              "color": "#EBF0F8"
             },
             "line": {
              "color": "white"
             }
            },
            "header": {
             "fill": {
              "color": "#C8D4E3"
             },
             "line": {
              "color": "white"
             }
            },
            "type": "table"
           }
          ]
         },
         "layout": {
          "annotationdefaults": {
           "arrowcolor": "#2a3f5f",
           "arrowhead": 0,
           "arrowwidth": 1
          },
          "autotypenumbers": "strict",
          "coloraxis": {
           "colorbar": {
            "outlinewidth": 0,
            "ticks": ""
           }
          },
          "colorscale": {
           "diverging": [
            [
             0,
             "#8e0152"
            ],
            [
             0.1,
             "#c51b7d"
            ],
            [
             0.2,
             "#de77ae"
            ],
            [
             0.3,
             "#f1b6da"
            ],
            [
             0.4,
             "#fde0ef"
            ],
            [
             0.5,
             "#f7f7f7"
            ],
            [
             0.6,
             "#e6f5d0"
            ],
            [
             0.7,
             "#b8e186"
            ],
            [
             0.8,
             "#7fbc41"
            ],
            [
             0.9,
             "#4d9221"
            ],
            [
             1,
             "#276419"
            ]
           ],
           "sequential": [
            [
             0,
             "#0d0887"
            ],
            [
             0.1111111111111111,
             "#46039f"
            ],
            [
             0.2222222222222222,
             "#7201a8"
            ],
            [
             0.3333333333333333,
             "#9c179e"
            ],
            [
             0.4444444444444444,
             "#bd3786"
            ],
            [
             0.5555555555555556,
             "#d8576b"
            ],
            [
             0.6666666666666666,
             "#ed7953"
            ],
            [
             0.7777777777777778,
             "#fb9f3a"
            ],
            [
             0.8888888888888888,
             "#fdca26"
            ],
            [
             1,
             "#f0f921"
            ]
           ],
           "sequentialminus": [
            [
             0,
             "#0d0887"
            ],
            [
             0.1111111111111111,
             "#46039f"
            ],
            [
             0.2222222222222222,
             "#7201a8"
            ],
            [
             0.3333333333333333,
             "#9c179e"
            ],
            [
             0.4444444444444444,
             "#bd3786"
            ],
            [
             0.5555555555555556,
             "#d8576b"
            ],
            [
             0.6666666666666666,
             "#ed7953"
            ],
            [
             0.7777777777777778,
             "#fb9f3a"
            ],
            [
             0.8888888888888888,
             "#fdca26"
            ],
            [
             1,
             "#f0f921"
            ]
           ]
          },
          "colorway": [
           "#636efa",
           "#EF553B",
           "#00cc96",
           "#ab63fa",
           "#FFA15A",
           "#19d3f3",
           "#FF6692",
           "#B6E880",
           "#FF97FF",
           "#FECB52"
          ],
          "font": {
           "color": "#2a3f5f"
          },
          "geo": {
           "bgcolor": "white",
           "lakecolor": "white",
           "landcolor": "#E5ECF6",
           "showlakes": true,
           "showland": true,
           "subunitcolor": "white"
          },
          "hoverlabel": {
           "align": "left"
          },
          "hovermode": "closest",
          "mapbox": {
           "style": "light"
          },
          "paper_bgcolor": "white",
          "plot_bgcolor": "#E5ECF6",
          "polar": {
           "angularaxis": {
            "gridcolor": "white",
            "linecolor": "white",
            "ticks": ""
           },
           "bgcolor": "#E5ECF6",
           "radialaxis": {
            "gridcolor": "white",
            "linecolor": "white",
            "ticks": ""
           }
          },
          "scene": {
           "xaxis": {
            "backgroundcolor": "#E5ECF6",
            "gridcolor": "white",
            "gridwidth": 2,
            "linecolor": "white",
            "showbackground": true,
            "ticks": "",
            "zerolinecolor": "white"
           },
           "yaxis": {
            "backgroundcolor": "#E5ECF6",
            "gridcolor": "white",
            "gridwidth": 2,
            "linecolor": "white",
            "showbackground": true,
            "ticks": "",
            "zerolinecolor": "white"
           },
           "zaxis": {
            "backgroundcolor": "#E5ECF6",
            "gridcolor": "white",
            "gridwidth": 2,
            "linecolor": "white",
            "showbackground": true,
            "ticks": "",
            "zerolinecolor": "white"
           }
          },
          "shapedefaults": {
           "line": {
            "color": "#2a3f5f"
           }
          },
          "ternary": {
           "aaxis": {
            "gridcolor": "white",
            "linecolor": "white",
            "ticks": ""
           },
           "baxis": {
            "gridcolor": "white",
            "linecolor": "white",
            "ticks": ""
           },
           "bgcolor": "#E5ECF6",
           "caxis": {
            "gridcolor": "white",
            "linecolor": "white",
            "ticks": ""
           }
          },
          "title": {
           "x": 0.05
          },
          "xaxis": {
           "automargin": true,
           "gridcolor": "white",
           "linecolor": "white",
           "ticks": "",
           "title": {
            "standoff": 15
           },
           "zerolinecolor": "white",
           "zerolinewidth": 2
          },
          "yaxis": {
           "automargin": true,
           "gridcolor": "white",
           "linecolor": "white",
           "ticks": "",
           "title": {
            "standoff": 15
           },
           "zerolinecolor": "white",
           "zerolinewidth": 2
          }
         }
        },
        "xaxis": {
         "anchor": "y",
         "domain": [
          0,
          1
         ],
         "title": {
          "text": "ShippedDate"
         }
        },
        "yaxis": {
         "anchor": "x",
         "domain": [
          0,
          1
         ],
         "title": {
          "text": "Subtotal"
         }
        }
       }
      }
     },
     "metadata": {},
     "output_type": "display_data"
    }
   ],
   "source": [
    "fig = px.area(extract_subsampled, x=extract_subsampled.index, y=\"Subtotal\")\n",
    "fig.show()"
   ]
  },
  {
   "cell_type": "markdown",
   "metadata": {},
   "source": [
    "### **4. Análisis de Inventarios y Proveedores**\n",
    "Analiza los niveles de inventario y la gestión de proveedores de la empresa. Examina el inventario disponible por categoría de productos, así como el rendimiento de los proveedores en términos de puntualidad de entrega y calidad de los productos. \n",
    "\n",
    "Pista: Utiliza gráficos de líneas y tablas dinámicas para mostrar tendencias y comparar el desempeño de los proveedores."
   ]
  },
  {
   "cell_type": "markdown",
   "metadata": {},
   "source": [
    "\n",
    "### **5. Análisis de Comportamiento de Empleados**\n",
    "Analiza el comportamiento de los empleados de la empresa. Examina las ventas realizadas por cada empleado, así como su eficiencia en el manejo de pedidos y su puntualidad en la entrega de productos. \n",
    "\n",
    "Pista: Utiliza gráficos de barra y de dispersión para comparar el desempeño de los empleados y identificar áreas de mejora."
   ]
  },
  {
   "cell_type": "markdown",
   "metadata": {},
   "source": [
    "**NOTA** Para poder realizar estas operaciones de forma correcta deberemos alterar la vista invoices, Salesperson será únicamente el nombre del empleado."
   ]
  },
  {
   "cell_type": "code",
   "execution_count": 46,
   "metadata": {},
   "outputs": [
    {
     "data": {
      "text/html": [
       "<pre style=\"white-space:pre;overflow-x:auto;line-height:normal;font-family:Menlo,'DejaVu Sans Mono',consolas,'Courier New',monospace\">SQLQueryResult\n",
       "  query:\n",
       "    SELECT Salesperson, ExtendedPrice FROM Invoices\n",
       "  schema:\n",
       "    Salesperson   string\n",
       "    ExtendedPrice float64\n",
       "</pre>\n"
      ],
      "text/plain": [
       "SQLQueryResult\n",
       "  query:\n",
       "    SELECT Salesperson, ExtendedPrice FROM Invoices\n",
       "  schema:\n",
       "    Salesperson   string\n",
       "    ExtendedPrice float64"
      ]
     },
     "execution_count": 46,
     "metadata": {},
     "output_type": "execute_result"
    }
   ],
   "source": [
    "ventas = con.sql(\"SELECT Salesperson, ExtendedPrice FROM Invoices\")\n",
    "ventas"
   ]
  },
  {
   "cell_type": "code",
   "execution_count": 48,
   "metadata": {},
   "outputs": [],
   "source": [
    "empleados_rentables = ventas.aggregate(by=\"Salesperson\", rendimiento=ventas[\"ExtendedPrice\"].sum()).order_by(ibis.desc(\"rendimiento\"))"
   ]
  },
  {
   "cell_type": "code",
   "execution_count": 50,
   "metadata": {},
   "outputs": [
    {
     "data": {
      "text/markdown": [
       "```sql\n",
       "SELECT\n",
       "  *\n",
       "FROM (\n",
       "  SELECT\n",
       "    \"t0\".\"Salesperson\",\n",
       "    SUM(\"t0\".\"ExtendedPrice\") AS \"rendimiento\"\n",
       "  FROM (\n",
       "    SELECT\n",
       "      Salesperson,\n",
       "      ExtendedPrice\n",
       "    FROM Invoices\n",
       "  ) AS \"t0\"\n",
       "  GROUP BY\n",
       "    1\n",
       ") AS \"t1\"\n",
       "ORDER BY\n",
       "  \"t1\".\"rendimiento\" DESC\n",
       "```"
      ],
      "text/plain": [
       "\u001b[34mSELECT\u001b[39;49;00m\u001b[37m\u001b[39;49;00m\n",
       "\u001b[37m  \u001b[39;49;00m*\u001b[37m\u001b[39;49;00m\n",
       "\u001b[34mFROM\u001b[39;49;00m\u001b[37m \u001b[39;49;00m(\u001b[37m\u001b[39;49;00m\n",
       "\u001b[37m  \u001b[39;49;00m\u001b[34mSELECT\u001b[39;49;00m\u001b[37m\u001b[39;49;00m\n",
       "\u001b[37m    \u001b[39;49;00m\u001b[33m\"t0\"\u001b[39;49;00m.\u001b[33m\"Salesperson\"\u001b[39;49;00m,\u001b[37m\u001b[39;49;00m\n",
       "\u001b[37m    \u001b[39;49;00m\u001b[34mSUM\u001b[39;49;00m(\u001b[33m\"t0\"\u001b[39;49;00m.\u001b[33m\"ExtendedPrice\"\u001b[39;49;00m)\u001b[37m \u001b[39;49;00m\u001b[34mAS\u001b[39;49;00m\u001b[37m \u001b[39;49;00m\u001b[33m\"rendimiento\"\u001b[39;49;00m\u001b[37m\u001b[39;49;00m\n",
       "\u001b[37m  \u001b[39;49;00m\u001b[34mFROM\u001b[39;49;00m\u001b[37m \u001b[39;49;00m(\u001b[37m\u001b[39;49;00m\n",
       "\u001b[37m    \u001b[39;49;00m\u001b[34mSELECT\u001b[39;49;00m\u001b[37m\u001b[39;49;00m\n",
       "\u001b[37m      \u001b[39;49;00mSalesperson,\u001b[37m\u001b[39;49;00m\n",
       "\u001b[37m      \u001b[39;49;00mExtendedPrice\u001b[37m\u001b[39;49;00m\n",
       "\u001b[37m    \u001b[39;49;00m\u001b[34mFROM\u001b[39;49;00m\u001b[37m \u001b[39;49;00mInvoices\u001b[37m\u001b[39;49;00m\n",
       "\u001b[37m  \u001b[39;49;00m)\u001b[37m \u001b[39;49;00m\u001b[34mAS\u001b[39;49;00m\u001b[37m \u001b[39;49;00m\u001b[33m\"t0\"\u001b[39;49;00m\u001b[37m\u001b[39;49;00m\n",
       "\u001b[37m  \u001b[39;49;00m\u001b[34mGROUP\u001b[39;49;00m\u001b[37m \u001b[39;49;00m\u001b[34mBY\u001b[39;49;00m\u001b[37m\u001b[39;49;00m\n",
       "\u001b[37m    \u001b[39;49;00m\u001b[34m1\u001b[39;49;00m\u001b[37m\u001b[39;49;00m\n",
       ")\u001b[37m \u001b[39;49;00m\u001b[34mAS\u001b[39;49;00m\u001b[37m \u001b[39;49;00m\u001b[33m\"t1\"\u001b[39;49;00m\u001b[37m\u001b[39;49;00m\n",
       "\u001b[34mORDER\u001b[39;49;00m\u001b[37m \u001b[39;49;00m\u001b[34mBY\u001b[39;49;00m\u001b[37m\u001b[39;49;00m\n",
       "\u001b[37m  \u001b[39;49;00m\u001b[33m\"t1\"\u001b[39;49;00m.\u001b[33m\"rendimiento\"\u001b[39;49;00m\u001b[37m \u001b[39;49;00m\u001b[34mDESC\u001b[39;49;00m\u001b[37m\u001b[39;49;00m"
      ]
     },
     "execution_count": 50,
     "metadata": {},
     "output_type": "execute_result"
    }
   ],
   "source": [
    "ibis.to_sql(empleados_rentables)"
   ]
  },
  {
   "cell_type": "code",
   "execution_count": 51,
   "metadata": {},
   "outputs": [
    {
     "data": {
      "text/html": [
       "<div>\n",
       "<style scoped>\n",
       "    .dataframe tbody tr th:only-of-type {\n",
       "        vertical-align: middle;\n",
       "    }\n",
       "\n",
       "    .dataframe tbody tr th {\n",
       "        vertical-align: top;\n",
       "    }\n",
       "\n",
       "    .dataframe thead th {\n",
       "        text-align: right;\n",
       "    }\n",
       "</style>\n",
       "<table border=\"1\" class=\"dataframe\">\n",
       "  <thead>\n",
       "    <tr style=\"text-align: right;\">\n",
       "      <th></th>\n",
       "      <th>Salesperson</th>\n",
       "      <th>rendimiento</th>\n",
       "    </tr>\n",
       "  </thead>\n",
       "  <tbody>\n",
       "    <tr>\n",
       "      <th>0</th>\n",
       "      <td>Margaret</td>\n",
       "      <td>5.148840e+07</td>\n",
       "    </tr>\n",
       "    <tr>\n",
       "      <th>1</th>\n",
       "      <td>Steven</td>\n",
       "      <td>5.138646e+07</td>\n",
       "    </tr>\n",
       "    <tr>\n",
       "      <th>2</th>\n",
       "      <td>Janet</td>\n",
       "      <td>5.044557e+07</td>\n",
       "    </tr>\n",
       "    <tr>\n",
       "      <th>3</th>\n",
       "      <td>Nancy</td>\n",
       "      <td>4.965942e+07</td>\n",
       "    </tr>\n",
       "    <tr>\n",
       "      <th>4</th>\n",
       "      <td>Robert</td>\n",
       "      <td>4.965190e+07</td>\n",
       "    </tr>\n",
       "    <tr>\n",
       "      <th>5</th>\n",
       "      <td>Laura</td>\n",
       "      <td>4.928114e+07</td>\n",
       "    </tr>\n",
       "    <tr>\n",
       "      <th>6</th>\n",
       "      <td>Michael</td>\n",
       "      <td>4.913997e+07</td>\n",
       "    </tr>\n",
       "    <tr>\n",
       "      <th>7</th>\n",
       "      <td>Anne</td>\n",
       "      <td>4.901968e+07</td>\n",
       "    </tr>\n",
       "    <tr>\n",
       "      <th>8</th>\n",
       "      <td>Andrew</td>\n",
       "      <td>4.831410e+07</td>\n",
       "    </tr>\n",
       "  </tbody>\n",
       "</table>\n",
       "</div>"
      ],
      "text/plain": [
       "  Salesperson   rendimiento\n",
       "0    Margaret  5.148840e+07\n",
       "1      Steven  5.138646e+07\n",
       "2       Janet  5.044557e+07\n",
       "3       Nancy  4.965942e+07\n",
       "4      Robert  4.965190e+07\n",
       "5       Laura  4.928114e+07\n",
       "6     Michael  4.913997e+07\n",
       "7        Anne  4.901968e+07\n",
       "8      Andrew  4.831410e+07"
      ]
     },
     "execution_count": 51,
     "metadata": {},
     "output_type": "execute_result"
    }
   ],
   "source": [
    "empleados_rentables.to_pandas()"
   ]
  }
 ],
 "metadata": {
  "kernelspec": {
   "display_name": ".venv",
   "language": "python",
   "name": "python3"
  },
  "language_info": {
   "codemirror_mode": {
    "name": "ipython",
    "version": 3
   },
   "file_extension": ".py",
   "mimetype": "text/x-python",
   "name": "python",
   "nbconvert_exporter": "python",
   "pygments_lexer": "ipython3",
   "version": "3.11.9"
  }
 },
 "nbformat": 4,
 "nbformat_minor": 2
}
