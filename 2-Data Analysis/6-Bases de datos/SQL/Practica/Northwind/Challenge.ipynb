{
 "cells": [
  {
   "cell_type": "markdown",
   "metadata": {},
   "source": [
    "# NORTHWIND DATABASE"
   ]
  },
  {
   "cell_type": "markdown",
   "metadata": {},
   "source": [
    "El **objetivo** de este ejercicio es generar una serie de consultas SQL que permitan extraer información relevante de la base de datos y luego exportar los resultados para construir dashboards o visualizaciones que proporcionen insights valiosos para la toma de decisiones empresariales.\n",
    "\n",
    "La base de datos Northwind es una base de datos de ejemplo clásica que simula las operaciones de una empresa minorista. Contiene tablas relacionales que representan diferentes aspectos del negocio, como productos, clientes, pedidos y empleados. Utilizando consultas SQL, podrás explorar y analizar estos datos para comprender mejor el desempeño del negocio en diferentes áreas.\n",
    "\n",
    "Una vez que hayas realizado las consultas SQL y obtenido los resultados, podrás utilizarlos para herramientas de visualización de datos como Tableau, Power BI, Streamlit o cualquier otra herramienta de tu elección. "
   ]
  },
  {
   "cell_type": "markdown",
   "metadata": {},
   "source": [
    "![img](./img/northwind-er-diagram.png)"
   ]
  },
  {
   "cell_type": "markdown",
   "metadata": {},
   "source": [
    "Tendrás que elegir uno de los retos a resolver:"
   ]
  },
  {
   "cell_type": "markdown",
   "metadata": {},
   "source": [
    "### **1. Análisis de Ventas por Región**\n",
    "Analiza las ventas de productos por región. El objetivo es identificar las regiones que generan más ingresos y las tendencias de ventas a lo largo del tiempo en esas regiones. \n",
    "Pista: Utiliza gráficos de barras y líneas para mostrar la evolución de las ventas, así como mapas geográficos para visualizar la distribución de ingresos por región."
   ]
  },
  {
   "cell_type": "code",
   "execution_count": 28,
   "metadata": {},
   "outputs": [],
   "source": [
    "from sqlalchemy import create_engine\n",
    "\n",
    "engine = create_engine('sqlite:///data/northwind.db', echo=False)\n",
    "connection = engine.connect()"
   ]
  },
  {
   "cell_type": "code",
   "execution_count": 29,
   "metadata": {},
   "outputs": [
    {
     "data": {
      "text/html": [
       "<div>\n",
       "<style scoped>\n",
       "    .dataframe tbody tr th:only-of-type {\n",
       "        vertical-align: middle;\n",
       "    }\n",
       "\n",
       "    .dataframe tbody tr th {\n",
       "        vertical-align: top;\n",
       "    }\n",
       "\n",
       "    .dataframe thead th {\n",
       "        text-align: right;\n",
       "    }\n",
       "</style>\n",
       "<table border=\"1\" class=\"dataframe\">\n",
       "  <thead>\n",
       "    <tr style=\"text-align: right;\">\n",
       "      <th></th>\n",
       "      <th>OrderDate</th>\n",
       "      <th>ShipRegion</th>\n",
       "      <th>Precio_total</th>\n",
       "      <th>ProductName</th>\n",
       "    </tr>\n",
       "  </thead>\n",
       "  <tbody>\n",
       "    <tr>\n",
       "      <th>0</th>\n",
       "      <td>2016-07-04 00:00:00</td>\n",
       "      <td>Western Europe</td>\n",
       "      <td>168.00</td>\n",
       "      <td>Queso Cabrales</td>\n",
       "    </tr>\n",
       "    <tr>\n",
       "      <th>1</th>\n",
       "      <td>2016-07-04 00:00:00</td>\n",
       "      <td>Western Europe</td>\n",
       "      <td>98.00</td>\n",
       "      <td>Singaporean Hokkien Fried Mee</td>\n",
       "    </tr>\n",
       "    <tr>\n",
       "      <th>2</th>\n",
       "      <td>2016-07-04 00:00:00</td>\n",
       "      <td>Western Europe</td>\n",
       "      <td>174.00</td>\n",
       "      <td>Mozzarella di Giovanni</td>\n",
       "    </tr>\n",
       "    <tr>\n",
       "      <th>3</th>\n",
       "      <td>2016-07-05 00:00:00</td>\n",
       "      <td>Western Europe</td>\n",
       "      <td>167.40</td>\n",
       "      <td>Tofu</td>\n",
       "    </tr>\n",
       "    <tr>\n",
       "      <th>4</th>\n",
       "      <td>2016-07-05 00:00:00</td>\n",
       "      <td>Western Europe</td>\n",
       "      <td>1696.00</td>\n",
       "      <td>Manjimup Dried Apples</td>\n",
       "    </tr>\n",
       "    <tr>\n",
       "      <th>...</th>\n",
       "      <td>...</td>\n",
       "      <td>...</td>\n",
       "      <td>...</td>\n",
       "      <td>...</td>\n",
       "    </tr>\n",
       "    <tr>\n",
       "      <th>609278</th>\n",
       "      <td>2023-01-10 05:40:51</td>\n",
       "      <td>British Isles</td>\n",
       "      <td>806.00</td>\n",
       "      <td>Ikura</td>\n",
       "    </tr>\n",
       "    <tr>\n",
       "      <th>609279</th>\n",
       "      <td>2023-01-10 05:40:51</td>\n",
       "      <td>British Isles</td>\n",
       "      <td>216.00</td>\n",
       "      <td>Spegesild</td>\n",
       "    </tr>\n",
       "    <tr>\n",
       "      <th>609280</th>\n",
       "      <td>2023-01-10 05:40:51</td>\n",
       "      <td>British Isles</td>\n",
       "      <td>93.69</td>\n",
       "      <td>Gumbär Gummibärchen</td>\n",
       "    </tr>\n",
       "    <tr>\n",
       "      <th>609281</th>\n",
       "      <td>2023-01-10 05:40:51</td>\n",
       "      <td>British Isles</td>\n",
       "      <td>1053.60</td>\n",
       "      <td>Schoggi Schokolade</td>\n",
       "    </tr>\n",
       "    <tr>\n",
       "      <th>609282</th>\n",
       "      <td>2023-01-10 05:40:51</td>\n",
       "      <td>British Isles</td>\n",
       "      <td>1014.00</td>\n",
       "      <td>Alice Mutton</td>\n",
       "    </tr>\n",
       "  </tbody>\n",
       "</table>\n",
       "<p>609283 rows × 4 columns</p>\n",
       "</div>"
      ],
      "text/plain": [
       "                  OrderDate      ShipRegion  Precio_total  \\\n",
       "0       2016-07-04 00:00:00  Western Europe        168.00   \n",
       "1       2016-07-04 00:00:00  Western Europe         98.00   \n",
       "2       2016-07-04 00:00:00  Western Europe        174.00   \n",
       "3       2016-07-05 00:00:00  Western Europe        167.40   \n",
       "4       2016-07-05 00:00:00  Western Europe       1696.00   \n",
       "...                     ...             ...           ...   \n",
       "609278  2023-01-10 05:40:51   British Isles        806.00   \n",
       "609279  2023-01-10 05:40:51   British Isles        216.00   \n",
       "609280  2023-01-10 05:40:51   British Isles         93.69   \n",
       "609281  2023-01-10 05:40:51   British Isles       1053.60   \n",
       "609282  2023-01-10 05:40:51   British Isles       1014.00   \n",
       "\n",
       "                          ProductName  \n",
       "0                      Queso Cabrales  \n",
       "1       Singaporean Hokkien Fried Mee  \n",
       "2              Mozzarella di Giovanni  \n",
       "3                                Tofu  \n",
       "4               Manjimup Dried Apples  \n",
       "...                               ...  \n",
       "609278                          Ikura  \n",
       "609279                      Spegesild  \n",
       "609280            Gumbär Gummibärchen  \n",
       "609281             Schoggi Schokolade  \n",
       "609282                   Alice Mutton  \n",
       "\n",
       "[609283 rows x 4 columns]"
      ]
     },
     "execution_count": 29,
     "metadata": {},
     "output_type": "execute_result"
    }
   ],
   "source": [
    "import pandas as pd\n",
    "\n",
    "consulta = \"\"\"\n",
    "SELECT datetime(o.OrderDate) as OrderDate, o.ShipRegion, od.Quantity*od.UnitPrice*(1-od.Discount) AS Precio_total, p.ProductName\n",
    "FROM Orders o\n",
    "INNER JOIN [Order Details] od ON od.OrderID == o.OrderID\n",
    "INNER JOIN Products p ON p.ProductID = od.ProductID\n",
    "\"\"\"\n",
    "\n",
    "data_df = pd.read_sql(consulta, con=connection)\n",
    "data_df"
   ]
  },
  {
   "cell_type": "code",
   "execution_count": 30,
   "metadata": {},
   "outputs": [
    {
     "data": {
      "text/plain": [
       "OrderDate        object\n",
       "ShipRegion       object\n",
       "Precio_total    float64\n",
       "ProductName      object\n",
       "dtype: object"
      ]
     },
     "execution_count": 30,
     "metadata": {},
     "output_type": "execute_result"
    }
   ],
   "source": [
    "data_df.dtypes"
   ]
  },
  {
   "cell_type": "code",
   "execution_count": 31,
   "metadata": {},
   "outputs": [],
   "source": [
    "data_df[\"OrderDate\"] = pd.to_datetime(data_df['OrderDate'])\n",
    "data_df.set_index(\"OrderDate\", inplace=True)"
   ]
  },
  {
   "cell_type": "code",
   "execution_count": 32,
   "metadata": {},
   "outputs": [
    {
     "data": {
      "text/plain": [
       "DatetimeIndex(['2016-07-04 00:00:00', '2016-07-04 00:00:00',\n",
       "               '2016-07-04 00:00:00', '2016-07-05 00:00:00',\n",
       "               '2016-07-05 00:00:00', '2016-07-08 00:00:00',\n",
       "               '2016-07-08 00:00:00', '2016-07-08 00:00:00',\n",
       "               '2016-07-08 00:00:00', '2016-07-08 00:00:00',\n",
       "               ...\n",
       "               '2023-01-10 05:40:51', '2023-01-10 05:40:51',\n",
       "               '2023-01-10 05:40:51', '2023-01-10 05:40:51',\n",
       "               '2023-01-10 05:40:51', '2023-01-10 05:40:51',\n",
       "               '2023-01-10 05:40:51', '2023-01-10 05:40:51',\n",
       "               '2023-01-10 05:40:51', '2023-01-10 05:40:51'],\n",
       "              dtype='datetime64[ns]', name='OrderDate', length=609283, freq=None)"
      ]
     },
     "execution_count": 32,
     "metadata": {},
     "output_type": "execute_result"
    }
   ],
   "source": [
    "data_df.index"
   ]
  },
  {
   "cell_type": "code",
   "execution_count": 33,
   "metadata": {},
   "outputs": [
    {
     "data": {
      "text/html": [
       "<div>\n",
       "<style scoped>\n",
       "    .dataframe tbody tr th:only-of-type {\n",
       "        vertical-align: middle;\n",
       "    }\n",
       "\n",
       "    .dataframe tbody tr th {\n",
       "        vertical-align: top;\n",
       "    }\n",
       "\n",
       "    .dataframe thead th {\n",
       "        text-align: right;\n",
       "    }\n",
       "</style>\n",
       "<table border=\"1\" class=\"dataframe\">\n",
       "  <thead>\n",
       "    <tr style=\"text-align: right;\">\n",
       "      <th></th>\n",
       "      <th>ShipRegion</th>\n",
       "      <th>Precio_total</th>\n",
       "      <th>ProductName</th>\n",
       "    </tr>\n",
       "    <tr>\n",
       "      <th>OrderDate</th>\n",
       "      <th></th>\n",
       "      <th></th>\n",
       "      <th></th>\n",
       "    </tr>\n",
       "  </thead>\n",
       "  <tbody>\n",
       "    <tr>\n",
       "      <th>2016-07-04</th>\n",
       "      <td>Western Europe</td>\n",
       "      <td>168.0</td>\n",
       "      <td>Queso Cabrales</td>\n",
       "    </tr>\n",
       "    <tr>\n",
       "      <th>2016-07-04</th>\n",
       "      <td>Western Europe</td>\n",
       "      <td>98.0</td>\n",
       "      <td>Singaporean Hokkien Fried Mee</td>\n",
       "    </tr>\n",
       "    <tr>\n",
       "      <th>2016-07-04</th>\n",
       "      <td>Western Europe</td>\n",
       "      <td>174.0</td>\n",
       "      <td>Mozzarella di Giovanni</td>\n",
       "    </tr>\n",
       "    <tr>\n",
       "      <th>2016-07-05</th>\n",
       "      <td>Western Europe</td>\n",
       "      <td>167.4</td>\n",
       "      <td>Tofu</td>\n",
       "    </tr>\n",
       "    <tr>\n",
       "      <th>2016-07-05</th>\n",
       "      <td>Western Europe</td>\n",
       "      <td>1696.0</td>\n",
       "      <td>Manjimup Dried Apples</td>\n",
       "    </tr>\n",
       "  </tbody>\n",
       "</table>\n",
       "</div>"
      ],
      "text/plain": [
       "                ShipRegion  Precio_total                    ProductName\n",
       "OrderDate                                                              \n",
       "2016-07-04  Western Europe         168.0                 Queso Cabrales\n",
       "2016-07-04  Western Europe          98.0  Singaporean Hokkien Fried Mee\n",
       "2016-07-04  Western Europe         174.0         Mozzarella di Giovanni\n",
       "2016-07-05  Western Europe         167.4                           Tofu\n",
       "2016-07-05  Western Europe        1696.0          Manjimup Dried Apples"
      ]
     },
     "execution_count": 33,
     "metadata": {},
     "output_type": "execute_result"
    }
   ],
   "source": [
    "data_df.head()"
   ]
  },
  {
   "cell_type": "code",
   "execution_count": 34,
   "metadata": {},
   "outputs": [
    {
     "data": {
      "text/plain": [
       "array(['Western Europe', 'South America', 'Central America',\n",
       "       'North America', 'Northern Europe', 'Scandinavia',\n",
       "       'Southern Europe', 'British Isles', 'Eastern Europe'], dtype=object)"
      ]
     },
     "execution_count": 34,
     "metadata": {},
     "output_type": "execute_result"
    }
   ],
   "source": [
    "data_df[\"ShipRegion\"].unique()"
   ]
  },
  {
   "cell_type": "code",
   "execution_count": 35,
   "metadata": {},
   "outputs": [
    {
     "data": {
      "text/html": [
       "<div>\n",
       "<style scoped>\n",
       "    .dataframe tbody tr th:only-of-type {\n",
       "        vertical-align: middle;\n",
       "    }\n",
       "\n",
       "    .dataframe tbody tr th {\n",
       "        vertical-align: top;\n",
       "    }\n",
       "\n",
       "    .dataframe thead th {\n",
       "        text-align: right;\n",
       "    }\n",
       "</style>\n",
       "<table border=\"1\" class=\"dataframe\">\n",
       "  <thead>\n",
       "    <tr style=\"text-align: right;\">\n",
       "      <th></th>\n",
       "      <th></th>\n",
       "      <th>Precio_total</th>\n",
       "    </tr>\n",
       "    <tr>\n",
       "      <th>ShipRegion</th>\n",
       "      <th>OrderDate</th>\n",
       "      <th></th>\n",
       "    </tr>\n",
       "  </thead>\n",
       "  <tbody>\n",
       "    <tr>\n",
       "      <th rowspan=\"5\" valign=\"top\">British Isles</th>\n",
       "      <th>2012-12-31</th>\n",
       "      <td>1697832.07</td>\n",
       "    </tr>\n",
       "    <tr>\n",
       "      <th>2013-12-31</th>\n",
       "      <td>3128226.90</td>\n",
       "    </tr>\n",
       "    <tr>\n",
       "      <th>2014-12-31</th>\n",
       "      <td>3884546.08</td>\n",
       "    </tr>\n",
       "    <tr>\n",
       "      <th>2015-12-31</th>\n",
       "      <td>3511450.44</td>\n",
       "    </tr>\n",
       "    <tr>\n",
       "      <th>2016-12-30</th>\n",
       "      <td>3574917.46</td>\n",
       "    </tr>\n",
       "    <tr>\n",
       "      <th>...</th>\n",
       "      <th>...</th>\n",
       "      <td>...</td>\n",
       "    </tr>\n",
       "    <tr>\n",
       "      <th rowspan=\"5\" valign=\"top\">Western Europe</th>\n",
       "      <th>2019-12-31</th>\n",
       "      <td>11526084.85</td>\n",
       "    </tr>\n",
       "    <tr>\n",
       "      <th>2020-12-31</th>\n",
       "      <td>12029185.51</td>\n",
       "    </tr>\n",
       "    <tr>\n",
       "      <th>2021-12-31</th>\n",
       "      <td>11217097.30</td>\n",
       "    </tr>\n",
       "    <tr>\n",
       "      <th>2022-12-30</th>\n",
       "      <td>11066267.48</td>\n",
       "    </tr>\n",
       "    <tr>\n",
       "      <th>2023-12-29</th>\n",
       "      <td>9940536.04</td>\n",
       "    </tr>\n",
       "  </tbody>\n",
       "</table>\n",
       "<p>108 rows × 1 columns</p>\n",
       "</div>"
      ],
      "text/plain": [
       "                           Precio_total\n",
       "ShipRegion     OrderDate               \n",
       "British Isles  2012-12-31    1697832.07\n",
       "               2013-12-31    3128226.90\n",
       "               2014-12-31    3884546.08\n",
       "               2015-12-31    3511450.44\n",
       "               2016-12-30    3574917.46\n",
       "...                                 ...\n",
       "Western Europe 2019-12-31   11526084.85\n",
       "               2020-12-31   12029185.51\n",
       "               2021-12-31   11217097.30\n",
       "               2022-12-30   11066267.48\n",
       "               2023-12-29    9940536.04\n",
       "\n",
       "[108 rows x 1 columns]"
      ]
     },
     "execution_count": 35,
     "metadata": {},
     "output_type": "execute_result"
    }
   ],
   "source": [
    "reg_prod_total = data_df.groupby([\"ShipRegion\"]).resample(\"BYE\").sum(\"Precio_total\")\n",
    "reg_prod_total"
   ]
  },
  {
   "cell_type": "code",
   "execution_count": 36,
   "metadata": {},
   "outputs": [
    {
     "data": {
      "text/html": [
       "<div>\n",
       "<style scoped>\n",
       "    .dataframe tbody tr th:only-of-type {\n",
       "        vertical-align: middle;\n",
       "    }\n",
       "\n",
       "    .dataframe tbody tr th {\n",
       "        vertical-align: top;\n",
       "    }\n",
       "\n",
       "    .dataframe thead th {\n",
       "        text-align: right;\n",
       "    }\n",
       "</style>\n",
       "<table border=\"1\" class=\"dataframe\">\n",
       "  <thead>\n",
       "    <tr style=\"text-align: right;\">\n",
       "      <th></th>\n",
       "      <th>ShipRegion</th>\n",
       "      <th>OrderDate</th>\n",
       "      <th>Precio_total</th>\n",
       "    </tr>\n",
       "  </thead>\n",
       "  <tbody>\n",
       "    <tr>\n",
       "      <th>0</th>\n",
       "      <td>British Isles</td>\n",
       "      <td>2012-12-31</td>\n",
       "      <td>1697832.07</td>\n",
       "    </tr>\n",
       "    <tr>\n",
       "      <th>1</th>\n",
       "      <td>British Isles</td>\n",
       "      <td>2013-12-31</td>\n",
       "      <td>3128226.90</td>\n",
       "    </tr>\n",
       "    <tr>\n",
       "      <th>2</th>\n",
       "      <td>British Isles</td>\n",
       "      <td>2014-12-31</td>\n",
       "      <td>3884546.08</td>\n",
       "    </tr>\n",
       "    <tr>\n",
       "      <th>3</th>\n",
       "      <td>British Isles</td>\n",
       "      <td>2015-12-31</td>\n",
       "      <td>3511450.44</td>\n",
       "    </tr>\n",
       "    <tr>\n",
       "      <th>4</th>\n",
       "      <td>British Isles</td>\n",
       "      <td>2016-12-30</td>\n",
       "      <td>3574917.46</td>\n",
       "    </tr>\n",
       "    <tr>\n",
       "      <th>...</th>\n",
       "      <td>...</td>\n",
       "      <td>...</td>\n",
       "      <td>...</td>\n",
       "    </tr>\n",
       "    <tr>\n",
       "      <th>103</th>\n",
       "      <td>Western Europe</td>\n",
       "      <td>2019-12-31</td>\n",
       "      <td>11526084.85</td>\n",
       "    </tr>\n",
       "    <tr>\n",
       "      <th>104</th>\n",
       "      <td>Western Europe</td>\n",
       "      <td>2020-12-31</td>\n",
       "      <td>12029185.51</td>\n",
       "    </tr>\n",
       "    <tr>\n",
       "      <th>105</th>\n",
       "      <td>Western Europe</td>\n",
       "      <td>2021-12-31</td>\n",
       "      <td>11217097.30</td>\n",
       "    </tr>\n",
       "    <tr>\n",
       "      <th>106</th>\n",
       "      <td>Western Europe</td>\n",
       "      <td>2022-12-30</td>\n",
       "      <td>11066267.48</td>\n",
       "    </tr>\n",
       "    <tr>\n",
       "      <th>107</th>\n",
       "      <td>Western Europe</td>\n",
       "      <td>2023-12-29</td>\n",
       "      <td>9940536.04</td>\n",
       "    </tr>\n",
       "  </tbody>\n",
       "</table>\n",
       "<p>108 rows × 3 columns</p>\n",
       "</div>"
      ],
      "text/plain": [
       "         ShipRegion  OrderDate  Precio_total\n",
       "0     British Isles 2012-12-31    1697832.07\n",
       "1     British Isles 2013-12-31    3128226.90\n",
       "2     British Isles 2014-12-31    3884546.08\n",
       "3     British Isles 2015-12-31    3511450.44\n",
       "4     British Isles 2016-12-30    3574917.46\n",
       "..              ...        ...           ...\n",
       "103  Western Europe 2019-12-31   11526084.85\n",
       "104  Western Europe 2020-12-31   12029185.51\n",
       "105  Western Europe 2021-12-31   11217097.30\n",
       "106  Western Europe 2022-12-30   11066267.48\n",
       "107  Western Europe 2023-12-29    9940536.04\n",
       "\n",
       "[108 rows x 3 columns]"
      ]
     },
     "execution_count": 36,
     "metadata": {},
     "output_type": "execute_result"
    }
   ],
   "source": [
    "reg_prod_total.reset_index(inplace=True)\n",
    "reg_prod_total"
   ]
  },
  {
   "cell_type": "code",
   "execution_count": 37,
   "metadata": {},
   "outputs": [
    {
     "data": {
      "text/html": [
       "<div>\n",
       "<style scoped>\n",
       "    .dataframe tbody tr th:only-of-type {\n",
       "        vertical-align: middle;\n",
       "    }\n",
       "\n",
       "    .dataframe tbody tr th {\n",
       "        vertical-align: top;\n",
       "    }\n",
       "\n",
       "    .dataframe thead th {\n",
       "        text-align: right;\n",
       "    }\n",
       "</style>\n",
       "<table border=\"1\" class=\"dataframe\">\n",
       "  <thead>\n",
       "    <tr style=\"text-align: right;\">\n",
       "      <th></th>\n",
       "      <th>ShipRegion</th>\n",
       "      <th>OrderDate</th>\n",
       "      <th>Precio_total</th>\n",
       "      <th>Year</th>\n",
       "    </tr>\n",
       "  </thead>\n",
       "  <tbody>\n",
       "    <tr>\n",
       "      <th>0</th>\n",
       "      <td>British Isles</td>\n",
       "      <td>2012-12-31</td>\n",
       "      <td>1697832.07</td>\n",
       "      <td>2012</td>\n",
       "    </tr>\n",
       "    <tr>\n",
       "      <th>1</th>\n",
       "      <td>British Isles</td>\n",
       "      <td>2013-12-31</td>\n",
       "      <td>3128226.90</td>\n",
       "      <td>2013</td>\n",
       "    </tr>\n",
       "    <tr>\n",
       "      <th>2</th>\n",
       "      <td>British Isles</td>\n",
       "      <td>2014-12-31</td>\n",
       "      <td>3884546.08</td>\n",
       "      <td>2014</td>\n",
       "    </tr>\n",
       "    <tr>\n",
       "      <th>3</th>\n",
       "      <td>British Isles</td>\n",
       "      <td>2015-12-31</td>\n",
       "      <td>3511450.44</td>\n",
       "      <td>2015</td>\n",
       "    </tr>\n",
       "    <tr>\n",
       "      <th>4</th>\n",
       "      <td>British Isles</td>\n",
       "      <td>2016-12-30</td>\n",
       "      <td>3574917.46</td>\n",
       "      <td>2016</td>\n",
       "    </tr>\n",
       "    <tr>\n",
       "      <th>...</th>\n",
       "      <td>...</td>\n",
       "      <td>...</td>\n",
       "      <td>...</td>\n",
       "      <td>...</td>\n",
       "    </tr>\n",
       "    <tr>\n",
       "      <th>103</th>\n",
       "      <td>Western Europe</td>\n",
       "      <td>2019-12-31</td>\n",
       "      <td>11526084.85</td>\n",
       "      <td>2019</td>\n",
       "    </tr>\n",
       "    <tr>\n",
       "      <th>104</th>\n",
       "      <td>Western Europe</td>\n",
       "      <td>2020-12-31</td>\n",
       "      <td>12029185.51</td>\n",
       "      <td>2020</td>\n",
       "    </tr>\n",
       "    <tr>\n",
       "      <th>105</th>\n",
       "      <td>Western Europe</td>\n",
       "      <td>2021-12-31</td>\n",
       "      <td>11217097.30</td>\n",
       "      <td>2021</td>\n",
       "    </tr>\n",
       "    <tr>\n",
       "      <th>106</th>\n",
       "      <td>Western Europe</td>\n",
       "      <td>2022-12-30</td>\n",
       "      <td>11066267.48</td>\n",
       "      <td>2022</td>\n",
       "    </tr>\n",
       "    <tr>\n",
       "      <th>107</th>\n",
       "      <td>Western Europe</td>\n",
       "      <td>2023-12-29</td>\n",
       "      <td>9940536.04</td>\n",
       "      <td>2023</td>\n",
       "    </tr>\n",
       "  </tbody>\n",
       "</table>\n",
       "<p>108 rows × 4 columns</p>\n",
       "</div>"
      ],
      "text/plain": [
       "         ShipRegion  OrderDate  Precio_total  Year\n",
       "0     British Isles 2012-12-31    1697832.07  2012\n",
       "1     British Isles 2013-12-31    3128226.90  2013\n",
       "2     British Isles 2014-12-31    3884546.08  2014\n",
       "3     British Isles 2015-12-31    3511450.44  2015\n",
       "4     British Isles 2016-12-30    3574917.46  2016\n",
       "..              ...        ...           ...   ...\n",
       "103  Western Europe 2019-12-31   11526084.85  2019\n",
       "104  Western Europe 2020-12-31   12029185.51  2020\n",
       "105  Western Europe 2021-12-31   11217097.30  2021\n",
       "106  Western Europe 2022-12-30   11066267.48  2022\n",
       "107  Western Europe 2023-12-29    9940536.04  2023\n",
       "\n",
       "[108 rows x 4 columns]"
      ]
     },
     "execution_count": 37,
     "metadata": {},
     "output_type": "execute_result"
    }
   ],
   "source": [
    "reg_prod_total[\"Year\"] = reg_prod_total[\"OrderDate\"].dt.year\n",
    "reg_prod_total"
   ]
  },
  {
   "cell_type": "code",
   "execution_count": 38,
   "metadata": {},
   "outputs": [
    {
     "data": {
      "application/vnd.plotly.v1+json": {
       "config": {
        "plotlyServerURL": "https://plot.ly"
       },
       "data": [
        {
         "hovertemplate": "ShipRegion=British Isles<br>Year=%{x}<br>Precio_total=%{y}<extra></extra>",
         "legendgroup": "British Isles",
         "line": {
          "color": "#636efa",
          "dash": "solid"
         },
         "marker": {
          "symbol": "circle"
         },
         "mode": "lines",
         "name": "British Isles",
         "orientation": "v",
         "showlegend": true,
         "type": "scatter",
         "x": [
          2012,
          2013,
          2014,
          2015,
          2016,
          2017,
          2018,
          2019,
          2020,
          2021,
          2022,
          2023
         ],
         "xaxis": "x",
         "y": [
          1697832.07,
          3128226.9,
          3884546.08,
          3511450.44,
          3574917.46,
          3497816.42,
          3935189.475,
          3753641.66,
          3128567.07,
          4116389.46,
          3260399.73,
          3282923.93
         ],
         "yaxis": "y"
        },
        {
         "hovertemplate": "ShipRegion=Central America<br>Year=%{x}<br>Precio_total=%{y}<extra></extra>",
         "legendgroup": "Central America",
         "line": {
          "color": "#EF553B",
          "dash": "solid"
         },
         "marker": {
          "symbol": "circle"
         },
         "mode": "lines",
         "name": "Central America",
         "orientation": "v",
         "showlegend": true,
         "type": "scatter",
         "x": [
          2012,
          2013,
          2014,
          2015,
          2016,
          2017,
          2018,
          2019,
          2020,
          2021,
          2022,
          2023
         ],
         "xaxis": "x",
         "y": [
          1204790.07,
          2583421.7,
          2370370.14,
          2074745.05,
          1966539.51,
          2603166.6475,
          1885290.94,
          2348924.13,
          1806854.7,
          2836588.32,
          2174732.56,
          1582689.75
         ],
         "yaxis": "y"
        },
        {
         "hovertemplate": "ShipRegion=Eastern Europe<br>Year=%{x}<br>Precio_total=%{y}<extra></extra>",
         "legendgroup": "Eastern Europe",
         "line": {
          "color": "#00cc96",
          "dash": "solid"
         },
         "marker": {
          "symbol": "circle"
         },
         "mode": "lines",
         "name": "Eastern Europe",
         "orientation": "v",
         "showlegend": true,
         "type": "scatter",
         "x": [
          2012,
          2013,
          2014,
          2015,
          2016,
          2017,
          2018,
          2019,
          2020,
          2021,
          2022,
          2023
         ],
         "xaxis": "x",
         "y": [
          214231.87,
          594148.24,
          517857.47000000003,
          817392.52,
          301984.83,
          456789.54,
          450040.59,
          518189.62,
          433575.7,
          606804.82,
          680749.64,
          364418.09
         ],
         "yaxis": "y"
        },
        {
         "hovertemplate": "ShipRegion=North America<br>Year=%{x}<br>Precio_total=%{y}<extra></extra>",
         "legendgroup": "North America",
         "line": {
          "color": "#ab63fa",
          "dash": "solid"
         },
         "marker": {
          "symbol": "circle"
         },
         "mode": "lines",
         "name": "North America",
         "orientation": "v",
         "showlegend": true,
         "type": "scatter",
         "x": [
          2012,
          2013,
          2014,
          2015,
          2016,
          2017,
          2018,
          2019,
          2020,
          2021,
          2022,
          2023
         ],
         "xaxis": "x",
         "y": [
          3707158.14,
          6449562.81,
          6122757.87,
          7478344.96,
          7024769.775,
          6737198.8425,
          6067726.413,
          6356047.86,
          7582363.2,
          7828103.81,
          7357319.11,
          5781613.35
         ],
         "yaxis": "y"
        },
        {
         "hovertemplate": "ShipRegion=Northern Europe<br>Year=%{x}<br>Precio_total=%{y}<extra></extra>",
         "legendgroup": "Northern Europe",
         "line": {
          "color": "#FFA15A",
          "dash": "solid"
         },
         "marker": {
          "symbol": "circle"
         },
         "mode": "lines",
         "name": "Northern Europe",
         "orientation": "v",
         "showlegend": true,
         "type": "scatter",
         "x": [
          2012,
          2013,
          2014,
          2015,
          2016,
          2017,
          2018,
          2019,
          2020,
          2021,
          2022,
          2023
         ],
         "xaxis": "x",
         "y": [
          776357.56,
          2002563.67,
          1492496.2,
          1909463.62,
          1813239.025,
          1702063.1125,
          1918868.405,
          2004575.49,
          1423880.71,
          2073295.29,
          1949199.58,
          1504672.02
         ],
         "yaxis": "y"
        },
        {
         "hovertemplate": "ShipRegion=Scandinavia<br>Year=%{x}<br>Precio_total=%{y}<extra></extra>",
         "legendgroup": "Scandinavia",
         "line": {
          "color": "#19d3f3",
          "dash": "solid"
         },
         "marker": {
          "symbol": "circle"
         },
         "mode": "lines",
         "name": "Scandinavia",
         "orientation": "v",
         "showlegend": true,
         "type": "scatter",
         "x": [
          2012,
          2013,
          2014,
          2015,
          2016,
          2017,
          2018,
          2019,
          2020,
          2021,
          2022,
          2023
         ],
         "xaxis": "x",
         "y": [
          626395.09,
          1219529.95,
          1280367.75,
          1305845.72,
          1270131.6,
          1445973.7325,
          1170824.84,
          1091036.87,
          905060.12,
          1546954.09,
          1340621.25,
          1213543.04
         ],
         "yaxis": "y"
        },
        {
         "hovertemplate": "ShipRegion=South America<br>Year=%{x}<br>Precio_total=%{y}<extra></extra>",
         "legendgroup": "South America",
         "line": {
          "color": "#FF6692",
          "dash": "solid"
         },
         "marker": {
          "symbol": "circle"
         },
         "mode": "lines",
         "name": "South America",
         "orientation": "v",
         "showlegend": true,
         "type": "scatter",
         "x": [
          2012,
          2013,
          2014,
          2015,
          2016,
          2017,
          2018,
          2019,
          2020,
          2021,
          2022,
          2023
         ],
         "xaxis": "x",
         "y": [
          3120159.44,
          7404952.9,
          6709497.45,
          6939098.04,
          6763663.8,
          6950852.8565,
          6575140.269,
          7478831.51,
          8144122.06,
          7440263.73,
          7326917.71,
          6259756.26
         ],
         "yaxis": "y"
        },
        {
         "hovertemplate": "ShipRegion=Southern Europe<br>Year=%{x}<br>Precio_total=%{y}<extra></extra>",
         "legendgroup": "Southern Europe",
         "line": {
          "color": "#B6E880",
          "dash": "solid"
         },
         "marker": {
          "symbol": "circle"
         },
         "mode": "lines",
         "name": "Southern Europe",
         "orientation": "v",
         "showlegend": true,
         "type": "scatter",
         "x": [
          2012,
          2013,
          2014,
          2015,
          2016,
          2017,
          2018,
          2019,
          2020,
          2021,
          2022,
          2023
         ],
         "xaxis": "x",
         "y": [
          2012197.99,
          3230816.53,
          3709424.92,
          4230915.31,
          4357272.7,
          3788126.4775,
          4121798.37,
          3439631.87,
          3408827.72,
          3690052.92,
          4578670.62,
          3131526.02
         ],
         "yaxis": "y"
        },
        {
         "hovertemplate": "ShipRegion=Western Europe<br>Year=%{x}<br>Precio_total=%{y}<extra></extra>",
         "legendgroup": "Western Europe",
         "line": {
          "color": "#FF97FF",
          "dash": "solid"
         },
         "marker": {
          "symbol": "circle"
         },
         "mode": "lines",
         "name": "Western Europe",
         "orientation": "v",
         "showlegend": true,
         "type": "scatter",
         "x": [
          2012,
          2013,
          2014,
          2015,
          2016,
          2017,
          2018,
          2019,
          2020,
          2021,
          2022,
          2023
         ],
         "xaxis": "x",
         "y": [
          5464079.49,
          12019897.31,
          12782830.25,
          13156201.06,
          13350819.83,
          13032029.1745,
          12342965.384,
          11526084.85,
          12029185.51,
          11217097.3,
          11066267.48,
          9940536.04
         ],
         "yaxis": "y"
        }
       ],
       "layout": {
        "legend": {
         "title": {
          "text": "ShipRegion"
         },
         "tracegroupgap": 0
        },
        "margin": {
         "t": 60
        },
        "template": {
         "data": {
          "bar": [
           {
            "error_x": {
             "color": "#2a3f5f"
            },
            "error_y": {
             "color": "#2a3f5f"
            },
            "marker": {
             "line": {
              "color": "#E5ECF6",
              "width": 0.5
             },
             "pattern": {
              "fillmode": "overlay",
              "size": 10,
              "solidity": 0.2
             }
            },
            "type": "bar"
           }
          ],
          "barpolar": [
           {
            "marker": {
             "line": {
              "color": "#E5ECF6",
              "width": 0.5
             },
             "pattern": {
              "fillmode": "overlay",
              "size": 10,
              "solidity": 0.2
             }
            },
            "type": "barpolar"
           }
          ],
          "carpet": [
           {
            "aaxis": {
             "endlinecolor": "#2a3f5f",
             "gridcolor": "white",
             "linecolor": "white",
             "minorgridcolor": "white",
             "startlinecolor": "#2a3f5f"
            },
            "baxis": {
             "endlinecolor": "#2a3f5f",
             "gridcolor": "white",
             "linecolor": "white",
             "minorgridcolor": "white",
             "startlinecolor": "#2a3f5f"
            },
            "type": "carpet"
           }
          ],
          "choropleth": [
           {
            "colorbar": {
             "outlinewidth": 0,
             "ticks": ""
            },
            "type": "choropleth"
           }
          ],
          "contour": [
           {
            "colorbar": {
             "outlinewidth": 0,
             "ticks": ""
            },
            "colorscale": [
             [
              0,
              "#0d0887"
             ],
             [
              0.1111111111111111,
              "#46039f"
             ],
             [
              0.2222222222222222,
              "#7201a8"
             ],
             [
              0.3333333333333333,
              "#9c179e"
             ],
             [
              0.4444444444444444,
              "#bd3786"
             ],
             [
              0.5555555555555556,
              "#d8576b"
             ],
             [
              0.6666666666666666,
              "#ed7953"
             ],
             [
              0.7777777777777778,
              "#fb9f3a"
             ],
             [
              0.8888888888888888,
              "#fdca26"
             ],
             [
              1,
              "#f0f921"
             ]
            ],
            "type": "contour"
           }
          ],
          "contourcarpet": [
           {
            "colorbar": {
             "outlinewidth": 0,
             "ticks": ""
            },
            "type": "contourcarpet"
           }
          ],
          "heatmap": [
           {
            "colorbar": {
             "outlinewidth": 0,
             "ticks": ""
            },
            "colorscale": [
             [
              0,
              "#0d0887"
             ],
             [
              0.1111111111111111,
              "#46039f"
             ],
             [
              0.2222222222222222,
              "#7201a8"
             ],
             [
              0.3333333333333333,
              "#9c179e"
             ],
             [
              0.4444444444444444,
              "#bd3786"
             ],
             [
              0.5555555555555556,
              "#d8576b"
             ],
             [
              0.6666666666666666,
              "#ed7953"
             ],
             [
              0.7777777777777778,
              "#fb9f3a"
             ],
             [
              0.8888888888888888,
              "#fdca26"
             ],
             [
              1,
              "#f0f921"
             ]
            ],
            "type": "heatmap"
           }
          ],
          "heatmapgl": [
           {
            "colorbar": {
             "outlinewidth": 0,
             "ticks": ""
            },
            "colorscale": [
             [
              0,
              "#0d0887"
             ],
             [
              0.1111111111111111,
              "#46039f"
             ],
             [
              0.2222222222222222,
              "#7201a8"
             ],
             [
              0.3333333333333333,
              "#9c179e"
             ],
             [
              0.4444444444444444,
              "#bd3786"
             ],
             [
              0.5555555555555556,
              "#d8576b"
             ],
             [
              0.6666666666666666,
              "#ed7953"
             ],
             [
              0.7777777777777778,
              "#fb9f3a"
             ],
             [
              0.8888888888888888,
              "#fdca26"
             ],
             [
              1,
              "#f0f921"
             ]
            ],
            "type": "heatmapgl"
           }
          ],
          "histogram": [
           {
            "marker": {
             "pattern": {
              "fillmode": "overlay",
              "size": 10,
              "solidity": 0.2
             }
            },
            "type": "histogram"
           }
          ],
          "histogram2d": [
           {
            "colorbar": {
             "outlinewidth": 0,
             "ticks": ""
            },
            "colorscale": [
             [
              0,
              "#0d0887"
             ],
             [
              0.1111111111111111,
              "#46039f"
             ],
             [
              0.2222222222222222,
              "#7201a8"
             ],
             [
              0.3333333333333333,
              "#9c179e"
             ],
             [
              0.4444444444444444,
              "#bd3786"
             ],
             [
              0.5555555555555556,
              "#d8576b"
             ],
             [
              0.6666666666666666,
              "#ed7953"
             ],
             [
              0.7777777777777778,
              "#fb9f3a"
             ],
             [
              0.8888888888888888,
              "#fdca26"
             ],
             [
              1,
              "#f0f921"
             ]
            ],
            "type": "histogram2d"
           }
          ],
          "histogram2dcontour": [
           {
            "colorbar": {
             "outlinewidth": 0,
             "ticks": ""
            },
            "colorscale": [
             [
              0,
              "#0d0887"
             ],
             [
              0.1111111111111111,
              "#46039f"
             ],
             [
              0.2222222222222222,
              "#7201a8"
             ],
             [
              0.3333333333333333,
              "#9c179e"
             ],
             [
              0.4444444444444444,
              "#bd3786"
             ],
             [
              0.5555555555555556,
              "#d8576b"
             ],
             [
              0.6666666666666666,
              "#ed7953"
             ],
             [
              0.7777777777777778,
              "#fb9f3a"
             ],
             [
              0.8888888888888888,
              "#fdca26"
             ],
             [
              1,
              "#f0f921"
             ]
            ],
            "type": "histogram2dcontour"
           }
          ],
          "mesh3d": [
           {
            "colorbar": {
             "outlinewidth": 0,
             "ticks": ""
            },
            "type": "mesh3d"
           }
          ],
          "parcoords": [
           {
            "line": {
             "colorbar": {
              "outlinewidth": 0,
              "ticks": ""
             }
            },
            "type": "parcoords"
           }
          ],
          "pie": [
           {
            "automargin": true,
            "type": "pie"
           }
          ],
          "scatter": [
           {
            "fillpattern": {
             "fillmode": "overlay",
             "size": 10,
             "solidity": 0.2
            },
            "type": "scatter"
           }
          ],
          "scatter3d": [
           {
            "line": {
             "colorbar": {
              "outlinewidth": 0,
              "ticks": ""
             }
            },
            "marker": {
             "colorbar": {
              "outlinewidth": 0,
              "ticks": ""
             }
            },
            "type": "scatter3d"
           }
          ],
          "scattercarpet": [
           {
            "marker": {
             "colorbar": {
              "outlinewidth": 0,
              "ticks": ""
             }
            },
            "type": "scattercarpet"
           }
          ],
          "scattergeo": [
           {
            "marker": {
             "colorbar": {
              "outlinewidth": 0,
              "ticks": ""
             }
            },
            "type": "scattergeo"
           }
          ],
          "scattergl": [
           {
            "marker": {
             "colorbar": {
              "outlinewidth": 0,
              "ticks": ""
             }
            },
            "type": "scattergl"
           }
          ],
          "scattermapbox": [
           {
            "marker": {
             "colorbar": {
              "outlinewidth": 0,
              "ticks": ""
             }
            },
            "type": "scattermapbox"
           }
          ],
          "scatterpolar": [
           {
            "marker": {
             "colorbar": {
              "outlinewidth": 0,
              "ticks": ""
             }
            },
            "type": "scatterpolar"
           }
          ],
          "scatterpolargl": [
           {
            "marker": {
             "colorbar": {
              "outlinewidth": 0,
              "ticks": ""
             }
            },
            "type": "scatterpolargl"
           }
          ],
          "scatterternary": [
           {
            "marker": {
             "colorbar": {
              "outlinewidth": 0,
              "ticks": ""
             }
            },
            "type": "scatterternary"
           }
          ],
          "surface": [
           {
            "colorbar": {
             "outlinewidth": 0,
             "ticks": ""
            },
            "colorscale": [
             [
              0,
              "#0d0887"
             ],
             [
              0.1111111111111111,
              "#46039f"
             ],
             [
              0.2222222222222222,
              "#7201a8"
             ],
             [
              0.3333333333333333,
              "#9c179e"
             ],
             [
              0.4444444444444444,
              "#bd3786"
             ],
             [
              0.5555555555555556,
              "#d8576b"
             ],
             [
              0.6666666666666666,
              "#ed7953"
             ],
             [
              0.7777777777777778,
              "#fb9f3a"
             ],
             [
              0.8888888888888888,
              "#fdca26"
             ],
             [
              1,
              "#f0f921"
             ]
            ],
            "type": "surface"
           }
          ],
          "table": [
           {
            "cells": {
             "fill": {
              "color": "#EBF0F8"
             },
             "line": {
              "color": "white"
             }
            },
            "header": {
             "fill": {
              "color": "#C8D4E3"
             },
             "line": {
              "color": "white"
             }
            },
            "type": "table"
           }
          ]
         },
         "layout": {
          "annotationdefaults": {
           "arrowcolor": "#2a3f5f",
           "arrowhead": 0,
           "arrowwidth": 1
          },
          "autotypenumbers": "strict",
          "coloraxis": {
           "colorbar": {
            "outlinewidth": 0,
            "ticks": ""
           }
          },
          "colorscale": {
           "diverging": [
            [
             0,
             "#8e0152"
            ],
            [
             0.1,
             "#c51b7d"
            ],
            [
             0.2,
             "#de77ae"
            ],
            [
             0.3,
             "#f1b6da"
            ],
            [
             0.4,
             "#fde0ef"
            ],
            [
             0.5,
             "#f7f7f7"
            ],
            [
             0.6,
             "#e6f5d0"
            ],
            [
             0.7,
             "#b8e186"
            ],
            [
             0.8,
             "#7fbc41"
            ],
            [
             0.9,
             "#4d9221"
            ],
            [
             1,
             "#276419"
            ]
           ],
           "sequential": [
            [
             0,
             "#0d0887"
            ],
            [
             0.1111111111111111,
             "#46039f"
            ],
            [
             0.2222222222222222,
             "#7201a8"
            ],
            [
             0.3333333333333333,
             "#9c179e"
            ],
            [
             0.4444444444444444,
             "#bd3786"
            ],
            [
             0.5555555555555556,
             "#d8576b"
            ],
            [
             0.6666666666666666,
             "#ed7953"
            ],
            [
             0.7777777777777778,
             "#fb9f3a"
            ],
            [
             0.8888888888888888,
             "#fdca26"
            ],
            [
             1,
             "#f0f921"
            ]
           ],
           "sequentialminus": [
            [
             0,
             "#0d0887"
            ],
            [
             0.1111111111111111,
             "#46039f"
            ],
            [
             0.2222222222222222,
             "#7201a8"
            ],
            [
             0.3333333333333333,
             "#9c179e"
            ],
            [
             0.4444444444444444,
             "#bd3786"
            ],
            [
             0.5555555555555556,
             "#d8576b"
            ],
            [
             0.6666666666666666,
             "#ed7953"
            ],
            [
             0.7777777777777778,
             "#fb9f3a"
            ],
            [
             0.8888888888888888,
             "#fdca26"
            ],
            [
             1,
             "#f0f921"
            ]
           ]
          },
          "colorway": [
           "#636efa",
           "#EF553B",
           "#00cc96",
           "#ab63fa",
           "#FFA15A",
           "#19d3f3",
           "#FF6692",
           "#B6E880",
           "#FF97FF",
           "#FECB52"
          ],
          "font": {
           "color": "#2a3f5f"
          },
          "geo": {
           "bgcolor": "white",
           "lakecolor": "white",
           "landcolor": "#E5ECF6",
           "showlakes": true,
           "showland": true,
           "subunitcolor": "white"
          },
          "hoverlabel": {
           "align": "left"
          },
          "hovermode": "closest",
          "mapbox": {
           "style": "light"
          },
          "paper_bgcolor": "white",
          "plot_bgcolor": "#E5ECF6",
          "polar": {
           "angularaxis": {
            "gridcolor": "white",
            "linecolor": "white",
            "ticks": ""
           },
           "bgcolor": "#E5ECF6",
           "radialaxis": {
            "gridcolor": "white",
            "linecolor": "white",
            "ticks": ""
           }
          },
          "scene": {
           "xaxis": {
            "backgroundcolor": "#E5ECF6",
            "gridcolor": "white",
            "gridwidth": 2,
            "linecolor": "white",
            "showbackground": true,
            "ticks": "",
            "zerolinecolor": "white"
           },
           "yaxis": {
            "backgroundcolor": "#E5ECF6",
            "gridcolor": "white",
            "gridwidth": 2,
            "linecolor": "white",
            "showbackground": true,
            "ticks": "",
            "zerolinecolor": "white"
           },
           "zaxis": {
            "backgroundcolor": "#E5ECF6",
            "gridcolor": "white",
            "gridwidth": 2,
            "linecolor": "white",
            "showbackground": true,
            "ticks": "",
            "zerolinecolor": "white"
           }
          },
          "shapedefaults": {
           "line": {
            "color": "#2a3f5f"
           }
          },
          "ternary": {
           "aaxis": {
            "gridcolor": "white",
            "linecolor": "white",
            "ticks": ""
           },
           "baxis": {
            "gridcolor": "white",
            "linecolor": "white",
            "ticks": ""
           },
           "bgcolor": "#E5ECF6",
           "caxis": {
            "gridcolor": "white",
            "linecolor": "white",
            "ticks": ""
           }
          },
          "title": {
           "x": 0.05
          },
          "xaxis": {
           "automargin": true,
           "gridcolor": "white",
           "linecolor": "white",
           "ticks": "",
           "title": {
            "standoff": 15
           },
           "zerolinecolor": "white",
           "zerolinewidth": 2
          },
          "yaxis": {
           "automargin": true,
           "gridcolor": "white",
           "linecolor": "white",
           "ticks": "",
           "title": {
            "standoff": 15
           },
           "zerolinecolor": "white",
           "zerolinewidth": 2
          }
         }
        },
        "xaxis": {
         "anchor": "y",
         "domain": [
          0,
          1
         ],
         "title": {
          "text": "Year"
         }
        },
        "yaxis": {
         "anchor": "x",
         "domain": [
          0,
          1
         ],
         "title": {
          "text": "Precio_total"
         }
        }
       }
      }
     },
     "metadata": {},
     "output_type": "display_data"
    }
   ],
   "source": [
    "import plotly.express as px\n",
    "\n",
    "fig = px.line(reg_prod_total, x=\"Year\", y='Precio_total', color=\"ShipRegion\")\n",
    "fig.show()"
   ]
  },
  {
   "cell_type": "code",
   "execution_count": 63,
   "metadata": {},
   "outputs": [
    {
     "data": {
      "text/html": [
       "<div>\n",
       "<style scoped>\n",
       "    .dataframe tbody tr th:only-of-type {\n",
       "        vertical-align: middle;\n",
       "    }\n",
       "\n",
       "    .dataframe tbody tr th {\n",
       "        vertical-align: top;\n",
       "    }\n",
       "\n",
       "    .dataframe thead th {\n",
       "        text-align: right;\n",
       "    }\n",
       "</style>\n",
       "<table border=\"1\" class=\"dataframe\">\n",
       "  <thead>\n",
       "    <tr style=\"text-align: right;\">\n",
       "      <th></th>\n",
       "      <th>Year</th>\n",
       "      <th>Month</th>\n",
       "      <th>Region</th>\n",
       "      <th>Product</th>\n",
       "      <th>Total</th>\n",
       "    </tr>\n",
       "  </thead>\n",
       "  <tbody>\n",
       "    <tr>\n",
       "      <th>0</th>\n",
       "      <td>2014</td>\n",
       "      <td>12</td>\n",
       "      <td>Western Europe</td>\n",
       "      <td>Côte de Blaye</td>\n",
       "      <td>222130.5</td>\n",
       "    </tr>\n",
       "    <tr>\n",
       "      <th>1</th>\n",
       "      <td>2015</td>\n",
       "      <td>08</td>\n",
       "      <td>Western Europe</td>\n",
       "      <td>Côte de Blaye</td>\n",
       "      <td>220022.5</td>\n",
       "    </tr>\n",
       "    <tr>\n",
       "      <th>2</th>\n",
       "      <td>2016</td>\n",
       "      <td>12</td>\n",
       "      <td>Western Europe</td>\n",
       "      <td>Côte de Blaye</td>\n",
       "      <td>209746.0</td>\n",
       "    </tr>\n",
       "    <tr>\n",
       "      <th>3</th>\n",
       "      <td>2013</td>\n",
       "      <td>07</td>\n",
       "      <td>Western Europe</td>\n",
       "      <td>Côte de Blaye</td>\n",
       "      <td>209482.5</td>\n",
       "    </tr>\n",
       "    <tr>\n",
       "      <th>4</th>\n",
       "      <td>2018</td>\n",
       "      <td>08</td>\n",
       "      <td>Western Europe</td>\n",
       "      <td>Côte de Blaye</td>\n",
       "      <td>192882.0</td>\n",
       "    </tr>\n",
       "    <tr>\n",
       "      <th>...</th>\n",
       "      <td>...</td>\n",
       "      <td>...</td>\n",
       "      <td>...</td>\n",
       "      <td>...</td>\n",
       "      <td>...</td>\n",
       "    </tr>\n",
       "    <tr>\n",
       "      <th>86605</th>\n",
       "      <td>2018</td>\n",
       "      <td>09</td>\n",
       "      <td>Scandinavia</td>\n",
       "      <td>Guaraná Fantástica</td>\n",
       "      <td>4.5</td>\n",
       "    </tr>\n",
       "    <tr>\n",
       "      <th>86606</th>\n",
       "      <td>2018</td>\n",
       "      <td>10</td>\n",
       "      <td>Northern Europe</td>\n",
       "      <td>Guaraná Fantástica</td>\n",
       "      <td>4.5</td>\n",
       "    </tr>\n",
       "    <tr>\n",
       "      <th>86607</th>\n",
       "      <td>2021</td>\n",
       "      <td>05</td>\n",
       "      <td>Eastern Europe</td>\n",
       "      <td>Guaraná Fantástica</td>\n",
       "      <td>4.5</td>\n",
       "    </tr>\n",
       "    <tr>\n",
       "      <th>86608</th>\n",
       "      <td>2023</td>\n",
       "      <td>08</td>\n",
       "      <td>Scandinavia</td>\n",
       "      <td>Guaraná Fantástica</td>\n",
       "      <td>4.5</td>\n",
       "    </tr>\n",
       "    <tr>\n",
       "      <th>86609</th>\n",
       "      <td>2012</td>\n",
       "      <td>09</td>\n",
       "      <td>Northern Europe</td>\n",
       "      <td>Geitost</td>\n",
       "      <td>2.5</td>\n",
       "    </tr>\n",
       "  </tbody>\n",
       "</table>\n",
       "<p>86610 rows × 5 columns</p>\n",
       "</div>"
      ],
      "text/plain": [
       "       Year Month           Region             Product     Total\n",
       "0      2014    12   Western Europe       Côte de Blaye  222130.5\n",
       "1      2015    08   Western Europe       Côte de Blaye  220022.5\n",
       "2      2016    12   Western Europe       Côte de Blaye  209746.0\n",
       "3      2013    07   Western Europe       Côte de Blaye  209482.5\n",
       "4      2018    08   Western Europe       Côte de Blaye  192882.0\n",
       "...     ...   ...              ...                 ...       ...\n",
       "86605  2018    09      Scandinavia  Guaraná Fantástica       4.5\n",
       "86606  2018    10  Northern Europe  Guaraná Fantástica       4.5\n",
       "86607  2021    05   Eastern Europe  Guaraná Fantástica       4.5\n",
       "86608  2023    08      Scandinavia  Guaraná Fantástica       4.5\n",
       "86609  2012    09  Northern Europe             Geitost       2.5\n",
       "\n",
       "[86610 rows x 5 columns]"
      ]
     },
     "execution_count": 63,
     "metadata": {},
     "output_type": "execute_result"
    }
   ],
   "source": [
    "consulta = \"\"\"\n",
    "SELECT strftime('%Y', OrderDate) AS Year, \n",
    "       strftime('%m', OrderDate) AS Month,\n",
    "       ShipRegion AS Region, \n",
    "       ProductName AS Product, \n",
    "       SUM(Precio_total) As Total\n",
    "FROM (\n",
    "       SELECT datetime(o.OrderDate) as OrderDate, o.ShipRegion, od.Quantity*od.UnitPrice*(1-od.Discount) AS Precio_total, p.ProductName\n",
    "       FROM Orders o\n",
    "       INNER JOIN [Order Details] od ON od.OrderID == o.OrderID\n",
    "       INNER JOIN Products p ON p.ProductID = od.ProductID\n",
    ")\n",
    "GROUP BY Year, Month, Region, Product\n",
    "ORDER BY 5 DESC\n",
    "\"\"\"\n",
    "\n",
    "data_df = pd.read_sql(consulta, con=connection)\n",
    "data_df"
   ]
  },
  {
   "cell_type": "code",
   "execution_count": 117,
   "metadata": {},
   "outputs": [
    {
     "data": {
      "text/html": [
       "<div>\n",
       "<style scoped>\n",
       "    .dataframe tbody tr th:only-of-type {\n",
       "        vertical-align: middle;\n",
       "    }\n",
       "\n",
       "    .dataframe tbody tr th {\n",
       "        vertical-align: top;\n",
       "    }\n",
       "\n",
       "    .dataframe thead th {\n",
       "        text-align: right;\n",
       "    }\n",
       "</style>\n",
       "<table border=\"1\" class=\"dataframe\">\n",
       "  <thead>\n",
       "    <tr style=\"text-align: right;\">\n",
       "      <th></th>\n",
       "      <th></th>\n",
       "      <th>meanPrice</th>\n",
       "      <th>stdPrice</th>\n",
       "    </tr>\n",
       "    <tr>\n",
       "      <th>Product</th>\n",
       "      <th>Region</th>\n",
       "      <th></th>\n",
       "      <th></th>\n",
       "    </tr>\n",
       "  </thead>\n",
       "  <tbody>\n",
       "    <tr>\n",
       "      <th rowspan=\"3\" valign=\"top\">Côte de Blaye</th>\n",
       "      <th>Western Europe</th>\n",
       "      <td>120245.512500</td>\n",
       "      <td>35830.588553</td>\n",
       "    </tr>\n",
       "    <tr>\n",
       "      <th>North America</th>\n",
       "      <td>71226.975625</td>\n",
       "      <td>24537.409206</td>\n",
       "    </tr>\n",
       "    <tr>\n",
       "      <th>South America</th>\n",
       "      <td>70392.475000</td>\n",
       "      <td>26489.913360</td>\n",
       "    </tr>\n",
       "    <tr>\n",
       "      <th>Thüringer Rostbratwurst</th>\n",
       "      <th>Western Europe</th>\n",
       "      <td>55366.795390</td>\n",
       "      <td>15763.042641</td>\n",
       "    </tr>\n",
       "    <tr>\n",
       "      <th>Mishi Kobe Niku</th>\n",
       "      <th>Western Europe</th>\n",
       "      <td>44114.744118</td>\n",
       "      <td>12931.501600</td>\n",
       "    </tr>\n",
       "    <tr>\n",
       "      <th>...</th>\n",
       "      <th>...</th>\n",
       "      <td>...</td>\n",
       "      <td>...</td>\n",
       "    </tr>\n",
       "    <tr>\n",
       "      <th rowspan=\"3\" valign=\"top\">Geitost</th>\n",
       "      <th>Central America</th>\n",
       "      <td>223.130769</td>\n",
       "      <td>119.268353</td>\n",
       "    </tr>\n",
       "    <tr>\n",
       "      <th>Northern Europe</th>\n",
       "      <td>180.480315</td>\n",
       "      <td>108.326253</td>\n",
       "    </tr>\n",
       "    <tr>\n",
       "      <th>Scandinavia</th>\n",
       "      <td>153.272727</td>\n",
       "      <td>97.388931</td>\n",
       "    </tr>\n",
       "    <tr>\n",
       "      <th>Guaraná Fantástica</th>\n",
       "      <th>Eastern Europe</th>\n",
       "      <td>148.616883</td>\n",
       "      <td>108.727747</td>\n",
       "    </tr>\n",
       "    <tr>\n",
       "      <th>Geitost</th>\n",
       "      <th>Eastern Europe</th>\n",
       "      <td>94.202899</td>\n",
       "      <td>55.984656</td>\n",
       "    </tr>\n",
       "  </tbody>\n",
       "</table>\n",
       "<p>693 rows × 2 columns</p>\n",
       "</div>"
      ],
      "text/plain": [
       "                                             meanPrice      stdPrice\n",
       "Product                 Region                                      \n",
       "Côte de Blaye           Western Europe   120245.512500  35830.588553\n",
       "                        North America     71226.975625  24537.409206\n",
       "                        South America     70392.475000  26489.913360\n",
       "Thüringer Rostbratwurst Western Europe    55366.795390  15763.042641\n",
       "Mishi Kobe Niku         Western Europe    44114.744118  12931.501600\n",
       "...                                                ...           ...\n",
       "Geitost                 Central America     223.130769    119.268353\n",
       "                        Northern Europe     180.480315    108.326253\n",
       "                        Scandinavia         153.272727     97.388931\n",
       "Guaraná Fantástica      Eastern Europe      148.616883    108.727747\n",
       "Geitost                 Eastern Europe       94.202899     55.984656\n",
       "\n",
       "[693 rows x 2 columns]"
      ]
     },
     "execution_count": 117,
     "metadata": {},
     "output_type": "execute_result"
    }
   ],
   "source": [
    "product_profit = data_df.groupby([\"Product\",\"Region\"]).agg(meanPrice=(\"Total\", \"mean\"), stdPrice=(\"Total\",\"std\")).sort_values(\"meanPrice\", ascending=False)\n",
    "product_profit"
   ]
  },
  {
   "cell_type": "code",
   "execution_count": 70,
   "metadata": {},
   "outputs": [
    {
     "data": {
      "text/html": [
       "<div>\n",
       "<style scoped>\n",
       "    .dataframe tbody tr th:only-of-type {\n",
       "        vertical-align: middle;\n",
       "    }\n",
       "\n",
       "    .dataframe tbody tr th {\n",
       "        vertical-align: top;\n",
       "    }\n",
       "\n",
       "    .dataframe thead th {\n",
       "        text-align: right;\n",
       "    }\n",
       "</style>\n",
       "<table border=\"1\" class=\"dataframe\">\n",
       "  <thead>\n",
       "    <tr style=\"text-align: right;\">\n",
       "      <th></th>\n",
       "      <th>meanPrice</th>\n",
       "      <th>stdPrice</th>\n",
       "    </tr>\n",
       "    <tr>\n",
       "      <th>Product</th>\n",
       "      <th></th>\n",
       "      <th></th>\n",
       "    </tr>\n",
       "  </thead>\n",
       "  <tbody>\n",
       "    <tr>\n",
       "      <th>Côte de Blaye</th>\n",
       "      <td>71226.975625</td>\n",
       "      <td>24537.409206</td>\n",
       "    </tr>\n",
       "    <tr>\n",
       "      <th>Thüringer Rostbratwurst</th>\n",
       "      <td>30920.014743</td>\n",
       "      <td>11221.340795</td>\n",
       "    </tr>\n",
       "    <tr>\n",
       "      <th>Mishi Kobe Niku</th>\n",
       "      <td>24555.264706</td>\n",
       "      <td>7952.357134</td>\n",
       "    </tr>\n",
       "    <tr>\n",
       "      <th>Sir Rodney's Marmalade</th>\n",
       "      <td>21135.496765</td>\n",
       "      <td>7044.242681</td>\n",
       "    </tr>\n",
       "    <tr>\n",
       "      <th>Carnarvon Tigers</th>\n",
       "      <td>16778.216912</td>\n",
       "      <td>6228.778044</td>\n",
       "    </tr>\n",
       "    <tr>\n",
       "      <th>...</th>\n",
       "      <td>...</td>\n",
       "      <td>...</td>\n",
       "    </tr>\n",
       "    <tr>\n",
       "      <th>Tourtière</th>\n",
       "      <td>1932.552132</td>\n",
       "      <td>678.237755</td>\n",
       "    </tr>\n",
       "    <tr>\n",
       "      <th>Filo Mix</th>\n",
       "      <td>1760.808824</td>\n",
       "      <td>590.562852</td>\n",
       "    </tr>\n",
       "    <tr>\n",
       "      <th>Konbu</th>\n",
       "      <td>1628.426471</td>\n",
       "      <td>571.066622</td>\n",
       "    </tr>\n",
       "    <tr>\n",
       "      <th>Guaraná Fantástica</th>\n",
       "      <td>1168.706250</td>\n",
       "      <td>446.221296</td>\n",
       "    </tr>\n",
       "    <tr>\n",
       "      <th>Geitost</th>\n",
       "      <td>665.816176</td>\n",
       "      <td>225.524071</td>\n",
       "    </tr>\n",
       "  </tbody>\n",
       "</table>\n",
       "<p>77 rows × 2 columns</p>\n",
       "</div>"
      ],
      "text/plain": [
       "                            meanPrice      stdPrice\n",
       "Product                                            \n",
       "Côte de Blaye            71226.975625  24537.409206\n",
       "Thüringer Rostbratwurst  30920.014743  11221.340795\n",
       "Mishi Kobe Niku          24555.264706   7952.357134\n",
       "Sir Rodney's Marmalade   21135.496765   7044.242681\n",
       "Carnarvon Tigers         16778.216912   6228.778044\n",
       "...                               ...           ...\n",
       "Tourtière                 1932.552132    678.237755\n",
       "Filo Mix                  1760.808824    590.562852\n",
       "Konbu                     1628.426471    571.066622\n",
       "Guaraná Fantástica        1168.706250    446.221296\n",
       "Geitost                    665.816176    225.524071\n",
       "\n",
       "[77 rows x 2 columns]"
      ]
     },
     "execution_count": 70,
     "metadata": {},
     "output_type": "execute_result"
    }
   ],
   "source": [
    "region = \"Western Europe\" # North America\n",
    "\n",
    "region_profit = data_df[data_df[\"Region\"] == region].groupby([\"Product\"]).agg(meanPrice=(\"Total\", \"mean\"), stdPrice=(\"Total\",\"std\")).sort_values(\"meanPrice\", ascending=False)\n",
    "region_profit"
   ]
  },
  {
   "cell_type": "code",
   "execution_count": 71,
   "metadata": {},
   "outputs": [
    {
     "data": {
      "application/vnd.plotly.v1+json": {
       "config": {
        "plotlyServerURL": "https://plot.ly"
       },
       "data": [
        {
         "alignmentgroup": "True",
         "error_y": {
          "array": [
           24537.409205795946,
           11221.340795195523,
           7952.357134125144,
           7044.242680645203,
           6228.778043678835,
           5201.011918490735,
           4725.311835192974,
           4382.272493356323,
           4049.522100075247,
           4039.8846688935055,
           4030.9564862408565,
           3923.2908231391793,
           3591.6103315134374,
           3483.646170397173,
           3115.9731459401305,
           3774.3471268225585,
           3202.523278970234,
           3095.099584067386,
           2879.536515314222,
           2794.7273867414374,
           2979.7009483831116,
           2749.694814042167,
           2686.3887799185914,
           2583.9594643885084,
           2450.4551852732757,
           2692.6656161309934,
           2268.8341360552454,
           2805.284663088329,
           2158.205844968197,
           2278.399966438511,
           1973.517803074102,
           1819.865320243102,
           1726.5906144917674,
           1719.9534933979849,
           1683.4158900353566,
           2150.0380295535924,
           1707.213558039458,
           1877.3401514882655,
           1789.9241828271972,
           1780.2957158747547,
           1635.3081570679528,
           1731.871764757346,
           1508.1898050555608,
           1666.5239255214365,
           1678.0948991779505,
           1627.2605185692062,
           1563.5214694186718,
           1687.351393456621,
           1509.330986207442,
           1299.859685714692,
           1237.7208826317417,
           1419.9370852717973,
           1321.4159546842623,
           1170.7851048369464,
           1247.1507454244,
           1198.867419535926,
           1237.4981518438715,
           1202.8473314808612,
           1190.0730119049374,
           1074.5453266574636,
           1172.6844948574894,
           1124.2729522723528,
           1121.6569667709823,
           917.1768752423402,
           901.8136366454271,
           908.2054416171519,
           839.9814339922733,
           905.3852846237079,
           834.5240680405144,
           736.5927250842619,
           773.9647965404882,
           747.4007852853645,
           678.2377545957779,
           590.562851607978,
           571.0666224654683,
           446.22129634577067,
           225.52407121934098
          ]
         },
         "hovertemplate": "Product=%{x}<br>meanPrice=%{y}<extra></extra>",
         "legendgroup": "",
         "marker": {
          "color": "#636efa",
          "pattern": {
           "shape": ""
          }
         },
         "name": "",
         "offsetgroup": "",
         "orientation": "v",
         "showlegend": false,
         "textposition": "auto",
         "type": "bar",
         "x": [
          "Côte de Blaye",
          "Thüringer Rostbratwurst",
          "Mishi Kobe Niku",
          "Sir Rodney's Marmalade",
          "Carnarvon Tigers",
          "Raclette Courdavault",
          "Manjimup Dried Apples",
          "Tarte au sucre",
          "Ipoh Coffee",
          "Rössle Sauerkraut",
          "Vegie-spread",
          "Schoggi Schokolade",
          "Alice Mutton",
          "Northwoods Cranberry Sauce",
          "Queso Manchego La Pastora",
          "Gnocchi di nonna Alice",
          "Camembert Pierrot",
          "Gudbrandsdalsost",
          "Wimmers gute Semmelknödel",
          "Mozzarella di Giovanni",
          "Perth Pasties",
          "Mascarpone Fabioli",
          "Gumbär Gummibärchen",
          "Uncle Bob's Organic Dried Pears",
          "Ikura",
          "Sirop d'érable",
          "Nord-Ost Matjeshering",
          "Gravad lax",
          "Pâté chinois",
          "Grandma's Boysenberry Spread",
          "Tofu",
          "Gustaf's Knäckebröd",
          "Flotemysost",
          "Chef Anton's Gumbo Mix",
          "Queso Cabrales",
          "Chef Anton's Cajun Seasoning",
          "Louisiana Fiery Hot Pepper Sauce",
          "Maxilaku",
          "Ravioli Angelo",
          "Gula Malacca",
          "Inlagd Sill",
          "Chang",
          "Steeleye Stout",
          "Boston Crab Meat",
          "Chartreuse verte",
          "Chai",
          "Pavlova",
          "Lakkalikööri",
          "Louisiana Hot Spiced Okra",
          "Valkoinen suklaa",
          "Outback Lager",
          "Genen Shouyu",
          "Röd Kaviar",
          "Singaporean Hokkien Fried Mee",
          "Sasquatch Ale",
          "NuNuCa Nuß-Nougat-Creme",
          "Laughing Lumberjack Lager",
          "Escargots de Bourgogne",
          "Original Frankfurter grüne Soße",
          "Scottish Longbreads",
          "Chocolade",
          "Gorgonzola Telino",
          "Spegesild",
          "Aniseed Syrup",
          "Sir Rodney's Scones",
          "Longlife Tofu",
          "Teatime Chocolate Biscuits",
          "Jack's New England Clam Chowder",
          "Rogede sild",
          "Tunnbröd",
          "Zaanse koeken",
          "Rhönbräu Klosterbier",
          "Tourtière",
          "Filo Mix",
          "Konbu",
          "Guaraná Fantástica",
          "Geitost"
         ],
         "xaxis": "x",
         "y": [
          71226.975625,
          30920.014742647058,
          24555.264705882353,
          21135.496764705884,
          16778.216911764706,
          14613.928676470588,
          14250.375,
          12752.211948529412,
          11769.573529411764,
          11685.326470588236,
          11486.489558823529,
          11245.494117647058,
          10596.377426470588,
          10493.764705882353,
          9980.001470588235,
          9965.5475,
          9132.1825,
          8998.676470588236,
          8730.066213235294,
          8559.354411764705,
          8456.579411764704,
          8201.6,
          8193.24375,
          7810.444852941177,
          7756.108823529412,
          7424.501470588235,
          6784.647959558824,
          6743.941176470588,
          6261.308823529412,
          6120.768382352941,
          5905.306819852942,
          5548.786764705882,
          5499.020220588235,
          5463.50330882353,
          5438.536764705882,
          5388.341911764706,
          5365.909981617648,
          5080.257352941177,
          5059.819852941177,
          5004.265183823529,
          4880.904411764706,
          4819.783088235294,
          4738.599264705882,
          4728.116544117647,
          4683.904411764706,
          4670.523529411765,
          4569.172632352941,
          4568.625,
          4414.75,
          4090.9375,
          3961.1305147058824,
          3899.9595588235293,
          3823.3985294117647,
          3635.264705882353,
          3633.2264705882353,
          3598.622794117647,
          3548.794117647059,
          3434.9261029411764,
          3378.6235294117646,
          3348.485294117647,
          3344.53125,
          3102.1341911764707,
          2983.9358823529415,
          2648.823529411765,
          2595.095588235294,
          2496.176470588235,
          2455.732867647059,
          2428.741544117647,
          2405.1625,
          2360.845588235294,
          2329.1163970588236,
          2037.5775735294117,
          1932.5521323529413,
          1760.8088235294117,
          1628.4264705882354,
          1168.70625,
          665.8161764705883
         ],
         "yaxis": "y"
        }
       ],
       "layout": {
        "barmode": "relative",
        "legend": {
         "tracegroupgap": 0
        },
        "margin": {
         "t": 60
        },
        "template": {
         "data": {
          "bar": [
           {
            "error_x": {
             "color": "#2a3f5f"
            },
            "error_y": {
             "color": "#2a3f5f"
            },
            "marker": {
             "line": {
              "color": "#E5ECF6",
              "width": 0.5
             },
             "pattern": {
              "fillmode": "overlay",
              "size": 10,
              "solidity": 0.2
             }
            },
            "type": "bar"
           }
          ],
          "barpolar": [
           {
            "marker": {
             "line": {
              "color": "#E5ECF6",
              "width": 0.5
             },
             "pattern": {
              "fillmode": "overlay",
              "size": 10,
              "solidity": 0.2
             }
            },
            "type": "barpolar"
           }
          ],
          "carpet": [
           {
            "aaxis": {
             "endlinecolor": "#2a3f5f",
             "gridcolor": "white",
             "linecolor": "white",
             "minorgridcolor": "white",
             "startlinecolor": "#2a3f5f"
            },
            "baxis": {
             "endlinecolor": "#2a3f5f",
             "gridcolor": "white",
             "linecolor": "white",
             "minorgridcolor": "white",
             "startlinecolor": "#2a3f5f"
            },
            "type": "carpet"
           }
          ],
          "choropleth": [
           {
            "colorbar": {
             "outlinewidth": 0,
             "ticks": ""
            },
            "type": "choropleth"
           }
          ],
          "contour": [
           {
            "colorbar": {
             "outlinewidth": 0,
             "ticks": ""
            },
            "colorscale": [
             [
              0,
              "#0d0887"
             ],
             [
              0.1111111111111111,
              "#46039f"
             ],
             [
              0.2222222222222222,
              "#7201a8"
             ],
             [
              0.3333333333333333,
              "#9c179e"
             ],
             [
              0.4444444444444444,
              "#bd3786"
             ],
             [
              0.5555555555555556,
              "#d8576b"
             ],
             [
              0.6666666666666666,
              "#ed7953"
             ],
             [
              0.7777777777777778,
              "#fb9f3a"
             ],
             [
              0.8888888888888888,
              "#fdca26"
             ],
             [
              1,
              "#f0f921"
             ]
            ],
            "type": "contour"
           }
          ],
          "contourcarpet": [
           {
            "colorbar": {
             "outlinewidth": 0,
             "ticks": ""
            },
            "type": "contourcarpet"
           }
          ],
          "heatmap": [
           {
            "colorbar": {
             "outlinewidth": 0,
             "ticks": ""
            },
            "colorscale": [
             [
              0,
              "#0d0887"
             ],
             [
              0.1111111111111111,
              "#46039f"
             ],
             [
              0.2222222222222222,
              "#7201a8"
             ],
             [
              0.3333333333333333,
              "#9c179e"
             ],
             [
              0.4444444444444444,
              "#bd3786"
             ],
             [
              0.5555555555555556,
              "#d8576b"
             ],
             [
              0.6666666666666666,
              "#ed7953"
             ],
             [
              0.7777777777777778,
              "#fb9f3a"
             ],
             [
              0.8888888888888888,
              "#fdca26"
             ],
             [
              1,
              "#f0f921"
             ]
            ],
            "type": "heatmap"
           }
          ],
          "heatmapgl": [
           {
            "colorbar": {
             "outlinewidth": 0,
             "ticks": ""
            },
            "colorscale": [
             [
              0,
              "#0d0887"
             ],
             [
              0.1111111111111111,
              "#46039f"
             ],
             [
              0.2222222222222222,
              "#7201a8"
             ],
             [
              0.3333333333333333,
              "#9c179e"
             ],
             [
              0.4444444444444444,
              "#bd3786"
             ],
             [
              0.5555555555555556,
              "#d8576b"
             ],
             [
              0.6666666666666666,
              "#ed7953"
             ],
             [
              0.7777777777777778,
              "#fb9f3a"
             ],
             [
              0.8888888888888888,
              "#fdca26"
             ],
             [
              1,
              "#f0f921"
             ]
            ],
            "type": "heatmapgl"
           }
          ],
          "histogram": [
           {
            "marker": {
             "pattern": {
              "fillmode": "overlay",
              "size": 10,
              "solidity": 0.2
             }
            },
            "type": "histogram"
           }
          ],
          "histogram2d": [
           {
            "colorbar": {
             "outlinewidth": 0,
             "ticks": ""
            },
            "colorscale": [
             [
              0,
              "#0d0887"
             ],
             [
              0.1111111111111111,
              "#46039f"
             ],
             [
              0.2222222222222222,
              "#7201a8"
             ],
             [
              0.3333333333333333,
              "#9c179e"
             ],
             [
              0.4444444444444444,
              "#bd3786"
             ],
             [
              0.5555555555555556,
              "#d8576b"
             ],
             [
              0.6666666666666666,
              "#ed7953"
             ],
             [
              0.7777777777777778,
              "#fb9f3a"
             ],
             [
              0.8888888888888888,
              "#fdca26"
             ],
             [
              1,
              "#f0f921"
             ]
            ],
            "type": "histogram2d"
           }
          ],
          "histogram2dcontour": [
           {
            "colorbar": {
             "outlinewidth": 0,
             "ticks": ""
            },
            "colorscale": [
             [
              0,
              "#0d0887"
             ],
             [
              0.1111111111111111,
              "#46039f"
             ],
             [
              0.2222222222222222,
              "#7201a8"
             ],
             [
              0.3333333333333333,
              "#9c179e"
             ],
             [
              0.4444444444444444,
              "#bd3786"
             ],
             [
              0.5555555555555556,
              "#d8576b"
             ],
             [
              0.6666666666666666,
              "#ed7953"
             ],
             [
              0.7777777777777778,
              "#fb9f3a"
             ],
             [
              0.8888888888888888,
              "#fdca26"
             ],
             [
              1,
              "#f0f921"
             ]
            ],
            "type": "histogram2dcontour"
           }
          ],
          "mesh3d": [
           {
            "colorbar": {
             "outlinewidth": 0,
             "ticks": ""
            },
            "type": "mesh3d"
           }
          ],
          "parcoords": [
           {
            "line": {
             "colorbar": {
              "outlinewidth": 0,
              "ticks": ""
             }
            },
            "type": "parcoords"
           }
          ],
          "pie": [
           {
            "automargin": true,
            "type": "pie"
           }
          ],
          "scatter": [
           {
            "fillpattern": {
             "fillmode": "overlay",
             "size": 10,
             "solidity": 0.2
            },
            "type": "scatter"
           }
          ],
          "scatter3d": [
           {
            "line": {
             "colorbar": {
              "outlinewidth": 0,
              "ticks": ""
             }
            },
            "marker": {
             "colorbar": {
              "outlinewidth": 0,
              "ticks": ""
             }
            },
            "type": "scatter3d"
           }
          ],
          "scattercarpet": [
           {
            "marker": {
             "colorbar": {
              "outlinewidth": 0,
              "ticks": ""
             }
            },
            "type": "scattercarpet"
           }
          ],
          "scattergeo": [
           {
            "marker": {
             "colorbar": {
              "outlinewidth": 0,
              "ticks": ""
             }
            },
            "type": "scattergeo"
           }
          ],
          "scattergl": [
           {
            "marker": {
             "colorbar": {
              "outlinewidth": 0,
              "ticks": ""
             }
            },
            "type": "scattergl"
           }
          ],
          "scattermapbox": [
           {
            "marker": {
             "colorbar": {
              "outlinewidth": 0,
              "ticks": ""
             }
            },
            "type": "scattermapbox"
           }
          ],
          "scatterpolar": [
           {
            "marker": {
             "colorbar": {
              "outlinewidth": 0,
              "ticks": ""
             }
            },
            "type": "scatterpolar"
           }
          ],
          "scatterpolargl": [
           {
            "marker": {
             "colorbar": {
              "outlinewidth": 0,
              "ticks": ""
             }
            },
            "type": "scatterpolargl"
           }
          ],
          "scatterternary": [
           {
            "marker": {
             "colorbar": {
              "outlinewidth": 0,
              "ticks": ""
             }
            },
            "type": "scatterternary"
           }
          ],
          "surface": [
           {
            "colorbar": {
             "outlinewidth": 0,
             "ticks": ""
            },
            "colorscale": [
             [
              0,
              "#0d0887"
             ],
             [
              0.1111111111111111,
              "#46039f"
             ],
             [
              0.2222222222222222,
              "#7201a8"
             ],
             [
              0.3333333333333333,
              "#9c179e"
             ],
             [
              0.4444444444444444,
              "#bd3786"
             ],
             [
              0.5555555555555556,
              "#d8576b"
             ],
             [
              0.6666666666666666,
              "#ed7953"
             ],
             [
              0.7777777777777778,
              "#fb9f3a"
             ],
             [
              0.8888888888888888,
              "#fdca26"
             ],
             [
              1,
              "#f0f921"
             ]
            ],
            "type": "surface"
           }
          ],
          "table": [
           {
            "cells": {
             "fill": {
              "color": "#EBF0F8"
             },
             "line": {
              "color": "white"
             }
            },
            "header": {
             "fill": {
              "color": "#C8D4E3"
             },
             "line": {
              "color": "white"
             }
            },
            "type": "table"
           }
          ]
         },
         "layout": {
          "annotationdefaults": {
           "arrowcolor": "#2a3f5f",
           "arrowhead": 0,
           "arrowwidth": 1
          },
          "autotypenumbers": "strict",
          "coloraxis": {
           "colorbar": {
            "outlinewidth": 0,
            "ticks": ""
           }
          },
          "colorscale": {
           "diverging": [
            [
             0,
             "#8e0152"
            ],
            [
             0.1,
             "#c51b7d"
            ],
            [
             0.2,
             "#de77ae"
            ],
            [
             0.3,
             "#f1b6da"
            ],
            [
             0.4,
             "#fde0ef"
            ],
            [
             0.5,
             "#f7f7f7"
            ],
            [
             0.6,
             "#e6f5d0"
            ],
            [
             0.7,
             "#b8e186"
            ],
            [
             0.8,
             "#7fbc41"
            ],
            [
             0.9,
             "#4d9221"
            ],
            [
             1,
             "#276419"
            ]
           ],
           "sequential": [
            [
             0,
             "#0d0887"
            ],
            [
             0.1111111111111111,
             "#46039f"
            ],
            [
             0.2222222222222222,
             "#7201a8"
            ],
            [
             0.3333333333333333,
             "#9c179e"
            ],
            [
             0.4444444444444444,
             "#bd3786"
            ],
            [
             0.5555555555555556,
             "#d8576b"
            ],
            [
             0.6666666666666666,
             "#ed7953"
            ],
            [
             0.7777777777777778,
             "#fb9f3a"
            ],
            [
             0.8888888888888888,
             "#fdca26"
            ],
            [
             1,
             "#f0f921"
            ]
           ],
           "sequentialminus": [
            [
             0,
             "#0d0887"
            ],
            [
             0.1111111111111111,
             "#46039f"
            ],
            [
             0.2222222222222222,
             "#7201a8"
            ],
            [
             0.3333333333333333,
             "#9c179e"
            ],
            [
             0.4444444444444444,
             "#bd3786"
            ],
            [
             0.5555555555555556,
             "#d8576b"
            ],
            [
             0.6666666666666666,
             "#ed7953"
            ],
            [
             0.7777777777777778,
             "#fb9f3a"
            ],
            [
             0.8888888888888888,
             "#fdca26"
            ],
            [
             1,
             "#f0f921"
            ]
           ]
          },
          "colorway": [
           "#636efa",
           "#EF553B",
           "#00cc96",
           "#ab63fa",
           "#FFA15A",
           "#19d3f3",
           "#FF6692",
           "#B6E880",
           "#FF97FF",
           "#FECB52"
          ],
          "font": {
           "color": "#2a3f5f"
          },
          "geo": {
           "bgcolor": "white",
           "lakecolor": "white",
           "landcolor": "#E5ECF6",
           "showlakes": true,
           "showland": true,
           "subunitcolor": "white"
          },
          "hoverlabel": {
           "align": "left"
          },
          "hovermode": "closest",
          "mapbox": {
           "style": "light"
          },
          "paper_bgcolor": "white",
          "plot_bgcolor": "#E5ECF6",
          "polar": {
           "angularaxis": {
            "gridcolor": "white",
            "linecolor": "white",
            "ticks": ""
           },
           "bgcolor": "#E5ECF6",
           "radialaxis": {
            "gridcolor": "white",
            "linecolor": "white",
            "ticks": ""
           }
          },
          "scene": {
           "xaxis": {
            "backgroundcolor": "#E5ECF6",
            "gridcolor": "white",
            "gridwidth": 2,
            "linecolor": "white",
            "showbackground": true,
            "ticks": "",
            "zerolinecolor": "white"
           },
           "yaxis": {
            "backgroundcolor": "#E5ECF6",
            "gridcolor": "white",
            "gridwidth": 2,
            "linecolor": "white",
            "showbackground": true,
            "ticks": "",
            "zerolinecolor": "white"
           },
           "zaxis": {
            "backgroundcolor": "#E5ECF6",
            "gridcolor": "white",
            "gridwidth": 2,
            "linecolor": "white",
            "showbackground": true,
            "ticks": "",
            "zerolinecolor": "white"
           }
          },
          "shapedefaults": {
           "line": {
            "color": "#2a3f5f"
           }
          },
          "ternary": {
           "aaxis": {
            "gridcolor": "white",
            "linecolor": "white",
            "ticks": ""
           },
           "baxis": {
            "gridcolor": "white",
            "linecolor": "white",
            "ticks": ""
           },
           "bgcolor": "#E5ECF6",
           "caxis": {
            "gridcolor": "white",
            "linecolor": "white",
            "ticks": ""
           }
          },
          "title": {
           "x": 0.05
          },
          "xaxis": {
           "automargin": true,
           "gridcolor": "white",
           "linecolor": "white",
           "ticks": "",
           "title": {
            "standoff": 15
           },
           "zerolinecolor": "white",
           "zerolinewidth": 2
          },
          "yaxis": {
           "automargin": true,
           "gridcolor": "white",
           "linecolor": "white",
           "ticks": "",
           "title": {
            "standoff": 15
           },
           "zerolinecolor": "white",
           "zerolinewidth": 2
          }
         }
        },
        "xaxis": {
         "anchor": "y",
         "domain": [
          0,
          1
         ],
         "title": {
          "text": "Product"
         }
        },
        "yaxis": {
         "anchor": "x",
         "domain": [
          0,
          1
         ],
         "title": {
          "text": "meanPrice"
         }
        }
       }
      }
     },
     "metadata": {},
     "output_type": "display_data"
    }
   ],
   "source": [
    "fig = px.bar(region_profit, y='meanPrice', error_y=\"stdPrice\")\n",
    "fig.show()"
   ]
  },
  {
   "cell_type": "markdown",
   "metadata": {},
   "source": [
    "### **2. Análisis de Desempeño de Productos**\n",
    "Analiza el desempeño de los productos de la empresa. Examina las ventas de productos por categoría, identificando los productos más vendidos y los menos vendidos. \n",
    "\n",
    "Pista: Utiliza gráficos de barras y de tarta para visualizar la participación de mercado de cada categoría y los ingresos generados por los productos individuales."
   ]
  },
  {
   "cell_type": "code",
   "execution_count": null,
   "metadata": {},
   "outputs": [],
   "source": [
    "# !pip install 'ibis-framework[sqlite]'"
   ]
  },
  {
   "cell_type": "code",
   "execution_count": 15,
   "metadata": {},
   "outputs": [],
   "source": [
    "import ibis\n",
    "\n",
    "# Para ejecución interactiva\n",
    "# ibis.options.interactive = True\n",
    "\n",
    "con = ibis.sqlite.connect('data/northwind.db')"
   ]
  },
  {
   "cell_type": "code",
   "execution_count": 84,
   "metadata": {},
   "outputs": [
    {
     "data": {
      "text/html": [
       "<pre style=\"white-space:pre;overflow-x:auto;line-height:normal;font-family:Menlo,'DejaVu Sans Mono',consolas,'Courier New',monospace\">r0 := DatabaseTable: Categories\n",
       "  CategoryID   int64\n",
       "  CategoryName string\n",
       "  Description  string\n",
       "  Picture      binary\n",
       "\n",
       "r1 := DatabaseTable: Products\n",
       "  ProductID       !int64\n",
       "  ProductName     !string\n",
       "  SupplierID      int64\n",
       "  CategoryID      int64\n",
       "  QuantityPerUnit string\n",
       "  UnitPrice       decimal\n",
       "  UnitsInStock    int64\n",
       "  UnitsOnOrder    int64\n",
       "  ReorderLevel    int64\n",
       "  Discontinued    !string\n",
       "\n",
       "JoinChain[r0]\n",
       "  JoinLink[inner, r1]\n",
       "    r0.CategoryID == r1.CategoryID\n",
       "  values:\n",
       "    CategoryID:      r0.CategoryID\n",
       "    CategoryName:    r0.CategoryName\n",
       "    Description:     r0.Description\n",
       "    Picture:         r0.Picture\n",
       "    ProductID:       r1.ProductID\n",
       "    ProductName:     r1.ProductName\n",
       "    SupplierID:      r1.SupplierID\n",
       "    QuantityPerUnit: r1.QuantityPerUnit\n",
       "    UnitPrice:       r1.UnitPrice\n",
       "    UnitsInStock:    r1.UnitsInStock\n",
       "    UnitsOnOrder:    r1.UnitsOnOrder\n",
       "    ReorderLevel:    r1.ReorderLevel\n",
       "    Discontinued:    r1.Discontinued\n",
       "</pre>\n"
      ],
      "text/plain": [
       "r0 := DatabaseTable: Categories\n",
       "  CategoryID   int64\n",
       "  CategoryName string\n",
       "  Description  string\n",
       "  Picture      binary\n",
       "\n",
       "r1 := DatabaseTable: Products\n",
       "  ProductID       !int64\n",
       "  ProductName     !string\n",
       "  SupplierID      int64\n",
       "  CategoryID      int64\n",
       "  QuantityPerUnit string\n",
       "  UnitPrice       decimal\n",
       "  UnitsInStock    int64\n",
       "  UnitsOnOrder    int64\n",
       "  ReorderLevel    int64\n",
       "  Discontinued    !string\n",
       "\n",
       "JoinChain[r0]\n",
       "  JoinLink[inner, r1]\n",
       "    r0.CategoryID == r1.CategoryID\n",
       "  values:\n",
       "    CategoryID:      r0.CategoryID\n",
       "    CategoryName:    r0.CategoryName\n",
       "    Description:     r0.Description\n",
       "    Picture:         r0.Picture\n",
       "    ProductID:       r1.ProductID\n",
       "    ProductName:     r1.ProductName\n",
       "    SupplierID:      r1.SupplierID\n",
       "    QuantityPerUnit: r1.QuantityPerUnit\n",
       "    UnitPrice:       r1.UnitPrice\n",
       "    UnitsInStock:    r1.UnitsInStock\n",
       "    UnitsOnOrder:    r1.UnitsOnOrder\n",
       "    ReorderLevel:    r1.ReorderLevel\n",
       "    Discontinued:    r1.Discontinued"
      ]
     },
     "execution_count": 84,
     "metadata": {},
     "output_type": "execute_result"
    }
   ],
   "source": [
    "categories = con.table(\"Categories\")\n",
    "products = con.table(\"Products\")\n",
    "\n",
    "joined_products = categories.join(products, \"CategoryID\")\n",
    "joined_products"
   ]
  },
  {
   "cell_type": "code",
   "execution_count": 103,
   "metadata": {},
   "outputs": [],
   "source": [
    "category_df = joined_products.select([\"CategoryName\", \"ProductName\"]).to_pandas()\n",
    "category_df.rename(columns={\"ProductName\": \"Product\"}, inplace=True)\n",
    "category_df.set_index(\"Product\", inplace=True)"
   ]
  },
  {
   "cell_type": "code",
   "execution_count": 118,
   "metadata": {},
   "outputs": [],
   "source": [
    "product_profit.reset_index(inplace=True)\n",
    "product_profit.set_index(\"Product\", inplace=True)"
   ]
  },
  {
   "cell_type": "code",
   "execution_count": 119,
   "metadata": {},
   "outputs": [
    {
     "data": {
      "text/html": [
       "<div>\n",
       "<style scoped>\n",
       "    .dataframe tbody tr th:only-of-type {\n",
       "        vertical-align: middle;\n",
       "    }\n",
       "\n",
       "    .dataframe tbody tr th {\n",
       "        vertical-align: top;\n",
       "    }\n",
       "\n",
       "    .dataframe thead th {\n",
       "        text-align: right;\n",
       "    }\n",
       "</style>\n",
       "<table border=\"1\" class=\"dataframe\">\n",
       "  <thead>\n",
       "    <tr style=\"text-align: right;\">\n",
       "      <th></th>\n",
       "      <th>Region</th>\n",
       "      <th>meanPrice</th>\n",
       "      <th>stdPrice</th>\n",
       "    </tr>\n",
       "    <tr>\n",
       "      <th>Product</th>\n",
       "      <th></th>\n",
       "      <th></th>\n",
       "      <th></th>\n",
       "    </tr>\n",
       "  </thead>\n",
       "  <tbody>\n",
       "    <tr>\n",
       "      <th>Côte de Blaye</th>\n",
       "      <td>Western Europe</td>\n",
       "      <td>120245.512500</td>\n",
       "      <td>35830.588553</td>\n",
       "    </tr>\n",
       "    <tr>\n",
       "      <th>Côte de Blaye</th>\n",
       "      <td>North America</td>\n",
       "      <td>71226.975625</td>\n",
       "      <td>24537.409206</td>\n",
       "    </tr>\n",
       "    <tr>\n",
       "      <th>Côte de Blaye</th>\n",
       "      <td>South America</td>\n",
       "      <td>70392.475000</td>\n",
       "      <td>26489.913360</td>\n",
       "    </tr>\n",
       "    <tr>\n",
       "      <th>Thüringer Rostbratwurst</th>\n",
       "      <td>Western Europe</td>\n",
       "      <td>55366.795390</td>\n",
       "      <td>15763.042641</td>\n",
       "    </tr>\n",
       "    <tr>\n",
       "      <th>Mishi Kobe Niku</th>\n",
       "      <td>Western Europe</td>\n",
       "      <td>44114.744118</td>\n",
       "      <td>12931.501600</td>\n",
       "    </tr>\n",
       "    <tr>\n",
       "      <th>...</th>\n",
       "      <td>...</td>\n",
       "      <td>...</td>\n",
       "      <td>...</td>\n",
       "    </tr>\n",
       "    <tr>\n",
       "      <th>Geitost</th>\n",
       "      <td>Central America</td>\n",
       "      <td>223.130769</td>\n",
       "      <td>119.268353</td>\n",
       "    </tr>\n",
       "    <tr>\n",
       "      <th>Geitost</th>\n",
       "      <td>Northern Europe</td>\n",
       "      <td>180.480315</td>\n",
       "      <td>108.326253</td>\n",
       "    </tr>\n",
       "    <tr>\n",
       "      <th>Geitost</th>\n",
       "      <td>Scandinavia</td>\n",
       "      <td>153.272727</td>\n",
       "      <td>97.388931</td>\n",
       "    </tr>\n",
       "    <tr>\n",
       "      <th>Guaraná Fantástica</th>\n",
       "      <td>Eastern Europe</td>\n",
       "      <td>148.616883</td>\n",
       "      <td>108.727747</td>\n",
       "    </tr>\n",
       "    <tr>\n",
       "      <th>Geitost</th>\n",
       "      <td>Eastern Europe</td>\n",
       "      <td>94.202899</td>\n",
       "      <td>55.984656</td>\n",
       "    </tr>\n",
       "  </tbody>\n",
       "</table>\n",
       "<p>693 rows × 3 columns</p>\n",
       "</div>"
      ],
      "text/plain": [
       "                                  Region      meanPrice      stdPrice\n",
       "Product                                                              \n",
       "Côte de Blaye             Western Europe  120245.512500  35830.588553\n",
       "Côte de Blaye              North America   71226.975625  24537.409206\n",
       "Côte de Blaye              South America   70392.475000  26489.913360\n",
       "Thüringer Rostbratwurst   Western Europe   55366.795390  15763.042641\n",
       "Mishi Kobe Niku           Western Europe   44114.744118  12931.501600\n",
       "...                                  ...            ...           ...\n",
       "Geitost                  Central America     223.130769    119.268353\n",
       "Geitost                  Northern Europe     180.480315    108.326253\n",
       "Geitost                      Scandinavia     153.272727     97.388931\n",
       "Guaraná Fantástica        Eastern Europe     148.616883    108.727747\n",
       "Geitost                   Eastern Europe      94.202899     55.984656\n",
       "\n",
       "[693 rows x 3 columns]"
      ]
     },
     "execution_count": 119,
     "metadata": {},
     "output_type": "execute_result"
    }
   ],
   "source": [
    "product_profit"
   ]
  },
  {
   "cell_type": "code",
   "execution_count": 122,
   "metadata": {},
   "outputs": [
    {
     "data": {
      "text/html": [
       "<div>\n",
       "<style scoped>\n",
       "    .dataframe tbody tr th:only-of-type {\n",
       "        vertical-align: middle;\n",
       "    }\n",
       "\n",
       "    .dataframe tbody tr th {\n",
       "        vertical-align: top;\n",
       "    }\n",
       "\n",
       "    .dataframe thead th {\n",
       "        text-align: right;\n",
       "    }\n",
       "</style>\n",
       "<table border=\"1\" class=\"dataframe\">\n",
       "  <thead>\n",
       "    <tr style=\"text-align: right;\">\n",
       "      <th></th>\n",
       "      <th>CategoryName</th>\n",
       "      <th>Region</th>\n",
       "      <th>meanPrice</th>\n",
       "      <th>stdPrice</th>\n",
       "    </tr>\n",
       "    <tr>\n",
       "      <th>Product</th>\n",
       "      <th></th>\n",
       "      <th></th>\n",
       "      <th></th>\n",
       "      <th></th>\n",
       "    </tr>\n",
       "  </thead>\n",
       "  <tbody>\n",
       "    <tr>\n",
       "      <th>Côte de Blaye</th>\n",
       "      <td>Beverages</td>\n",
       "      <td>Western Europe</td>\n",
       "      <td>120245.512500</td>\n",
       "      <td>35830.588553</td>\n",
       "    </tr>\n",
       "    <tr>\n",
       "      <th>Côte de Blaye</th>\n",
       "      <td>Beverages</td>\n",
       "      <td>North America</td>\n",
       "      <td>71226.975625</td>\n",
       "      <td>24537.409206</td>\n",
       "    </tr>\n",
       "    <tr>\n",
       "      <th>Côte de Blaye</th>\n",
       "      <td>Beverages</td>\n",
       "      <td>South America</td>\n",
       "      <td>70392.475000</td>\n",
       "      <td>26489.913360</td>\n",
       "    </tr>\n",
       "    <tr>\n",
       "      <th>Thüringer Rostbratwurst</th>\n",
       "      <td>Meat/Poultry</td>\n",
       "      <td>Western Europe</td>\n",
       "      <td>55366.795390</td>\n",
       "      <td>15763.042641</td>\n",
       "    </tr>\n",
       "    <tr>\n",
       "      <th>Mishi Kobe Niku</th>\n",
       "      <td>Meat/Poultry</td>\n",
       "      <td>Western Europe</td>\n",
       "      <td>44114.744118</td>\n",
       "      <td>12931.501600</td>\n",
       "    </tr>\n",
       "    <tr>\n",
       "      <th>Côte de Blaye</th>\n",
       "      <td>Beverages</td>\n",
       "      <td>Southern Europe</td>\n",
       "      <td>37932.201493</td>\n",
       "      <td>16579.994957</td>\n",
       "    </tr>\n",
       "    <tr>\n",
       "      <th>Sir Rodney's Marmalade</th>\n",
       "      <td>Confections</td>\n",
       "      <td>Western Europe</td>\n",
       "      <td>37618.663235</td>\n",
       "      <td>10658.487694</td>\n",
       "    </tr>\n",
       "    <tr>\n",
       "      <th>Côte de Blaye</th>\n",
       "      <td>Beverages</td>\n",
       "      <td>British Isles</td>\n",
       "      <td>36764.149254</td>\n",
       "      <td>18923.969776</td>\n",
       "    </tr>\n",
       "    <tr>\n",
       "      <th>Thüringer Rostbratwurst</th>\n",
       "      <td>Meat/Poultry</td>\n",
       "      <td>South America</td>\n",
       "      <td>33102.532382</td>\n",
       "      <td>12150.048244</td>\n",
       "    </tr>\n",
       "    <tr>\n",
       "      <th>Thüringer Rostbratwurst</th>\n",
       "      <td>Meat/Poultry</td>\n",
       "      <td>North America</td>\n",
       "      <td>30920.014743</td>\n",
       "      <td>11221.340795</td>\n",
       "    </tr>\n",
       "  </tbody>\n",
       "</table>\n",
       "</div>"
      ],
      "text/plain": [
       "                         CategoryName           Region      meanPrice  \\\n",
       "Product                                                                 \n",
       "Côte de Blaye               Beverages   Western Europe  120245.512500   \n",
       "Côte de Blaye               Beverages    North America   71226.975625   \n",
       "Côte de Blaye               Beverages    South America   70392.475000   \n",
       "Thüringer Rostbratwurst  Meat/Poultry   Western Europe   55366.795390   \n",
       "Mishi Kobe Niku          Meat/Poultry   Western Europe   44114.744118   \n",
       "Côte de Blaye               Beverages  Southern Europe   37932.201493   \n",
       "Sir Rodney's Marmalade    Confections   Western Europe   37618.663235   \n",
       "Côte de Blaye               Beverages    British Isles   36764.149254   \n",
       "Thüringer Rostbratwurst  Meat/Poultry    South America   33102.532382   \n",
       "Thüringer Rostbratwurst  Meat/Poultry    North America   30920.014743   \n",
       "\n",
       "                             stdPrice  \n",
       "Product                                \n",
       "Côte de Blaye            35830.588553  \n",
       "Côte de Blaye            24537.409206  \n",
       "Côte de Blaye            26489.913360  \n",
       "Thüringer Rostbratwurst  15763.042641  \n",
       "Mishi Kobe Niku          12931.501600  \n",
       "Côte de Blaye            16579.994957  \n",
       "Sir Rodney's Marmalade   10658.487694  \n",
       "Côte de Blaye            18923.969776  \n",
       "Thüringer Rostbratwurst  12150.048244  \n",
       "Thüringer Rostbratwurst  11221.340795  "
      ]
     },
     "execution_count": 122,
     "metadata": {},
     "output_type": "execute_result"
    }
   ],
   "source": [
    "category_df.join(product_profit).sort_values(\"meanPrice\", ascending=False).head(10)"
   ]
  },
  {
   "cell_type": "code",
   "execution_count": 169,
   "metadata": {},
   "outputs": [
    {
     "data": {
      "text/plain": [
       "pandas.core.frame.DataFrame"
      ]
     },
     "execution_count": 169,
     "metadata": {},
     "output_type": "execute_result"
    }
   ],
   "source": [
    "type(category_df)"
   ]
  },
  {
   "cell_type": "code",
   "execution_count": 171,
   "metadata": {},
   "outputs": [
    {
     "data": {
      "text/plain": [
       "ibis.expr.types.joins.Join"
      ]
     },
     "execution_count": 171,
     "metadata": {},
     "output_type": "execute_result"
    }
   ],
   "source": [
    "type(joined_products)"
   ]
  },
  {
   "cell_type": "code",
   "execution_count": 172,
   "metadata": {},
   "outputs": [
    {
     "data": {
      "text/markdown": [
       "```sql\n",
       "SELECT\n",
       "  \"t2\".\"CategoryID\",\n",
       "  \"t2\".\"CategoryName\",\n",
       "  \"t2\".\"Description\",\n",
       "  \"t2\".\"Picture\",\n",
       "  \"t3\".\"ProductID\",\n",
       "  \"t3\".\"ProductName\",\n",
       "  \"t3\".\"SupplierID\",\n",
       "  \"t3\".\"QuantityPerUnit\",\n",
       "  \"t3\".\"UnitPrice\",\n",
       "  \"t3\".\"UnitsInStock\",\n",
       "  \"t3\".\"UnitsOnOrder\",\n",
       "  \"t3\".\"ReorderLevel\",\n",
       "  \"t3\".\"Discontinued\"\n",
       "FROM \"Categories\" AS \"t2\"\n",
       "INNER JOIN \"Products\" AS \"t3\"\n",
       "  ON \"t2\".\"CategoryID\" = \"t3\".\"CategoryID\"\n",
       "```"
      ],
      "text/plain": [
       "\u001b[34mSELECT\u001b[39;49;00m\u001b[37m\u001b[39;49;00m\n",
       "\u001b[37m  \u001b[39;49;00m\u001b[33m\"t2\"\u001b[39;49;00m.\u001b[33m\"CategoryID\"\u001b[39;49;00m,\u001b[37m\u001b[39;49;00m\n",
       "\u001b[37m  \u001b[39;49;00m\u001b[33m\"t2\"\u001b[39;49;00m.\u001b[33m\"CategoryName\"\u001b[39;49;00m,\u001b[37m\u001b[39;49;00m\n",
       "\u001b[37m  \u001b[39;49;00m\u001b[33m\"t2\"\u001b[39;49;00m.\u001b[33m\"Description\"\u001b[39;49;00m,\u001b[37m\u001b[39;49;00m\n",
       "\u001b[37m  \u001b[39;49;00m\u001b[33m\"t2\"\u001b[39;49;00m.\u001b[33m\"Picture\"\u001b[39;49;00m,\u001b[37m\u001b[39;49;00m\n",
       "\u001b[37m  \u001b[39;49;00m\u001b[33m\"t3\"\u001b[39;49;00m.\u001b[33m\"ProductID\"\u001b[39;49;00m,\u001b[37m\u001b[39;49;00m\n",
       "\u001b[37m  \u001b[39;49;00m\u001b[33m\"t3\"\u001b[39;49;00m.\u001b[33m\"ProductName\"\u001b[39;49;00m,\u001b[37m\u001b[39;49;00m\n",
       "\u001b[37m  \u001b[39;49;00m\u001b[33m\"t3\"\u001b[39;49;00m.\u001b[33m\"SupplierID\"\u001b[39;49;00m,\u001b[37m\u001b[39;49;00m\n",
       "\u001b[37m  \u001b[39;49;00m\u001b[33m\"t3\"\u001b[39;49;00m.\u001b[33m\"QuantityPerUnit\"\u001b[39;49;00m,\u001b[37m\u001b[39;49;00m\n",
       "\u001b[37m  \u001b[39;49;00m\u001b[33m\"t3\"\u001b[39;49;00m.\u001b[33m\"UnitPrice\"\u001b[39;49;00m,\u001b[37m\u001b[39;49;00m\n",
       "\u001b[37m  \u001b[39;49;00m\u001b[33m\"t3\"\u001b[39;49;00m.\u001b[33m\"UnitsInStock\"\u001b[39;49;00m,\u001b[37m\u001b[39;49;00m\n",
       "\u001b[37m  \u001b[39;49;00m\u001b[33m\"t3\"\u001b[39;49;00m.\u001b[33m\"UnitsOnOrder\"\u001b[39;49;00m,\u001b[37m\u001b[39;49;00m\n",
       "\u001b[37m  \u001b[39;49;00m\u001b[33m\"t3\"\u001b[39;49;00m.\u001b[33m\"ReorderLevel\"\u001b[39;49;00m,\u001b[37m\u001b[39;49;00m\n",
       "\u001b[37m  \u001b[39;49;00m\u001b[33m\"t3\"\u001b[39;49;00m.\u001b[33m\"Discontinued\"\u001b[39;49;00m\u001b[37m\u001b[39;49;00m\n",
       "\u001b[34mFROM\u001b[39;49;00m\u001b[37m \u001b[39;49;00m\u001b[33m\"Categories\"\u001b[39;49;00m\u001b[37m \u001b[39;49;00m\u001b[34mAS\u001b[39;49;00m\u001b[37m \u001b[39;49;00m\u001b[33m\"t2\"\u001b[39;49;00m\u001b[37m\u001b[39;49;00m\n",
       "\u001b[34mINNER\u001b[39;49;00m\u001b[37m \u001b[39;49;00m\u001b[34mJOIN\u001b[39;49;00m\u001b[37m \u001b[39;49;00m\u001b[33m\"Products\"\u001b[39;49;00m\u001b[37m \u001b[39;49;00m\u001b[34mAS\u001b[39;49;00m\u001b[37m \u001b[39;49;00m\u001b[33m\"t3\"\u001b[39;49;00m\u001b[37m\u001b[39;49;00m\n",
       "\u001b[37m  \u001b[39;49;00m\u001b[34mON\u001b[39;49;00m\u001b[37m \u001b[39;49;00m\u001b[33m\"t2\"\u001b[39;49;00m.\u001b[33m\"CategoryID\"\u001b[39;49;00m\u001b[37m \u001b[39;49;00m=\u001b[37m \u001b[39;49;00m\u001b[33m\"t3\"\u001b[39;49;00m.\u001b[33m\"CategoryID\"\u001b[39;49;00m\u001b[37m\u001b[39;49;00m"
      ]
     },
     "execution_count": 172,
     "metadata": {},
     "output_type": "execute_result"
    }
   ],
   "source": [
    "ibis.to_sql(joined_products)"
   ]
  },
  {
   "cell_type": "code",
   "execution_count": 131,
   "metadata": {},
   "outputs": [
    {
     "ename": "KeyError",
     "evalue": "<Type.DATETIME: 'DATETIME'>",
     "output_type": "error",
     "traceback": [
      "\u001b[0;31m---------------------------------------------------------------------------\u001b[0m",
      "\u001b[0;31mKeyError\u001b[0m                                  Traceback (most recent call last)",
      "File \u001b[0;32m~/TheBridge/FEB24 -BIL  DS PT/TheBridge_DSPT/.venv/lib/python3.11/site-packages/ibis/backends/sqlite/__init__.py:168\u001b[0m, in \u001b[0;36mBackend._parse_type\u001b[0;34m(self, typ, nullable)\u001b[0m\n\u001b[1;32m    167\u001b[0m \u001b[38;5;28;01mtry\u001b[39;00m:\n\u001b[0;32m--> 168\u001b[0m     out \u001b[38;5;241m=\u001b[39m \u001b[38;5;28;43mself\u001b[39;49m\u001b[38;5;241;43m.\u001b[39;49m\u001b[43m_type_map\u001b[49m\u001b[43m[\u001b[49m\u001b[43mtyp\u001b[49m\u001b[43m]\u001b[49m\n\u001b[1;32m    169\u001b[0m \u001b[38;5;28;01mexcept\u001b[39;00m \u001b[38;5;167;01mKeyError\u001b[39;00m:\n",
      "\u001b[0;31mKeyError\u001b[0m: 'datetime'",
      "\nDuring handling of the above exception, another exception occurred:\n",
      "\u001b[0;31mKeyError\u001b[0m                                  Traceback (most recent call last)",
      "Cell \u001b[0;32mIn[131], line 1\u001b[0m\n\u001b[0;32m----> 1\u001b[0m \u001b[43mcon\u001b[49m\u001b[38;5;241;43m.\u001b[39;49m\u001b[43mtable\u001b[49m\u001b[43m(\u001b[49m\u001b[38;5;124;43m\"\u001b[39;49m\u001b[38;5;124;43mOrders\u001b[39;49m\u001b[38;5;124;43m\"\u001b[39;49m\u001b[43m)\u001b[49m\n",
      "File \u001b[0;32m~/TheBridge/FEB24 -BIL  DS PT/TheBridge_DSPT/.venv/lib/python3.11/site-packages/ibis/backends/sql/__init__.py:137\u001b[0m, in \u001b[0;36mSQLBackend.table\u001b[0;34m(self, name, schema, database)\u001b[0m\n\u001b[1;32m    134\u001b[0m     catalog \u001b[38;5;241m=\u001b[39m table_loc\u001b[38;5;241m.\u001b[39mcatalog \u001b[38;5;129;01mor\u001b[39;00m \u001b[38;5;28;01mNone\u001b[39;00m\n\u001b[1;32m    135\u001b[0m     database \u001b[38;5;241m=\u001b[39m table_loc\u001b[38;5;241m.\u001b[39mdb \u001b[38;5;129;01mor\u001b[39;00m \u001b[38;5;28;01mNone\u001b[39;00m\n\u001b[0;32m--> 137\u001b[0m table_schema \u001b[38;5;241m=\u001b[39m \u001b[38;5;28;43mself\u001b[39;49m\u001b[38;5;241;43m.\u001b[39;49m\u001b[43mget_schema\u001b[49m\u001b[43m(\u001b[49m\u001b[43mname\u001b[49m\u001b[43m,\u001b[49m\u001b[43m \u001b[49m\u001b[43mcatalog\u001b[49m\u001b[38;5;241;43m=\u001b[39;49m\u001b[43mcatalog\u001b[49m\u001b[43m,\u001b[49m\u001b[43m \u001b[49m\u001b[43mdatabase\u001b[49m\u001b[38;5;241;43m=\u001b[39;49m\u001b[43mdatabase\u001b[49m\u001b[43m)\u001b[49m\n\u001b[1;32m    138\u001b[0m \u001b[38;5;28;01mreturn\u001b[39;00m ops\u001b[38;5;241m.\u001b[39mDatabaseTable(\n\u001b[1;32m    139\u001b[0m     name,\n\u001b[1;32m    140\u001b[0m     schema\u001b[38;5;241m=\u001b[39mtable_schema,\n\u001b[1;32m    141\u001b[0m     source\u001b[38;5;241m=\u001b[39m\u001b[38;5;28mself\u001b[39m,\n\u001b[1;32m    142\u001b[0m     namespace\u001b[38;5;241m=\u001b[39mops\u001b[38;5;241m.\u001b[39mNamespace(catalog\u001b[38;5;241m=\u001b[39mcatalog, database\u001b[38;5;241m=\u001b[39mdatabase),\n\u001b[1;32m    143\u001b[0m )\u001b[38;5;241m.\u001b[39mto_expr()\n",
      "File \u001b[0;32m~/TheBridge/FEB24 -BIL  DS PT/TheBridge_DSPT/.venv/lib/python3.11/site-packages/ibis/backends/sqlite/__init__.py:240\u001b[0m, in \u001b[0;36mBackend.get_schema\u001b[0;34m(self, table_name, catalog, database)\u001b[0m\n\u001b[1;32m    238\u001b[0m     \u001b[38;5;28;01mraise\u001b[39;00m \u001b[38;5;167;01mTypeError\u001b[39;00m(\u001b[38;5;124m\"\u001b[39m\u001b[38;5;124msqlite doesn\u001b[39m\u001b[38;5;124m'\u001b[39m\u001b[38;5;124mt support `catalog`, use `database` instead\u001b[39m\u001b[38;5;124m\"\u001b[39m)\n\u001b[1;32m    239\u001b[0m \u001b[38;5;28;01mwith\u001b[39;00m \u001b[38;5;28mself\u001b[39m\u001b[38;5;241m.\u001b[39mbegin() \u001b[38;5;28;01mas\u001b[39;00m cur:\n\u001b[0;32m--> 240\u001b[0m     \u001b[38;5;28;01mreturn\u001b[39;00m \u001b[38;5;28;43mself\u001b[39;49m\u001b[38;5;241;43m.\u001b[39;49m\u001b[43m_inspect_schema\u001b[49m\u001b[43m(\u001b[49m\u001b[43mcur\u001b[49m\u001b[43m,\u001b[49m\u001b[43m \u001b[49m\u001b[43mtable_name\u001b[49m\u001b[43m,\u001b[49m\u001b[43m \u001b[49m\u001b[43mdatabase\u001b[49m\u001b[43m)\u001b[49m\n",
      "File \u001b[0;32m~/TheBridge/FEB24 -BIL  DS PT/TheBridge_DSPT/.venv/lib/python3.11/site-packages/ibis/backends/sqlite/__init__.py:206\u001b[0m, in \u001b[0;36mBackend._inspect_schema\u001b[0;34m(self, cur, table_name, database)\u001b[0m\n\u001b[1;32m    202\u001b[0m     \u001b[38;5;28;01melse\u001b[39;00m:\n\u001b[1;32m    203\u001b[0m         \u001b[38;5;28;01mraise\u001b[39;00m com\u001b[38;5;241m.\u001b[39mIbisError(\u001b[38;5;124mf\u001b[39m\u001b[38;5;124m\"\u001b[39m\u001b[38;5;124mFailed to infer types for columns \u001b[39m\u001b[38;5;132;01m{\u001b[39;00munknown\u001b[38;5;132;01m}\u001b[39;00m\u001b[38;5;124m\"\u001b[39m)\n\u001b[1;32m    205\u001b[0m \u001b[38;5;28;01mreturn\u001b[39;00m sch\u001b[38;5;241m.\u001b[39mSchema(\n\u001b[0;32m--> 206\u001b[0m     \u001b[43m{\u001b[49m\n\u001b[1;32m    207\u001b[0m \u001b[43m        \u001b[49m\u001b[43mname\u001b[49m\u001b[43m:\u001b[49m\u001b[43m \u001b[49m\u001b[38;5;28;43mself\u001b[39;49m\u001b[38;5;241;43m.\u001b[39;49m\u001b[43m_parse_type\u001b[49m\u001b[43m(\u001b[49m\u001b[43mtyp\u001b[49m\u001b[43m,\u001b[49m\u001b[43m \u001b[49m\u001b[43mnullable\u001b[49m\u001b[43m)\u001b[49m\n\u001b[1;32m    208\u001b[0m \u001b[43m        \u001b[49m\u001b[38;5;28;43;01mfor\u001b[39;49;00m\u001b[43m \u001b[49m\u001b[43mname\u001b[49m\u001b[43m,\u001b[49m\u001b[43m \u001b[49m\u001b[43m(\u001b[49m\u001b[43mtyp\u001b[49m\u001b[43m,\u001b[49m\u001b[43m \u001b[49m\u001b[43mnullable\u001b[49m\u001b[43m)\u001b[49m\u001b[43m \u001b[49m\u001b[38;5;129;43;01min\u001b[39;49;00m\u001b[43m \u001b[49m\u001b[43mtable_info\u001b[49m\u001b[38;5;241;43m.\u001b[39;49m\u001b[43mitems\u001b[49m\u001b[43m(\u001b[49m\u001b[43m)\u001b[49m\n\u001b[1;32m    209\u001b[0m \u001b[43m    \u001b[49m\u001b[43m}\u001b[49m\n\u001b[1;32m    210\u001b[0m )\n",
      "File \u001b[0;32m~/TheBridge/FEB24 -BIL  DS PT/TheBridge_DSPT/.venv/lib/python3.11/site-packages/ibis/backends/sqlite/__init__.py:207\u001b[0m, in \u001b[0;36m<dictcomp>\u001b[0;34m(.0)\u001b[0m\n\u001b[1;32m    202\u001b[0m     \u001b[38;5;28;01melse\u001b[39;00m:\n\u001b[1;32m    203\u001b[0m         \u001b[38;5;28;01mraise\u001b[39;00m com\u001b[38;5;241m.\u001b[39mIbisError(\u001b[38;5;124mf\u001b[39m\u001b[38;5;124m\"\u001b[39m\u001b[38;5;124mFailed to infer types for columns \u001b[39m\u001b[38;5;132;01m{\u001b[39;00munknown\u001b[38;5;132;01m}\u001b[39;00m\u001b[38;5;124m\"\u001b[39m)\n\u001b[1;32m    205\u001b[0m \u001b[38;5;28;01mreturn\u001b[39;00m sch\u001b[38;5;241m.\u001b[39mSchema(\n\u001b[1;32m    206\u001b[0m     {\n\u001b[0;32m--> 207\u001b[0m         name: \u001b[38;5;28;43mself\u001b[39;49m\u001b[38;5;241;43m.\u001b[39;49m\u001b[43m_parse_type\u001b[49m\u001b[43m(\u001b[49m\u001b[43mtyp\u001b[49m\u001b[43m,\u001b[49m\u001b[43m \u001b[49m\u001b[43mnullable\u001b[49m\u001b[43m)\u001b[49m\n\u001b[1;32m    208\u001b[0m         \u001b[38;5;28;01mfor\u001b[39;00m name, (typ, nullable) \u001b[38;5;129;01min\u001b[39;00m table_info\u001b[38;5;241m.\u001b[39mitems()\n\u001b[1;32m    209\u001b[0m     }\n\u001b[1;32m    210\u001b[0m )\n",
      "File \u001b[0;32m~/TheBridge/FEB24 -BIL  DS PT/TheBridge_DSPT/.venv/lib/python3.11/site-packages/ibis/backends/sqlite/__init__.py:170\u001b[0m, in \u001b[0;36mBackend._parse_type\u001b[0;34m(self, typ, nullable)\u001b[0m\n\u001b[1;32m    168\u001b[0m     out \u001b[38;5;241m=\u001b[39m \u001b[38;5;28mself\u001b[39m\u001b[38;5;241m.\u001b[39m_type_map[typ]\n\u001b[1;32m    169\u001b[0m \u001b[38;5;28;01mexcept\u001b[39;00m \u001b[38;5;167;01mKeyError\u001b[39;00m:\n\u001b[0;32m--> 170\u001b[0m     \u001b[38;5;28;01mreturn\u001b[39;00m \u001b[38;5;28;43mself\u001b[39;49m\u001b[38;5;241;43m.\u001b[39;49m\u001b[43mcompiler\u001b[49m\u001b[38;5;241;43m.\u001b[39;49m\u001b[43mtype_mapper\u001b[49m\u001b[38;5;241;43m.\u001b[39;49m\u001b[43mfrom_string\u001b[49m\u001b[43m(\u001b[49m\u001b[43mtyp\u001b[49m\u001b[43m,\u001b[49m\u001b[43m \u001b[49m\u001b[43mnullable\u001b[49m\u001b[38;5;241;43m=\u001b[39;49m\u001b[43mnullable\u001b[49m\u001b[43m)\u001b[49m\n\u001b[1;32m    171\u001b[0m \u001b[38;5;28;01melse\u001b[39;00m:\n\u001b[1;32m    172\u001b[0m     \u001b[38;5;28;01mreturn\u001b[39;00m out\u001b[38;5;241m.\u001b[39mcopy(nullable\u001b[38;5;241m=\u001b[39mnullable)\n",
      "File \u001b[0;32m~/TheBridge/FEB24 -BIL  DS PT/TheBridge_DSPT/.venv/lib/python3.11/site-packages/ibis/backends/sql/datatypes.py:196\u001b[0m, in \u001b[0;36mSqlglotType.from_string\u001b[0;34m(cls, text, nullable)\u001b[0m\n\u001b[1;32m    193\u001b[0m     \u001b[38;5;28;01mreturn\u001b[39;00m dtype\n\u001b[1;32m    195\u001b[0m sgtype \u001b[38;5;241m=\u001b[39m sg\u001b[38;5;241m.\u001b[39mparse_one(text, into\u001b[38;5;241m=\u001b[39msge\u001b[38;5;241m.\u001b[39mDataType, read\u001b[38;5;241m=\u001b[39m\u001b[38;5;28mcls\u001b[39m\u001b[38;5;241m.\u001b[39mdialect)\n\u001b[0;32m--> 196\u001b[0m \u001b[38;5;28;01mreturn\u001b[39;00m \u001b[38;5;28;43mcls\u001b[39;49m\u001b[38;5;241;43m.\u001b[39;49m\u001b[43mto_ibis\u001b[49m\u001b[43m(\u001b[49m\u001b[43msgtype\u001b[49m\u001b[43m,\u001b[49m\u001b[43m \u001b[49m\u001b[43mnullable\u001b[49m\u001b[38;5;241;43m=\u001b[39;49m\u001b[43mnullable\u001b[49m\u001b[43m)\u001b[49m\n",
      "File \u001b[0;32m~/TheBridge/FEB24 -BIL  DS PT/TheBridge_DSPT/.venv/lib/python3.11/site-packages/ibis/backends/sql/datatypes.py:174\u001b[0m, in \u001b[0;36mSqlglotType.to_ibis\u001b[0;34m(cls, typ, nullable)\u001b[0m\n\u001b[1;32m    172\u001b[0m     dtype \u001b[38;5;241m=\u001b[39m method(\u001b[38;5;241m*\u001b[39mtyp\u001b[38;5;241m.\u001b[39mexpressions)\n\u001b[1;32m    173\u001b[0m \u001b[38;5;28;01melse\u001b[39;00m:\n\u001b[0;32m--> 174\u001b[0m     dtype \u001b[38;5;241m=\u001b[39m \u001b[43m_from_sqlglot_types\u001b[49m\u001b[43m[\u001b[49m\u001b[43mtypecode\u001b[49m\u001b[43m]\u001b[49m(nullable\u001b[38;5;241m=\u001b[39m\u001b[38;5;28mcls\u001b[39m\u001b[38;5;241m.\u001b[39mdefault_nullable)\n\u001b[1;32m    176\u001b[0m \u001b[38;5;28;01mif\u001b[39;00m nullable \u001b[38;5;129;01mis\u001b[39;00m \u001b[38;5;129;01mnot\u001b[39;00m \u001b[38;5;28;01mNone\u001b[39;00m:\n\u001b[1;32m    177\u001b[0m     \u001b[38;5;28;01mreturn\u001b[39;00m dtype\u001b[38;5;241m.\u001b[39mcopy(nullable\u001b[38;5;241m=\u001b[39mnullable)\n",
      "\u001b[0;31mKeyError\u001b[0m: <Type.DATETIME: 'DATETIME'>"
     ]
    }
   ],
   "source": [
    "con.table(\"Orders\")"
   ]
  },
  {
   "cell_type": "code",
   "execution_count": 133,
   "metadata": {},
   "outputs": [
    {
     "data": {
      "text/html": [
       "<pre style=\"white-space:pre;overflow-x:auto;line-height:normal;font-family:Menlo,'DejaVu Sans Mono',consolas,'Courier New',monospace\">SQLQueryResult\n",
       "  query:\n",
       "    SELECT CAST(OrderDate as Text), OrderID FROM Orders\n",
       "  schema:\n",
       "    CAST(OrderDate as Text) string\n",
       "    OrderID                 int64\n",
       "</pre>\n"
      ],
      "text/plain": [
       "SQLQueryResult\n",
       "  query:\n",
       "    SELECT CAST(OrderDate as Text), OrderID FROM Orders\n",
       "  schema:\n",
       "    CAST(OrderDate as Text) string\n",
       "    OrderID                 int64"
      ]
     },
     "execution_count": 133,
     "metadata": {},
     "output_type": "execute_result"
    }
   ],
   "source": [
    "orders = con.sql(\"SELECT CAST(OrderDate as Text), OrderID FROM Orders\")\n",
    "orders"
   ]
  },
  {
   "cell_type": "code",
   "execution_count": 134,
   "metadata": {},
   "outputs": [
    {
     "data": {
      "text/html": [
       "<div>\n",
       "<style scoped>\n",
       "    .dataframe tbody tr th:only-of-type {\n",
       "        vertical-align: middle;\n",
       "    }\n",
       "\n",
       "    .dataframe tbody tr th {\n",
       "        vertical-align: top;\n",
       "    }\n",
       "\n",
       "    .dataframe thead th {\n",
       "        text-align: right;\n",
       "    }\n",
       "</style>\n",
       "<table border=\"1\" class=\"dataframe\">\n",
       "  <thead>\n",
       "    <tr style=\"text-align: right;\">\n",
       "      <th></th>\n",
       "      <th>CAST(OrderDate as Text)</th>\n",
       "      <th>OrderID</th>\n",
       "    </tr>\n",
       "  </thead>\n",
       "  <tbody>\n",
       "    <tr>\n",
       "      <th>0</th>\n",
       "      <td>2016-07-04</td>\n",
       "      <td>10248</td>\n",
       "    </tr>\n",
       "    <tr>\n",
       "      <th>1</th>\n",
       "      <td>2016-07-05</td>\n",
       "      <td>10249</td>\n",
       "    </tr>\n",
       "    <tr>\n",
       "      <th>2</th>\n",
       "      <td>2016-07-08</td>\n",
       "      <td>10250</td>\n",
       "    </tr>\n",
       "    <tr>\n",
       "      <th>3</th>\n",
       "      <td>2016-07-08</td>\n",
       "      <td>10251</td>\n",
       "    </tr>\n",
       "  </tbody>\n",
       "</table>\n",
       "</div>"
      ],
      "text/plain": [
       "  CAST(OrderDate as Text)  OrderID\n",
       "0              2016-07-04    10248\n",
       "1              2016-07-05    10249\n",
       "2              2016-07-08    10250\n",
       "3              2016-07-08    10251"
      ]
     },
     "execution_count": 134,
     "metadata": {},
     "output_type": "execute_result"
    }
   ],
   "source": [
    "orders.head(4).to_pandas()"
   ]
  },
  {
   "cell_type": "code",
   "execution_count": 135,
   "metadata": {},
   "outputs": [],
   "source": [
    "order_details = con.table(\"Order Details\")"
   ]
  },
  {
   "cell_type": "code",
   "execution_count": 168,
   "metadata": {},
   "outputs": [
    {
     "data": {
      "text/markdown": [
       "```sql\n",
       "SELECT\n",
       "  \"t4\".\"CAST(OrderDate as Text)\",\n",
       "  \"t4\".\"OrderID\",\n",
       "  \"t5\".\"ProductID\",\n",
       "  \"t5\".\"UnitPrice\",\n",
       "  \"t5\".\"Quantity\",\n",
       "  \"t5\".\"Discount\",\n",
       "  \"t6\".\"ProductName\",\n",
       "  \"t6\".\"SupplierID\",\n",
       "  \"t6\".\"CategoryID\",\n",
       "  \"t6\".\"QuantityPerUnit\",\n",
       "  \"t6\".\"UnitPrice\" AS \"UnitPrice_right\",\n",
       "  \"t6\".\"UnitsInStock\",\n",
       "  \"t6\".\"UnitsOnOrder\",\n",
       "  \"t6\".\"ReorderLevel\",\n",
       "  \"t6\".\"Discontinued\",\n",
       "  \"t7\".\"CategoryName\",\n",
       "  \"t7\".\"Description\",\n",
       "  \"t7\".\"Picture\"\n",
       "FROM (\n",
       "  SELECT\n",
       "    CAST(OrderDate AS TEXT),\n",
       "    OrderID\n",
       "  FROM Orders\n",
       ") AS \"t4\"\n",
       "INNER JOIN \"Order Details\" AS \"t5\"\n",
       "  ON \"t4\".\"OrderID\" = \"t5\".\"OrderID\"\n",
       "INNER JOIN \"Products\" AS \"t6\"\n",
       "  ON \"t5\".\"ProductID\" = \"t6\".\"ProductID\"\n",
       "INNER JOIN \"Categories\" AS \"t7\"\n",
       "  ON \"t6\".\"CategoryID\" = \"t7\".\"CategoryID\"\n",
       "```"
      ],
      "text/plain": [
       "\u001b[34mSELECT\u001b[39;49;00m\u001b[37m\u001b[39;49;00m\n",
       "\u001b[37m  \u001b[39;49;00m\u001b[33m\"t4\"\u001b[39;49;00m.\u001b[33m\"CAST(OrderDate as Text)\"\u001b[39;49;00m,\u001b[37m\u001b[39;49;00m\n",
       "\u001b[37m  \u001b[39;49;00m\u001b[33m\"t4\"\u001b[39;49;00m.\u001b[33m\"OrderID\"\u001b[39;49;00m,\u001b[37m\u001b[39;49;00m\n",
       "\u001b[37m  \u001b[39;49;00m\u001b[33m\"t5\"\u001b[39;49;00m.\u001b[33m\"ProductID\"\u001b[39;49;00m,\u001b[37m\u001b[39;49;00m\n",
       "\u001b[37m  \u001b[39;49;00m\u001b[33m\"t5\"\u001b[39;49;00m.\u001b[33m\"UnitPrice\"\u001b[39;49;00m,\u001b[37m\u001b[39;49;00m\n",
       "\u001b[37m  \u001b[39;49;00m\u001b[33m\"t5\"\u001b[39;49;00m.\u001b[33m\"Quantity\"\u001b[39;49;00m,\u001b[37m\u001b[39;49;00m\n",
       "\u001b[37m  \u001b[39;49;00m\u001b[33m\"t5\"\u001b[39;49;00m.\u001b[33m\"Discount\"\u001b[39;49;00m,\u001b[37m\u001b[39;49;00m\n",
       "\u001b[37m  \u001b[39;49;00m\u001b[33m\"t6\"\u001b[39;49;00m.\u001b[33m\"ProductName\"\u001b[39;49;00m,\u001b[37m\u001b[39;49;00m\n",
       "\u001b[37m  \u001b[39;49;00m\u001b[33m\"t6\"\u001b[39;49;00m.\u001b[33m\"SupplierID\"\u001b[39;49;00m,\u001b[37m\u001b[39;49;00m\n",
       "\u001b[37m  \u001b[39;49;00m\u001b[33m\"t6\"\u001b[39;49;00m.\u001b[33m\"CategoryID\"\u001b[39;49;00m,\u001b[37m\u001b[39;49;00m\n",
       "\u001b[37m  \u001b[39;49;00m\u001b[33m\"t6\"\u001b[39;49;00m.\u001b[33m\"QuantityPerUnit\"\u001b[39;49;00m,\u001b[37m\u001b[39;49;00m\n",
       "\u001b[37m  \u001b[39;49;00m\u001b[33m\"t6\"\u001b[39;49;00m.\u001b[33m\"UnitPrice\"\u001b[39;49;00m\u001b[37m \u001b[39;49;00m\u001b[34mAS\u001b[39;49;00m\u001b[37m \u001b[39;49;00m\u001b[33m\"UnitPrice_right\"\u001b[39;49;00m,\u001b[37m\u001b[39;49;00m\n",
       "\u001b[37m  \u001b[39;49;00m\u001b[33m\"t6\"\u001b[39;49;00m.\u001b[33m\"UnitsInStock\"\u001b[39;49;00m,\u001b[37m\u001b[39;49;00m\n",
       "\u001b[37m  \u001b[39;49;00m\u001b[33m\"t6\"\u001b[39;49;00m.\u001b[33m\"UnitsOnOrder\"\u001b[39;49;00m,\u001b[37m\u001b[39;49;00m\n",
       "\u001b[37m  \u001b[39;49;00m\u001b[33m\"t6\"\u001b[39;49;00m.\u001b[33m\"ReorderLevel\"\u001b[39;49;00m,\u001b[37m\u001b[39;49;00m\n",
       "\u001b[37m  \u001b[39;49;00m\u001b[33m\"t6\"\u001b[39;49;00m.\u001b[33m\"Discontinued\"\u001b[39;49;00m,\u001b[37m\u001b[39;49;00m\n",
       "\u001b[37m  \u001b[39;49;00m\u001b[33m\"t7\"\u001b[39;49;00m.\u001b[33m\"CategoryName\"\u001b[39;49;00m,\u001b[37m\u001b[39;49;00m\n",
       "\u001b[37m  \u001b[39;49;00m\u001b[33m\"t7\"\u001b[39;49;00m.\u001b[33m\"Description\"\u001b[39;49;00m,\u001b[37m\u001b[39;49;00m\n",
       "\u001b[37m  \u001b[39;49;00m\u001b[33m\"t7\"\u001b[39;49;00m.\u001b[33m\"Picture\"\u001b[39;49;00m\u001b[37m\u001b[39;49;00m\n",
       "\u001b[34mFROM\u001b[39;49;00m\u001b[37m \u001b[39;49;00m(\u001b[37m\u001b[39;49;00m\n",
       "\u001b[37m  \u001b[39;49;00m\u001b[34mSELECT\u001b[39;49;00m\u001b[37m\u001b[39;49;00m\n",
       "\u001b[37m    \u001b[39;49;00m\u001b[34mCAST\u001b[39;49;00m(OrderDate\u001b[37m \u001b[39;49;00m\u001b[34mAS\u001b[39;49;00m\u001b[37m \u001b[39;49;00m\u001b[36mTEXT\u001b[39;49;00m),\u001b[37m\u001b[39;49;00m\n",
       "\u001b[37m    \u001b[39;49;00mOrderID\u001b[37m\u001b[39;49;00m\n",
       "\u001b[37m  \u001b[39;49;00m\u001b[34mFROM\u001b[39;49;00m\u001b[37m \u001b[39;49;00mOrders\u001b[37m\u001b[39;49;00m\n",
       ")\u001b[37m \u001b[39;49;00m\u001b[34mAS\u001b[39;49;00m\u001b[37m \u001b[39;49;00m\u001b[33m\"t4\"\u001b[39;49;00m\u001b[37m\u001b[39;49;00m\n",
       "\u001b[34mINNER\u001b[39;49;00m\u001b[37m \u001b[39;49;00m\u001b[34mJOIN\u001b[39;49;00m\u001b[37m \u001b[39;49;00m\u001b[33m\"Order Details\"\u001b[39;49;00m\u001b[37m \u001b[39;49;00m\u001b[34mAS\u001b[39;49;00m\u001b[37m \u001b[39;49;00m\u001b[33m\"t5\"\u001b[39;49;00m\u001b[37m\u001b[39;49;00m\n",
       "\u001b[37m  \u001b[39;49;00m\u001b[34mON\u001b[39;49;00m\u001b[37m \u001b[39;49;00m\u001b[33m\"t4\"\u001b[39;49;00m.\u001b[33m\"OrderID\"\u001b[39;49;00m\u001b[37m \u001b[39;49;00m=\u001b[37m \u001b[39;49;00m\u001b[33m\"t5\"\u001b[39;49;00m.\u001b[33m\"OrderID\"\u001b[39;49;00m\u001b[37m\u001b[39;49;00m\n",
       "\u001b[34mINNER\u001b[39;49;00m\u001b[37m \u001b[39;49;00m\u001b[34mJOIN\u001b[39;49;00m\u001b[37m \u001b[39;49;00m\u001b[33m\"Products\"\u001b[39;49;00m\u001b[37m \u001b[39;49;00m\u001b[34mAS\u001b[39;49;00m\u001b[37m \u001b[39;49;00m\u001b[33m\"t6\"\u001b[39;49;00m\u001b[37m\u001b[39;49;00m\n",
       "\u001b[37m  \u001b[39;49;00m\u001b[34mON\u001b[39;49;00m\u001b[37m \u001b[39;49;00m\u001b[33m\"t5\"\u001b[39;49;00m.\u001b[33m\"ProductID\"\u001b[39;49;00m\u001b[37m \u001b[39;49;00m=\u001b[37m \u001b[39;49;00m\u001b[33m\"t6\"\u001b[39;49;00m.\u001b[33m\"ProductID\"\u001b[39;49;00m\u001b[37m\u001b[39;49;00m\n",
       "\u001b[34mINNER\u001b[39;49;00m\u001b[37m \u001b[39;49;00m\u001b[34mJOIN\u001b[39;49;00m\u001b[37m \u001b[39;49;00m\u001b[33m\"Categories\"\u001b[39;49;00m\u001b[37m \u001b[39;49;00m\u001b[34mAS\u001b[39;49;00m\u001b[37m \u001b[39;49;00m\u001b[33m\"t7\"\u001b[39;49;00m\u001b[37m\u001b[39;49;00m\n",
       "\u001b[37m  \u001b[39;49;00m\u001b[34mON\u001b[39;49;00m\u001b[37m \u001b[39;49;00m\u001b[33m\"t6\"\u001b[39;49;00m.\u001b[33m\"CategoryID\"\u001b[39;49;00m\u001b[37m \u001b[39;49;00m=\u001b[37m \u001b[39;49;00m\u001b[33m\"t7\"\u001b[39;49;00m.\u001b[33m\"CategoryID\"\u001b[39;49;00m\u001b[37m\u001b[39;49;00m"
      ]
     },
     "execution_count": 168,
     "metadata": {},
     "output_type": "execute_result"
    }
   ],
   "source": [
    "p_o_details = orders.join(order_details, [\"OrderID\"], how=\"inner\").join(products, [\"ProductID\"]).join(categories, [\"CategoryID\"])\n",
    "ibis.to_sql(p_o_details)"
   ]
  },
  {
   "cell_type": "code",
   "execution_count": 150,
   "metadata": {},
   "outputs": [
    {
     "data": {
      "text/html": [
       "<pre style=\"white-space:pre;overflow-x:auto;line-height:normal;font-family:Menlo,'DejaVu Sans Mono',consolas,'Courier New',monospace\">r0 := SQLQueryResult\n",
       "  query:\n",
       "    SELECT CAST(OrderDate as Text), OrderID FROM Orders\n",
       "  schema:\n",
       "    CAST(OrderDate as Text) string\n",
       "    OrderID                 int64\n",
       "\n",
       "r1 := DatabaseTable: Order Details\n",
       "  OrderID   !int64\n",
       "  ProductID !int64\n",
       "  UnitPrice !decimal\n",
       "  Quantity  !int64\n",
       "  Discount  !float64\n",
       "\n",
       "r2 := DatabaseTable: Products\n",
       "  ProductID       !int64\n",
       "  ProductName     !string\n",
       "  SupplierID      int64\n",
       "  CategoryID      int64\n",
       "  QuantityPerUnit string\n",
       "  UnitPrice       decimal\n",
       "  UnitsInStock    int64\n",
       "  UnitsOnOrder    int64\n",
       "  ReorderLevel    int64\n",
       "  Discontinued    !string\n",
       "\n",
       "r3 := DatabaseTable: Categories\n",
       "  CategoryID   int64\n",
       "  CategoryName string\n",
       "  Description  string\n",
       "  Picture      binary\n",
       "\n",
       "r4 := JoinChain[r0]\n",
       "  JoinLink[inner, r1]\n",
       "    r0.OrderID == r1.OrderID\n",
       "  JoinLink[inner, r2]\n",
       "    r1.ProductID == r2.ProductID\n",
       "  JoinLink[inner, r3]\n",
       "    r2.CategoryID == r3.CategoryID\n",
       "  values:\n",
       "    CAST(OrderDate as Text): r0['CAST(OrderDate as Text)']\n",
       "    OrderID:                 r0.OrderID\n",
       "    ProductID:               r1.ProductID\n",
       "    UnitPrice:               r1.UnitPrice\n",
       "    Quantity:                r1.Quantity\n",
       "    Discount:                r1.Discount\n",
       "    ProductName:             r2.ProductName\n",
       "    SupplierID:              r2.SupplierID\n",
       "    CategoryID:              r2.CategoryID\n",
       "    QuantityPerUnit:         r2.QuantityPerUnit\n",
       "    UnitPrice_right:         r2.UnitPrice\n",
       "    UnitsInStock:            r2.UnitsInStock\n",
       "    UnitsOnOrder:            r2.UnitsOnOrder\n",
       "    ReorderLevel:            r2.ReorderLevel\n",
       "    Discontinued:            r2.Discontinued\n",
       "    CategoryName:            r3.CategoryName\n",
       "    Description:             r3.Description\n",
       "    Picture:                 r3.Picture\n",
       "\n",
       "r5 := Aggregate[r4]\n",
       "  groups:\n",
       "    CategoryName: r4.CategoryName\n",
       "    ProductName:  r4.ProductName\n",
       "  metrics:\n",
       "    num_orders: Count(r4.OrderID)\n",
       "    price:      Sum(r4.Quantity * r4.UnitPrice * 1 - r4.Discount)\n",
       "\n",
       "Sort[r5]\n",
       "  desc r5.num_orders\n",
       "  desc r5.price\n",
       "</pre>\n"
      ],
      "text/plain": [
       "r0 := SQLQueryResult\n",
       "  query:\n",
       "    SELECT CAST(OrderDate as Text), OrderID FROM Orders\n",
       "  schema:\n",
       "    CAST(OrderDate as Text) string\n",
       "    OrderID                 int64\n",
       "\n",
       "r1 := DatabaseTable: Order Details\n",
       "  OrderID   !int64\n",
       "  ProductID !int64\n",
       "  UnitPrice !decimal\n",
       "  Quantity  !int64\n",
       "  Discount  !float64\n",
       "\n",
       "r2 := DatabaseTable: Products\n",
       "  ProductID       !int64\n",
       "  ProductName     !string\n",
       "  SupplierID      int64\n",
       "  CategoryID      int64\n",
       "  QuantityPerUnit string\n",
       "  UnitPrice       decimal\n",
       "  UnitsInStock    int64\n",
       "  UnitsOnOrder    int64\n",
       "  ReorderLevel    int64\n",
       "  Discontinued    !string\n",
       "\n",
       "r3 := DatabaseTable: Categories\n",
       "  CategoryID   int64\n",
       "  CategoryName string\n",
       "  Description  string\n",
       "  Picture      binary\n",
       "\n",
       "r4 := JoinChain[r0]\n",
       "  JoinLink[inner, r1]\n",
       "    r0.OrderID == r1.OrderID\n",
       "  JoinLink[inner, r2]\n",
       "    r1.ProductID == r2.ProductID\n",
       "  JoinLink[inner, r3]\n",
       "    r2.CategoryID == r3.CategoryID\n",
       "  values:\n",
       "    CAST(OrderDate as Text): r0['CAST(OrderDate as Text)']\n",
       "    OrderID:                 r0.OrderID\n",
       "    ProductID:               r1.ProductID\n",
       "    UnitPrice:               r1.UnitPrice\n",
       "    Quantity:                r1.Quantity\n",
       "    Discount:                r1.Discount\n",
       "    ProductName:             r2.ProductName\n",
       "    SupplierID:              r2.SupplierID\n",
       "    CategoryID:              r2.CategoryID\n",
       "    QuantityPerUnit:         r2.QuantityPerUnit\n",
       "    UnitPrice_right:         r2.UnitPrice\n",
       "    UnitsInStock:            r2.UnitsInStock\n",
       "    UnitsOnOrder:            r2.UnitsOnOrder\n",
       "    ReorderLevel:            r2.ReorderLevel\n",
       "    Discontinued:            r2.Discontinued\n",
       "    CategoryName:            r3.CategoryName\n",
       "    Description:             r3.Description\n",
       "    Picture:                 r3.Picture\n",
       "\n",
       "r5 := Aggregate[r4]\n",
       "  groups:\n",
       "    CategoryName: r4.CategoryName\n",
       "    ProductName:  r4.ProductName\n",
       "  metrics:\n",
       "    num_orders: Count(r4.OrderID)\n",
       "    price:      Sum(r4.Quantity * r4.UnitPrice * 1 - r4.Discount)\n",
       "\n",
       "Sort[r5]\n",
       "  desc r5.num_orders\n",
       "  desc r5.price"
      ]
     },
     "execution_count": 150,
     "metadata": {},
     "output_type": "execute_result"
    }
   ],
   "source": [
    "p_o_details_agg = p_o_details.group_by([\"CategoryName\",\"ProductName\"]).aggregate(\n",
    "    num_orders=p_o_details[\"OrderID\"].count(), \n",
    "    price=(p_o_details[\"Quantity\"]*p_o_details[\"UnitPrice\"]*(1-p_o_details[\"Discount\"])).sum())\n",
    "p_o_details_agg = p_o_details_agg.order_by(p_o_details_agg[\"num_orders\"].desc(), p_o_details_agg[\"price\"].desc())\n",
    "p_o_details_agg"
   ]
  },
  {
   "cell_type": "code",
   "execution_count": 151,
   "metadata": {},
   "outputs": [
    {
     "data": {
      "text/html": [
       "<div>\n",
       "<style scoped>\n",
       "    .dataframe tbody tr th:only-of-type {\n",
       "        vertical-align: middle;\n",
       "    }\n",
       "\n",
       "    .dataframe tbody tr th {\n",
       "        vertical-align: top;\n",
       "    }\n",
       "\n",
       "    .dataframe thead th {\n",
       "        text-align: right;\n",
       "    }\n",
       "</style>\n",
       "<table border=\"1\" class=\"dataframe\">\n",
       "  <thead>\n",
       "    <tr style=\"text-align: right;\">\n",
       "      <th></th>\n",
       "      <th>CategoryName</th>\n",
       "      <th>ProductName</th>\n",
       "      <th>num_orders</th>\n",
       "      <th>price</th>\n",
       "    </tr>\n",
       "  </thead>\n",
       "  <tbody>\n",
       "    <tr>\n",
       "      <th>0</th>\n",
       "      <td>Condiments</td>\n",
       "      <td>Louisiana Hot Spiced Okra</td>\n",
       "      <td>8040</td>\n",
       "      <td>3504941</td>\n",
       "    </tr>\n",
       "    <tr>\n",
       "      <th>1</th>\n",
       "      <td>Confections</td>\n",
       "      <td>Teatime Chocolate Biscuits</td>\n",
       "      <td>8024</td>\n",
       "      <td>1889691.4200000037</td>\n",
       "    </tr>\n",
       "    <tr>\n",
       "      <th>2</th>\n",
       "      <td>Beverages</td>\n",
       "      <td>Outback Lager</td>\n",
       "      <td>8020</td>\n",
       "      <td>3064462.65</td>\n",
       "    </tr>\n",
       "    <tr>\n",
       "      <th>3</th>\n",
       "      <td>Confections</td>\n",
       "      <td>Sir Rodney's Marmalade</td>\n",
       "      <td>7999</td>\n",
       "      <td>16653807.36</td>\n",
       "    </tr>\n",
       "    <tr>\n",
       "      <th>4</th>\n",
       "      <td>Confections</td>\n",
       "      <td>Gumbär Gummibärchen</td>\n",
       "      <td>7999</td>\n",
       "      <td>6391018.984499998</td>\n",
       "    </tr>\n",
       "    <tr>\n",
       "      <th>...</th>\n",
       "      <td>...</td>\n",
       "      <td>...</td>\n",
       "      <td>...</td>\n",
       "      <td>...</td>\n",
       "    </tr>\n",
       "    <tr>\n",
       "      <th>72</th>\n",
       "      <td>Produce</td>\n",
       "      <td>Tofu</td>\n",
       "      <td>7834</td>\n",
       "      <td>4644738.99</td>\n",
       "    </tr>\n",
       "    <tr>\n",
       "      <th>73</th>\n",
       "      <td>Confections</td>\n",
       "      <td>Scottish Longbreads</td>\n",
       "      <td>7818</td>\n",
       "      <td>2528089</td>\n",
       "    </tr>\n",
       "    <tr>\n",
       "      <th>74</th>\n",
       "      <td>Meat/Poultry</td>\n",
       "      <td>Perth Pasties</td>\n",
       "      <td>7817</td>\n",
       "      <td>6561681.369999989</td>\n",
       "    </tr>\n",
       "    <tr>\n",
       "      <th>75</th>\n",
       "      <td>Dairy Products</td>\n",
       "      <td>Mascarpone Fabioli</td>\n",
       "      <td>7817</td>\n",
       "      <td>6381012.16</td>\n",
       "    </tr>\n",
       "    <tr>\n",
       "      <th>76</th>\n",
       "      <td>Confections</td>\n",
       "      <td>Zaanse koeken</td>\n",
       "      <td>7785</td>\n",
       "      <td>1879296.08</td>\n",
       "    </tr>\n",
       "  </tbody>\n",
       "</table>\n",
       "<p>77 rows × 4 columns</p>\n",
       "</div>"
      ],
      "text/plain": [
       "      CategoryName                 ProductName  num_orders               price\n",
       "0       Condiments   Louisiana Hot Spiced Okra        8040             3504941\n",
       "1      Confections  Teatime Chocolate Biscuits        8024  1889691.4200000037\n",
       "2        Beverages               Outback Lager        8020          3064462.65\n",
       "3      Confections      Sir Rodney's Marmalade        7999         16653807.36\n",
       "4      Confections         Gumbär Gummibärchen        7999   6391018.984499998\n",
       "..             ...                         ...         ...                 ...\n",
       "72         Produce                        Tofu        7834          4644738.99\n",
       "73     Confections         Scottish Longbreads        7818             2528089\n",
       "74    Meat/Poultry               Perth Pasties        7817   6561681.369999989\n",
       "75  Dairy Products          Mascarpone Fabioli        7817          6381012.16\n",
       "76     Confections               Zaanse koeken        7785          1879296.08\n",
       "\n",
       "[77 rows x 4 columns]"
      ]
     },
     "execution_count": 151,
     "metadata": {},
     "output_type": "execute_result"
    }
   ],
   "source": [
    "p_o_details_agg.to_pandas()"
   ]
  },
  {
   "cell_type": "code",
   "execution_count": 164,
   "metadata": {},
   "outputs": [
    {
     "data": {
      "text/html": [
       "<div>\n",
       "<style scoped>\n",
       "    .dataframe tbody tr th:only-of-type {\n",
       "        vertical-align: middle;\n",
       "    }\n",
       "\n",
       "    .dataframe tbody tr th {\n",
       "        vertical-align: top;\n",
       "    }\n",
       "\n",
       "    .dataframe thead th {\n",
       "        text-align: right;\n",
       "    }\n",
       "</style>\n",
       "<table border=\"1\" class=\"dataframe\">\n",
       "  <thead>\n",
       "    <tr style=\"text-align: right;\">\n",
       "      <th></th>\n",
       "      <th>CategoryName</th>\n",
       "      <th>total_price</th>\n",
       "    </tr>\n",
       "  </thead>\n",
       "  <tbody>\n",
       "    <tr>\n",
       "      <th>0</th>\n",
       "      <td>Beverages</td>\n",
       "      <td>92163184.17999999</td>\n",
       "    </tr>\n",
       "    <tr>\n",
       "      <th>1</th>\n",
       "      <td>Confections</td>\n",
       "      <td>66337803.06499998</td>\n",
       "    </tr>\n",
       "    <tr>\n",
       "      <th>2</th>\n",
       "      <td>Meat/Poultry</td>\n",
       "      <td>64881147.969499916</td>\n",
       "    </tr>\n",
       "    <tr>\n",
       "      <th>3</th>\n",
       "      <td>Dairy Products</td>\n",
       "      <td>58018116.78500001</td>\n",
       "    </tr>\n",
       "    <tr>\n",
       "      <th>4</th>\n",
       "      <td>Condiments</td>\n",
       "      <td>55795126.78499997</td>\n",
       "    </tr>\n",
       "    <tr>\n",
       "      <th>5</th>\n",
       "      <td>Seafood</td>\n",
       "      <td>49921604.16749999</td>\n",
       "    </tr>\n",
       "    <tr>\n",
       "      <th>6</th>\n",
       "      <td>Produce</td>\n",
       "      <td>32701119.88000001</td>\n",
       "    </tr>\n",
       "    <tr>\n",
       "      <th>7</th>\n",
       "      <td>Grains/Cereals</td>\n",
       "      <td>28568530.3375</td>\n",
       "    </tr>\n",
       "  </tbody>\n",
       "</table>\n",
       "</div>"
      ],
      "text/plain": [
       "     CategoryName         total_price\n",
       "0       Beverages   92163184.17999999\n",
       "1     Confections   66337803.06499998\n",
       "2    Meat/Poultry  64881147.969499916\n",
       "3  Dairy Products   58018116.78500001\n",
       "4      Condiments   55795126.78499997\n",
       "5         Seafood   49921604.16749999\n",
       "6         Produce   32701119.88000001\n",
       "7  Grains/Cereals       28568530.3375"
      ]
     },
     "execution_count": 164,
     "metadata": {},
     "output_type": "execute_result"
    }
   ],
   "source": [
    "consulta= p_o_details_agg.group_by(\"CategoryName\").aggregate(total_price=p_o_details_agg[\"price\"].sum()).order_by(ibis.desc(\"total_price\"))\n",
    "consulta.to_pandas()"
   ]
  },
  {
   "cell_type": "code",
   "execution_count": 167,
   "metadata": {},
   "outputs": [
    {
     "data": {
      "text/markdown": [
       "```sql\n",
       "SELECT\n",
       "  *\n",
       "FROM (\n",
       "  SELECT\n",
       "    \"t10\".\"CategoryName\",\n",
       "    SUM(\"t10\".\"price\") AS \"total_price\"\n",
       "  FROM (\n",
       "    SELECT\n",
       "      *\n",
       "    FROM (\n",
       "      SELECT\n",
       "        \"t8\".\"CategoryName\",\n",
       "        \"t8\".\"ProductName\",\n",
       "        COUNT(\"t8\".\"OrderID\") AS \"num_orders\",\n",
       "        SUM((\n",
       "          \"t8\".\"Quantity\" * \"t8\".\"UnitPrice\"\n",
       "        ) * (\n",
       "          1 - \"t8\".\"Discount\"\n",
       "        )) AS \"price\"\n",
       "      FROM (\n",
       "        SELECT\n",
       "          \"t4\".\"CAST(OrderDate as Text)\",\n",
       "          \"t4\".\"OrderID\",\n",
       "          \"t5\".\"ProductID\",\n",
       "          \"t5\".\"UnitPrice\",\n",
       "          \"t5\".\"Quantity\",\n",
       "          \"t5\".\"Discount\",\n",
       "          \"t6\".\"ProductName\",\n",
       "          \"t6\".\"SupplierID\",\n",
       "          \"t6\".\"CategoryID\",\n",
       "          \"t6\".\"QuantityPerUnit\",\n",
       "          \"t6\".\"UnitPrice\" AS \"UnitPrice_right\",\n",
       "          \"t6\".\"UnitsInStock\",\n",
       "          \"t6\".\"UnitsOnOrder\",\n",
       "          \"t6\".\"ReorderLevel\",\n",
       "          \"t6\".\"Discontinued\",\n",
       "          \"t7\".\"CategoryName\",\n",
       "          \"t7\".\"Description\",\n",
       "          \"t7\".\"Picture\"\n",
       "        FROM (\n",
       "          SELECT\n",
       "            CAST(OrderDate AS TEXT),\n",
       "            OrderID\n",
       "          FROM Orders\n",
       "        ) AS \"t4\"\n",
       "        INNER JOIN \"Order Details\" AS \"t5\"\n",
       "          ON \"t4\".\"OrderID\" = \"t5\".\"OrderID\"\n",
       "        INNER JOIN \"Products\" AS \"t6\"\n",
       "          ON \"t5\".\"ProductID\" = \"t6\".\"ProductID\"\n",
       "        INNER JOIN \"Categories\" AS \"t7\"\n",
       "          ON \"t6\".\"CategoryID\" = \"t7\".\"CategoryID\"\n",
       "      ) AS \"t8\"\n",
       "      GROUP BY\n",
       "        1,\n",
       "        2\n",
       "    ) AS \"t9\"\n",
       "    ORDER BY\n",
       "      \"t9\".\"num_orders\" DESC,\n",
       "      \"t9\".\"price\" DESC\n",
       "  ) AS \"t10\"\n",
       "  GROUP BY\n",
       "    1\n",
       ") AS \"t11\"\n",
       "ORDER BY\n",
       "  \"t11\".\"total_price\" DESC\n",
       "```"
      ],
      "text/plain": [
       "\u001b[34mSELECT\u001b[39;49;00m\u001b[37m\u001b[39;49;00m\n",
       "\u001b[37m  \u001b[39;49;00m*\u001b[37m\u001b[39;49;00m\n",
       "\u001b[34mFROM\u001b[39;49;00m\u001b[37m \u001b[39;49;00m(\u001b[37m\u001b[39;49;00m\n",
       "\u001b[37m  \u001b[39;49;00m\u001b[34mSELECT\u001b[39;49;00m\u001b[37m\u001b[39;49;00m\n",
       "\u001b[37m    \u001b[39;49;00m\u001b[33m\"t10\"\u001b[39;49;00m.\u001b[33m\"CategoryName\"\u001b[39;49;00m,\u001b[37m\u001b[39;49;00m\n",
       "\u001b[37m    \u001b[39;49;00m\u001b[34mSUM\u001b[39;49;00m(\u001b[33m\"t10\"\u001b[39;49;00m.\u001b[33m\"price\"\u001b[39;49;00m)\u001b[37m \u001b[39;49;00m\u001b[34mAS\u001b[39;49;00m\u001b[37m \u001b[39;49;00m\u001b[33m\"total_price\"\u001b[39;49;00m\u001b[37m\u001b[39;49;00m\n",
       "\u001b[37m  \u001b[39;49;00m\u001b[34mFROM\u001b[39;49;00m\u001b[37m \u001b[39;49;00m(\u001b[37m\u001b[39;49;00m\n",
       "\u001b[37m    \u001b[39;49;00m\u001b[34mSELECT\u001b[39;49;00m\u001b[37m\u001b[39;49;00m\n",
       "\u001b[37m      \u001b[39;49;00m*\u001b[37m\u001b[39;49;00m\n",
       "\u001b[37m    \u001b[39;49;00m\u001b[34mFROM\u001b[39;49;00m\u001b[37m \u001b[39;49;00m(\u001b[37m\u001b[39;49;00m\n",
       "\u001b[37m      \u001b[39;49;00m\u001b[34mSELECT\u001b[39;49;00m\u001b[37m\u001b[39;49;00m\n",
       "\u001b[37m        \u001b[39;49;00m\u001b[33m\"t8\"\u001b[39;49;00m.\u001b[33m\"CategoryName\"\u001b[39;49;00m,\u001b[37m\u001b[39;49;00m\n",
       "\u001b[37m        \u001b[39;49;00m\u001b[33m\"t8\"\u001b[39;49;00m.\u001b[33m\"ProductName\"\u001b[39;49;00m,\u001b[37m\u001b[39;49;00m\n",
       "\u001b[37m        \u001b[39;49;00m\u001b[34mCOUNT\u001b[39;49;00m(\u001b[33m\"t8\"\u001b[39;49;00m.\u001b[33m\"OrderID\"\u001b[39;49;00m)\u001b[37m \u001b[39;49;00m\u001b[34mAS\u001b[39;49;00m\u001b[37m \u001b[39;49;00m\u001b[33m\"num_orders\"\u001b[39;49;00m,\u001b[37m\u001b[39;49;00m\n",
       "\u001b[37m        \u001b[39;49;00m\u001b[34mSUM\u001b[39;49;00m((\u001b[37m\u001b[39;49;00m\n",
       "\u001b[37m          \u001b[39;49;00m\u001b[33m\"t8\"\u001b[39;49;00m.\u001b[33m\"Quantity\"\u001b[39;49;00m\u001b[37m \u001b[39;49;00m*\u001b[37m \u001b[39;49;00m\u001b[33m\"t8\"\u001b[39;49;00m.\u001b[33m\"UnitPrice\"\u001b[39;49;00m\u001b[37m\u001b[39;49;00m\n",
       "\u001b[37m        \u001b[39;49;00m)\u001b[37m \u001b[39;49;00m*\u001b[37m \u001b[39;49;00m(\u001b[37m\u001b[39;49;00m\n",
       "\u001b[37m          \u001b[39;49;00m\u001b[34m1\u001b[39;49;00m\u001b[37m \u001b[39;49;00m-\u001b[37m \u001b[39;49;00m\u001b[33m\"t8\"\u001b[39;49;00m.\u001b[33m\"Discount\"\u001b[39;49;00m\u001b[37m\u001b[39;49;00m\n",
       "\u001b[37m        \u001b[39;49;00m))\u001b[37m \u001b[39;49;00m\u001b[34mAS\u001b[39;49;00m\u001b[37m \u001b[39;49;00m\u001b[33m\"price\"\u001b[39;49;00m\u001b[37m\u001b[39;49;00m\n",
       "\u001b[37m      \u001b[39;49;00m\u001b[34mFROM\u001b[39;49;00m\u001b[37m \u001b[39;49;00m(\u001b[37m\u001b[39;49;00m\n",
       "\u001b[37m        \u001b[39;49;00m\u001b[34mSELECT\u001b[39;49;00m\u001b[37m\u001b[39;49;00m\n",
       "\u001b[37m          \u001b[39;49;00m\u001b[33m\"t4\"\u001b[39;49;00m.\u001b[33m\"CAST(OrderDate as Text)\"\u001b[39;49;00m,\u001b[37m\u001b[39;49;00m\n",
       "\u001b[37m          \u001b[39;49;00m\u001b[33m\"t4\"\u001b[39;49;00m.\u001b[33m\"OrderID\"\u001b[39;49;00m,\u001b[37m\u001b[39;49;00m\n",
       "\u001b[37m          \u001b[39;49;00m\u001b[33m\"t5\"\u001b[39;49;00m.\u001b[33m\"ProductID\"\u001b[39;49;00m,\u001b[37m\u001b[39;49;00m\n",
       "\u001b[37m          \u001b[39;49;00m\u001b[33m\"t5\"\u001b[39;49;00m.\u001b[33m\"UnitPrice\"\u001b[39;49;00m,\u001b[37m\u001b[39;49;00m\n",
       "\u001b[37m          \u001b[39;49;00m\u001b[33m\"t5\"\u001b[39;49;00m.\u001b[33m\"Quantity\"\u001b[39;49;00m,\u001b[37m\u001b[39;49;00m\n",
       "\u001b[37m          \u001b[39;49;00m\u001b[33m\"t5\"\u001b[39;49;00m.\u001b[33m\"Discount\"\u001b[39;49;00m,\u001b[37m\u001b[39;49;00m\n",
       "\u001b[37m          \u001b[39;49;00m\u001b[33m\"t6\"\u001b[39;49;00m.\u001b[33m\"ProductName\"\u001b[39;49;00m,\u001b[37m\u001b[39;49;00m\n",
       "\u001b[37m          \u001b[39;49;00m\u001b[33m\"t6\"\u001b[39;49;00m.\u001b[33m\"SupplierID\"\u001b[39;49;00m,\u001b[37m\u001b[39;49;00m\n",
       "\u001b[37m          \u001b[39;49;00m\u001b[33m\"t6\"\u001b[39;49;00m.\u001b[33m\"CategoryID\"\u001b[39;49;00m,\u001b[37m\u001b[39;49;00m\n",
       "\u001b[37m          \u001b[39;49;00m\u001b[33m\"t6\"\u001b[39;49;00m.\u001b[33m\"QuantityPerUnit\"\u001b[39;49;00m,\u001b[37m\u001b[39;49;00m\n",
       "\u001b[37m          \u001b[39;49;00m\u001b[33m\"t6\"\u001b[39;49;00m.\u001b[33m\"UnitPrice\"\u001b[39;49;00m\u001b[37m \u001b[39;49;00m\u001b[34mAS\u001b[39;49;00m\u001b[37m \u001b[39;49;00m\u001b[33m\"UnitPrice_right\"\u001b[39;49;00m,\u001b[37m\u001b[39;49;00m\n",
       "\u001b[37m          \u001b[39;49;00m\u001b[33m\"t6\"\u001b[39;49;00m.\u001b[33m\"UnitsInStock\"\u001b[39;49;00m,\u001b[37m\u001b[39;49;00m\n",
       "\u001b[37m          \u001b[39;49;00m\u001b[33m\"t6\"\u001b[39;49;00m.\u001b[33m\"UnitsOnOrder\"\u001b[39;49;00m,\u001b[37m\u001b[39;49;00m\n",
       "\u001b[37m          \u001b[39;49;00m\u001b[33m\"t6\"\u001b[39;49;00m.\u001b[33m\"ReorderLevel\"\u001b[39;49;00m,\u001b[37m\u001b[39;49;00m\n",
       "\u001b[37m          \u001b[39;49;00m\u001b[33m\"t6\"\u001b[39;49;00m.\u001b[33m\"Discontinued\"\u001b[39;49;00m,\u001b[37m\u001b[39;49;00m\n",
       "\u001b[37m          \u001b[39;49;00m\u001b[33m\"t7\"\u001b[39;49;00m.\u001b[33m\"CategoryName\"\u001b[39;49;00m,\u001b[37m\u001b[39;49;00m\n",
       "\u001b[37m          \u001b[39;49;00m\u001b[33m\"t7\"\u001b[39;49;00m.\u001b[33m\"Description\"\u001b[39;49;00m,\u001b[37m\u001b[39;49;00m\n",
       "\u001b[37m          \u001b[39;49;00m\u001b[33m\"t7\"\u001b[39;49;00m.\u001b[33m\"Picture\"\u001b[39;49;00m\u001b[37m\u001b[39;49;00m\n",
       "\u001b[37m        \u001b[39;49;00m\u001b[34mFROM\u001b[39;49;00m\u001b[37m \u001b[39;49;00m(\u001b[37m\u001b[39;49;00m\n",
       "\u001b[37m          \u001b[39;49;00m\u001b[34mSELECT\u001b[39;49;00m\u001b[37m\u001b[39;49;00m\n",
       "\u001b[37m            \u001b[39;49;00m\u001b[34mCAST\u001b[39;49;00m(OrderDate\u001b[37m \u001b[39;49;00m\u001b[34mAS\u001b[39;49;00m\u001b[37m \u001b[39;49;00m\u001b[36mTEXT\u001b[39;49;00m),\u001b[37m\u001b[39;49;00m\n",
       "\u001b[37m            \u001b[39;49;00mOrderID\u001b[37m\u001b[39;49;00m\n",
       "\u001b[37m          \u001b[39;49;00m\u001b[34mFROM\u001b[39;49;00m\u001b[37m \u001b[39;49;00mOrders\u001b[37m\u001b[39;49;00m\n",
       "\u001b[37m        \u001b[39;49;00m)\u001b[37m \u001b[39;49;00m\u001b[34mAS\u001b[39;49;00m\u001b[37m \u001b[39;49;00m\u001b[33m\"t4\"\u001b[39;49;00m\u001b[37m\u001b[39;49;00m\n",
       "\u001b[37m        \u001b[39;49;00m\u001b[34mINNER\u001b[39;49;00m\u001b[37m \u001b[39;49;00m\u001b[34mJOIN\u001b[39;49;00m\u001b[37m \u001b[39;49;00m\u001b[33m\"Order Details\"\u001b[39;49;00m\u001b[37m \u001b[39;49;00m\u001b[34mAS\u001b[39;49;00m\u001b[37m \u001b[39;49;00m\u001b[33m\"t5\"\u001b[39;49;00m\u001b[37m\u001b[39;49;00m\n",
       "\u001b[37m          \u001b[39;49;00m\u001b[34mON\u001b[39;49;00m\u001b[37m \u001b[39;49;00m\u001b[33m\"t4\"\u001b[39;49;00m.\u001b[33m\"OrderID\"\u001b[39;49;00m\u001b[37m \u001b[39;49;00m=\u001b[37m \u001b[39;49;00m\u001b[33m\"t5\"\u001b[39;49;00m.\u001b[33m\"OrderID\"\u001b[39;49;00m\u001b[37m\u001b[39;49;00m\n",
       "\u001b[37m        \u001b[39;49;00m\u001b[34mINNER\u001b[39;49;00m\u001b[37m \u001b[39;49;00m\u001b[34mJOIN\u001b[39;49;00m\u001b[37m \u001b[39;49;00m\u001b[33m\"Products\"\u001b[39;49;00m\u001b[37m \u001b[39;49;00m\u001b[34mAS\u001b[39;49;00m\u001b[37m \u001b[39;49;00m\u001b[33m\"t6\"\u001b[39;49;00m\u001b[37m\u001b[39;49;00m\n",
       "\u001b[37m          \u001b[39;49;00m\u001b[34mON\u001b[39;49;00m\u001b[37m \u001b[39;49;00m\u001b[33m\"t5\"\u001b[39;49;00m.\u001b[33m\"ProductID\"\u001b[39;49;00m\u001b[37m \u001b[39;49;00m=\u001b[37m \u001b[39;49;00m\u001b[33m\"t6\"\u001b[39;49;00m.\u001b[33m\"ProductID\"\u001b[39;49;00m\u001b[37m\u001b[39;49;00m\n",
       "\u001b[37m        \u001b[39;49;00m\u001b[34mINNER\u001b[39;49;00m\u001b[37m \u001b[39;49;00m\u001b[34mJOIN\u001b[39;49;00m\u001b[37m \u001b[39;49;00m\u001b[33m\"Categories\"\u001b[39;49;00m\u001b[37m \u001b[39;49;00m\u001b[34mAS\u001b[39;49;00m\u001b[37m \u001b[39;49;00m\u001b[33m\"t7\"\u001b[39;49;00m\u001b[37m\u001b[39;49;00m\n",
       "\u001b[37m          \u001b[39;49;00m\u001b[34mON\u001b[39;49;00m\u001b[37m \u001b[39;49;00m\u001b[33m\"t6\"\u001b[39;49;00m.\u001b[33m\"CategoryID\"\u001b[39;49;00m\u001b[37m \u001b[39;49;00m=\u001b[37m \u001b[39;49;00m\u001b[33m\"t7\"\u001b[39;49;00m.\u001b[33m\"CategoryID\"\u001b[39;49;00m\u001b[37m\u001b[39;49;00m\n",
       "\u001b[37m      \u001b[39;49;00m)\u001b[37m \u001b[39;49;00m\u001b[34mAS\u001b[39;49;00m\u001b[37m \u001b[39;49;00m\u001b[33m\"t8\"\u001b[39;49;00m\u001b[37m\u001b[39;49;00m\n",
       "\u001b[37m      \u001b[39;49;00m\u001b[34mGROUP\u001b[39;49;00m\u001b[37m \u001b[39;49;00m\u001b[34mBY\u001b[39;49;00m\u001b[37m\u001b[39;49;00m\n",
       "\u001b[37m        \u001b[39;49;00m\u001b[34m1\u001b[39;49;00m,\u001b[37m\u001b[39;49;00m\n",
       "\u001b[37m        \u001b[39;49;00m\u001b[34m2\u001b[39;49;00m\u001b[37m\u001b[39;49;00m\n",
       "\u001b[37m    \u001b[39;49;00m)\u001b[37m \u001b[39;49;00m\u001b[34mAS\u001b[39;49;00m\u001b[37m \u001b[39;49;00m\u001b[33m\"t9\"\u001b[39;49;00m\u001b[37m\u001b[39;49;00m\n",
       "\u001b[37m    \u001b[39;49;00m\u001b[34mORDER\u001b[39;49;00m\u001b[37m \u001b[39;49;00m\u001b[34mBY\u001b[39;49;00m\u001b[37m\u001b[39;49;00m\n",
       "\u001b[37m      \u001b[39;49;00m\u001b[33m\"t9\"\u001b[39;49;00m.\u001b[33m\"num_orders\"\u001b[39;49;00m\u001b[37m \u001b[39;49;00m\u001b[34mDESC\u001b[39;49;00m,\u001b[37m\u001b[39;49;00m\n",
       "\u001b[37m      \u001b[39;49;00m\u001b[33m\"t9\"\u001b[39;49;00m.\u001b[33m\"price\"\u001b[39;49;00m\u001b[37m \u001b[39;49;00m\u001b[34mDESC\u001b[39;49;00m\u001b[37m\u001b[39;49;00m\n",
       "\u001b[37m  \u001b[39;49;00m)\u001b[37m \u001b[39;49;00m\u001b[34mAS\u001b[39;49;00m\u001b[37m \u001b[39;49;00m\u001b[33m\"t10\"\u001b[39;49;00m\u001b[37m\u001b[39;49;00m\n",
       "\u001b[37m  \u001b[39;49;00m\u001b[34mGROUP\u001b[39;49;00m\u001b[37m \u001b[39;49;00m\u001b[34mBY\u001b[39;49;00m\u001b[37m\u001b[39;49;00m\n",
       "\u001b[37m    \u001b[39;49;00m\u001b[34m1\u001b[39;49;00m\u001b[37m\u001b[39;49;00m\n",
       ")\u001b[37m \u001b[39;49;00m\u001b[34mAS\u001b[39;49;00m\u001b[37m \u001b[39;49;00m\u001b[33m\"t11\"\u001b[39;49;00m\u001b[37m\u001b[39;49;00m\n",
       "\u001b[34mORDER\u001b[39;49;00m\u001b[37m \u001b[39;49;00m\u001b[34mBY\u001b[39;49;00m\u001b[37m\u001b[39;49;00m\n",
       "\u001b[37m  \u001b[39;49;00m\u001b[33m\"t11\"\u001b[39;49;00m.\u001b[33m\"total_price\"\u001b[39;49;00m\u001b[37m \u001b[39;49;00m\u001b[34mDESC\u001b[39;49;00m\u001b[37m\u001b[39;49;00m"
      ]
     },
     "execution_count": 167,
     "metadata": {},
     "output_type": "execute_result"
    }
   ],
   "source": [
    "ibis.to_sql(consulta)"
   ]
  },
  {
   "cell_type": "code",
   "execution_count": 182,
   "metadata": {},
   "outputs": [
    {
     "data": {
      "application/vnd.plotly.v1+json": {
       "config": {
        "plotlyServerURL": "https://plot.ly"
       },
       "data": [
        {
         "alignmentgroup": "True",
         "hovertemplate": "CategoryName=%{x}<br>total_price=%{y}<extra></extra>",
         "legendgroup": "",
         "marker": {
          "color": "#636efa",
          "pattern": {
           "shape": ""
          }
         },
         "name": "",
         "offsetgroup": "",
         "orientation": "v",
         "showlegend": false,
         "textposition": "auto",
         "type": "bar",
         "x": [
          "Beverages",
          "Confections",
          "Meat/Poultry",
          "Dairy Products",
          "Condiments",
          "Seafood",
          "Produce",
          "Grains/Cereals"
         ],
         "xaxis": "x",
         "y": [
          92163184.17999999,
          66337803.06499998,
          64881147.969499916,
          58018116.78500001,
          55795126.78499997,
          49921604.16749999,
          32701119.88000001,
          28568530.3375
         ],
         "yaxis": "y"
        }
       ],
       "layout": {
        "barmode": "relative",
        "legend": {
         "tracegroupgap": 0
        },
        "margin": {
         "t": 60
        },
        "template": {
         "data": {
          "bar": [
           {
            "error_x": {
             "color": "#2a3f5f"
            },
            "error_y": {
             "color": "#2a3f5f"
            },
            "marker": {
             "line": {
              "color": "#E5ECF6",
              "width": 0.5
             },
             "pattern": {
              "fillmode": "overlay",
              "size": 10,
              "solidity": 0.2
             }
            },
            "type": "bar"
           }
          ],
          "barpolar": [
           {
            "marker": {
             "line": {
              "color": "#E5ECF6",
              "width": 0.5
             },
             "pattern": {
              "fillmode": "overlay",
              "size": 10,
              "solidity": 0.2
             }
            },
            "type": "barpolar"
           }
          ],
          "carpet": [
           {
            "aaxis": {
             "endlinecolor": "#2a3f5f",
             "gridcolor": "white",
             "linecolor": "white",
             "minorgridcolor": "white",
             "startlinecolor": "#2a3f5f"
            },
            "baxis": {
             "endlinecolor": "#2a3f5f",
             "gridcolor": "white",
             "linecolor": "white",
             "minorgridcolor": "white",
             "startlinecolor": "#2a3f5f"
            },
            "type": "carpet"
           }
          ],
          "choropleth": [
           {
            "colorbar": {
             "outlinewidth": 0,
             "ticks": ""
            },
            "type": "choropleth"
           }
          ],
          "contour": [
           {
            "colorbar": {
             "outlinewidth": 0,
             "ticks": ""
            },
            "colorscale": [
             [
              0,
              "#0d0887"
             ],
             [
              0.1111111111111111,
              "#46039f"
             ],
             [
              0.2222222222222222,
              "#7201a8"
             ],
             [
              0.3333333333333333,
              "#9c179e"
             ],
             [
              0.4444444444444444,
              "#bd3786"
             ],
             [
              0.5555555555555556,
              "#d8576b"
             ],
             [
              0.6666666666666666,
              "#ed7953"
             ],
             [
              0.7777777777777778,
              "#fb9f3a"
             ],
             [
              0.8888888888888888,
              "#fdca26"
             ],
             [
              1,
              "#f0f921"
             ]
            ],
            "type": "contour"
           }
          ],
          "contourcarpet": [
           {
            "colorbar": {
             "outlinewidth": 0,
             "ticks": ""
            },
            "type": "contourcarpet"
           }
          ],
          "heatmap": [
           {
            "colorbar": {
             "outlinewidth": 0,
             "ticks": ""
            },
            "colorscale": [
             [
              0,
              "#0d0887"
             ],
             [
              0.1111111111111111,
              "#46039f"
             ],
             [
              0.2222222222222222,
              "#7201a8"
             ],
             [
              0.3333333333333333,
              "#9c179e"
             ],
             [
              0.4444444444444444,
              "#bd3786"
             ],
             [
              0.5555555555555556,
              "#d8576b"
             ],
             [
              0.6666666666666666,
              "#ed7953"
             ],
             [
              0.7777777777777778,
              "#fb9f3a"
             ],
             [
              0.8888888888888888,
              "#fdca26"
             ],
             [
              1,
              "#f0f921"
             ]
            ],
            "type": "heatmap"
           }
          ],
          "heatmapgl": [
           {
            "colorbar": {
             "outlinewidth": 0,
             "ticks": ""
            },
            "colorscale": [
             [
              0,
              "#0d0887"
             ],
             [
              0.1111111111111111,
              "#46039f"
             ],
             [
              0.2222222222222222,
              "#7201a8"
             ],
             [
              0.3333333333333333,
              "#9c179e"
             ],
             [
              0.4444444444444444,
              "#bd3786"
             ],
             [
              0.5555555555555556,
              "#d8576b"
             ],
             [
              0.6666666666666666,
              "#ed7953"
             ],
             [
              0.7777777777777778,
              "#fb9f3a"
             ],
             [
              0.8888888888888888,
              "#fdca26"
             ],
             [
              1,
              "#f0f921"
             ]
            ],
            "type": "heatmapgl"
           }
          ],
          "histogram": [
           {
            "marker": {
             "pattern": {
              "fillmode": "overlay",
              "size": 10,
              "solidity": 0.2
             }
            },
            "type": "histogram"
           }
          ],
          "histogram2d": [
           {
            "colorbar": {
             "outlinewidth": 0,
             "ticks": ""
            },
            "colorscale": [
             [
              0,
              "#0d0887"
             ],
             [
              0.1111111111111111,
              "#46039f"
             ],
             [
              0.2222222222222222,
              "#7201a8"
             ],
             [
              0.3333333333333333,
              "#9c179e"
             ],
             [
              0.4444444444444444,
              "#bd3786"
             ],
             [
              0.5555555555555556,
              "#d8576b"
             ],
             [
              0.6666666666666666,
              "#ed7953"
             ],
             [
              0.7777777777777778,
              "#fb9f3a"
             ],
             [
              0.8888888888888888,
              "#fdca26"
             ],
             [
              1,
              "#f0f921"
             ]
            ],
            "type": "histogram2d"
           }
          ],
          "histogram2dcontour": [
           {
            "colorbar": {
             "outlinewidth": 0,
             "ticks": ""
            },
            "colorscale": [
             [
              0,
              "#0d0887"
             ],
             [
              0.1111111111111111,
              "#46039f"
             ],
             [
              0.2222222222222222,
              "#7201a8"
             ],
             [
              0.3333333333333333,
              "#9c179e"
             ],
             [
              0.4444444444444444,
              "#bd3786"
             ],
             [
              0.5555555555555556,
              "#d8576b"
             ],
             [
              0.6666666666666666,
              "#ed7953"
             ],
             [
              0.7777777777777778,
              "#fb9f3a"
             ],
             [
              0.8888888888888888,
              "#fdca26"
             ],
             [
              1,
              "#f0f921"
             ]
            ],
            "type": "histogram2dcontour"
           }
          ],
          "mesh3d": [
           {
            "colorbar": {
             "outlinewidth": 0,
             "ticks": ""
            },
            "type": "mesh3d"
           }
          ],
          "parcoords": [
           {
            "line": {
             "colorbar": {
              "outlinewidth": 0,
              "ticks": ""
             }
            },
            "type": "parcoords"
           }
          ],
          "pie": [
           {
            "automargin": true,
            "type": "pie"
           }
          ],
          "scatter": [
           {
            "fillpattern": {
             "fillmode": "overlay",
             "size": 10,
             "solidity": 0.2
            },
            "type": "scatter"
           }
          ],
          "scatter3d": [
           {
            "line": {
             "colorbar": {
              "outlinewidth": 0,
              "ticks": ""
             }
            },
            "marker": {
             "colorbar": {
              "outlinewidth": 0,
              "ticks": ""
             }
            },
            "type": "scatter3d"
           }
          ],
          "scattercarpet": [
           {
            "marker": {
             "colorbar": {
              "outlinewidth": 0,
              "ticks": ""
             }
            },
            "type": "scattercarpet"
           }
          ],
          "scattergeo": [
           {
            "marker": {
             "colorbar": {
              "outlinewidth": 0,
              "ticks": ""
             }
            },
            "type": "scattergeo"
           }
          ],
          "scattergl": [
           {
            "marker": {
             "colorbar": {
              "outlinewidth": 0,
              "ticks": ""
             }
            },
            "type": "scattergl"
           }
          ],
          "scattermapbox": [
           {
            "marker": {
             "colorbar": {
              "outlinewidth": 0,
              "ticks": ""
             }
            },
            "type": "scattermapbox"
           }
          ],
          "scatterpolar": [
           {
            "marker": {
             "colorbar": {
              "outlinewidth": 0,
              "ticks": ""
             }
            },
            "type": "scatterpolar"
           }
          ],
          "scatterpolargl": [
           {
            "marker": {
             "colorbar": {
              "outlinewidth": 0,
              "ticks": ""
             }
            },
            "type": "scatterpolargl"
           }
          ],
          "scatterternary": [
           {
            "marker": {
             "colorbar": {
              "outlinewidth": 0,
              "ticks": ""
             }
            },
            "type": "scatterternary"
           }
          ],
          "surface": [
           {
            "colorbar": {
             "outlinewidth": 0,
             "ticks": ""
            },
            "colorscale": [
             [
              0,
              "#0d0887"
             ],
             [
              0.1111111111111111,
              "#46039f"
             ],
             [
              0.2222222222222222,
              "#7201a8"
             ],
             [
              0.3333333333333333,
              "#9c179e"
             ],
             [
              0.4444444444444444,
              "#bd3786"
             ],
             [
              0.5555555555555556,
              "#d8576b"
             ],
             [
              0.6666666666666666,
              "#ed7953"
             ],
             [
              0.7777777777777778,
              "#fb9f3a"
             ],
             [
              0.8888888888888888,
              "#fdca26"
             ],
             [
              1,
              "#f0f921"
             ]
            ],
            "type": "surface"
           }
          ],
          "table": [
           {
            "cells": {
             "fill": {
              "color": "#EBF0F8"
             },
             "line": {
              "color": "white"
             }
            },
            "header": {
             "fill": {
              "color": "#C8D4E3"
             },
             "line": {
              "color": "white"
             }
            },
            "type": "table"
           }
          ]
         },
         "layout": {
          "annotationdefaults": {
           "arrowcolor": "#2a3f5f",
           "arrowhead": 0,
           "arrowwidth": 1
          },
          "autotypenumbers": "strict",
          "coloraxis": {
           "colorbar": {
            "outlinewidth": 0,
            "ticks": ""
           }
          },
          "colorscale": {
           "diverging": [
            [
             0,
             "#8e0152"
            ],
            [
             0.1,
             "#c51b7d"
            ],
            [
             0.2,
             "#de77ae"
            ],
            [
             0.3,
             "#f1b6da"
            ],
            [
             0.4,
             "#fde0ef"
            ],
            [
             0.5,
             "#f7f7f7"
            ],
            [
             0.6,
             "#e6f5d0"
            ],
            [
             0.7,
             "#b8e186"
            ],
            [
             0.8,
             "#7fbc41"
            ],
            [
             0.9,
             "#4d9221"
            ],
            [
             1,
             "#276419"
            ]
           ],
           "sequential": [
            [
             0,
             "#0d0887"
            ],
            [
             0.1111111111111111,
             "#46039f"
            ],
            [
             0.2222222222222222,
             "#7201a8"
            ],
            [
             0.3333333333333333,
             "#9c179e"
            ],
            [
             0.4444444444444444,
             "#bd3786"
            ],
            [
             0.5555555555555556,
             "#d8576b"
            ],
            [
             0.6666666666666666,
             "#ed7953"
            ],
            [
             0.7777777777777778,
             "#fb9f3a"
            ],
            [
             0.8888888888888888,
             "#fdca26"
            ],
            [
             1,
             "#f0f921"
            ]
           ],
           "sequentialminus": [
            [
             0,
             "#0d0887"
            ],
            [
             0.1111111111111111,
             "#46039f"
            ],
            [
             0.2222222222222222,
             "#7201a8"
            ],
            [
             0.3333333333333333,
             "#9c179e"
            ],
            [
             0.4444444444444444,
             "#bd3786"
            ],
            [
             0.5555555555555556,
             "#d8576b"
            ],
            [
             0.6666666666666666,
             "#ed7953"
            ],
            [
             0.7777777777777778,
             "#fb9f3a"
            ],
            [
             0.8888888888888888,
             "#fdca26"
            ],
            [
             1,
             "#f0f921"
            ]
           ]
          },
          "colorway": [
           "#636efa",
           "#EF553B",
           "#00cc96",
           "#ab63fa",
           "#FFA15A",
           "#19d3f3",
           "#FF6692",
           "#B6E880",
           "#FF97FF",
           "#FECB52"
          ],
          "font": {
           "color": "#2a3f5f"
          },
          "geo": {
           "bgcolor": "white",
           "lakecolor": "white",
           "landcolor": "#E5ECF6",
           "showlakes": true,
           "showland": true,
           "subunitcolor": "white"
          },
          "hoverlabel": {
           "align": "left"
          },
          "hovermode": "closest",
          "mapbox": {
           "style": "light"
          },
          "paper_bgcolor": "white",
          "plot_bgcolor": "#E5ECF6",
          "polar": {
           "angularaxis": {
            "gridcolor": "white",
            "linecolor": "white",
            "ticks": ""
           },
           "bgcolor": "#E5ECF6",
           "radialaxis": {
            "gridcolor": "white",
            "linecolor": "white",
            "ticks": ""
           }
          },
          "scene": {
           "xaxis": {
            "backgroundcolor": "#E5ECF6",
            "gridcolor": "white",
            "gridwidth": 2,
            "linecolor": "white",
            "showbackground": true,
            "ticks": "",
            "zerolinecolor": "white"
           },
           "yaxis": {
            "backgroundcolor": "#E5ECF6",
            "gridcolor": "white",
            "gridwidth": 2,
            "linecolor": "white",
            "showbackground": true,
            "ticks": "",
            "zerolinecolor": "white"
           },
           "zaxis": {
            "backgroundcolor": "#E5ECF6",
            "gridcolor": "white",
            "gridwidth": 2,
            "linecolor": "white",
            "showbackground": true,
            "ticks": "",
            "zerolinecolor": "white"
           }
          },
          "shapedefaults": {
           "line": {
            "color": "#2a3f5f"
           }
          },
          "ternary": {
           "aaxis": {
            "gridcolor": "white",
            "linecolor": "white",
            "ticks": ""
           },
           "baxis": {
            "gridcolor": "white",
            "linecolor": "white",
            "ticks": ""
           },
           "bgcolor": "#E5ECF6",
           "caxis": {
            "gridcolor": "white",
            "linecolor": "white",
            "ticks": ""
           }
          },
          "title": {
           "x": 0.05
          },
          "xaxis": {
           "automargin": true,
           "gridcolor": "white",
           "linecolor": "white",
           "ticks": "",
           "title": {
            "standoff": 15
           },
           "zerolinecolor": "white",
           "zerolinewidth": 2
          },
          "yaxis": {
           "automargin": true,
           "gridcolor": "white",
           "linecolor": "white",
           "ticks": "",
           "title": {
            "standoff": 15
           },
           "zerolinecolor": "white",
           "zerolinewidth": 2
          }
         }
        },
        "xaxis": {
         "anchor": "y",
         "domain": [
          0,
          1
         ],
         "title": {
          "text": "CategoryName"
         }
        },
        "yaxis": {
         "anchor": "x",
         "domain": [
          0,
          1
         ],
         "title": {
          "text": "total_price"
         }
        }
       }
      }
     },
     "metadata": {},
     "output_type": "display_data"
    }
   ],
   "source": [
    "precio_por_categoría = consulta.to_pandas()\n",
    "\n",
    "fig = px.bar(precio_por_categoría, x='CategoryName', y=\"total_price\")\n",
    "fig.show()"
   ]
  },
  {
   "cell_type": "code",
   "execution_count": 184,
   "metadata": {},
   "outputs": [
    {
     "data": {
      "application/vnd.plotly.v1+json": {
       "config": {
        "plotlyServerURL": "https://plot.ly"
       },
       "data": [
        {
         "alignmentgroup": "True",
         "hovertemplate": "CategoryName=Condiments<br>ProductName=%{x}<br>price=%{y}<extra></extra>",
         "legendgroup": "Condiments",
         "marker": {
          "color": "#636efa",
          "pattern": {
           "shape": ""
          }
         },
         "name": "Condiments",
         "offsetgroup": "Condiments",
         "orientation": "v",
         "showlegend": true,
         "textposition": "auto",
         "type": "bar",
         "x": [
          "Louisiana Hot Spiced Okra",
          "Genen Shouyu",
          "Sirop d'érable",
          "Grandma's Boysenberry Spread",
          "Original Frankfurter grüne Soße",
          "Aniseed Syrup",
          "Louisiana Fiery Hot Pepper Sauce",
          "Northwoods Cranberry Sauce",
          "Chef Anton's Cajun Seasoning",
          "Vegie-spread",
          "Gula Malacca",
          "Chef Anton's Gumbo Mix"
         ],
         "xaxis": "x",
         "y": [
          3504941,
          3126197.325,
          5839809.6,
          5037487,
          2622964.63,
          2021624,
          4245004.089999992,
          8073652,
          4370573.9,
          8810705.194999982,
          3881146.6949999924,
          4261021.349999991
         ],
         "yaxis": "y"
        },
        {
         "alignmentgroup": "True",
         "hovertemplate": "CategoryName=Confections<br>ProductName=%{x}<br>price=%{y}<extra></extra>",
         "legendgroup": "Confections",
         "marker": {
          "color": "#EF553B",
          "pattern": {
           "shape": ""
          }
         },
         "name": "Confections",
         "offsetgroup": "Confections",
         "orientation": "v",
         "showlegend": true,
         "textposition": "auto",
         "type": "bar",
         "x": [
          "Teatime Chocolate Biscuits",
          "Sir Rodney's Marmalade",
          "Gumbär Gummibärchen",
          "Maxilaku",
          "NuNuCa Nuß-Nougat-Creme",
          "Tarte au sucre",
          "Pavlova",
          "Chocolade",
          "Schoggi Schokolade",
          "Valkoinen suklaa",
          "Sir Rodney's Scones",
          "Scottish Longbreads",
          "Zaanse koeken"
         ],
         "xaxis": "x",
         "y": [
          1889691.4200000037,
          16653807.36,
          6391018.984499998,
          4021924.6,
          2812216.4,
          9952936.070000008,
          3521612.0255000037,
          2571692.2125,
          8829078.474999968,
          3259726.4375,
          2026714,
          2528089,
          1879296.08
         ],
         "yaxis": "y"
        },
        {
         "alignmentgroup": "True",
         "hovertemplate": "CategoryName=Beverages<br>ProductName=%{x}<br>price=%{y}<extra></extra>",
         "legendgroup": "Beverages",
         "marker": {
          "color": "#00cc96",
          "pattern": {
           "shape": ""
          }
         },
         "name": "Beverages",
         "offsetgroup": "Beverages",
         "orientation": "v",
         "showlegend": true,
         "textposition": "auto",
         "type": "bar",
         "x": [
          "Outback Lager",
          "Chartreuse verte",
          "Sasquatch Ale",
          "Rhönbräu Klosterbier",
          "Lakkalikööri",
          "Ipoh Coffee",
          "Chang",
          "Chai",
          "Côte de Blaye",
          "Steeleye Stout",
          "Guaraná Fantástica",
          "Laughing Lumberjack Lager"
         ],
         "xaxis": "x",
         "y": [
          3064462.65,
          3634326.54,
          2850604.4,
          1557138.99,
          3624706.44,
          9333374.7,
          3830510.96,
          3632174.1,
          53265895.235,
          3640338,
          908257.365,
          2821394.8
         ],
         "yaxis": "y"
        },
        {
         "alignmentgroup": "True",
         "hovertemplate": "CategoryName=Dairy Products<br>ProductName=%{x}<br>price=%{y}<extra></extra>",
         "legendgroup": "Dairy Products",
         "marker": {
          "color": "#ab63fa",
          "pattern": {
           "shape": ""
          }
         },
         "name": "Dairy Products",
         "offsetgroup": "Dairy Products",
         "orientation": "v",
         "showlegend": true,
         "textposition": "auto",
         "type": "bar",
         "x": [
          "Gudbrandsdalsost",
          "Raclette Courdavault",
          "Gorgonzola Telino",
          "Geitost",
          "Queso Manchego La Pastora",
          "Camembert Pierrot",
          "Mozzarella di Giovanni",
          "Queso Cabrales",
          "Flotemysost",
          "Mascarpone Fabioli"
         ],
         "xaxis": "x",
         "y": [
          7230582.359999999,
          11216410.7,
          2542658.375,
          507120.625,
          7684381.66,
          6900443.48,
          7024050.130000003,
          4234846.77,
          4296610.525,
          6381012.16
         ],
         "yaxis": "y"
        },
        {
         "alignmentgroup": "True",
         "hovertemplate": "CategoryName=Grains/Cereals<br>ProductName=%{x}<br>price=%{y}<extra></extra>",
         "legendgroup": "Grains/Cereals",
         "marker": {
          "color": "#FFA15A",
          "pattern": {
           "shape": ""
          }
         },
         "name": "Grains/Cereals",
         "offsetgroup": "Grains/Cereals",
         "orientation": "v",
         "showlegend": true,
         "textposition": "auto",
         "type": "bar",
         "x": [
          "Ravioli Angelo",
          "Tunnbröd",
          "Gustaf's Knäckebröd",
          "Filo Mix",
          "Wimmers gute Semmelknödel",
          "Gnocchi di nonna Alice",
          "Singaporean Hokkien Fried Mee"
         ],
         "xaxis": "x",
         "y": [
          3982093.05,
          1818605.7,
          4204728.359999999,
          1421369.95,
          6688749.2175,
          7646887.0600000005,
          2806097
         ],
         "yaxis": "y"
        },
        {
         "alignmentgroup": "True",
         "hovertemplate": "CategoryName=Seafood<br>ProductName=%{x}<br>price=%{y}<extra></extra>",
         "legendgroup": "Seafood",
         "marker": {
          "color": "#19d3f3",
          "pattern": {
           "shape": ""
          }
         },
         "name": "Seafood",
         "offsetgroup": "Seafood",
         "orientation": "v",
         "showlegend": true,
         "textposition": "auto",
         "type": "bar",
         "x": [
          "Konbu",
          "Inlagd Sill",
          "Nord-Ost Matjeshering",
          "Ikura",
          "Jack's New England Clam Chowder",
          "Escargots de Bourgogne",
          "Boston Crab Meat",
          "Röd Kaviar",
          "Spegesild",
          "Carnarvon Tigers",
          "Rogede sild",
          "Gravad lax"
         ],
         "xaxis": "x",
         "y": [
          1214608.44,
          3822787.46,
          5261378.97749999,
          6238723.34,
          1930883.1450000068,
          2617973.425,
          3681884.229999998,
          2985232.2,
          2414631,
          12604671.875,
          1903891.675,
          5244938.4
         ],
         "yaxis": "y"
        },
        {
         "alignmentgroup": "True",
         "hovertemplate": "CategoryName=Meat/Poultry<br>ProductName=%{x}<br>price=%{y}<extra></extra>",
         "legendgroup": "Meat/Poultry",
         "marker": {
          "color": "#FF6692",
          "pattern": {
           "shape": ""
          }
         },
         "name": "Meat/Poultry",
         "offsetgroup": "Meat/Poultry",
         "orientation": "v",
         "showlegend": true,
         "textposition": "auto",
         "type": "bar",
         "x": [
          "Pâté chinois",
          "Alice Mutton",
          "Tourtière",
          "Mishi Kobe Niku",
          "Thüringer Rostbratwurst",
          "Perth Pasties"
         ],
         "xaxis": "x",
         "y": [
          4879418.4,
          7884412.38,
          1509129.087499993,
          19423037.5,
          24623469.231999934,
          6561681.369999989
         ],
         "yaxis": "y"
        },
        {
         "alignmentgroup": "True",
         "hovertemplate": "CategoryName=Produce<br>ProductName=%{x}<br>price=%{y}<extra></extra>",
         "legendgroup": "Produce",
         "marker": {
          "color": "#B6E880",
          "pattern": {
           "shape": ""
          }
         },
         "name": "Produce",
         "offsetgroup": "Produce",
         "orientation": "v",
         "showlegend": true,
         "textposition": "auto",
         "type": "bar",
         "x": [
          "Uncle Bob's Organic Dried Pears",
          "Rössle Sauerkraut",
          "Manjimup Dried Apples",
          "Longlife Tofu",
          "Tofu"
         ],
         "xaxis": "x",
         "y": [
          6118254.3,
          9252765.440000005,
          10664768.65,
          2020592.5,
          4644738.99
         ],
         "yaxis": "y"
        }
       ],
       "layout": {
        "barmode": "relative",
        "legend": {
         "title": {
          "text": "CategoryName"
         },
         "tracegroupgap": 0
        },
        "margin": {
         "t": 60
        },
        "template": {
         "data": {
          "bar": [
           {
            "error_x": {
             "color": "#2a3f5f"
            },
            "error_y": {
             "color": "#2a3f5f"
            },
            "marker": {
             "line": {
              "color": "#E5ECF6",
              "width": 0.5
             },
             "pattern": {
              "fillmode": "overlay",
              "size": 10,
              "solidity": 0.2
             }
            },
            "type": "bar"
           }
          ],
          "barpolar": [
           {
            "marker": {
             "line": {
              "color": "#E5ECF6",
              "width": 0.5
             },
             "pattern": {
              "fillmode": "overlay",
              "size": 10,
              "solidity": 0.2
             }
            },
            "type": "barpolar"
           }
          ],
          "carpet": [
           {
            "aaxis": {
             "endlinecolor": "#2a3f5f",
             "gridcolor": "white",
             "linecolor": "white",
             "minorgridcolor": "white",
             "startlinecolor": "#2a3f5f"
            },
            "baxis": {
             "endlinecolor": "#2a3f5f",
             "gridcolor": "white",
             "linecolor": "white",
             "minorgridcolor": "white",
             "startlinecolor": "#2a3f5f"
            },
            "type": "carpet"
           }
          ],
          "choropleth": [
           {
            "colorbar": {
             "outlinewidth": 0,
             "ticks": ""
            },
            "type": "choropleth"
           }
          ],
          "contour": [
           {
            "colorbar": {
             "outlinewidth": 0,
             "ticks": ""
            },
            "colorscale": [
             [
              0,
              "#0d0887"
             ],
             [
              0.1111111111111111,
              "#46039f"
             ],
             [
              0.2222222222222222,
              "#7201a8"
             ],
             [
              0.3333333333333333,
              "#9c179e"
             ],
             [
              0.4444444444444444,
              "#bd3786"
             ],
             [
              0.5555555555555556,
              "#d8576b"
             ],
             [
              0.6666666666666666,
              "#ed7953"
             ],
             [
              0.7777777777777778,
              "#fb9f3a"
             ],
             [
              0.8888888888888888,
              "#fdca26"
             ],
             [
              1,
              "#f0f921"
             ]
            ],
            "type": "contour"
           }
          ],
          "contourcarpet": [
           {
            "colorbar": {
             "outlinewidth": 0,
             "ticks": ""
            },
            "type": "contourcarpet"
           }
          ],
          "heatmap": [
           {
            "colorbar": {
             "outlinewidth": 0,
             "ticks": ""
            },
            "colorscale": [
             [
              0,
              "#0d0887"
             ],
             [
              0.1111111111111111,
              "#46039f"
             ],
             [
              0.2222222222222222,
              "#7201a8"
             ],
             [
              0.3333333333333333,
              "#9c179e"
             ],
             [
              0.4444444444444444,
              "#bd3786"
             ],
             [
              0.5555555555555556,
              "#d8576b"
             ],
             [
              0.6666666666666666,
              "#ed7953"
             ],
             [
              0.7777777777777778,
              "#fb9f3a"
             ],
             [
              0.8888888888888888,
              "#fdca26"
             ],
             [
              1,
              "#f0f921"
             ]
            ],
            "type": "heatmap"
           }
          ],
          "heatmapgl": [
           {
            "colorbar": {
             "outlinewidth": 0,
             "ticks": ""
            },
            "colorscale": [
             [
              0,
              "#0d0887"
             ],
             [
              0.1111111111111111,
              "#46039f"
             ],
             [
              0.2222222222222222,
              "#7201a8"
             ],
             [
              0.3333333333333333,
              "#9c179e"
             ],
             [
              0.4444444444444444,
              "#bd3786"
             ],
             [
              0.5555555555555556,
              "#d8576b"
             ],
             [
              0.6666666666666666,
              "#ed7953"
             ],
             [
              0.7777777777777778,
              "#fb9f3a"
             ],
             [
              0.8888888888888888,
              "#fdca26"
             ],
             [
              1,
              "#f0f921"
             ]
            ],
            "type": "heatmapgl"
           }
          ],
          "histogram": [
           {
            "marker": {
             "pattern": {
              "fillmode": "overlay",
              "size": 10,
              "solidity": 0.2
             }
            },
            "type": "histogram"
           }
          ],
          "histogram2d": [
           {
            "colorbar": {
             "outlinewidth": 0,
             "ticks": ""
            },
            "colorscale": [
             [
              0,
              "#0d0887"
             ],
             [
              0.1111111111111111,
              "#46039f"
             ],
             [
              0.2222222222222222,
              "#7201a8"
             ],
             [
              0.3333333333333333,
              "#9c179e"
             ],
             [
              0.4444444444444444,
              "#bd3786"
             ],
             [
              0.5555555555555556,
              "#d8576b"
             ],
             [
              0.6666666666666666,
              "#ed7953"
             ],
             [
              0.7777777777777778,
              "#fb9f3a"
             ],
             [
              0.8888888888888888,
              "#fdca26"
             ],
             [
              1,
              "#f0f921"
             ]
            ],
            "type": "histogram2d"
           }
          ],
          "histogram2dcontour": [
           {
            "colorbar": {
             "outlinewidth": 0,
             "ticks": ""
            },
            "colorscale": [
             [
              0,
              "#0d0887"
             ],
             [
              0.1111111111111111,
              "#46039f"
             ],
             [
              0.2222222222222222,
              "#7201a8"
             ],
             [
              0.3333333333333333,
              "#9c179e"
             ],
             [
              0.4444444444444444,
              "#bd3786"
             ],
             [
              0.5555555555555556,
              "#d8576b"
             ],
             [
              0.6666666666666666,
              "#ed7953"
             ],
             [
              0.7777777777777778,
              "#fb9f3a"
             ],
             [
              0.8888888888888888,
              "#fdca26"
             ],
             [
              1,
              "#f0f921"
             ]
            ],
            "type": "histogram2dcontour"
           }
          ],
          "mesh3d": [
           {
            "colorbar": {
             "outlinewidth": 0,
             "ticks": ""
            },
            "type": "mesh3d"
           }
          ],
          "parcoords": [
           {
            "line": {
             "colorbar": {
              "outlinewidth": 0,
              "ticks": ""
             }
            },
            "type": "parcoords"
           }
          ],
          "pie": [
           {
            "automargin": true,
            "type": "pie"
           }
          ],
          "scatter": [
           {
            "fillpattern": {
             "fillmode": "overlay",
             "size": 10,
             "solidity": 0.2
            },
            "type": "scatter"
           }
          ],
          "scatter3d": [
           {
            "line": {
             "colorbar": {
              "outlinewidth": 0,
              "ticks": ""
             }
            },
            "marker": {
             "colorbar": {
              "outlinewidth": 0,
              "ticks": ""
             }
            },
            "type": "scatter3d"
           }
          ],
          "scattercarpet": [
           {
            "marker": {
             "colorbar": {
              "outlinewidth": 0,
              "ticks": ""
             }
            },
            "type": "scattercarpet"
           }
          ],
          "scattergeo": [
           {
            "marker": {
             "colorbar": {
              "outlinewidth": 0,
              "ticks": ""
             }
            },
            "type": "scattergeo"
           }
          ],
          "scattergl": [
           {
            "marker": {
             "colorbar": {
              "outlinewidth": 0,
              "ticks": ""
             }
            },
            "type": "scattergl"
           }
          ],
          "scattermapbox": [
           {
            "marker": {
             "colorbar": {
              "outlinewidth": 0,
              "ticks": ""
             }
            },
            "type": "scattermapbox"
           }
          ],
          "scatterpolar": [
           {
            "marker": {
             "colorbar": {
              "outlinewidth": 0,
              "ticks": ""
             }
            },
            "type": "scatterpolar"
           }
          ],
          "scatterpolargl": [
           {
            "marker": {
             "colorbar": {
              "outlinewidth": 0,
              "ticks": ""
             }
            },
            "type": "scatterpolargl"
           }
          ],
          "scatterternary": [
           {
            "marker": {
             "colorbar": {
              "outlinewidth": 0,
              "ticks": ""
             }
            },
            "type": "scatterternary"
           }
          ],
          "surface": [
           {
            "colorbar": {
             "outlinewidth": 0,
             "ticks": ""
            },
            "colorscale": [
             [
              0,
              "#0d0887"
             ],
             [
              0.1111111111111111,
              "#46039f"
             ],
             [
              0.2222222222222222,
              "#7201a8"
             ],
             [
              0.3333333333333333,
              "#9c179e"
             ],
             [
              0.4444444444444444,
              "#bd3786"
             ],
             [
              0.5555555555555556,
              "#d8576b"
             ],
             [
              0.6666666666666666,
              "#ed7953"
             ],
             [
              0.7777777777777778,
              "#fb9f3a"
             ],
             [
              0.8888888888888888,
              "#fdca26"
             ],
             [
              1,
              "#f0f921"
             ]
            ],
            "type": "surface"
           }
          ],
          "table": [
           {
            "cells": {
             "fill": {
              "color": "#EBF0F8"
             },
             "line": {
              "color": "white"
             }
            },
            "header": {
             "fill": {
              "color": "#C8D4E3"
             },
             "line": {
              "color": "white"
             }
            },
            "type": "table"
           }
          ]
         },
         "layout": {
          "annotationdefaults": {
           "arrowcolor": "#2a3f5f",
           "arrowhead": 0,
           "arrowwidth": 1
          },
          "autotypenumbers": "strict",
          "coloraxis": {
           "colorbar": {
            "outlinewidth": 0,
            "ticks": ""
           }
          },
          "colorscale": {
           "diverging": [
            [
             0,
             "#8e0152"
            ],
            [
             0.1,
             "#c51b7d"
            ],
            [
             0.2,
             "#de77ae"
            ],
            [
             0.3,
             "#f1b6da"
            ],
            [
             0.4,
             "#fde0ef"
            ],
            [
             0.5,
             "#f7f7f7"
            ],
            [
             0.6,
             "#e6f5d0"
            ],
            [
             0.7,
             "#b8e186"
            ],
            [
             0.8,
             "#7fbc41"
            ],
            [
             0.9,
             "#4d9221"
            ],
            [
             1,
             "#276419"
            ]
           ],
           "sequential": [
            [
             0,
             "#0d0887"
            ],
            [
             0.1111111111111111,
             "#46039f"
            ],
            [
             0.2222222222222222,
             "#7201a8"
            ],
            [
             0.3333333333333333,
             "#9c179e"
            ],
            [
             0.4444444444444444,
             "#bd3786"
            ],
            [
             0.5555555555555556,
             "#d8576b"
            ],
            [
             0.6666666666666666,
             "#ed7953"
            ],
            [
             0.7777777777777778,
             "#fb9f3a"
            ],
            [
             0.8888888888888888,
             "#fdca26"
            ],
            [
             1,
             "#f0f921"
            ]
           ],
           "sequentialminus": [
            [
             0,
             "#0d0887"
            ],
            [
             0.1111111111111111,
             "#46039f"
            ],
            [
             0.2222222222222222,
             "#7201a8"
            ],
            [
             0.3333333333333333,
             "#9c179e"
            ],
            [
             0.4444444444444444,
             "#bd3786"
            ],
            [
             0.5555555555555556,
             "#d8576b"
            ],
            [
             0.6666666666666666,
             "#ed7953"
            ],
            [
             0.7777777777777778,
             "#fb9f3a"
            ],
            [
             0.8888888888888888,
             "#fdca26"
            ],
            [
             1,
             "#f0f921"
            ]
           ]
          },
          "colorway": [
           "#636efa",
           "#EF553B",
           "#00cc96",
           "#ab63fa",
           "#FFA15A",
           "#19d3f3",
           "#FF6692",
           "#B6E880",
           "#FF97FF",
           "#FECB52"
          ],
          "font": {
           "color": "#2a3f5f"
          },
          "geo": {
           "bgcolor": "white",
           "lakecolor": "white",
           "landcolor": "#E5ECF6",
           "showlakes": true,
           "showland": true,
           "subunitcolor": "white"
          },
          "hoverlabel": {
           "align": "left"
          },
          "hovermode": "closest",
          "mapbox": {
           "style": "light"
          },
          "paper_bgcolor": "white",
          "plot_bgcolor": "#E5ECF6",
          "polar": {
           "angularaxis": {
            "gridcolor": "white",
            "linecolor": "white",
            "ticks": ""
           },
           "bgcolor": "#E5ECF6",
           "radialaxis": {
            "gridcolor": "white",
            "linecolor": "white",
            "ticks": ""
           }
          },
          "scene": {
           "xaxis": {
            "backgroundcolor": "#E5ECF6",
            "gridcolor": "white",
            "gridwidth": 2,
            "linecolor": "white",
            "showbackground": true,
            "ticks": "",
            "zerolinecolor": "white"
           },
           "yaxis": {
            "backgroundcolor": "#E5ECF6",
            "gridcolor": "white",
            "gridwidth": 2,
            "linecolor": "white",
            "showbackground": true,
            "ticks": "",
            "zerolinecolor": "white"
           },
           "zaxis": {
            "backgroundcolor": "#E5ECF6",
            "gridcolor": "white",
            "gridwidth": 2,
            "linecolor": "white",
            "showbackground": true,
            "ticks": "",
            "zerolinecolor": "white"
           }
          },
          "shapedefaults": {
           "line": {
            "color": "#2a3f5f"
           }
          },
          "ternary": {
           "aaxis": {
            "gridcolor": "white",
            "linecolor": "white",
            "ticks": ""
           },
           "baxis": {
            "gridcolor": "white",
            "linecolor": "white",
            "ticks": ""
           },
           "bgcolor": "#E5ECF6",
           "caxis": {
            "gridcolor": "white",
            "linecolor": "white",
            "ticks": ""
           }
          },
          "title": {
           "x": 0.05
          },
          "xaxis": {
           "automargin": true,
           "gridcolor": "white",
           "linecolor": "white",
           "ticks": "",
           "title": {
            "standoff": 15
           },
           "zerolinecolor": "white",
           "zerolinewidth": 2
          },
          "yaxis": {
           "automargin": true,
           "gridcolor": "white",
           "linecolor": "white",
           "ticks": "",
           "title": {
            "standoff": 15
           },
           "zerolinecolor": "white",
           "zerolinewidth": 2
          }
         }
        },
        "xaxis": {
         "anchor": "y",
         "domain": [
          0,
          1
         ],
         "title": {
          "text": "ProductName"
         }
        },
        "yaxis": {
         "anchor": "x",
         "domain": [
          0,
          1
         ],
         "title": {
          "text": "price"
         }
        }
       }
      }
     },
     "metadata": {},
     "output_type": "display_data"
    }
   ],
   "source": [
    "precio_producto= p_o_details_agg.to_pandas()\n",
    "\n",
    "fig = px.bar(precio_producto, x='ProductName', y=\"price\", color=\"CategoryName\")\n",
    "fig.show()"
   ]
  },
  {
   "cell_type": "markdown",
   "metadata": {},
   "source": [
    "### **3. Análisis de Rentabilidad de Clientes**\n",
    "Analiza la rentabilidad de los clientes de la empresa. Examina los ingresos generados por cada cliente, así como los costos asociados con el servicio o producto proporcionado. \n",
    "\n",
    "Pista: Utiliza gráficos de dispersión y tablas dinámicas para identificar los clientes más rentables y aquellos que requieren mayor atención."
   ]
  },
  {
   "cell_type": "markdown",
   "metadata": {},
   "source": [
    "### **4. Análisis de Inventarios y Proveedores**\n",
    "Analiza los niveles de inventario y la gestión de proveedores de la empresa. Examina el inventario disponible por categoría de productos, así como el rendimiento de los proveedores en términos de puntualidad de entrega y calidad de los productos. \n",
    "\n",
    "Pista: Utiliza gráficos de líneas y tablas dinámicas para mostrar tendencias y comparar el desempeño de los proveedores."
   ]
  },
  {
   "cell_type": "markdown",
   "metadata": {},
   "source": [
    "\n",
    "### **5. Análisis de Comportamiento de Empleados**\n",
    "Analiza el comportamiento de los empleados de la empresa. Examina las ventas realizadas por cada empleado, así como su eficiencia en el manejo de pedidos y su puntualidad en la entrega de productos. \n",
    "\n",
    "Pista: Utiliza gráficos de barra y de dispersión para comparar el desempeño de los empleados y identificar áreas de mejora."
   ]
  }
 ],
 "metadata": {
  "kernelspec": {
   "display_name": ".venv",
   "language": "python",
   "name": "python3"
  },
  "language_info": {
   "codemirror_mode": {
    "name": "ipython",
    "version": 3
   },
   "file_extension": ".py",
   "mimetype": "text/x-python",
   "name": "python",
   "nbconvert_exporter": "python",
   "pygments_lexer": "ipython3",
   "version": "3.11.9+"
  }
 },
 "nbformat": 4,
 "nbformat_minor": 2
}
