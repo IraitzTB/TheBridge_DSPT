{
 "cells": [
  {
   "cell_type": "markdown",
   "metadata": {},
   "source": [
    "# Profundizando en Git y Github\n",
    "\n",
    "Previamente vimos qué era Git y qué era Github. Venimos trabajando con Git, haciendo _pull_ para traernos los cambios del repositorio del curso. Y algunos de vosotros yha habéis descubierto que no todos los formatos de fichero se llevan bien con _git_ (notebooks mayormente).\n",
    "\n",
    "Git es el programa que nos permite gestionar un repositorio de código versionado para poder colaborar con nuestros compañeros de trabajo. Estos repositorios suelen estar albergados en un entorno remoto, un servidor que copia y gestiona todas las copias y cambios que hagamos a nuestro código. Es top es Github. Existen múltiples opciones:\n",
    "\n",
    "* Github\n",
    "* Gitlab\n",
    "* Bitbucket\n",
    "* Azure DevOps\n",
    "\n",
    "Pero todas hablan el mismo idioma, los comandos de Git. Deberemos familiarizarnos por lo tanto con el ciclo de vida de git. Existen distintas etapas de las que deberemos hacernos eco.\n",
    "\n",
    "<img src=\"./img/git-commands.png\" alt=\"git\" width=\"800\"/>"
   ]
  },
  {
   "cell_type": "markdown",
   "metadata": {},
   "source": [
    "Cuando creamos un repositorio vacío en Github, unicamente reservamos ese hueco para poder añadir nuestro contenido. Podemos crear un repositorio en el siguiente botón.\n",
    "\n",
    "![cfg_2](./img/git_config_2.png)"
   ]
  },
  {
   "cell_type": "markdown",
   "metadata": {},
   "source": [
    "![empty](./img/empty-repo.png)"
   ]
  },
  {
   "cell_type": "markdown",
   "metadata": {},
   "source": [
    "Estas instrucciones nos indican cómo podemos sincronizar una carpeta local, un directorio donde estemos trabajando con el entorno remoto. Crearemos uno para nuestro ejemplo."
   ]
  },
  {
   "cell_type": "code",
   "execution_count": 2,
   "metadata": {},
   "outputs": [
    {
     "data": {
      "text/plain": [
       "'c:\\\\Users\\\\rodri\\\\OneDrive\\\\Escritorio\\\\DATA_SCIENCE\\\\CODIGO_CLASES\\\\TheBridge_DSPT-1\\\\2-Data Analysis\\\\8-Gestión de proyectos\\\\Github\\\\mi_repo'"
      ]
     },
     "execution_count": 2,
     "metadata": {},
     "output_type": "execute_result"
    }
   ],
   "source": [
    "import os\n",
    "\n",
    "os.mkdir('mi_repo')\n",
    "os.chdir('mi_repo')\n",
    "os.getcwd()"
   ]
  },
  {
   "cell_type": "markdown",
   "metadata": {},
   "source": [
    "Podemos crear un fichero de forma sencilla."
   ]
  },
  {
   "cell_type": "code",
   "execution_count": 3,
   "metadata": {},
   "outputs": [
    {
     "name": "stdout",
     "output_type": "stream",
     "text": [
      "Writing README.md\n"
     ]
    }
   ],
   "source": [
    "%%file README.md\n",
    "\n",
    "Hola!"
   ]
  },
  {
   "cell_type": "markdown",
   "metadata": {},
   "source": [
    "Y ahora iniciamos nuestros comandos git:"
   ]
  },
  {
   "cell_type": "code",
   "execution_count": 4,
   "metadata": {},
   "outputs": [
    {
     "name": "stdout",
     "output_type": "stream",
     "text": [
      "Initialized empty Git repository in C:/Users/rodri/OneDrive/Escritorio/DATA_SCIENCE/CODIGO_CLASES/TheBridge_DSPT-1/2-Data Analysis/8-Gestión de proyectos/Github/mi_repo/.git/\n"
     ]
    }
   ],
   "source": [
    "!git init"
   ]
  },
  {
   "cell_type": "code",
   "execution_count": 5,
   "metadata": {},
   "outputs": [
    {
     "name": "stdout",
     "output_type": "stream",
     "text": [
      "On branch master\n",
      "\n",
      "No commits yet\n",
      "\n",
      "Untracked files:\n",
      "  (use \"git add <file>...\" to include in what will be committed)\n",
      "\tREADME.md\n",
      "\n",
      "nothing added to commit but untracked files present (use \"git add\" to track)\n"
     ]
    }
   ],
   "source": [
    "!git status"
   ]
  },
  {
   "cell_type": "code",
   "execution_count": 6,
   "metadata": {},
   "outputs": [],
   "source": [
    "!git add README.md"
   ]
  },
  {
   "cell_type": "code",
   "execution_count": 7,
   "metadata": {},
   "outputs": [
    {
     "name": "stdout",
     "output_type": "stream",
     "text": [
      "On branch master\n",
      "\n",
      "No commits yet\n",
      "\n",
      "Changes to be committed:\n",
      "  (use \"git rm --cached <file>...\" to unstage)\n",
      "\tnew file:   README.md\n",
      "\n"
     ]
    }
   ],
   "source": [
    "!git status"
   ]
  },
  {
   "cell_type": "code",
   "execution_count": 8,
   "metadata": {},
   "outputs": [
    {
     "name": "stdout",
     "output_type": "stream",
     "text": [
      "[master (root-commit) 8292d45] Mi primer commit\n",
      " 1 file changed, 2 insertions(+)\n",
      " create mode 100644 README.md\n"
     ]
    }
   ],
   "source": [
    "!git commit -m \"Mi primer commit\""
   ]
  },
  {
   "cell_type": "code",
   "execution_count": 9,
   "metadata": {},
   "outputs": [
    {
     "name": "stdout",
     "output_type": "stream",
     "text": [
      "On branch master\n",
      "nothing to commit, working tree clean\n"
     ]
    }
   ],
   "source": [
    "!git status"
   ]
  },
  {
   "cell_type": "code",
   "execution_count": 10,
   "metadata": {},
   "outputs": [],
   "source": [
    "!git branch -M main "
   ]
  },
  {
   "cell_type": "code",
   "execution_count": 11,
   "metadata": {},
   "outputs": [
    {
     "name": "stdout",
     "output_type": "stream",
     "text": [
      "* main\n"
     ]
    }
   ],
   "source": [
    "!git branch"
   ]
  },
  {
   "cell_type": "markdown",
   "metadata": {},
   "source": [
    "Aquí deberéis indicarle cómo se llama vuestro repositorio remoto para poder realizar la conexión.\n",
    "\n",
    "![remote](./img/remote-iraitz.png)"
   ]
  },
  {
   "cell_type": "code",
   "execution_count": 12,
   "metadata": {},
   "outputs": [],
   "source": [
    "!git remote add origin https://github.com/rodrigomezaortiz/TheBridge_DSPT-1"
   ]
  },
  {
   "cell_type": "code",
   "execution_count": 13,
   "metadata": {},
   "outputs": [
    {
     "name": "stdout",
     "output_type": "stream",
     "text": [
      "origin\n"
     ]
    }
   ],
   "source": [
    "!git remote"
   ]
  },
  {
   "cell_type": "markdown",
   "metadata": {},
   "source": [
    "Github necesita saber quienes somos para dejarnos o no subir cambios al repositorio remoto."
   ]
  },
  {
   "cell_type": "code",
   "execution_count": 29,
   "metadata": {},
   "outputs": [],
   "source": [
    "!git config user.name \"Rodrigo Meza Ortiz\"\n",
    "!git config user.email \"rodrigo.meza.ortiz@gmail.com\""
   ]
  },
  {
   "cell_type": "markdown",
   "metadata": {},
   "source": [
    "Y ahora simplemente podremos pedirle que suba nuestros cambios de nuestro repositorio local al servidor remoto. Esto tendremos que hacerlo bien en nuestro terminal o en los botones de VSCode de la izquierda.\n",
    "\n",
    "_git push --set-upstream origin main_\n",
    "\n",
    "![push](./img/git-push-upstream.png)"
   ]
  },
  {
   "cell_type": "markdown",
   "metadata": {},
   "source": [
    "Con esto nuestro repositorio local quedará enlazado y cualquier acción que incluya esta dinámica quedará registrada en el histórico del repositorio."
   ]
  },
  {
   "cell_type": "code",
   "execution_count": 15,
   "metadata": {},
   "outputs": [
    {
     "name": "stdout",
     "output_type": "stream",
     "text": [
      "Overwriting README.md\n"
     ]
    }
   ],
   "source": [
    "%%file README.md\n",
    "\n",
    "Hola ¿cómo estás?"
   ]
  },
  {
   "cell_type": "code",
   "execution_count": 16,
   "metadata": {},
   "outputs": [
    {
     "name": "stdout",
     "output_type": "stream",
     "text": [
      "On branch main\n",
      "Changes not staged for commit:\n",
      "  (use \"git add <file>...\" to update what will be committed)\n",
      "  (use \"git restore <file>...\" to discard changes in working directory)\n",
      "\tmodified:   README.md\n",
      "\n",
      "no changes added to commit (use \"git add\" and/or \"git commit -a\")\n"
     ]
    }
   ],
   "source": [
    "!git status"
   ]
  },
  {
   "cell_type": "code",
   "execution_count": 17,
   "metadata": {},
   "outputs": [
    {
     "name": "stdout",
     "output_type": "stream",
     "text": [
      "[main a3411e2] New changes\n",
      " 1 file changed, 1 insertion(+), 1 deletion(-)\n"
     ]
    }
   ],
   "source": [
    "!git add .\n",
    "!git commit -m \"New changes\""
   ]
  },
  {
   "cell_type": "markdown",
   "metadata": {},
   "source": [
    "![commits](./img/commits.png)"
   ]
  },
  {
   "cell_type": "markdown",
   "metadata": {},
   "source": [
    "## Ramas\n",
    "\n",
    "Las ramas son copias de nuestro código en un momento dado en el que decidimos diferir la implementación para poder acometer cambios concretos. Habitualmente porque queremos crear una mejora (`feature/...`) o corregir un problema (`fix/...`). Son copias de nuestro código esencialmente."
   ]
  },
  {
   "cell_type": "markdown",
   "metadata": {},
   "source": [
    "<img src=\"./img/git_branch_merge_1.png\" alt=\"branch\" width=\"800\"/>\n",
    "\n",
    "Esto permite que múltiples personas estén trabajando sobre _el mismo código_ sin interferir los unos con los otros."
   ]
  },
  {
   "cell_type": "code",
   "execution_count": 18,
   "metadata": {},
   "outputs": [
    {
     "name": "stdout",
     "output_type": "stream",
     "text": [
      "* main\n"
     ]
    }
   ],
   "source": [
    "!git branch --list"
   ]
  },
  {
   "cell_type": "code",
   "execution_count": 19,
   "metadata": {},
   "outputs": [],
   "source": [
    "!git branch feature/mejorar_markdown"
   ]
  },
  {
   "cell_type": "code",
   "execution_count": 20,
   "metadata": {},
   "outputs": [
    {
     "name": "stdout",
     "output_type": "stream",
     "text": [
      "  feature/mejorar_markdown\n",
      "* main\n"
     ]
    }
   ],
   "source": [
    "!git branch --list"
   ]
  },
  {
   "cell_type": "code",
   "execution_count": 21,
   "metadata": {},
   "outputs": [
    {
     "name": "stderr",
     "output_type": "stream",
     "text": [
      "Switched to branch 'feature/mejorar_markdown'\n"
     ]
    }
   ],
   "source": [
    "!git switch feature/mejorar_markdown"
   ]
  },
  {
   "cell_type": "code",
   "execution_count": 22,
   "metadata": {},
   "outputs": [
    {
     "name": "stdout",
     "output_type": "stream",
     "text": [
      "* feature/mejorar_markdown\n",
      "  main\n"
     ]
    }
   ],
   "source": [
    "!git branch --list"
   ]
  },
  {
   "cell_type": "code",
   "execution_count": 23,
   "metadata": {},
   "outputs": [
    {
     "name": "stdout",
     "output_type": "stream",
     "text": [
      "Overwriting README.md\n"
     ]
    }
   ],
   "source": [
    "%%file README.md\n",
    "\n",
    "## Saludos\n",
    "\n",
    "Hola ¿Cómo están ustedes?"
   ]
  },
  {
   "cell_type": "code",
   "execution_count": 24,
   "metadata": {},
   "outputs": [
    {
     "name": "stdout",
     "output_type": "stream",
     "text": [
      "On branch feature/mejorar_markdown\n",
      "Changes not staged for commit:\n",
      "  (use \"git add <file>...\" to update what will be committed)\n",
      "  (use \"git restore <file>...\" to discard changes in working directory)\n",
      "\tmodified:   README.md\n",
      "\n",
      "no changes added to commit (use \"git add\" and/or \"git commit -a\")\n"
     ]
    }
   ],
   "source": [
    "!git status"
   ]
  },
  {
   "cell_type": "code",
   "execution_count": 25,
   "metadata": {},
   "outputs": [
    {
     "name": "stdout",
     "output_type": "stream",
     "text": [
      "[feature/mejorar_markdown f7355f0] mejorado readme\n",
      " 1 file changed, 3 insertions(+), 1 deletion(-)\n"
     ]
    }
   ],
   "source": [
    "!git add .\n",
    "!git commit -m \"mejorado readme\""
   ]
  },
  {
   "cell_type": "markdown",
   "metadata": {},
   "source": [
    "Nos pedirá volver a realizar el enlace ya que hay que crear un homólogo a la rama local en el servidor remoto:\n",
    "\n",
    "_git push --set-upstream origin feature/mejorar_markdown_\n",
    "\n",
    "Y con esto veremos que el repositorio cuenta ahora con dos ramas, dos copias divergentes del código.\n",
    "\n",
    "![feat](./img/feature-branch.png)\n",
    "\n",
    "Podemos juntar los cambios de nuestra rama a la rama principal con un _pull-request_. Es una petición para revisar si existe algún problema o cambio a tener en cuenta. Esto sucede por ejemplo si alguien en las otras ramas cambia el mismo fichero que nosotros de forma que Git no sepa cómo solventar las discrepancias."
   ]
  },
  {
   "cell_type": "code",
   "execution_count": 26,
   "metadata": {},
   "outputs": [
    {
     "name": "stderr",
     "output_type": "stream",
     "text": [
      "Switched to branch 'main'\n"
     ]
    }
   ],
   "source": [
    "!git checkout main"
   ]
  },
  {
   "cell_type": "code",
   "execution_count": 27,
   "metadata": {},
   "outputs": [
    {
     "name": "stdout",
     "output_type": "stream",
     "text": [
      "Overwriting README.md\n"
     ]
    }
   ],
   "source": [
    "%%file README.md\n",
    "\n",
    "## Saludos\n",
    "\n",
    "Hola, ¿Cómo están ustedes?"
   ]
  },
  {
   "cell_type": "code",
   "execution_count": 30,
   "metadata": {},
   "outputs": [
    {
     "name": "stdout",
     "output_type": "stream",
     "text": [
      "[main 01a85a7] mejorado readme en main\n",
      " 1 file changed, 3 insertions(+), 1 deletion(-)\n"
     ]
    }
   ],
   "source": [
    "!git add .\n",
    "!git commit -m \"mejorado readme en main\""
   ]
  },
  {
   "cell_type": "markdown",
   "metadata": {},
   "source": [
    "Al haber cambiado el main a la vez, las mismas líneas, fijaros qué sucede al hacer el _pull request_. Se genera un conflicto. \n",
    "\n",
    "![conflict](./img/conflicto.png)"
   ]
  },
  {
   "cell_type": "markdown",
   "metadata": {},
   "source": [
    "Dado que la rama principal es la main, acordada por el equipo, nos corresponderá corregir nuestra version del código. nos deberemos traer los cambios poniéndonos en la rama main."
   ]
  },
  {
   "cell_type": "code",
   "execution_count": 31,
   "metadata": {},
   "outputs": [
    {
     "name": "stdout",
     "output_type": "stream",
     "text": [
      "  feature/mejorar_markdown\n",
      "* main\n"
     ]
    }
   ],
   "source": [
    "!git branch"
   ]
  },
  {
   "cell_type": "code",
   "execution_count": 32,
   "metadata": {},
   "outputs": [
    {
     "name": "stderr",
     "output_type": "stream",
     "text": [
      "From https://github.com/rodrigomezaortiz/TheBridge_DSPT-1\n",
      " * [new branch]      main       -> origin/main\n",
      "There is no tracking information for the current branch.\n",
      "Please specify which branch you want to merge with.\n",
      "See git-pull(1) for details.\n",
      "\n",
      "    git pull <remote> <branch>\n",
      "\n",
      "If you wish to set tracking information for this branch you can do so with:\n",
      "\n",
      "    git branch --set-upstream-to=origin/<branch> main\n",
      "\n"
     ]
    }
   ],
   "source": [
    "!git pull"
   ]
  },
  {
   "cell_type": "code",
   "execution_count": 33,
   "metadata": {},
   "outputs": [
    {
     "name": "stderr",
     "output_type": "stream",
     "text": [
      "Switched to branch 'feature/mejorar_markdown'\n"
     ]
    }
   ],
   "source": [
    "!git checkout feature/mejorar_markdown"
   ]
  },
  {
   "cell_type": "code",
   "execution_count": 34,
   "metadata": {},
   "outputs": [
    {
     "name": "stdout",
     "output_type": "stream",
     "text": [
      "* feature/mejorar_markdown\n",
      "  main\n"
     ]
    }
   ],
   "source": [
    "!git branch"
   ]
  },
  {
   "cell_type": "markdown",
   "metadata": {},
   "source": [
    "Y ahora, juntar (merge) los cambios de ambas."
   ]
  },
  {
   "cell_type": "code",
   "execution_count": 35,
   "metadata": {},
   "outputs": [
    {
     "name": "stdout",
     "output_type": "stream",
     "text": [
      "Auto-merging README.md\n",
      "CONFLICT (content): Merge conflict in README.md\n",
      "Automatic merge failed; fix conflicts and then commit the result.\n"
     ]
    }
   ],
   "source": [
    "!git merge main"
   ]
  },
  {
   "cell_type": "markdown",
   "metadata": {},
   "source": [
    "Veremos que el fichero se abre con una forma especial.\n",
    "\n",
    "![resolve](./img/conflict-resolve.png)\n",
    "\n",
    "Nos permite decidir si queremos quedarnos con uno y otro cambio. Podemos generar la versión conciliada entre ambos."
   ]
  },
  {
   "cell_type": "code",
   "execution_count": 36,
   "metadata": {},
   "outputs": [
    {
     "name": "stdout",
     "output_type": "stream",
     "text": [
      "On branch feature/mejorar_markdown\n",
      "All conflicts fixed but you are still merging.\n",
      "  (use \"git commit\" to conclude merge)\n",
      "\n",
      "Changes to be committed:\n",
      "\tmodified:   README.md\n",
      "\n"
     ]
    }
   ],
   "source": [
    "!git add .\n",
    "!git status"
   ]
  },
  {
   "cell_type": "code",
   "execution_count": 37,
   "metadata": {},
   "outputs": [
    {
     "name": "stdout",
     "output_type": "stream",
     "text": [
      "[feature/mejorar_markdown 49269d4] Conflicto resuelto\n"
     ]
    }
   ],
   "source": [
    "!git commit -m \"Conflicto resuelto\""
   ]
  },
  {
   "cell_type": "markdown",
   "metadata": {},
   "source": [
    "Esto genera que Github actualice su estatus y si todos los conflictos han sido resueltos, podamos llevar nuestros cambios a la rama principal para que el resto de nuestros compañeros puedan usarlos en sus ramas.\n",
    "\n",
    "![resolved](./img/resolved.png)"
   ]
  },
  {
   "cell_type": "markdown",
   "metadata": {},
   "source": [
    "## Fork\n",
    "\n",
    "En caso de tratarse de repositorios en los que no tenemos permiso para contribuir directamente, siempre podemos hacer una copia, un repositorio remoto conectado al repositorio de otra persona para así poder hacer nuestros cambios pero también poder traernos los que ocurran en el repositorio de ese tercero."
   ]
  },
  {
   "cell_type": "markdown",
   "metadata": {},
   "source": [
    "![fork](./img/fork.png)"
   ]
  },
  {
   "cell_type": "markdown",
   "metadata": {},
   "source": [
    "La idea es que cada desarrollador haga su clonado de un repositorio, y pueda trabajar de manera independiente en su rama. Una vez no existan conflictos, estos cambios pueden traerse al repositorio central. Con el Fork, extendemos este concepto a múltiples equipos trabajando en módulos concretos para grandes proyectos.\n",
    "\n",
    "Será obligatorio sincronizar nuestra copia periódicamente para traernos los cambios en el repositorio principal.\n",
    "\n",
    "![fork-sync](./img/fork-sync.png)"
   ]
  },
  {
   "cell_type": "markdown",
   "metadata": {},
   "source": [
    "Existen distintas formas de organizarse con estas capacidades técnicas.\n",
    "\n",
    "#### Git flow\n",
    "\n",
    "Se trata de crear un flujo de cambios, de menos a más, que vaya integrándose poco a poco.\n",
    "\n",
    "<img src=\"./img/flow.png\" alt=\"flow\" width=\"800\"/>\n",
    "\n",
    "\n",
    "#### Trunk based\n",
    "\n",
    "Se ustiliza una única rama central, con ramas de corta duración para aportar los cambios necesarios.\n",
    "\n",
    "<img src=\"./img/trunk.png\" alt=\"trunk\" width=\"800\"/>"
   ]
  },
  {
   "cell_type": "markdown",
   "metadata": {},
   "source": [
    "### Ejercicio\n",
    "\n",
    "Veamos si podemos hacer que cada uno de vosotros tenga un FORK del repositorio de TheBridge donde poder incluir vuestras anotaciones y ejercicios resueltos hasta la fecha.\n",
    "\n",
    "1. Cread un fork del repositorio oficial si es que no tenéis uno ya hecho: https://github.com/IraitzM/TheBridge_DSPT/fork\n",
    "2. Revisad a qué repositorio remoto apunta vuestra carpeta local"
   ]
  },
  {
   "cell_type": "code",
   "execution_count": 38,
   "metadata": {},
   "outputs": [
    {
     "name": "stdout",
     "output_type": "stream",
     "text": [
      "https://github.com/rodrigomezaortiz/TheBridge_DSPT-1\n"
     ]
    }
   ],
   "source": [
    "!git remote get-url origin"
   ]
  },
  {
   "cell_type": "markdown",
   "metadata": {},
   "source": [
    "3. Cambiad la url a la que apunta a vuestro FORK, podéis eliminar y añadir el origen\n",
    "\n",
    "```sh\n",
    "!git remote remove origin\n",
    "!git remote add origin https://github.com/...\n",
    "```\n",
    "\n",
    "o simplemente cambiar la dirección a la que apunta:\n",
    "\n",
    "```sh\n",
    "!git remote set-url origin https://github.com/...\n",
    "```\n",
    "\n",
    "Podéis pedir más información sobre el comando tecleando en el terminal: `git remote --help`"
   ]
  },
  {
   "cell_type": "markdown",
   "metadata": {},
   "source": [
    "4. Veamos si somos capaces de traernos los cambios `git pull`, crear una rama para vuestra versión `git branch <nombre rama>` y corregir las inconsistencias entre vuestros notebooks y los de los ejercicios. "
   ]
  },
  {
   "cell_type": "markdown",
   "metadata": {},
   "source": [
    "Recursos:\n",
    "\n",
    "* https://www.w3schools.com/git/\n",
    "* https://learngitbranching.js.org/?locale=es_ES\n",
    "* https://openwebinars.net/blog/trunk-based-development-vs-git-flow-cual-elegir/\n"
   ]
  }
 ],
 "metadata": {
  "kernelspec": {
   "display_name": ".venv",
   "language": "python",
   "name": "python3"
  },
  "language_info": {
   "codemirror_mode": {
    "name": "ipython",
    "version": 3
   },
   "file_extension": ".py",
   "mimetype": "text/x-python",
   "name": "python",
   "nbconvert_exporter": "python",
   "pygments_lexer": "ipython3",
   "version": "3.12.3"
  }
 },
 "nbformat": 4,
 "nbformat_minor": 2
}
