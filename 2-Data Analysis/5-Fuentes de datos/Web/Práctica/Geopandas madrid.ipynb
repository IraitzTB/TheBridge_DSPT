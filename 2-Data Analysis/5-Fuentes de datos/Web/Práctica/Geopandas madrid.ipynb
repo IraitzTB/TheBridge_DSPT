{
 "cells": [
  {
   "cell_type": "code",
   "execution_count": 1,
   "metadata": {},
   "outputs": [
    {
     "data": {
      "text/plain": [
       "<Response [200]>"
      ]
     },
     "execution_count": 1,
     "metadata": {},
     "output_type": "execute_result"
    }
   ],
   "source": [
    "import requests\n",
    "\n",
    "response = requests.get(\"https://datos.madrid.es/egob/catalogo/208223-7605492-trafico-intensidad-tramas.kml\")\n",
    "response"
   ]
  },
  {
   "cell_type": "code",
   "execution_count": 2,
   "metadata": {},
   "outputs": [],
   "source": [
    "with open(\"madrid.kml\",\"wb\") as file:\n",
    "    file.write(response.content)"
   ]
  },
  {
   "cell_type": "code",
   "execution_count": 7,
   "metadata": {},
   "outputs": [
    {
     "data": {
      "text/plain": [
       "{'DXF': 'rw',\n",
       " 'CSV': 'raw',\n",
       " 'OpenFileGDB': 'raw',\n",
       " 'ESRIJSON': 'r',\n",
       " 'ESRI Shapefile': 'raw',\n",
       " 'FlatGeobuf': 'raw',\n",
       " 'GeoJSON': 'raw',\n",
       " 'GeoJSONSeq': 'raw',\n",
       " 'GPKG': 'raw',\n",
       " 'GML': 'rw',\n",
       " 'OGR_GMT': 'rw',\n",
       " 'GPX': 'rw',\n",
       " 'MapInfo File': 'raw',\n",
       " 'DGN': 'raw',\n",
       " 'S57': 'r',\n",
       " 'SQLite': 'raw',\n",
       " 'TopoJSON': 'r',\n",
       " 'kml': 'rw',\n",
       " 'KML': 'rw'}"
      ]
     },
     "execution_count": 7,
     "metadata": {},
     "output_type": "execute_result"
    }
   ],
   "source": [
    "import fiona\n",
    "\n",
    "fiona.drvsupport.supported_drivers['kml'] = 'rw' # enable KML support which is disabled by default\n",
    "fiona.drvsupport.supported_drivers['KML'] = 'rw' # enable KML support which is disabled by default\n",
    "\n",
    "fiona.supported_drivers"
   ]
  },
  {
   "cell_type": "code",
   "execution_count": 8,
   "metadata": {},
   "outputs": [
    {
     "data": {
      "text/html": [
       "<div>\n",
       "<style scoped>\n",
       "    .dataframe tbody tr th:only-of-type {\n",
       "        vertical-align: middle;\n",
       "    }\n",
       "\n",
       "    .dataframe tbody tr th {\n",
       "        vertical-align: top;\n",
       "    }\n",
       "\n",
       "    .dataframe thead th {\n",
       "        text-align: right;\n",
       "    }\n",
       "</style>\n",
       "<table border=\"1\" class=\"dataframe\">\n",
       "  <thead>\n",
       "    <tr style=\"text-align: right;\">\n",
       "      <th></th>\n",
       "      <th>Name</th>\n",
       "      <th>Description</th>\n",
       "      <th>geometry</th>\n",
       "    </tr>\n",
       "  </thead>\n",
       "  <tbody>\n",
       "    <tr>\n",
       "      <th>0</th>\n",
       "      <td></td>\n",
       "      <td></td>\n",
       "      <td>POLYGON Z ((-3.68860 40.43049 0.00000, -3.6885...</td>\n",
       "    </tr>\n",
       "    <tr>\n",
       "      <th>1</th>\n",
       "      <td></td>\n",
       "      <td></td>\n",
       "      <td>POLYGON Z ((-3.68857 40.43059 0.00000, -3.6885...</td>\n",
       "    </tr>\n",
       "    <tr>\n",
       "      <th>2</th>\n",
       "      <td></td>\n",
       "      <td></td>\n",
       "      <td>POLYGON Z ((-3.69268 40.41991 0.00000, -3.6919...</td>\n",
       "    </tr>\n",
       "    <tr>\n",
       "      <th>3</th>\n",
       "      <td></td>\n",
       "      <td></td>\n",
       "      <td>POLYGON Z ((-3.68867 40.43474 0.00000, -3.6886...</td>\n",
       "    </tr>\n",
       "    <tr>\n",
       "      <th>4</th>\n",
       "      <td></td>\n",
       "      <td></td>\n",
       "      <td>POLYGON Z ((-3.69095 40.42348 0.00000, -3.6910...</td>\n",
       "    </tr>\n",
       "    <tr>\n",
       "      <th>...</th>\n",
       "      <td>...</td>\n",
       "      <td>...</td>\n",
       "      <td>...</td>\n",
       "    </tr>\n",
       "    <tr>\n",
       "      <th>3925</th>\n",
       "      <td></td>\n",
       "      <td></td>\n",
       "      <td>POLYGON Z ((-3.74371 40.45372 0.00000, -3.7437...</td>\n",
       "    </tr>\n",
       "    <tr>\n",
       "      <th>3926</th>\n",
       "      <td></td>\n",
       "      <td></td>\n",
       "      <td>POLYGON Z ((-3.74522 40.45503 0.00000, -3.7451...</td>\n",
       "    </tr>\n",
       "    <tr>\n",
       "      <th>3927</th>\n",
       "      <td></td>\n",
       "      <td></td>\n",
       "      <td>POLYGON Z ((-3.74413 40.45301 0.00000, -3.7440...</td>\n",
       "    </tr>\n",
       "    <tr>\n",
       "      <th>3928</th>\n",
       "      <td></td>\n",
       "      <td></td>\n",
       "      <td>POLYGON Z ((-3.69219 40.48494 0.00000, -3.6922...</td>\n",
       "    </tr>\n",
       "    <tr>\n",
       "      <th>3929</th>\n",
       "      <td></td>\n",
       "      <td></td>\n",
       "      <td>POLYGON Z ((-3.69814 40.48968 0.00000, -3.6980...</td>\n",
       "    </tr>\n",
       "  </tbody>\n",
       "</table>\n",
       "<p>3930 rows × 3 columns</p>\n",
       "</div>"
      ],
      "text/plain": [
       "     Name Description                                           geometry\n",
       "0                      POLYGON Z ((-3.68860 40.43049 0.00000, -3.6885...\n",
       "1                      POLYGON Z ((-3.68857 40.43059 0.00000, -3.6885...\n",
       "2                      POLYGON Z ((-3.69268 40.41991 0.00000, -3.6919...\n",
       "3                      POLYGON Z ((-3.68867 40.43474 0.00000, -3.6886...\n",
       "4                      POLYGON Z ((-3.69095 40.42348 0.00000, -3.6910...\n",
       "...   ...         ...                                                ...\n",
       "3925                   POLYGON Z ((-3.74371 40.45372 0.00000, -3.7437...\n",
       "3926                   POLYGON Z ((-3.74522 40.45503 0.00000, -3.7451...\n",
       "3927                   POLYGON Z ((-3.74413 40.45301 0.00000, -3.7440...\n",
       "3928                   POLYGON Z ((-3.69219 40.48494 0.00000, -3.6922...\n",
       "3929                   POLYGON Z ((-3.69814 40.48968 0.00000, -3.6980...\n",
       "\n",
       "[3930 rows x 3 columns]"
      ]
     },
     "execution_count": 8,
     "metadata": {},
     "output_type": "execute_result"
    }
   ],
   "source": [
    "import geopandas as gpd\n",
    "\n",
    "from shapely.geometry import Point, Polygon\n",
    "import pandas as pd\n",
    "\n",
    "my_map = gpd.read_file('madrid.kml', driver='KML')\n",
    "my_map"
   ]
  }
 ],
 "metadata": {
  "kernelspec": {
   "display_name": ".venv",
   "language": "python",
   "name": "python3"
  },
  "language_info": {
   "codemirror_mode": {
    "name": "ipython",
    "version": 3
   },
   "file_extension": ".py",
   "mimetype": "text/x-python",
   "name": "python",
   "nbconvert_exporter": "python",
   "pygments_lexer": "ipython3",
   "version": "3.11.9+"
  }
 },
 "nbformat": 4,
 "nbformat_minor": 2
}
