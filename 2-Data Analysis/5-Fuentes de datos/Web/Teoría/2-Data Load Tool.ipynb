{
 "cells": [
  {
   "cell_type": "markdown",
   "metadata": {},
   "source": [
    "# Extracción sistemática\n",
    "\n",
    "Una de las principales albores de los ingenieros de datos es la obtención sistemática de datos para poblar nuestros sistemas de analítica. Para ello existen herramientas especializadas que no solo pueden leer de sistemas corporativos (Bases de Datos) si no también de APIs. Aquí veremos una solución de nueva generación que nos ofrece multitud de opciones."
   ]
  },
  {
   "cell_type": "code",
   "execution_count": 3,
   "metadata": {},
   "outputs": [],
   "source": [
    "# !pip install dlt"
   ]
  },
  {
   "cell_type": "markdown",
   "metadata": {},
   "source": [
    "**Data Load Tool** se emplea para la obtención e inserción de los datos en sistemas que controlemos nosotros. A modo sencillo podemos ver cómo podemos por ejemplo obtener datos de una API (hemos limitado el número de datos para que no se haga largo).\n",
    "\n",
    "En este caso consultaremos una versión paginada de la API de pokemon... https://pokeapi.co/docs/v2#info"
   ]
  },
  {
   "cell_type": "code",
   "execution_count": 4,
   "metadata": {},
   "outputs": [],
   "source": [
    "from dlt.sources.helpers.rest_client import RESTClient\n",
    "\n",
    "# Initialize the RESTClient with the Pokémon API base URL\n",
    "client = RESTClient(base_url=\"https://pokeapi.co/api/v2\")\n",
    "\n",
    "# Using the paginate method to automatically handle pagination\n",
    "num = 10\n",
    "poke_list = []\n",
    "for page in client.paginate(\"/pokemon\"):\n",
    "    poke_list += page\n",
    "    num -= 1\n",
    "\n",
    "    # Paramos al obtener 10\n",
    "    if num == 0:\n",
    "        break"
   ]
  },
  {
   "cell_type": "markdown",
   "metadata": {},
   "source": [
    "Con esto podemos montar nuestro dataframe, operar sobre él y cargarlo en un sistema destino."
   ]
  },
  {
   "cell_type": "code",
   "execution_count": 5,
   "metadata": {},
   "outputs": [
    {
     "data": {
      "text/html": [
       "<div>\n",
       "<style scoped>\n",
       "    .dataframe tbody tr th:only-of-type {\n",
       "        vertical-align: middle;\n",
       "    }\n",
       "\n",
       "    .dataframe tbody tr th {\n",
       "        vertical-align: top;\n",
       "    }\n",
       "\n",
       "    .dataframe thead th {\n",
       "        text-align: right;\n",
       "    }\n",
       "</style>\n",
       "<table border=\"1\" class=\"dataframe\">\n",
       "  <thead>\n",
       "    <tr style=\"text-align: right;\">\n",
       "      <th></th>\n",
       "      <th>name</th>\n",
       "      <th>url</th>\n",
       "    </tr>\n",
       "  </thead>\n",
       "  <tbody>\n",
       "    <tr>\n",
       "      <th>0</th>\n",
       "      <td>bulbasaur</td>\n",
       "      <td>https://pokeapi.co/api/v2/pokemon/1/</td>\n",
       "    </tr>\n",
       "    <tr>\n",
       "      <th>1</th>\n",
       "      <td>ivysaur</td>\n",
       "      <td>https://pokeapi.co/api/v2/pokemon/2/</td>\n",
       "    </tr>\n",
       "    <tr>\n",
       "      <th>2</th>\n",
       "      <td>venusaur</td>\n",
       "      <td>https://pokeapi.co/api/v2/pokemon/3/</td>\n",
       "    </tr>\n",
       "    <tr>\n",
       "      <th>3</th>\n",
       "      <td>charmander</td>\n",
       "      <td>https://pokeapi.co/api/v2/pokemon/4/</td>\n",
       "    </tr>\n",
       "    <tr>\n",
       "      <th>4</th>\n",
       "      <td>charmeleon</td>\n",
       "      <td>https://pokeapi.co/api/v2/pokemon/5/</td>\n",
       "    </tr>\n",
       "    <tr>\n",
       "      <th>...</th>\n",
       "      <td>...</td>\n",
       "      <td>...</td>\n",
       "    </tr>\n",
       "    <tr>\n",
       "      <th>195</th>\n",
       "      <td>espeon</td>\n",
       "      <td>https://pokeapi.co/api/v2/pokemon/196/</td>\n",
       "    </tr>\n",
       "    <tr>\n",
       "      <th>196</th>\n",
       "      <td>umbreon</td>\n",
       "      <td>https://pokeapi.co/api/v2/pokemon/197/</td>\n",
       "    </tr>\n",
       "    <tr>\n",
       "      <th>197</th>\n",
       "      <td>murkrow</td>\n",
       "      <td>https://pokeapi.co/api/v2/pokemon/198/</td>\n",
       "    </tr>\n",
       "    <tr>\n",
       "      <th>198</th>\n",
       "      <td>slowking</td>\n",
       "      <td>https://pokeapi.co/api/v2/pokemon/199/</td>\n",
       "    </tr>\n",
       "    <tr>\n",
       "      <th>199</th>\n",
       "      <td>misdreavus</td>\n",
       "      <td>https://pokeapi.co/api/v2/pokemon/200/</td>\n",
       "    </tr>\n",
       "  </tbody>\n",
       "</table>\n",
       "<p>200 rows × 2 columns</p>\n",
       "</div>"
      ],
      "text/plain": [
       "           name                                     url\n",
       "0     bulbasaur    https://pokeapi.co/api/v2/pokemon/1/\n",
       "1       ivysaur    https://pokeapi.co/api/v2/pokemon/2/\n",
       "2      venusaur    https://pokeapi.co/api/v2/pokemon/3/\n",
       "3    charmander    https://pokeapi.co/api/v2/pokemon/4/\n",
       "4    charmeleon    https://pokeapi.co/api/v2/pokemon/5/\n",
       "..          ...                                     ...\n",
       "195      espeon  https://pokeapi.co/api/v2/pokemon/196/\n",
       "196     umbreon  https://pokeapi.co/api/v2/pokemon/197/\n",
       "197     murkrow  https://pokeapi.co/api/v2/pokemon/198/\n",
       "198    slowking  https://pokeapi.co/api/v2/pokemon/199/\n",
       "199  misdreavus  https://pokeapi.co/api/v2/pokemon/200/\n",
       "\n",
       "[200 rows x 2 columns]"
      ]
     },
     "execution_count": 5,
     "metadata": {},
     "output_type": "execute_result"
    }
   ],
   "source": [
    "import pandas as pd\n",
    "\n",
    "poke_df = pd.DataFrame(poke_list)\n",
    "poke_df"
   ]
  },
  {
   "cell_type": "markdown",
   "metadata": {},
   "source": [
    "Los pipelines son la forma de definir esas tuberías de entrada y almacenamiento de datos de manera que se ejecuten de forma continua. Todavía no hemos hablado de las bases de datos pero son un destino frecuente a la hora de definir nuestros destinos."
   ]
  },
  {
   "cell_type": "code",
   "execution_count": 6,
   "metadata": {},
   "outputs": [
    {
     "name": "stdout",
     "output_type": "stream",
     "text": [
      "Requirement already satisfied: duckdb in /home/iraitz/TheBridge/FEB24 -BIL  DS PT/TheBridge_DSPT/.venv/lib/python3.11/site-packages (0.10.3)\n"
     ]
    }
   ],
   "source": [
    "# !pip install duckdb"
   ]
  },
  {
   "cell_type": "code",
   "execution_count": 7,
   "metadata": {},
   "outputs": [
    {
     "name": "stdout",
     "output_type": "stream",
     "text": [
      "Pipeline dlt_ipykernel_launcher load step completed in 0.24 seconds\n",
      "1 load package(s) were loaded to destination duckdb and into dataset country_data\n",
      "The duckdb destination used duckdb:////home/iraitz/TheBridge/FEB24 -BIL  DS PT/TheBridge_DSPT/2-Data Analysis/5-Fuentes de datos/Web/Teoría/dlt_ipykernel_launcher.duckdb location to store data\n",
      "Load package 1717434393.5724628 is LOADED and contains no failed jobs\n"
     ]
    }
   ],
   "source": [
    "import dlt\n",
    "\n",
    "pipeline = dlt.pipeline(destination=\"duckdb\", dataset_name=\"country_data\")\n",
    "\n",
    "data = [\n",
    "    {'country': 'USA', 'population': 331449281, 'capital': 'Washington, D.C.'},\n",
    "    {'country': 'Canada', 'population': 38005238, 'capital': 'Ottawa'},\n",
    "    {'country': 'Germany', 'population': 83019200, 'capital': 'Berlin'}\n",
    "]\n",
    "\n",
    "info = pipeline.run(data, table_name=\"countries\")\n",
    "\n",
    "print(info)"
   ]
  },
  {
   "cell_type": "code",
   "execution_count": 8,
   "metadata": {},
   "outputs": [
    {
     "data": {
      "text/plain": [
       "'country_data'"
      ]
     },
     "execution_count": 8,
     "metadata": {},
     "output_type": "execute_result"
    }
   ],
   "source": [
    "info.dataset_name"
   ]
  },
  {
   "cell_type": "code",
   "execution_count": 9,
   "metadata": {},
   "outputs": [
    {
     "data": {
      "text/plain": [
       "┌──────────────────────┬──────────────┬─────────────────────┬──────────────────────┬───────────────────────┬───────────┐\n",
       "│       database       │    schema    │        name         │     column_names     │     column_types      │ temporary │\n",
       "│       varchar        │   varchar    │       varchar       │      varchar[]       │       varchar[]       │  boolean  │\n",
       "├──────────────────────┼──────────────┼─────────────────────┼──────────────────────┼───────────────────────┼───────────┤\n",
       "│ dlt_ipykernel_laun…  │ country_data │ _dlt_loads          │ [load_id, schema_n…  │ [VARCHAR, VARCHAR, …  │ false     │\n",
       "│ dlt_ipykernel_laun…  │ country_data │ _dlt_pipeline_state │ [version, engine_v…  │ [BIGINT, BIGINT, VA…  │ false     │\n",
       "│ dlt_ipykernel_laun…  │ country_data │ _dlt_version        │ [version, engine_v…  │ [BIGINT, BIGINT, TI…  │ false     │\n",
       "│ dlt_ipykernel_laun…  │ country_data │ countries           │ [country, populati…  │ [VARCHAR, BIGINT, V…  │ false     │\n",
       "└──────────────────────┴──────────────┴─────────────────────┴──────────────────────┴───────────────────────┴───────────┘"
      ]
     },
     "execution_count": 9,
     "metadata": {},
     "output_type": "execute_result"
    }
   ],
   "source": [
    "import duckdb\n",
    "\n",
    "db = duckdb.connect(database=\"dlt_ipykernel_launcher.duckdb\")\n",
    "db.sql(\"DESCRIBE;\")"
   ]
  },
  {
   "cell_type": "code",
   "execution_count": 10,
   "metadata": {},
   "outputs": [
    {
     "data": {
      "text/plain": [
       "┌─────────┬────────────┬──────────────────┬────────────────────┬────────────────┐\n",
       "│ country │ population │     capital      │    _dlt_load_id    │    _dlt_id     │\n",
       "│ varchar │   int64    │     varchar      │      varchar       │    varchar     │\n",
       "├─────────┼────────────┼──────────────────┼────────────────────┼────────────────┤\n",
       "│ USA     │  331449281 │ Washington, D.C. │ 1717434393.5724628 │ iPmaGNV8zAfgww │\n",
       "│ Canada  │   38005238 │ Ottawa           │ 1717434393.5724628 │ cYKUg3FqlL213g │\n",
       "│ Germany │   83019200 │ Berlin           │ 1717434393.5724628 │ J07WykKqamHeVQ │\n",
       "└─────────┴────────────┴──────────────────┴────────────────────┴────────────────┘"
      ]
     },
     "execution_count": 10,
     "metadata": {},
     "output_type": "execute_result"
    }
   ],
   "source": [
    "db.sql(\"SELECT * FROM country_data.countries;\")"
   ]
  },
  {
   "cell_type": "code",
   "execution_count": 11,
   "metadata": {},
   "outputs": [
    {
     "data": {
      "text/html": [
       "<div>\n",
       "<style scoped>\n",
       "    .dataframe tbody tr th:only-of-type {\n",
       "        vertical-align: middle;\n",
       "    }\n",
       "\n",
       "    .dataframe tbody tr th {\n",
       "        vertical-align: top;\n",
       "    }\n",
       "\n",
       "    .dataframe thead th {\n",
       "        text-align: right;\n",
       "    }\n",
       "</style>\n",
       "<table border=\"1\" class=\"dataframe\">\n",
       "  <thead>\n",
       "    <tr style=\"text-align: right;\">\n",
       "      <th></th>\n",
       "      <th>country</th>\n",
       "      <th>population</th>\n",
       "      <th>capital</th>\n",
       "      <th>_dlt_load_id</th>\n",
       "      <th>_dlt_id</th>\n",
       "    </tr>\n",
       "  </thead>\n",
       "  <tbody>\n",
       "    <tr>\n",
       "      <th>0</th>\n",
       "      <td>USA</td>\n",
       "      <td>331449281</td>\n",
       "      <td>Washington, D.C.</td>\n",
       "      <td>1717434393.5724628</td>\n",
       "      <td>iPmaGNV8zAfgww</td>\n",
       "    </tr>\n",
       "    <tr>\n",
       "      <th>1</th>\n",
       "      <td>Canada</td>\n",
       "      <td>38005238</td>\n",
       "      <td>Ottawa</td>\n",
       "      <td>1717434393.5724628</td>\n",
       "      <td>cYKUg3FqlL213g</td>\n",
       "    </tr>\n",
       "    <tr>\n",
       "      <th>2</th>\n",
       "      <td>Germany</td>\n",
       "      <td>83019200</td>\n",
       "      <td>Berlin</td>\n",
       "      <td>1717434393.5724628</td>\n",
       "      <td>J07WykKqamHeVQ</td>\n",
       "    </tr>\n",
       "  </tbody>\n",
       "</table>\n",
       "</div>"
      ],
      "text/plain": [
       "   country  population           capital        _dlt_load_id         _dlt_id\n",
       "0      USA   331449281  Washington, D.C.  1717434393.5724628  iPmaGNV8zAfgww\n",
       "1   Canada    38005238            Ottawa  1717434393.5724628  cYKUg3FqlL213g\n",
       "2  Germany    83019200            Berlin  1717434393.5724628  J07WykKqamHeVQ"
      ]
     },
     "execution_count": 11,
     "metadata": {},
     "output_type": "execute_result"
    }
   ],
   "source": [
    "data_df = db.sql(\"SELECT * FROM country_data.countries;\").df()\n",
    "data_df"
   ]
  },
  {
   "cell_type": "code",
   "execution_count": 12,
   "metadata": {},
   "outputs": [
    {
     "data": {
      "text/plain": [
       "pandas.core.frame.DataFrame"
      ]
     },
     "execution_count": 12,
     "metadata": {},
     "output_type": "execute_result"
    }
   ],
   "source": [
    "type(data_df)"
   ]
  },
  {
   "cell_type": "markdown",
   "metadata": {},
   "source": [
    "Podemos montar estructuras complejas que se hagan cargo de ir obteniendo los datos periodicamente y formando nuestra base de datos."
   ]
  },
  {
   "cell_type": "code",
   "execution_count": 13,
   "metadata": {},
   "outputs": [
    {
     "name": "stdout",
     "output_type": "stream",
     "text": [
      "----------------------------- Extract get_pokemons -----------------------------\n",
      "Resources: 0/1 (0.0%) | Time: 1.01s | Rate: 0.00/s\n",
      "get_pokemons: 600  | Time: 0.54s | Rate: 1101.31/s\n",
      "Memory usage: 233.46 MB (20.70%) | CPU usage: 0.00%\n",
      "\n",
      "----------------------------- Extract get_pokemons -----------------------------\n",
      "Resources: 1/1 (100.0%) | Time: 1.71s | Rate: 0.58/s\n",
      "get_pokemons: 1302  | Time: 1.24s | Rate: 1048.72/s\n",
      "Memory usage: 233.93 MB (20.70%) | CPU usage: 0.00%\n",
      "\n",
      "----------------------------- Extract get_pokemons -----------------------------\n",
      "Resources: 1/1 (100.0%) | Time: 0.01s | Rate: 83.02/s\n",
      "_dlt_pipeline_state: 1  | Time: 0.01s | Rate: 89.71/s\n",
      "Memory usage: 233.93 MB (20.70%) | CPU usage: 0.00%\n",
      "\n",
      "----------------- Normalize get_pokemons in 1717434546.0892334 -----------------\n",
      "Files: 2/2 (100.0%) | Time: 0.38s | Rate: 5.23/s\n",
      "Items: 1303  | Time: 0.38s | Rate: 3409.21/s\n",
      "Memory usage: 234.09 MB (20.70%) | CPU usage: 0.00%\n",
      "\n",
      "------------------- Load get_pokemons in 1717434546.0892334 --------------------\n",
      "Jobs: 2/2 (100.0%) | Time: 0.01s | Rate: 210.66/s\n",
      "Memory usage: 243.64 MB (20.70%) | CPU usage: 0.00%\n",
      "\n",
      "------------------- Load get_pokemons in 1717434546.0892334 --------------------\n",
      "Memory usage: 243.96 MB (20.70%) | CPU usage: 0.00%\n",
      "\n",
      "Pipeline get_pokemons load step completed in 0.27 seconds\n",
      "1 load package(s) were loaded to destination duckdb and into dataset pokemons\n",
      "The duckdb destination used duckdb:////home/iraitz/TheBridge/FEB24 -BIL  DS PT/TheBridge_DSPT/2-Data Analysis/5-Fuentes de datos/Web/Teoría/get_pokemons.duckdb location to store data\n",
      "Load package 1717434546.0892334 is LOADED and contains no failed jobs\n"
     ]
    }
   ],
   "source": [
    "import dlt\n",
    "from dlt.sources.helpers.rest_client import RESTClient\n",
    "from dlt.sources.helpers.rest_client.paginators import JSONResponsePaginator\n",
    "\n",
    "github_client = RESTClient(\n",
    "    base_url=\"https://pokeapi.co/api/v2\",\n",
    "    paginator=JSONResponsePaginator(next_url_path=\"next\"),\n",
    "    data_selector=\"results\"\n",
    ")\n",
    "\n",
    "@dlt.resource\n",
    "def get_pokemons():\n",
    "    for page in github_client.paginate(\n",
    "        \"/pokemon\",\n",
    "        params={\n",
    "            \"limit\": 100,\n",
    "        },\n",
    "    ):\n",
    "        yield page\n",
    "\n",
    "pipeline = dlt.pipeline(\n",
    "    pipeline_name=\"get_pokemons\",\n",
    "    destination=\"duckdb\",\n",
    "    dataset_name=\"pokemons\",\n",
    "    progress='log'\n",
    ")\n",
    "load_info = pipeline.run(get_pokemons)\n",
    "print(load_info)"
   ]
  },
  {
   "cell_type": "code",
   "execution_count": 14,
   "metadata": {},
   "outputs": [
    {
     "data": {
      "text/plain": [
       "┌──────────────┬──────────┬─────────────────────┬──────────────────────┬───────────────────────────────────┬───────────┐\n",
       "│   database   │  schema  │        name         │     column_names     │           column_types            │ temporary │\n",
       "│   varchar    │ varchar  │       varchar       │      varchar[]       │             varchar[]             │  boolean  │\n",
       "├──────────────┼──────────┼─────────────────────┼──────────────────────┼───────────────────────────────────┼───────────┤\n",
       "│ get_pokemons │ pokemons │ _dlt_loads          │ [load_id, schema_n…  │ [VARCHAR, VARCHAR, BIGINT, TIME…  │ false     │\n",
       "│ get_pokemons │ pokemons │ _dlt_pipeline_state │ [version, engine_v…  │ [BIGINT, BIGINT, VARCHAR, VARCH…  │ false     │\n",
       "│ get_pokemons │ pokemons │ _dlt_version        │ [version, engine_v…  │ [BIGINT, BIGINT, TIMESTAMP WITH…  │ false     │\n",
       "│ get_pokemons │ pokemons │ get_pokemons        │ [name, url, _dlt_l…  │ [VARCHAR, VARCHAR, VARCHAR, VAR…  │ false     │\n",
       "└──────────────┴──────────┴─────────────────────┴──────────────────────┴───────────────────────────────────┴───────────┘"
      ]
     },
     "execution_count": 14,
     "metadata": {},
     "output_type": "execute_result"
    }
   ],
   "source": [
    "db = duckdb.connect(database=\"get_pokemons.duckdb\")\n",
    "db.sql(\"DESCRIBE;\")"
   ]
  },
  {
   "cell_type": "code",
   "execution_count": 15,
   "metadata": {},
   "outputs": [
    {
     "data": {
      "text/html": [
       "<div>\n",
       "<style scoped>\n",
       "    .dataframe tbody tr th:only-of-type {\n",
       "        vertical-align: middle;\n",
       "    }\n",
       "\n",
       "    .dataframe tbody tr th {\n",
       "        vertical-align: top;\n",
       "    }\n",
       "\n",
       "    .dataframe thead th {\n",
       "        text-align: right;\n",
       "    }\n",
       "</style>\n",
       "<table border=\"1\" class=\"dataframe\">\n",
       "  <thead>\n",
       "    <tr style=\"text-align: right;\">\n",
       "      <th></th>\n",
       "      <th>name</th>\n",
       "      <th>url</th>\n",
       "      <th>_dlt_load_id</th>\n",
       "      <th>_dlt_id</th>\n",
       "    </tr>\n",
       "  </thead>\n",
       "  <tbody>\n",
       "    <tr>\n",
       "      <th>0</th>\n",
       "      <td>bulbasaur</td>\n",
       "      <td>https://pokeapi.co/api/v2/pokemon/1/</td>\n",
       "      <td>1717434546.0892334</td>\n",
       "      <td>cEd2QuCGsub8PQ</td>\n",
       "    </tr>\n",
       "    <tr>\n",
       "      <th>1</th>\n",
       "      <td>ivysaur</td>\n",
       "      <td>https://pokeapi.co/api/v2/pokemon/2/</td>\n",
       "      <td>1717434546.0892334</td>\n",
       "      <td>YjgDluXTjo+sAw</td>\n",
       "    </tr>\n",
       "    <tr>\n",
       "      <th>2</th>\n",
       "      <td>venusaur</td>\n",
       "      <td>https://pokeapi.co/api/v2/pokemon/3/</td>\n",
       "      <td>1717434546.0892334</td>\n",
       "      <td>0yUyMJkDO+TbVA</td>\n",
       "    </tr>\n",
       "    <tr>\n",
       "      <th>3</th>\n",
       "      <td>charmander</td>\n",
       "      <td>https://pokeapi.co/api/v2/pokemon/4/</td>\n",
       "      <td>1717434546.0892334</td>\n",
       "      <td>/3wTICZDapiWLQ</td>\n",
       "    </tr>\n",
       "    <tr>\n",
       "      <th>4</th>\n",
       "      <td>charmeleon</td>\n",
       "      <td>https://pokeapi.co/api/v2/pokemon/5/</td>\n",
       "      <td>1717434546.0892334</td>\n",
       "      <td>nzUz6co0cBX/bQ</td>\n",
       "    </tr>\n",
       "    <tr>\n",
       "      <th>...</th>\n",
       "      <td>...</td>\n",
       "      <td>...</td>\n",
       "      <td>...</td>\n",
       "      <td>...</td>\n",
       "    </tr>\n",
       "    <tr>\n",
       "      <th>1297</th>\n",
       "      <td>ogerpon-wellspring-mask</td>\n",
       "      <td>https://pokeapi.co/api/v2/pokemon/10273/</td>\n",
       "      <td>1717434546.0892334</td>\n",
       "      <td>/6uBh127nrhy+A</td>\n",
       "    </tr>\n",
       "    <tr>\n",
       "      <th>1298</th>\n",
       "      <td>ogerpon-hearthflame-mask</td>\n",
       "      <td>https://pokeapi.co/api/v2/pokemon/10274/</td>\n",
       "      <td>1717434546.0892334</td>\n",
       "      <td>hNr1RDjalSWfPg</td>\n",
       "    </tr>\n",
       "    <tr>\n",
       "      <th>1299</th>\n",
       "      <td>ogerpon-cornerstone-mask</td>\n",
       "      <td>https://pokeapi.co/api/v2/pokemon/10275/</td>\n",
       "      <td>1717434546.0892334</td>\n",
       "      <td>IbxuJIik0pSUtw</td>\n",
       "    </tr>\n",
       "    <tr>\n",
       "      <th>1300</th>\n",
       "      <td>terapagos-terastal</td>\n",
       "      <td>https://pokeapi.co/api/v2/pokemon/10276/</td>\n",
       "      <td>1717434546.0892334</td>\n",
       "      <td>6nYsFjKpJ3CeOA</td>\n",
       "    </tr>\n",
       "    <tr>\n",
       "      <th>1301</th>\n",
       "      <td>terapagos-stellar</td>\n",
       "      <td>https://pokeapi.co/api/v2/pokemon/10277/</td>\n",
       "      <td>1717434546.0892334</td>\n",
       "      <td>lQb1Qfzc12m5zQ</td>\n",
       "    </tr>\n",
       "  </tbody>\n",
       "</table>\n",
       "<p>1302 rows × 4 columns</p>\n",
       "</div>"
      ],
      "text/plain": [
       "                          name                                       url  \\\n",
       "0                    bulbasaur      https://pokeapi.co/api/v2/pokemon/1/   \n",
       "1                      ivysaur      https://pokeapi.co/api/v2/pokemon/2/   \n",
       "2                     venusaur      https://pokeapi.co/api/v2/pokemon/3/   \n",
       "3                   charmander      https://pokeapi.co/api/v2/pokemon/4/   \n",
       "4                   charmeleon      https://pokeapi.co/api/v2/pokemon/5/   \n",
       "...                        ...                                       ...   \n",
       "1297   ogerpon-wellspring-mask  https://pokeapi.co/api/v2/pokemon/10273/   \n",
       "1298  ogerpon-hearthflame-mask  https://pokeapi.co/api/v2/pokemon/10274/   \n",
       "1299  ogerpon-cornerstone-mask  https://pokeapi.co/api/v2/pokemon/10275/   \n",
       "1300        terapagos-terastal  https://pokeapi.co/api/v2/pokemon/10276/   \n",
       "1301         terapagos-stellar  https://pokeapi.co/api/v2/pokemon/10277/   \n",
       "\n",
       "            _dlt_load_id         _dlt_id  \n",
       "0     1717434546.0892334  cEd2QuCGsub8PQ  \n",
       "1     1717434546.0892334  YjgDluXTjo+sAw  \n",
       "2     1717434546.0892334  0yUyMJkDO+TbVA  \n",
       "3     1717434546.0892334  /3wTICZDapiWLQ  \n",
       "4     1717434546.0892334  nzUz6co0cBX/bQ  \n",
       "...                  ...             ...  \n",
       "1297  1717434546.0892334  /6uBh127nrhy+A  \n",
       "1298  1717434546.0892334  hNr1RDjalSWfPg  \n",
       "1299  1717434546.0892334  IbxuJIik0pSUtw  \n",
       "1300  1717434546.0892334  6nYsFjKpJ3CeOA  \n",
       "1301  1717434546.0892334  lQb1Qfzc12m5zQ  \n",
       "\n",
       "[1302 rows x 4 columns]"
      ]
     },
     "execution_count": 15,
     "metadata": {},
     "output_type": "execute_result"
    }
   ],
   "source": [
    "response = db.sql(\"SELECT * FROM pokemons.get_pokemons;\")\n",
    "response.to_df()"
   ]
  }
 ],
 "metadata": {
  "kernelspec": {
   "display_name": ".venv",
   "language": "python",
   "name": "python3"
  },
  "language_info": {
   "codemirror_mode": {
    "name": "ipython",
    "version": 3
   },
   "file_extension": ".py",
   "mimetype": "text/x-python",
   "name": "python",
   "nbconvert_exporter": "python",
   "pygments_lexer": "ipython3",
   "version": "3.11.9+"
  }
 },
 "nbformat": 4,
 "nbformat_minor": 2
}
