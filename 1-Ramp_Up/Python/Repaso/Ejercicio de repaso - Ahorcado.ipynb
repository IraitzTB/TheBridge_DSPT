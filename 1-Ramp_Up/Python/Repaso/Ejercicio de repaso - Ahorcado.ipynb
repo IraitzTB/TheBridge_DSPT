{
 "cells": [
  {
   "attachments": {},
   "cell_type": "markdown",
   "metadata": {},
   "source": [
    "## Juego del Ahorcado\n",
    "Desarrolla el juego del ahorcado en python. En cada turno irá mostrando por pantalla ```_ _ _ _ _``` las rayas bajas correspondientes al número de letras que tiene la palabra a adivinar. El usuario deberá insertar una letra y, si esa letra existe, se mostrará o mostrarán las letras acertadas ```S _ S _ _``` en sus posiciones correspondientes. \n",
    "\n",
    "Si falla, se mostrará el número de errores que lleva y, si lleva x errores, entonces se mostrará \"Fin del juego\"."
   ]
  },
  {
   "cell_type": "markdown",
   "metadata": {},
   "source": [
    "1. Inicializa el juego: declara una palabra a adivinar y muestra por pantalla la palabra oculta.\n"
   ]
  },
  {
   "cell_type": "markdown",
   "metadata": {},
   "source": [
    "\n",
    "```python\n",
    "_ _ _ _ _ _ _ _\n",
    "```"
   ]
  },
  {
   "cell_type": "code",
   "execution_count": 21,
   "metadata": {},
   "outputs": [
    {
     "name": "stdout",
     "output_type": "stream",
     "text": [
      "CAMPO\n",
      "_ _ _ _ _\n"
     ]
    }
   ],
   "source": [
    "p_adivinar = input(\"Elige una palabra\").upper()\n",
    "print(p_adivinar)\n",
    "\n",
    "p_oculta = [\"_\"]*len(p_adivinar)\n",
    "print(*p_oculta)"
   ]
  },
  {
   "cell_type": "markdown",
   "metadata": {},
   "source": [
    "2. Funcionamiento turnos: mediante un bucle genera el sistema de turnos donde el usuario introduce una letra y le va mostrando su progreso y sus vidas."
   ]
  },
  {
   "cell_type": "code",
   "execution_count": 22,
   "metadata": {},
   "outputs": [
    {
     "name": "stdout",
     "output_type": "stream",
     "text": [
      "_ _ _ _ O\n",
      "C _ _ _ O\n",
      "C _ M _ O\n",
      "C A M _ O\n",
      "C A M P O\n"
     ]
    }
   ],
   "source": [
    "turnos = 3\n",
    "\n",
    "while turnos > 0:\n",
    "    letra = input(\"Introduce una letra\").upper()\n",
    "\n",
    "    # Si la letra existe cambiarlo en la palabra oculta\n",
    "    if letra in p_adivinar:\n",
    "        # Reemplazar las _ por la letra en la palabra oculta\n",
    "        for posicion, valor in enumerate(p_adivinar):\n",
    "            # Si es la misma letra sustituir la posición\n",
    "            if letra == valor:\n",
    "                p_oculta[posicion] = letra\n",
    "        print(*p_oculta, flush=True) # Evita que se quede bloqueado el print\n",
    "\n",
    "        # No quedan _ a adivinar\n",
    "        if p_oculta.count(\"_\") == 0:\n",
    "            break\n",
    "    else:\n",
    "        # Si no existe, restar un turno e indicar que ha fallado\n",
    "        turnos = turnos - 1"
   ]
  },
  {
   "cell_type": "markdown",
   "metadata": {},
   "source": [
    "3. Desarrolla la finalización de la partida, tanto si gana como si pierde."
   ]
  },
  {
   "cell_type": "code",
   "execution_count": 23,
   "metadata": {},
   "outputs": [
    {
     "name": "stdout",
     "output_type": "stream",
     "text": [
      "Enhorabuena! Has ganado\n"
     ]
    }
   ],
   "source": [
    "if p_oculta.count(\"_\") == 0:\n",
    "    print(\"Enhorabuena! Has ganado\")\n",
    "else:\n",
    "    print(\"Vaya, otra vez será\")"
   ]
  },
  {
   "cell_type": "markdown",
   "metadata": {},
   "source": [
    "4. Encapsula el juego en una función llamada ```jugar_ahorcado()``` con la palabra a adivinar y el número de vidas para seleccionar la dificultad como argumentos de entrada."
   ]
  },
  {
   "cell_type": "code",
   "execution_count": 28,
   "metadata": {},
   "outputs": [],
   "source": [
    "def jugar_ahorcado(p_adivinar, intentos):\n",
    "\n",
    "    p_oculta = [\"_\"]*len(p_adivinar)\n",
    "\n",
    "    while intentos > 0:\n",
    "        letra = input(\"Introduce una letra\").upper()\n",
    "\n",
    "        # Si la letra existe cambiarlo en la palabra oculta\n",
    "        if letra in p_adivinar.upper():\n",
    "            # Reemplazar las _ por la letra en la palabra oculta\n",
    "            for posicion, valor in enumerate(p_adivinar.upper()):\n",
    "                # Si es la misma letra sustituir la posición\n",
    "                if letra == valor:\n",
    "                    p_oculta[posicion] = letra\n",
    "            print(*p_oculta, flush=True) # Evita que se quede bloqueado el print\n",
    "\n",
    "            # No quedan _ a adivinar\n",
    "            if p_oculta.count(\"_\") == 0:\n",
    "                break\n",
    "        else:\n",
    "            # Si no existe, restar un turno e indicar que ha fallado\n",
    "            intentos = intentos - 1\n",
    "\n",
    "    if p_oculta.count(\"_\") == 0:\n",
    "        print(\"Enhorabuena! Has ganado\", flush=True) # Evita que se quede bloqueado el print\n",
    "    else:\n",
    "        print(\"Vaya, otra vez será\", flush=True) # Evita que se quede bloqueado el print"
   ]
  },
  {
   "cell_type": "code",
   "execution_count": 29,
   "metadata": {},
   "outputs": [
    {
     "name": "stdout",
     "output_type": "stream",
     "text": [
      "T _ _ _ _ _ _\n",
      "T R _ _ _ _ _\n",
      "T R A _ A _ _\n",
      "T R A B A _ _\n",
      "T R A B A J _\n",
      "T R A B A J O\n",
      "Enhorabuena! Has ganado\n"
     ]
    }
   ],
   "source": [
    "jugar_ahorcado(\"Trabajo\", 2)"
   ]
  }
 ],
 "metadata": {
  "kernelspec": {
   "display_name": "Python 3.7.4 64-bit",
   "language": "python",
   "name": "python3"
  },
  "language_info": {
   "codemirror_mode": {
    "name": "ipython",
    "version": 3
   },
   "file_extension": ".py",
   "mimetype": "text/x-python",
   "name": "python",
   "nbconvert_exporter": "python",
   "pygments_lexer": "ipython3",
   "version": "3.12.2"
  },
  "orig_nbformat": 4,
  "vscode": {
   "interpreter": {
    "hash": "90139cb9a825bf3d63f6f6704e828dbd1ff7edbd4d0c6e906a71235d6efc74af"
   }
  }
 },
 "nbformat": 4,
 "nbformat_minor": 2
}
